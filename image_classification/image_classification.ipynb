{
 "cells": [
  {
   "cell_type": "markdown",
   "metadata": {
    "collapsed": true
   },
   "source": [
    "# Image Classification\n",
    "In this project, you'll classify images from the [CIFAR-10 dataset](https://www.cs.toronto.edu/~kriz/cifar.html).  The dataset consists of airplanes, dogs, cats, and other objects. You'll preprocess the images, then train a convolutional neural network on all the samples. The images need to be normalized and the labels need to be one-hot encoded.  You'll get to apply what you learned and build a convolutional, max pooling, dropout, and fully connected layers.  At the end, you'll get to see your neural network's predictions on the sample images.\n",
    "## Get the Data\n",
    "Run the following cell to download the [CIFAR-10 dataset for python](https://www.cs.toronto.edu/~kriz/cifar-10-python.tar.gz)."
   ]
  },
  {
   "cell_type": "code",
   "execution_count": 1,
   "metadata": {
    "collapsed": false
   },
   "outputs": [
    {
     "name": "stdout",
     "output_type": "stream",
     "text": [
      "All files found!\n"
     ]
    }
   ],
   "source": [
    "\"\"\"\n",
    "DON'T MODIFY ANYTHING IN THIS CELL THAT IS BELOW THIS LINE\n",
    "\"\"\"\n",
    "\"from urllib.request import urlretrieve\"\n",
    "from os.path import isfile, isdir\n",
    "from tqdm import tqdm\n",
    "import problem_unittests as tests\n",
    "import tarfile\n",
    "\n",
    "cifar10_dataset_folder_path = 'cifar-10-batches-py'\n",
    "\n",
    "class DLProgress(tqdm):\n",
    "    last_block = 0\n",
    "\n",
    "    def hook(self, block_num=1, block_size=1, total_size=None):\n",
    "        self.total = total_size\n",
    "        self.update((block_num - self.last_block) * block_size)\n",
    "        self.last_block = block_num\n",
    "\n",
    "\"\"\"if not isfile('cifar-10-python.tar.gz'):\n",
    "    with DLProgress(unit='B', unit_scale=True, miniters=1, desc='CIFAR-10 Dataset') as pbar:\n",
    "        urlretrieve(\n",
    "            'https://www.cs.toronto.edu/~kriz/cifar-10-python.tar.gz',\n",
    "            'cifar-10-python.tar.gz',\n",
    "            pbar.hook)\"\"\"\n",
    "\n",
    "if not isdir(cifar10_dataset_folder_path):\n",
    "    with tarfile.open('cifar-10-python.tar.gz') as tar:\n",
    "        tar.extractall()\n",
    "        tar.close()\n",
    "\n",
    "\n",
    "tests.test_folder_path(cifar10_dataset_folder_path)"
   ]
  },
  {
   "cell_type": "markdown",
   "metadata": {},
   "source": [
    "## Explore the Data\n",
    "The dataset is broken into batches to prevent your machine from running out of memory.  The CIFAR-10 dataset consists of 5 batches, named `data_batch_1`, `data_batch_2`, etc.. Each batch contains the labels and images that are one of the following:\n",
    "* airplane\n",
    "* automobile\n",
    "* bird\n",
    "* cat\n",
    "* deer\n",
    "* dog\n",
    "* frog\n",
    "* horse\n",
    "* ship\n",
    "* truck\n",
    "\n",
    "Understanding a dataset is part of making predictions on the data.  Play around with the code cell below by changing the `batch_id` and `sample_id`. The `batch_id` is the id for a batch (1-5). The `sample_id` is the id for a image and label pair in the batch.\n",
    "\n",
    "Ask yourself \"What are all possible labels?\", \"What is the range of values for the image data?\", \"Are the labels in order or random?\".  Answers to questions like these will help you preprocess the data and end up with better predictions."
   ]
  },
  {
   "cell_type": "code",
   "execution_count": 2,
   "metadata": {
    "collapsed": false
   },
   "outputs": [
    {
     "name": "stdout",
     "output_type": "stream",
     "text": [
      "\n",
      "Stats of batch 1:\n",
      "Samples: 10000\n",
      "Label Counts: {0: 1005, 1: 974, 2: 1032, 3: 1016, 4: 999, 5: 937, 6: 1030, 7: 1001, 8: 1025, 9: 981}\n",
      "First 20 Labels: [6, 9, 9, 4, 1, 1, 2, 7, 8, 3, 4, 7, 7, 2, 9, 9, 9, 3, 2, 6]\n",
      "\n",
      "Example of Image 5:\n",
      "Image - Min Value: 0 Max Value: 252\n",
      "Image - Shape: (32, 32, 3)\n",
      "Label - Label Id: 1 Name: automobile\n"
     ]
    },
    {
     "data": {
      "image/png": "[encoded data removed]",
      "text/plain": [
       "<matplotlib.figure.Figure at 0x11a2b5ba8>"
      ]
     },
     "metadata": {
      "image/png": {
       "height": 250,
       "width": 253
      }
     },
     "output_type": "display_data"
    }
   ],
   "source": [
    "%matplotlib inline\n",
    "%config InlineBackend.figure_format = 'retina'\n",
    "\n",
    "import helper\n",
    "import numpy as np\n",
    "\n",
    "# Explore the dataset\n",
    "batch_id = 1\n",
    "sample_id = 5\n",
    "helper.display_stats(cifar10_dataset_folder_path, batch_id, sample_id)"
   ]
  },
  {
   "cell_type": "markdown",
   "metadata": {},
   "source": [
    "## Implement Preprocess Functions\n",
    "### Normalize\n",
    "In the cell below, implement the `normalize` function to take in image data, `x`, and return it as a normalized Numpy array. The values should be in the range of 0 to 1, inclusive.  The return object should be the same shape as `x`."
   ]
  },
  {
   "cell_type": "code",
   "execution_count": 3,
   "metadata": {
    "collapsed": false
   },
   "outputs": [
    {
     "name": "stdout",
     "output_type": "stream",
     "text": [
      "Tests Passed\n"
     ]
    }
   ],
   "source": [
    "def normalize(x):\n",
    "    \"\"\"\n",
    "    Normalize a list of sample image data in the range of 0 to 1\n",
    "    : x: List of image data.  The image shape is (32, 32, 3)\n",
    "    : return: Numpy array of normalize data\n",
    "    \"\"\"\n",
    "    # since each pixel is represented as a 3-tuple of integers ranging from 0 to 255 on the RGB scale, divide by 255\n",
    "    return x/255\n",
    "\n",
    "\n",
    "\"\"\"\n",
    "DON'T MODIFY ANYTHING IN THIS CELL THAT IS BELOW THIS LINE\n",
    "\"\"\"\n",
    "tests.test_normalize(normalize)"
   ]
  },
  {
   "cell_type": "markdown",
   "metadata": {},
   "source": [
    "### One-hot encode\n",
    "Just like the previous code cell, you'll be implementing a function for preprocessing.  This time, you'll implement the `one_hot_encode` function. The input, `x`, are a list of labels.  Implement the function to return the list of labels as One-Hot encoded Numpy array.  The possible values for labels are 0 to 9. The one-hot encoding function should return the same encoding for each value between each call to `one_hot_encode`.  Make sure to save the map of encodings outside the function.\n",
    "\n",
    "**Hint:**\n",
    "\n",
    "Look into LabelBinarizer in the preprocessing module of sklearn."
   ]
  },
  {
   "cell_type": "code",
   "execution_count": 4,
   "metadata": {
    "collapsed": false
   },
   "outputs": [
    {
     "name": "stdout",
     "output_type": "stream",
     "text": [
      "Tests Passed\n"
     ]
    }
   ],
   "source": [
    "from sklearn import preprocessing\n",
    "\n",
    "def one_hot_encode(x):\n",
    "    \"\"\"\n",
    "    One hot encode a list of sample labels. Return a one-hot encoded vector for each label.\n",
    "    : x: List of sample Labels\n",
    "    : return: Numpy array of one-hot encoded labels\n",
    "    \"\"\"\n",
    "    # One-hot-encode using the buit-in function by providing range of classes in the dataset:\n",
    "    ohc = preprocessing.LabelBinarizer(neg_label=0, pos_label=1)\n",
    "    ohc.fit([0, 1, 2, 3, 4, 5, 6, 7, 8, 9])\n",
    "    return ohc.transform(x)\n",
    "\n",
    "\n",
    "\"\"\"\n",
    "DON'T MODIFY ANYTHING IN THIS CELL THAT IS BELOW THIS LINE\n",
    "\"\"\"\n",
    "tests.test_one_hot_encode(one_hot_encode)"
   ]
  },
  {
   "cell_type": "markdown",
   "metadata": {},
   "source": [
    "### Randomize Data\n",
    "As you saw from exploring the data above, the order of the samples are randomized.  It doesn't hurt to randomize it again, but you don't need to for this dataset."
   ]
  },
  {
   "cell_type": "markdown",
   "metadata": {},
   "source": [
    "## Preprocess all the data and save it\n",
    "Running the code cell below will preprocess all the CIFAR-10 data and save it to file. The code below also uses 10% of the training data for validation."
   ]
  },
  {
   "cell_type": "code",
   "execution_count": 5,
   "metadata": {
    "collapsed": true
   },
   "outputs": [],
   "source": [
    "\"\"\"\n",
    "DON'T MODIFY ANYTHING IN THIS CELL\n",
    "\"\"\"\n",
    "# Preprocess Training, Validation, and Testing Data\n",
    "helper.preprocess_and_save_data(cifar10_dataset_folder_path, normalize, one_hot_encode)"
   ]
  },
  {
   "cell_type": "markdown",
   "metadata": {},
   "source": [
    "# Check Point\n",
    "This is your first checkpoint.  If you ever decide to come back to this notebook or have to restart the notebook, you can start from here.  The preprocessed data has been saved to disk."
   ]
  },
  {
   "cell_type": "code",
   "execution_count": 6,
   "metadata": {
    "collapsed": true
   },
   "outputs": [],
   "source": [
    "\"\"\"\n",
    "DON'T MODIFY ANYTHING IN THIS CELL\n",
    "\"\"\"\n",
    "import pickle\n",
    "import problem_unittests as tests\n",
    "import helper\n",
    "\n",
    "# Load the Preprocessed Validation data\n",
    "valid_features, valid_labels = pickle.load(open('preprocess_validation.p', mode='rb'))"
   ]
  },
  {
   "cell_type": "markdown",
   "metadata": {},
   "source": [
    "## Build the network\n",
    "For the neural network, you'll build each layer into a function.  Most of the code you've seen has been outside of functions. To test your code more thoroughly, we require that you put each layer in a function.  This allows us to give you better feedback and test for simple mistakes using our unittests before you submit your project.\n",
    "\n",
    ">**Note:** If you're finding it hard to dedicate enough time for this course each week, we've provided a small shortcut to this part of the project. In the next couple of problems, you'll have the option to use classes from the [TensorFlow Layers](https://www.tensorflow.org/api_docs/python/tf/layers) or [TensorFlow Layers (contrib)](https://www.tensorflow.org/api_guides/python/contrib.layers) packages to build each layer, except the layers you build in the \"Convolutional and Max Pooling Layer\" section.  TF Layers is similar to Keras's and TFLearn's abstraction to layers, so it's easy to pickup.\n",
    "\n",
    ">However, if you would like to get the most out of this course, try to solve all the problems _without_ using anything from the TF Layers packages. You **can** still use classes from other packages that happen to have the same name as ones you find in TF Layers! For example, instead of using the TF Layers version of the `conv2d` class, [tf.layers.conv2d](https://www.tensorflow.org/api_docs/python/tf/layers/conv2d), you would want to use the TF Neural Network version of `conv2d`, [tf.nn.conv2d](https://www.tensorflow.org/api_docs/python/tf/nn/conv2d). \n",
    "\n",
    "Let's begin!\n",
    "\n",
    "### Input\n",
    "The neural network needs to read the image data, one-hot encoded labels, and dropout keep probability. Implement the following functions\n",
    "* Implement `neural_net_image_input`\n",
    " * Return a [TF Placeholder](https://www.tensorflow.org/api_docs/python/tf/placeholder)\n",
    " * Set the shape using `image_shape` with batch size set to `None`.\n",
    " * Name the TensorFlow placeholder \"x\" using the TensorFlow `name` parameter in the [TF Placeholder](https://www.tensorflow.org/api_docs/python/tf/placeholder).\n",
    "* Implement `neural_net_label_input`\n",
    " * Return a [TF Placeholder](https://www.tensorflow.org/api_docs/python/tf/placeholder)\n",
    " * Set the shape using `n_classes` with batch size set to `None`.\n",
    " * Name the TensorFlow placeholder \"y\" using the TensorFlow `name` parameter in the [TF Placeholder](https://www.tensorflow.org/api_docs/python/tf/placeholder).\n",
    "* Implement `neural_net_keep_prob_input`\n",
    " * Return a [TF Placeholder](https://www.tensorflow.org/api_docs/python/tf/placeholder) for dropout keep probability.\n",
    " * Name the TensorFlow placeholder \"keep_prob\" using the TensorFlow `name` parameter in the [TF Placeholder](https://www.tensorflow.org/api_docs/python/tf/placeholder).\n",
    "\n",
    "These names will be used at the end of the project to load your saved model.\n",
    "\n",
    "Note: `None` for shapes in TensorFlow allow for a dynamic size."
   ]
  },
  {
   "cell_type": "code",
   "execution_count": 7,
   "metadata": {
    "collapsed": false
   },
   "outputs": [
    {
     "name": "stdout",
     "output_type": "stream",
     "text": [
      "Image Input Tests Passed.\n",
      "Label Input Tests Passed.\n",
      "Keep Prob Tests Passed.\n"
     ]
    }
   ],
   "source": [
    "import tensorflow as tf\n",
    "\n",
    "def neural_net_image_input(image_shape):\n",
    "    \"\"\"\n",
    "    Return a Tensor for a batch of image input\n",
    "    : image_shape: Shape of the images\n",
    "    : return: Tensor for image input.\n",
    "    \"\"\"\n",
    "    # Declare placeholder for the input (recalling that the first input for shape allows for variable batch size)\n",
    "    return tf.placeholder(tf.float32, shape=(None, image_shape[0],image_shape[1],image_shape[2]) ,name='x')\n",
    "\n",
    "\n",
    "def neural_net_label_input(n_classes):\n",
    "    \"\"\"\n",
    "    Return a Tensor for a batch of label input\n",
    "    : n_classes: Number of classes\n",
    "    : return: Tensor for label input.\n",
    "    \"\"\"\n",
    "    #declare placeholder for the label inputs\n",
    "    return tf.placeholder(tf.float32, shape=(None, n_classes), name='y')\n",
    "\n",
    "\n",
    "def neural_net_keep_prob_input():\n",
    "    \"\"\"\n",
    "    Return a Tensor for keep probability\n",
    "    : return: Tensor for keep probability.\n",
    "    \"\"\"\n",
    "    # declare a placeholder for the dropout keep probability\n",
    "    return tf.placeholder(tf.float32, name='keep_prob')\n",
    "\n",
    "\n",
    "\"\"\"\n",
    "DON'T MODIFY ANYTHING IN THIS CELL THAT IS BELOW THIS LINE\n",
    "\"\"\"\n",
    "tf.reset_default_graph()\n",
    "tests.test_nn_image_inputs(neural_net_image_input)\n",
    "tests.test_nn_label_inputs(neural_net_label_input)\n",
    "tests.test_nn_keep_prob_inputs(neural_net_keep_prob_input)"
   ]
  },
  {
   "cell_type": "markdown",
   "metadata": {},
   "source": [
    "### Convolution and Max Pooling Layer\n",
    "Convolution layers have a lot of success with images. For this code cell, you should implement the function `conv2d_maxpool` to apply convolution then max pooling:\n",
    "* Create the weight and bias using `conv_ksize`, `conv_num_outputs` and the shape of `x_tensor`.\n",
    "* Apply a convolution to `x_tensor` using weight and `conv_strides`.\n",
    " * We recommend you use same padding, but you're welcome to use any padding.\n",
    "* Add bias\n",
    "* Add a nonlinear activation to the convolution.\n",
    "* Apply Max Pooling using `pool_ksize` and `pool_strides`.\n",
    " * We recommend you use same padding, but you're welcome to use any padding.\n",
    "\n",
    "**Note:** You **can't** use [TensorFlow Layers](https://www.tensorflow.org/api_docs/python/tf/layers) or [TensorFlow Layers (contrib)](https://www.tensorflow.org/api_guides/python/contrib.layers) for **this** layer, but you can still use TensorFlow's [Neural Network](https://www.tensorflow.org/api_docs/python/tf/nn) package. You may still use the shortcut option for all the **other** layers.\n",
    "\n",
    "** Hint: **\n",
    "\n",
    "When unpacking values as an argument in Python, look into the [unpacking](https://docs.python.org/3/tutorial/controlflow.html#unpacking-argument-lists) operator. "
   ]
  },
  {
   "cell_type": "code",
   "execution_count": 8,
   "metadata": {
    "collapsed": false
   },
   "outputs": [
    {
     "name": "stdout",
     "output_type": "stream",
     "text": [
      "Tests Passed\n"
     ]
    }
   ],
   "source": [
    "def conv2d_maxpool(x_tensor, conv_num_outputs, conv_ksize, conv_strides, pool_ksize, pool_strides):\n",
    "    \"\"\"\n",
    "    Apply convolution then max pooling to x_tensor\n",
    "    :param x_tensor: TensorFlow Tensor\n",
    "    :param conv_num_outputs: Number of outputs for the convolutional layer\n",
    "    :param conv_ksize: kernal size 2-D Tuple for the convolutional layer\n",
    "    :param conv_strides: Stride 2-D Tuple for convolution\n",
    "    :param pool_ksize: kernal size 2-D Tuple for pool\n",
    "    :param pool_strides: Stride 2-D Tuple for pool\n",
    "    : return: A tensor that represents convolution and max pooling of x_tensor\n",
    "    \"\"\"\n",
    " \n",
    "    #obtain the depth size of the tensor first\n",
    "    color_channels = x_tensor.get_shape().as_list()[3]\n",
    "    \n",
    "    #Define the weight (as a random Gaussian) and bias (as a vector of zeros)\n",
    "    weight = tf.Variable(tf.truncated_normal([conv_ksize[0], conv_ksize[1], color_channels, conv_num_outputs], stddev=0.1))\n",
    "    bias = tf.Variable(tf.zeros(conv_num_outputs))\n",
    "\n",
    "    \n",
    "    #apply the convolution with same padding\n",
    "    conv_layer = tf.nn.conv2d(x_tensor, weight, strides=[1, conv_strides[0], conv_strides[1], 1], padding='SAME')\n",
    "\n",
    "    #add the bias\n",
    "    conv_layer = tf.nn.bias_add(conv_layer, bias)\n",
    "\n",
    "    \n",
    "    #apply the activation function\n",
    "    conv_layer = tf.nn.relu(conv_layer)\n",
    "    \n",
    "    \n",
    "    #apply max pooling with same padding\n",
    "    conv_layer = tf.nn.max_pool(conv_layer, ksize = [1,pool_ksize[0], pool_ksize[1],1],strides = [1,pool_strides[0],pool_strides[1],1], padding = 'SAME')\n",
    "    \n",
    "    return conv_layer \n",
    "\n",
    "\n",
    "\"\"\"\n",
    "DON'T MODIFY ANYTHING IN THIS CELL THAT IS BELOW THIS LINE\n",
    "\"\"\"\n",
    "tests.test_con_pool(conv2d_maxpool)"
   ]
  },
  {
   "cell_type": "markdown",
   "metadata": {},
   "source": [
    "### Flatten Layer\n",
    "Implement the `flatten` function to change the dimension of `x_tensor` from a 4-D tensor to a 2-D tensor.  The output should be the shape (*Batch Size*, *Flattened Image Size*). Shortcut option: you can use classes from the [TensorFlow Layers](https://www.tensorflow.org/api_docs/python/tf/layers) or [TensorFlow Layers (contrib)](https://www.tensorflow.org/api_guides/python/contrib.layers) packages for this layer. For more of a challenge, only use other TensorFlow packages."
   ]
  },
  {
   "cell_type": "code",
   "execution_count": 9,
   "metadata": {
    "collapsed": false
   },
   "outputs": [
    {
     "name": "stdout",
     "output_type": "stream",
     "text": [
      "Tests Passed\n"
     ]
    }
   ],
   "source": [
    "def flatten(x_tensor):\n",
    "    \"\"\"\n",
    "    Flatten x_tensor to (Batch Size, Flattened Image Size)\n",
    "    : x_tensor: A tensor of size (Batch Size, ...), where ... are the image dimensions.\n",
    "    : return: A tensor of size (Batch Size, Flattened Image Size).\n",
    "    \"\"\"\n",
    "    # TODO: Use the tf layers (contrib) package's built in function to flatten the tensor\n",
    "    return tf.contrib.layers.flatten(x_tensor)\n",
    "\n",
    "\n",
    "\n",
    "\"\"\"\n",
    "DON'T MODIFY ANYTHING IN THIS CELL THAT IS BELOW THIS LINE\n",
    "\"\"\"\n",
    "tests.test_flatten(flatten)"
   ]
  },
  {
   "cell_type": "markdown",
   "metadata": {},
   "source": [
    "### Fully-Connected Layer\n",
    "Implement the `fully_conn` function to apply a fully connected layer to `x_tensor` with the shape (*Batch Size*, *num_outputs*). Shortcut option: you can use classes from the [TensorFlow Layers](https://www.tensorflow.org/api_docs/python/tf/layers) or [TensorFlow Layers (contrib)](https://www.tensorflow.org/api_guides/python/contrib.layers) packages for this layer. For more of a challenge, only use other TensorFlow packages."
   ]
  },
  {
   "cell_type": "code",
   "execution_count": 13,
   "metadata": {
    "collapsed": false
   },
   "outputs": [
    {
     "name": "stdout",
     "output_type": "stream",
     "text": [
      "Tests Passed\n"
     ]
    }
   ],
   "source": [
    "def fully_conn(x_tensor, num_outputs):\n",
    "    \"\"\"\n",
    "    Apply a fully connected layer to x_tensor using weight and bias\n",
    "    : x_tensor: A 2-D tensor where the first dimension is batch size.\n",
    "    : num_outputs: The number of output that the new tensor should be.\n",
    "    : return: A 2-D tensor where the second dimension is num_outputs.\n",
    "    \"\"\"\n",
    " \n",
    "    \n",
    "    # obtain the number of neurons for the fully connected layer from a tensor of shape (batch_size, num_inputs)\n",
    "    num_inputs = x_tensor.get_shape().as_list()[1]\n",
    "    \n",
    "    # define weights (as a random gaussian) and bias (as a tuple of zeroes)\n",
    "    weight = tf.Variable(tf.truncated_normal(([num_inputs, num_outputs]),stddev=0.1))\n",
    "    bias = tf.Variable(tf.zeros(num_outputs))\n",
    "    \n",
    "    # apply the affine transformation\n",
    "    output = tf.add(tf.matmul(x_tensor, weight), bias)\n",
    "    \n",
    "    # apply the activation function\n",
    "    output = tf.nn.relu(output)\n",
    "    \n",
    "    return output\n",
    "\n",
    "\n",
    "\"\"\"\n",
    "DON'T MODIFY ANYTHING IN THIS CELL THAT IS BELOW THIS LINE\n",
    "\"\"\"\n",
    "tests.test_fully_conn(fully_conn)"
   ]
  },
  {
   "cell_type": "markdown",
   "metadata": {},
   "source": [
    "### Output Layer\n",
    "Implement the `output` function to apply a fully connected layer to `x_tensor` with the shape (*Batch Size*, *num_outputs*). Shortcut option: you can use classes from the [TensorFlow Layers](https://www.tensorflow.org/api_docs/python/tf/layers) or [TensorFlow Layers (contrib)](https://www.tensorflow.org/api_guides/python/contrib.layers) packages for this layer. For more of a challenge, only use other TensorFlow packages.\n",
    "\n",
    "**Note:** Activation, softmax, or cross entropy should **not** be applied to this."
   ]
  },
  {
   "cell_type": "code",
   "execution_count": 12,
   "metadata": {
    "collapsed": false
   },
   "outputs": [
    {
     "name": "stdout",
     "output_type": "stream",
     "text": [
      "Tests Passed\n"
     ]
    }
   ],
   "source": [
    "def output(x_tensor, num_outputs):\n",
    "    \"\"\"\n",
    "    Apply a output layer to x_tensor using weight and bias\n",
    "    : x_tensor: A 2-D tensor where the first dimension is batch size.\n",
    "    : num_outputs: The number of output that the new tensor should be.\n",
    "    : return: A 2-D tensor where the second dimension is num_outputs.\n",
    "    \"\"\"\n",
    "\n",
    "    # obtain the number of neurons for the output layer\n",
    "    num_inputs = x_tensor.get_shape().as_list()[1]\n",
    "    \n",
    "    # define weights (as a random gaussian) and bias (as a tuple of zeroes)\n",
    "    weight = tf.Variable(tf.truncated_normal(([num_inputs, num_outputs]),stddev=0.1))\n",
    "    bias = tf.Variable(tf.zeros(num_outputs))\n",
    "    \n",
    "    # apply the affine transformation\n",
    "    output = tf.add(tf.matmul(x_tensor, weight), bias)\n",
    "    return output\n",
    "\n",
    "\n",
    "\"\"\"\n",
    "DON'T MODIFY ANYTHING IN THIS CELL THAT IS BELOW THIS LINE\n",
    "\"\"\"\n",
    "tests.test_output(output)"
   ]
  },
  {
   "cell_type": "markdown",
   "metadata": {},
   "source": [
    "### Create Convolutional Model\n",
    "Implement the function `conv_net` to create a convolutional neural network model. The function takes in a batch of images, `x`, and outputs logits.  Use the layers you created above to create this model:\n",
    "\n",
    "* Apply 1, 2, or 3 Convolution and Max Pool layers\n",
    "* Apply a Flatten Layer\n",
    "* Apply 1, 2, or 3 Fully Connected Layers\n",
    "* Apply an Output Layer\n",
    "* Return the output\n",
    "* Apply [TensorFlow's Dropout](https://www.tensorflow.org/api_docs/python/tf/nn/dropout) to one or more layers in the model using `keep_prob`. "
   ]
  },
  {
   "cell_type": "code",
   "execution_count": 19,
   "metadata": {
    "collapsed": false
   },
   "outputs": [
    {
     "name": "stdout",
     "output_type": "stream",
     "text": [
      "Neural Network Built!\n"
     ]
    }
   ],
   "source": [
    "def conv_net(x, keep_prob):\n",
    "    \"\"\"\n",
    "    Create a convolutional neural network model\n",
    "    : x: Placeholder tensor that holds image data.\n",
    "    : keep_prob: Placeholder tensor that hold dropout keep probability.\n",
    "    : return: Tensor that represents logits\n",
    "    \"\"\"\n",
    "   \n",
    "    \n",
    "    #First the hyperparameters for further tweaking:\n",
    "    \n",
    "    #declare the number of outputs for each of the three layers\n",
    "    conv_num_outputs_1 = 16\n",
    "    conv_num_outputs_2 = 32\n",
    "    conv_num_outputs_3 = 64\n",
    "    \n",
    "    #declare filter size, convolution stride size, pooling kernel size and pooling stride\n",
    "    conv_ksize = [4, 4]\n",
    "    conv_strides = [1, 1]\n",
    "    pool_ksize = [2, 2]\n",
    "    pool_strides = [2, 2]\n",
    "    \n",
    "    #declare number of inputs for the each fully connected layer\n",
    "    num_inputs_fully_conn_1 = 10\n",
    "    num_inputs_fully_conn_2 = 10\n",
    "    \n",
    "    #proceed to builde the neural network:\n",
    "    \n",
    "    # apply 3 layers of convolution\n",
    "    conv_layer = conv2d_maxpool(x, conv_num_outputs_1, conv_ksize, conv_strides, pool_ksize, pool_strides)\n",
    "    conv_layer = conv2d_maxpool(conv_layer, conv_num_outputs_2, conv_ksize, conv_strides, pool_ksize, pool_strides)\n",
    "    conv_layer = conv2d_maxpool(conv_layer, conv_num_outputs_3, conv_ksize, conv_strides, pool_ksize, pool_strides)\n",
    "\n",
    "    #flatten the tensor\n",
    "    flattened_tensor = flatten(conv_layer)\n",
    "    \n",
    "    # Build a classical neural network by applying two fully connected layers with 100 outputs and performing a dropout regularization after each (using the built in dropout functionality and the earlier defined placeholder)\n",
    "    fully_connected_layer = fully_conn(flattened_tensor, num_inputs_fully_conn_1)\n",
    "    dropout_layer = tf.nn.dropout(fully_connected_layer, keep_prob)\n",
    "    fully_connected_layer = fully_conn(fully_connected_layer, num_inputs_fully_conn_2)\n",
    "\n",
    "\n",
    "    \n",
    "    #finally, apply the output layer with the required 10 targets\n",
    "    output_layer=output(fully_connected_layer, 10)\n",
    "    \n",
    "    return output_layer\n",
    "\n",
    "\n",
    "    \n",
    "    \n",
    "\n",
    "\n",
    "\"\"\"\n",
    "DON'T MODIFY ANYTHING IN THIS CELL THAT IS BELOW THIS LINE\n",
    "\"\"\"\n",
    "\n",
    "##############################\n",
    "## Build the Neural Network ##\n",
    "##############################\n",
    "\n",
    "# Remove previous weights, bias, inputs, etc..\n",
    "tf.reset_default_graph()\n",
    "\n",
    "# Inputs\n",
    "x = neural_net_image_input((32, 32, 3))\n",
    "y = neural_net_label_input(10)\n",
    "keep_prob = neural_net_keep_prob_input()\n",
    "\n",
    "# Model\n",
    "logits = conv_net(x, keep_prob)\n",
    "\n",
    "# Name logits Tensor, so that is can be loaded from disk after training\n",
    "logits = tf.identity(logits, name='logits')\n",
    "\n",
    "# Loss and Optimizer\n",
    "cost = tf.reduce_mean(tf.nn.softmax_cross_entropy_with_logits(logits=logits, labels=y))\n",
    "optimizer = tf.train.AdamOptimizer().minimize(cost)\n",
    "\n",
    "# Accuracy\n",
    "correct_pred = tf.equal(tf.argmax(logits, 1), tf.argmax(y, 1))\n",
    "accuracy = tf.reduce_mean(tf.cast(correct_pred, tf.float32), name='accuracy')\n",
    "\n",
    "tests.test_conv_net(conv_net)"
   ]
  },
  {
   "cell_type": "markdown",
   "metadata": {},
   "source": [
    "## Train the Neural Network\n",
    "### Single Optimization\n",
    "Implement the function `train_neural_network` to do a single optimization.  The optimization should use `optimizer` to optimize in `session` with a `feed_dict` of the following:\n",
    "* `x` for image input\n",
    "* `y` for labels\n",
    "* `keep_prob` for keep probability for dropout\n",
    "\n",
    "This function will be called for each batch, so `tf.global_variables_initializer()` has already been called.\n",
    "\n",
    "Note: Nothing needs to be returned. This function is only optimizing the neural network."
   ]
  },
  {
   "cell_type": "code",
   "execution_count": 20,
   "metadata": {
    "collapsed": false
   },
   "outputs": [
    {
     "name": "stdout",
     "output_type": "stream",
     "text": [
      "Tests Passed\n"
     ]
    }
   ],
   "source": [
    "def train_neural_network(session, optimizer, keep_probability, feature_batch, label_batch):\n",
    "    \"\"\"\n",
    "    Optimize the session on a batch of images and labels\n",
    "    : session: Current TensorFlow session\n",
    "    : optimizer: TensorFlow optimizer function\n",
    "    : keep_probability: keep probability\n",
    "    : feature_batch: Batch of Numpy image data\n",
    "    : label_batch: Batch of Numpy label data\n",
    "    \"\"\"\n",
    "    # Run the optimizer on the given session\n",
    "    session.run(optimizer, feed_dict={x: feature_batch, y: label_batch, keep_prob: keep_probability})\n",
    "\n",
    "\n",
    "\"\"\"\n",
    "DON'T MODIFY ANYTHING IN THIS CELL THAT IS BELOW THIS LINE\n",
    "\"\"\"\n",
    "tests.test_train_nn(train_neural_network)"
   ]
  },
  {
   "cell_type": "markdown",
   "metadata": {},
   "source": [
    "### Show Stats\n",
    "Implement the function `print_stats` to print loss and validation accuracy.  Use the global variables `valid_features` and `valid_labels` to calculate validation accuracy.  Use a keep probability of `1.0` to calculate the loss and validation accuracy."
   ]
  },
  {
   "cell_type": "code",
   "execution_count": 21,
   "metadata": {
    "collapsed": true
   },
   "outputs": [],
   "source": [
    "def print_stats(session, feature_batch, label_batch, cost, accuracy):\n",
    "    \"\"\"\n",
    "    Print information about loss and validation accuracy\n",
    "    : session: Current TensorFlow session\n",
    "    : feature_batch: Batch of Numpy image data\n",
    "    : label_batch: Batch of Numpy label data\n",
    "    : cost: TensorFlow cost function\n",
    "    : accuracy: TensorFlow accuracy function\n",
    "    \"\"\"\n",
    "    # TODO: Implement Function\n",
    "    loss = session.run(cost, feed_dict={x: feature_batch, y: label_batch, keep_prob: 1.0})\n",
    "    accuracy = session.run(accuracy, feed_dict={x: valid_features, y: valid_labels, keep_prob:1.0})\n",
    "    print('Loss: ', loss, ' Accuracy: ', accuracy)"
   ]
  },
  {
   "cell_type": "markdown",
   "metadata": {},
   "source": [
    "### Hyperparameters\n",
    "Tune the following parameters:\n",
    "* Set `epochs` to the number of iterations until the network stops learning or start overfitting\n",
    "* Set `batch_size` to the highest number that your machine has memory for.  Most people set them to common sizes of memory:\n",
    " * 64\n",
    " * 128\n",
    " * 256\n",
    " * ...\n",
    "* Set `keep_probability` to the probability of keeping a node using dropout"
   ]
  },
  {
   "cell_type": "code",
   "execution_count": 29,
   "metadata": {
    "collapsed": true
   },
   "outputs": [],
   "source": [
    "# TODO: Tune Parameters\n",
    "epochs = 50\n",
    "batch_size = 128\n",
    "keep_probability = 0.8"
   ]
  },
  {
   "cell_type": "markdown",
   "metadata": {},
   "source": [
    "### Train on a Single CIFAR-10 Batch\n",
    "Instead of training the neural network on all the CIFAR-10 batches of data, let's use a single batch. This should save time while you iterate on the model to get a better accuracy.  Once the final validation accuracy is 50% or greater, run the model on all the data in the next section."
   ]
  },
  {
   "cell_type": "code",
   "execution_count": 32,
   "metadata": {
    "collapsed": false
   },
   "outputs": [
    {
     "name": "stdout",
     "output_type": "stream",
     "text": [
      "Checking the Training on a Single Batch...\n",
      "Epoch  1, CIFAR-10 Batch 1:  Loss:  2.2136  Accuracy:  0.2124\n",
      "Epoch  2, CIFAR-10 Batch 1:  Loss:  2.08022  Accuracy:  0.3234\n",
      "Epoch  3, CIFAR-10 Batch 1:  Loss:  1.97647  Accuracy:  0.3532\n",
      "Epoch  4, CIFAR-10 Batch 1:  Loss:  1.91231  Accuracy:  0.3854\n",
      "Epoch  5, CIFAR-10 Batch 1:  Loss:  1.83249  Accuracy:  0.4168\n",
      "Epoch  6, CIFAR-10 Batch 1:  Loss:  1.76735  Accuracy:  0.4334\n",
      "Epoch  7, CIFAR-10 Batch 1:  Loss:  1.72468  Accuracy:  0.4418\n",
      "Epoch  8, CIFAR-10 Batch 1:  Loss:  1.67244  Accuracy:  0.4454\n",
      "Epoch  9, CIFAR-10 Batch 1:  Loss:  1.6072  Accuracy:  0.4606\n",
      "Epoch 10, CIFAR-10 Batch 1:  Loss:  1.57125  Accuracy:  0.4662\n",
      "Epoch 11, CIFAR-10 Batch 1:  Loss:  1.56512  Accuracy:  0.473\n",
      "Epoch 12, CIFAR-10 Batch 1:  Loss:  1.50391  Accuracy:  0.4824\n",
      "Epoch 13, CIFAR-10 Batch 1:  Loss:  1.47132  Accuracy:  0.4852\n",
      "Epoch 14, CIFAR-10 Batch 1:  Loss:  1.44145  Accuracy:  0.487\n",
      "Epoch 15, CIFAR-10 Batch 1:  Loss:  1.3978  Accuracy:  0.4952\n",
      "Epoch 16, CIFAR-10 Batch 1:  Loss:  1.35608  Accuracy:  0.4978\n",
      "Epoch 17, CIFAR-10 Batch 1:  Loss:  1.31171  Accuracy:  0.5068\n",
      "Epoch 18, CIFAR-10 Batch 1:  Loss:  1.25309  Accuracy:  0.5152\n",
      "Epoch 19, CIFAR-10 Batch 1:  Loss:  1.19324  Accuracy:  0.5208\n",
      "Epoch 20, CIFAR-10 Batch 1:  Loss:  1.14196  Accuracy:  0.5286\n",
      "Epoch 21, CIFAR-10 Batch 1:  Loss:  1.08429  Accuracy:  0.5352\n",
      "Epoch 22, CIFAR-10 Batch 1:  Loss:  1.03733  Accuracy:  0.5384\n",
      "Epoch 23, CIFAR-10 Batch 1:  Loss:  0.993032  Accuracy:  0.5336\n",
      "Epoch 24, CIFAR-10 Batch 1:  Loss:  0.944684  Accuracy:  0.5362\n",
      "Epoch 25, CIFAR-10 Batch 1:  Loss:  0.90834  Accuracy:  0.5388\n",
      "Epoch 26, CIFAR-10 Batch 1:  Loss:  0.886408  Accuracy:  0.538\n",
      "Epoch 27, CIFAR-10 Batch 1:  Loss:  0.843255  Accuracy:  0.5368\n",
      "Epoch 28, CIFAR-10 Batch 1:  Loss:  0.807124  Accuracy:  0.5372\n",
      "Epoch 29, CIFAR-10 Batch 1:  Loss:  0.772389  Accuracy:  0.5312\n",
      "Epoch 30, CIFAR-10 Batch 1:  Loss:  0.712432  Accuracy:  0.5364\n",
      "Epoch 31, CIFAR-10 Batch 1:  Loss:  0.685893  Accuracy:  0.5372\n",
      "Epoch 32, CIFAR-10 Batch 1:  Loss:  0.640574  Accuracy:  0.5404\n",
      "Epoch 33, CIFAR-10 Batch 1:  Loss:  0.65925  Accuracy:  0.5364\n",
      "Epoch 34, CIFAR-10 Batch 1:  Loss:  0.610572  Accuracy:  0.5366\n",
      "Epoch 35, CIFAR-10 Batch 1:  Loss:  0.604792  Accuracy:  0.5326\n",
      "Epoch 36, CIFAR-10 Batch 1:  Loss:  0.609619  Accuracy:  0.5254\n",
      "Epoch 37, CIFAR-10 Batch 1:  Loss:  0.572716  Accuracy:  0.53\n",
      "Epoch 38, CIFAR-10 Batch 1:  Loss:  0.528332  Accuracy:  0.534\n",
      "Epoch 39, CIFAR-10 Batch 1:  Loss:  0.502558  Accuracy:  0.5382\n",
      "Epoch 40, CIFAR-10 Batch 1:  Loss:  0.48644  Accuracy:  0.5386\n",
      "Epoch 41, CIFAR-10 Batch 1:  Loss:  0.488617  Accuracy:  0.5284\n",
      "Epoch 42, CIFAR-10 Batch 1:  Loss:  0.471551  Accuracy:  0.5316\n",
      "Epoch 43, CIFAR-10 Batch 1:  Loss:  0.438705  Accuracy:  0.5352\n",
      "Epoch 44, CIFAR-10 Batch 1:  Loss:  0.428293  Accuracy:  0.5336\n",
      "Epoch 45, CIFAR-10 Batch 1:  Loss:  0.395851  Accuracy:  0.5298\n",
      "Epoch 46, CIFAR-10 Batch 1:  Loss:  0.328236  Accuracy:  0.5478\n",
      "Epoch 47, CIFAR-10 Batch 1:  Loss:  0.290108  Accuracy:  0.546\n",
      "Epoch 48, CIFAR-10 Batch 1:  Loss:  0.263715  Accuracy:  0.545\n",
      "Epoch 49, CIFAR-10 Batch 1:  Loss:  0.244202  Accuracy:  0.5476\n",
      "Epoch 50, CIFAR-10 Batch 1:  Loss:  0.226641  Accuracy:  0.5492\n"
     ]
    }
   ],
   "source": [
    "\"\"\"\n",
    "DON'T MODIFY ANYTHING IN THIS CELL\n",
    "\"\"\"\n",
    "print('Checking the Training on a Single Batch...')\n",
    "with tf.Session() as sess:\n",
    "    # Initializing the variables\n",
    "    sess.run(tf.global_variables_initializer())\n",
    "    \n",
    "    # Training cycle\n",
    "    for epoch in range(epochs):\n",
    "        batch_i = 1\n",
    "        for batch_features, batch_labels in helper.load_preprocess_training_batch(batch_i, batch_size):\n",
    "            train_neural_network(sess, optimizer, keep_probability, batch_features, batch_labels)\n",
    "        print('Epoch {:>2}, CIFAR-10 Batch {}:  '.format(epoch + 1, batch_i), end='')\n",
    "        print_stats(sess, batch_features, batch_labels, cost, accuracy)"
   ]
  },
  {
   "cell_type": "markdown",
   "metadata": {},
   "source": [
    "### Fully Train the Model\n",
    "Now that you got a good accuracy with a single CIFAR-10 batch, try it with all five batches."
   ]
  },
  {
   "cell_type": "code",
   "execution_count": 33,
   "metadata": {
    "collapsed": false
   },
   "outputs": [
    {
     "name": "stdout",
     "output_type": "stream",
     "text": [
      "Training...\n",
      "Epoch  1, CIFAR-10 Batch 1:  Loss:  2.22433  Accuracy:  0.215\n",
      "Epoch  1, CIFAR-10 Batch 2:  Loss:  1.95956  Accuracy:  0.3164\n",
      "Epoch  1, CIFAR-10 Batch 3:  Loss:  1.65841  Accuracy:  0.3562\n",
      "Epoch  1, CIFAR-10 Batch 4:  Loss:  1.65892  Accuracy:  0.375\n",
      "Epoch  1, CIFAR-10 Batch 5:  Loss:  1.55482  Accuracy:  0.4082\n",
      "Epoch  2, CIFAR-10 Batch 1:  Loss:  1.76961  Accuracy:  0.4272\n",
      "Epoch  2, CIFAR-10 Batch 2:  Loss:  1.60565  Accuracy:  0.4318\n",
      "Epoch  2, CIFAR-10 Batch 3:  Loss:  1.33434  Accuracy:  0.4358\n",
      "Epoch  2, CIFAR-10 Batch 4:  Loss:  1.41944  Accuracy:  0.4678\n",
      "Epoch  2, CIFAR-10 Batch 5:  Loss:  1.35887  Accuracy:  0.4854\n",
      "Epoch  3, CIFAR-10 Batch 1:  Loss:  1.62853  Accuracy:  0.4896\n",
      "Epoch  3, CIFAR-10 Batch 2:  Loss:  1.44004  Accuracy:  0.4882\n",
      "Epoch  3, CIFAR-10 Batch 3:  Loss:  1.11956  Accuracy:  0.4968\n",
      "Epoch  3, CIFAR-10 Batch 4:  Loss:  1.2624  Accuracy:  0.5246\n",
      "Epoch  3, CIFAR-10 Batch 5:  Loss:  1.18386  Accuracy:  0.525\n",
      "Epoch  4, CIFAR-10 Batch 1:  Loss:  1.50607  Accuracy:  0.525\n",
      "Epoch  4, CIFAR-10 Batch 2:  Loss:  1.32216  Accuracy:  0.5242\n",
      "Epoch  4, CIFAR-10 Batch 3:  Loss:  1.07554  Accuracy:  0.5124\n",
      "Epoch  4, CIFAR-10 Batch 4:  Loss:  1.14778  Accuracy:  0.5432\n",
      "Epoch  4, CIFAR-10 Batch 5:  Loss:  1.04538  Accuracy:  0.5496\n",
      "Epoch  5, CIFAR-10 Batch 1:  Loss:  1.40543  Accuracy:  0.5566\n",
      "Epoch  5, CIFAR-10 Batch 2:  Loss:  1.21747  Accuracy:  0.5458\n",
      "Epoch  5, CIFAR-10 Batch 3:  Loss:  0.989764  Accuracy:  0.5554\n",
      "Epoch  5, CIFAR-10 Batch 4:  Loss:  1.05138  Accuracy:  0.5652\n",
      "Epoch  5, CIFAR-10 Batch 5:  Loss:  0.947182  Accuracy:  0.5718\n",
      "Epoch  6, CIFAR-10 Batch 1:  Loss:  1.30976  Accuracy:  0.5736\n",
      "Epoch  6, CIFAR-10 Batch 2:  Loss:  1.11341  Accuracy:  0.5744\n",
      "Epoch  6, CIFAR-10 Batch 3:  Loss:  0.908208  Accuracy:  0.5682\n",
      "Epoch  6, CIFAR-10 Batch 4:  Loss:  0.968184  Accuracy:  0.5862\n",
      "Epoch  6, CIFAR-10 Batch 5:  Loss:  0.879668  Accuracy:  0.5886\n",
      "Epoch  7, CIFAR-10 Batch 1:  Loss:  1.23565  Accuracy:  0.5922\n",
      "Epoch  7, CIFAR-10 Batch 2:  Loss:  1.02623  Accuracy:  0.594\n",
      "Epoch  7, CIFAR-10 Batch 3:  Loss:  0.83358  Accuracy:  0.5842\n",
      "Epoch  7, CIFAR-10 Batch 4:  Loss:  0.896155  Accuracy:  0.5996\n",
      "Epoch  7, CIFAR-10 Batch 5:  Loss:  0.811849  Accuracy:  0.6004\n",
      "Epoch  8, CIFAR-10 Batch 1:  Loss:  1.15156  Accuracy:  0.6034\n",
      "Epoch  8, CIFAR-10 Batch 2:  Loss:  0.955672  Accuracy:  0.6048\n",
      "Epoch  8, CIFAR-10 Batch 3:  Loss:  0.752039  Accuracy:  0.5942\n",
      "Epoch  8, CIFAR-10 Batch 4:  Loss:  0.842864  Accuracy:  0.6134\n",
      "Epoch  8, CIFAR-10 Batch 5:  Loss:  0.748187  Accuracy:  0.614\n",
      "Epoch  9, CIFAR-10 Batch 1:  Loss:  1.06626  Accuracy:  0.6164\n",
      "Epoch  9, CIFAR-10 Batch 2:  Loss:  0.882276  Accuracy:  0.6102\n",
      "Epoch  9, CIFAR-10 Batch 3:  Loss:  0.696307  Accuracy:  0.6026\n",
      "Epoch  9, CIFAR-10 Batch 4:  Loss:  0.787777  Accuracy:  0.6212\n",
      "Epoch  9, CIFAR-10 Batch 5:  Loss:  0.690596  Accuracy:  0.6226\n",
      "Epoch 10, CIFAR-10 Batch 1:  Loss:  0.983467  Accuracy:  0.6218\n",
      "Epoch 10, CIFAR-10 Batch 2:  Loss:  0.81318  Accuracy:  0.6142\n",
      "Epoch 10, CIFAR-10 Batch 3:  Loss:  0.664219  Accuracy:  0.608\n",
      "Epoch 10, CIFAR-10 Batch 4:  Loss:  0.731545  Accuracy:  0.631\n",
      "Epoch 10, CIFAR-10 Batch 5:  Loss:  0.641745  Accuracy:  0.626\n",
      "Epoch 11, CIFAR-10 Batch 1:  Loss:  0.914228  Accuracy:  0.6332\n",
      "Epoch 11, CIFAR-10 Batch 2:  Loss:  0.74651  Accuracy:  0.6168\n",
      "Epoch 11, CIFAR-10 Batch 3:  Loss:  0.631284  Accuracy:  0.6126\n",
      "Epoch 11, CIFAR-10 Batch 4:  Loss:  0.695695  Accuracy:  0.637\n",
      "Epoch 11, CIFAR-10 Batch 5:  Loss:  0.598795  Accuracy:  0.6318\n",
      "Epoch 12, CIFAR-10 Batch 1:  Loss:  0.847752  Accuracy:  0.6394\n",
      "Epoch 12, CIFAR-10 Batch 2:  Loss:  0.676717  Accuracy:  0.6234\n",
      "Epoch 12, CIFAR-10 Batch 3:  Loss:  0.576782  Accuracy:  0.6198\n",
      "Epoch 12, CIFAR-10 Batch 4:  Loss:  0.651435  Accuracy:  0.641\n",
      "Epoch 12, CIFAR-10 Batch 5:  Loss:  0.568451  Accuracy:  0.6384\n",
      "Epoch 13, CIFAR-10 Batch 1:  Loss:  0.784415  Accuracy:  0.6432\n",
      "Epoch 13, CIFAR-10 Batch 2:  Loss:  0.629546  Accuracy:  0.6262\n",
      "Epoch 13, CIFAR-10 Batch 3:  Loss:  0.53438  Accuracy:  0.6296\n",
      "Epoch 13, CIFAR-10 Batch 4:  Loss:  0.61974  Accuracy:  0.6474\n",
      "Epoch 13, CIFAR-10 Batch 5:  Loss:  0.53868  Accuracy:  0.6466\n",
      "Epoch 14, CIFAR-10 Batch 1:  Loss:  0.724383  Accuracy:  0.6484\n",
      "Epoch 14, CIFAR-10 Batch 2:  Loss:  0.591122  Accuracy:  0.631\n",
      "Epoch 14, CIFAR-10 Batch 3:  Loss:  0.506861  Accuracy:  0.6406\n",
      "Epoch 14, CIFAR-10 Batch 4:  Loss:  0.599168  Accuracy:  0.6554\n",
      "Epoch 14, CIFAR-10 Batch 5:  Loss:  0.511491  Accuracy:  0.6534\n",
      "Epoch 15, CIFAR-10 Batch 1:  Loss:  0.678378  Accuracy:  0.649\n",
      "Epoch 15, CIFAR-10 Batch 2:  Loss:  0.564873  Accuracy:  0.6314\n",
      "Epoch 15, CIFAR-10 Batch 3:  Loss:  0.483023  Accuracy:  0.6414\n",
      "Epoch 15, CIFAR-10 Batch 4:  Loss:  0.568689  Accuracy:  0.6558\n",
      "Epoch 15, CIFAR-10 Batch 5:  Loss:  0.476787  Accuracy:  0.6636\n",
      "Epoch 16, CIFAR-10 Batch 1:  Loss:  0.620694  Accuracy:  0.6534\n",
      "Epoch 16, CIFAR-10 Batch 2:  Loss:  0.540001  Accuracy:  0.636\n",
      "Epoch 16, CIFAR-10 Batch 3:  Loss:  0.464699  Accuracy:  0.6444\n",
      "Epoch 16, CIFAR-10 Batch 4:  Loss:  0.535447  Accuracy:  0.6578\n",
      "Epoch 16, CIFAR-10 Batch 5:  Loss:  0.439867  Accuracy:  0.6678\n",
      "Epoch 17, CIFAR-10 Batch 1:  Loss:  0.570082  Accuracy:  0.6564\n",
      "Epoch 17, CIFAR-10 Batch 2:  Loss:  0.494036  Accuracy:  0.6434\n",
      "Epoch 17, CIFAR-10 Batch 3:  Loss:  0.45473  Accuracy:  0.647\n",
      "Epoch 17, CIFAR-10 Batch 4:  Loss:  0.51569  Accuracy:  0.6626\n",
      "Epoch 17, CIFAR-10 Batch 5:  Loss:  0.417873  Accuracy:  0.672\n",
      "Epoch 18, CIFAR-10 Batch 1:  Loss:  0.518393  Accuracy:  0.6596\n",
      "Epoch 18, CIFAR-10 Batch 2:  Loss:  0.46286  Accuracy:  0.6454\n",
      "Epoch 18, CIFAR-10 Batch 3:  Loss:  0.435056  Accuracy:  0.6516\n",
      "Epoch 18, CIFAR-10 Batch 4:  Loss:  0.496453  Accuracy:  0.6634\n",
      "Epoch 18, CIFAR-10 Batch 5:  Loss:  0.394073  Accuracy:  0.6666\n",
      "Epoch 19, CIFAR-10 Batch 1:  Loss:  0.480237  Accuracy:  0.6606\n",
      "Epoch 19, CIFAR-10 Batch 2:  Loss:  0.439327  Accuracy:  0.6458\n",
      "Epoch 19, CIFAR-10 Batch 3:  Loss:  0.421886  Accuracy:  0.6606\n",
      "Epoch 19, CIFAR-10 Batch 4:  Loss:  0.473158  Accuracy:  0.667\n",
      "Epoch 19, CIFAR-10 Batch 5:  Loss:  0.38624  Accuracy:  0.6658\n",
      "Epoch 20, CIFAR-10 Batch 1:  Loss:  0.440948  Accuracy:  0.6618\n",
      "Epoch 20, CIFAR-10 Batch 2:  Loss:  0.418874  Accuracy:  0.646\n",
      "Epoch 20, CIFAR-10 Batch 3:  Loss:  0.398724  Accuracy:  0.6624\n",
      "Epoch 20, CIFAR-10 Batch 4:  Loss:  0.456692  Accuracy:  0.6692\n",
      "Epoch 20, CIFAR-10 Batch 5:  Loss:  0.375302  Accuracy:  0.662\n",
      "Epoch 21, CIFAR-10 Batch 1:  Loss:  0.405217  Accuracy:  0.6644\n",
      "Epoch 21, CIFAR-10 Batch 2:  Loss:  0.407112  Accuracy:  0.6476\n",
      "Epoch 21, CIFAR-10 Batch 3:  Loss:  0.385936  Accuracy:  0.662\n",
      "Epoch 21, CIFAR-10 Batch 4:  Loss:  0.429114  Accuracy:  0.6682\n",
      "Epoch 21, CIFAR-10 Batch 5:  Loss:  0.363943  Accuracy:  0.6498\n",
      "Epoch 22, CIFAR-10 Batch 1:  Loss:  0.379304  Accuracy:  0.6638\n",
      "Epoch 22, CIFAR-10 Batch 2:  Loss:  0.380196  Accuracy:  0.6486\n",
      "Epoch 22, CIFAR-10 Batch 3:  Loss:  0.370347  Accuracy:  0.6624\n",
      "Epoch 22, CIFAR-10 Batch 4:  Loss:  0.40517  Accuracy:  0.6686\n",
      "Epoch 22, CIFAR-10 Batch 5:  Loss:  0.35589  Accuracy:  0.6374\n",
      "Epoch 23, CIFAR-10 Batch 1:  Loss:  0.37327  Accuracy:  0.6636\n",
      "Epoch 23, CIFAR-10 Batch 2:  Loss:  0.352215  Accuracy:  0.6616\n",
      "Epoch 23, CIFAR-10 Batch 3:  Loss:  0.368172  Accuracy:  0.667\n",
      "Epoch 23, CIFAR-10 Batch 4:  Loss:  0.39379  Accuracy:  0.6624\n",
      "Epoch 23, CIFAR-10 Batch 5:  Loss:  0.355369  Accuracy:  0.6272\n",
      "Epoch 24, CIFAR-10 Batch 1:  Loss:  0.361676  Accuracy:  0.6648\n",
      "Epoch 24, CIFAR-10 Batch 2:  Loss:  0.336576  Accuracy:  0.6776\n",
      "Epoch 24, CIFAR-10 Batch 3:  Loss:  0.357493  Accuracy:  0.6646\n",
      "Epoch 24, CIFAR-10 Batch 4:  Loss:  0.387516  Accuracy:  0.656\n",
      "Epoch 24, CIFAR-10 Batch 5:  Loss:  0.328636  Accuracy:  0.6344\n",
      "Epoch 25, CIFAR-10 Batch 1:  Loss:  0.338535  Accuracy:  0.6702\n",
      "Epoch 25, CIFAR-10 Batch 2:  Loss:  0.335886  Accuracy:  0.6816\n",
      "Epoch 25, CIFAR-10 Batch 3:  Loss:  0.340188  Accuracy:  0.6696\n",
      "Epoch 25, CIFAR-10 Batch 4:  Loss:  0.378404  Accuracy:  0.6558\n",
      "Epoch 25, CIFAR-10 Batch 5:  Loss:  0.309972  Accuracy:  0.6486\n",
      "Epoch 26, CIFAR-10 Batch 1:  Loss:  0.309  Accuracy:  0.6694\n",
      "Epoch 26, CIFAR-10 Batch 2:  Loss:  0.311121  Accuracy:  0.68\n",
      "Epoch 26, CIFAR-10 Batch 3:  Loss:  0.306985  Accuracy:  0.671\n",
      "Epoch 26, CIFAR-10 Batch 4:  Loss:  0.358358  Accuracy:  0.6468\n",
      "Epoch 26, CIFAR-10 Batch 5:  Loss:  0.306981  Accuracy:  0.6466\n",
      "Epoch 27, CIFAR-10 Batch 1:  Loss:  0.305287  Accuracy:  0.6724\n",
      "Epoch 27, CIFAR-10 Batch 2:  Loss:  0.294548  Accuracy:  0.684\n",
      "Epoch 27, CIFAR-10 Batch 3:  Loss:  0.29624  Accuracy:  0.6716\n",
      "Epoch 27, CIFAR-10 Batch 4:  Loss:  0.346026  Accuracy:  0.6464\n",
      "Epoch 27, CIFAR-10 Batch 5:  Loss:  0.293632  Accuracy:  0.649\n",
      "Epoch 28, CIFAR-10 Batch 1:  Loss:  0.286953  Accuracy:  0.6754\n",
      "Epoch 28, CIFAR-10 Batch 2:  Loss:  0.271068  Accuracy:  0.6778\n",
      "Epoch 28, CIFAR-10 Batch 3:  Loss:  0.281768  Accuracy:  0.6712\n",
      "Epoch 28, CIFAR-10 Batch 4:  Loss:  0.31662  Accuracy:  0.6472\n",
      "Epoch 28, CIFAR-10 Batch 5:  Loss:  0.279262  Accuracy:  0.6454\n",
      "Epoch 29, CIFAR-10 Batch 1:  Loss:  0.269802  Accuracy:  0.67\n",
      "Epoch 29, CIFAR-10 Batch 2:  Loss:  0.260771  Accuracy:  0.6706\n",
      "Epoch 29, CIFAR-10 Batch 3:  Loss:  0.265279  Accuracy:  0.671\n",
      "Epoch 29, CIFAR-10 Batch 4:  Loss:  0.296496  Accuracy:  0.6526\n",
      "Epoch 29, CIFAR-10 Batch 5:  Loss:  0.277996  Accuracy:  0.6386\n",
      "Epoch 30, CIFAR-10 Batch 1:  Loss:  0.259717  Accuracy:  0.6674\n",
      "Epoch 30, CIFAR-10 Batch 2:  Loss:  0.249995  Accuracy:  0.6684\n",
      "Epoch 30, CIFAR-10 Batch 3:  Loss:  0.253131  Accuracy:  0.67\n",
      "Epoch 30, CIFAR-10 Batch 4:  Loss:  0.291752  Accuracy:  0.6522\n",
      "Epoch 30, CIFAR-10 Batch 5:  Loss:  0.27843  Accuracy:  0.6346\n",
      "Epoch 31, CIFAR-10 Batch 1:  Loss:  0.250251  Accuracy:  0.6702\n",
      "Epoch 31, CIFAR-10 Batch 2:  Loss:  0.260647  Accuracy:  0.6758\n",
      "Epoch 31, CIFAR-10 Batch 3:  Loss:  0.250735  Accuracy:  0.6728\n",
      "Epoch 31, CIFAR-10 Batch 4:  Loss:  0.275419  Accuracy:  0.6494\n",
      "Epoch 31, CIFAR-10 Batch 5:  Loss:  0.260917  Accuracy:  0.641\n",
      "Epoch 32, CIFAR-10 Batch 1:  Loss:  0.23628  Accuracy:  0.6706\n",
      "Epoch 32, CIFAR-10 Batch 2:  Loss:  0.291621  Accuracy:  0.6674\n",
      "Epoch 32, CIFAR-10 Batch 3:  Loss:  0.250525  Accuracy:  0.671\n",
      "Epoch 32, CIFAR-10 Batch 4:  Loss:  0.252469  Accuracy:  0.6514\n",
      "Epoch 32, CIFAR-10 Batch 5:  Loss:  0.238678  Accuracy:  0.6524\n",
      "Epoch 33, CIFAR-10 Batch 1:  Loss:  0.219336  Accuracy:  0.6694\n",
      "Epoch 33, CIFAR-10 Batch 2:  Loss:  0.283197  Accuracy:  0.662\n",
      "Epoch 33, CIFAR-10 Batch 3:  Loss:  0.246734  Accuracy:  0.667\n",
      "Epoch 33, CIFAR-10 Batch 4:  Loss:  0.241537  Accuracy:  0.6588\n",
      "Epoch 33, CIFAR-10 Batch 5:  Loss:  0.218884  Accuracy:  0.6564\n",
      "Epoch 34, CIFAR-10 Batch 1:  Loss:  0.206948  Accuracy:  0.666\n",
      "Epoch 34, CIFAR-10 Batch 2:  Loss:  0.264278  Accuracy:  0.6672\n",
      "Epoch 34, CIFAR-10 Batch 3:  Loss:  0.248416  Accuracy:  0.6634\n",
      "Epoch 34, CIFAR-10 Batch 4:  Loss:  0.247999  Accuracy:  0.6516\n",
      "Epoch 34, CIFAR-10 Batch 5:  Loss:  0.199471  Accuracy:  0.6676\n",
      "Epoch 35, CIFAR-10 Batch 1:  Loss:  0.208879  Accuracy:  0.6582\n",
      "Epoch 35, CIFAR-10 Batch 2:  Loss:  0.256762  Accuracy:  0.6664\n",
      "Epoch 35, CIFAR-10 Batch 3:  Loss:  0.238484  Accuracy:  0.659\n",
      "Epoch 35, CIFAR-10 Batch 4:  Loss:  0.252585  Accuracy:  0.6474\n",
      "Epoch 35, CIFAR-10 Batch 5:  Loss:  0.18683  Accuracy:  0.667\n",
      "Epoch 36, CIFAR-10 Batch 1:  Loss:  0.217578  Accuracy:  0.649\n",
      "Epoch 36, CIFAR-10 Batch 2:  Loss:  0.254082  Accuracy:  0.6606\n",
      "Epoch 36, CIFAR-10 Batch 3:  Loss:  0.241  Accuracy:  0.6624\n",
      "Epoch 36, CIFAR-10 Batch 4:  Loss:  0.257389  Accuracy:  0.6408\n",
      "Epoch 36, CIFAR-10 Batch 5:  Loss:  0.187557  Accuracy:  0.6588\n",
      "Epoch 37, CIFAR-10 Batch 1:  Loss:  0.229664  Accuracy:  0.6522\n",
      "Epoch 37, CIFAR-10 Batch 2:  Loss:  0.274093  Accuracy:  0.6544\n",
      "Epoch 37, CIFAR-10 Batch 3:  Loss:  0.218717  Accuracy:  0.6486\n",
      "Epoch 37, CIFAR-10 Batch 4:  Loss:  0.217996  Accuracy:  0.6532\n",
      "Epoch 37, CIFAR-10 Batch 5:  Loss:  0.237101  Accuracy:  0.6462\n",
      "Epoch 38, CIFAR-10 Batch 1:  Loss:  0.223471  Accuracy:  0.6632\n",
      "Epoch 38, CIFAR-10 Batch 2:  Loss:  0.280169  Accuracy:  0.658\n",
      "Epoch 38, CIFAR-10 Batch 3:  Loss:  0.218493  Accuracy:  0.6338\n",
      "Epoch 38, CIFAR-10 Batch 4:  Loss:  0.203407  Accuracy:  0.6596\n",
      "Epoch 38, CIFAR-10 Batch 5:  Loss:  0.256334  Accuracy:  0.6384\n",
      "Epoch 39, CIFAR-10 Batch 1:  Loss:  0.208142  Accuracy:  0.653\n",
      "Epoch 39, CIFAR-10 Batch 2:  Loss:  0.257355  Accuracy:  0.652\n",
      "Epoch 39, CIFAR-10 Batch 3:  Loss:  0.18351  Accuracy:  0.646\n",
      "Epoch 39, CIFAR-10 Batch 4:  Loss:  0.219003  Accuracy:  0.6562\n",
      "Epoch 39, CIFAR-10 Batch 5:  Loss:  0.179377  Accuracy:  0.6606\n",
      "Epoch 40, CIFAR-10 Batch 1:  Loss:  0.212536  Accuracy:  0.647\n",
      "Epoch 40, CIFAR-10 Batch 2:  Loss:  0.261309  Accuracy:  0.6456\n",
      "Epoch 40, CIFAR-10 Batch 3:  Loss:  0.165459  Accuracy:  0.6604\n",
      "Epoch 40, CIFAR-10 Batch 4:  Loss:  0.21688  Accuracy:  0.6576\n",
      "Epoch 40, CIFAR-10 Batch 5:  Loss:  0.158178  Accuracy:  0.6658\n",
      "Epoch 41, CIFAR-10 Batch 1:  Loss:  0.193419  Accuracy:  0.6474\n",
      "Epoch 41, CIFAR-10 Batch 2:  Loss:  0.230436  Accuracy:  0.6472\n",
      "Epoch 41, CIFAR-10 Batch 3:  Loss:  0.155994  Accuracy:  0.665\n",
      "Epoch 41, CIFAR-10 Batch 4:  Loss:  0.201807  Accuracy:  0.66\n",
      "Epoch 41, CIFAR-10 Batch 5:  Loss:  0.145554  Accuracy:  0.668\n",
      "Epoch 42, CIFAR-10 Batch 1:  Loss:  0.180527  Accuracy:  0.649\n",
      "Epoch 42, CIFAR-10 Batch 2:  Loss:  0.201292  Accuracy:  0.6494\n",
      "Epoch 42, CIFAR-10 Batch 3:  Loss:  0.149843  Accuracy:  0.658\n",
      "Epoch 42, CIFAR-10 Batch 4:  Loss:  0.186842  Accuracy:  0.6672\n",
      "Epoch 42, CIFAR-10 Batch 5:  Loss:  0.135207  Accuracy:  0.6684\n",
      "Epoch 43, CIFAR-10 Batch 1:  Loss:  0.161928  Accuracy:  0.6484\n",
      "Epoch 43, CIFAR-10 Batch 2:  Loss:  0.186525  Accuracy:  0.653\n",
      "Epoch 43, CIFAR-10 Batch 3:  Loss:  0.136534  Accuracy:  0.6518\n",
      "Epoch 43, CIFAR-10 Batch 4:  Loss:  0.177768  Accuracy:  0.6664\n",
      "Epoch 43, CIFAR-10 Batch 5:  Loss:  0.136391  Accuracy:  0.6642\n",
      "Epoch 44, CIFAR-10 Batch 1:  Loss:  0.1534  Accuracy:  0.6478\n",
      "Epoch 44, CIFAR-10 Batch 2:  Loss:  0.173427  Accuracy:  0.6514\n",
      "Epoch 44, CIFAR-10 Batch 3:  Loss:  0.128728  Accuracy:  0.6528\n",
      "Epoch 44, CIFAR-10 Batch 4:  Loss:  0.164813  Accuracy:  0.6624\n",
      "Epoch 44, CIFAR-10 Batch 5:  Loss:  0.135002  Accuracy:  0.6544\n",
      "Epoch 45, CIFAR-10 Batch 1:  Loss:  0.154345  Accuracy:  0.6474\n",
      "Epoch 45, CIFAR-10 Batch 2:  Loss:  0.175138  Accuracy:  0.6538\n",
      "Epoch 45, CIFAR-10 Batch 3:  Loss:  0.122409  Accuracy:  0.6566\n",
      "Epoch 45, CIFAR-10 Batch 4:  Loss:  0.155409  Accuracy:  0.655\n",
      "Epoch 45, CIFAR-10 Batch 5:  Loss:  0.138979  Accuracy:  0.651\n",
      "Epoch 46, CIFAR-10 Batch 1:  Loss:  0.151579  Accuracy:  0.6456\n",
      "Epoch 46, CIFAR-10 Batch 2:  Loss:  0.185941  Accuracy:  0.6492\n",
      "Epoch 46, CIFAR-10 Batch 3:  Loss:  0.117628  Accuracy:  0.6572\n",
      "Epoch 46, CIFAR-10 Batch 4:  Loss:  0.154223  Accuracy:  0.6518\n",
      "Epoch 46, CIFAR-10 Batch 5:  Loss:  0.125802  Accuracy:  0.6518\n",
      "Epoch 47, CIFAR-10 Batch 1:  Loss:  0.155817  Accuracy:  0.6498\n",
      "Epoch 47, CIFAR-10 Batch 2:  Loss:  0.162832  Accuracy:  0.646\n",
      "Epoch 47, CIFAR-10 Batch 3:  Loss:  0.112739  Accuracy:  0.6558\n",
      "Epoch 47, CIFAR-10 Batch 4:  Loss:  0.165387  Accuracy:  0.6534\n",
      "Epoch 47, CIFAR-10 Batch 5:  Loss:  0.121051  Accuracy:  0.6594\n",
      "Epoch 48, CIFAR-10 Batch 1:  Loss:  0.139886  Accuracy:  0.6558\n",
      "Epoch 48, CIFAR-10 Batch 2:  Loss:  0.176105  Accuracy:  0.6478\n",
      "Epoch 48, CIFAR-10 Batch 3:  Loss:  0.114005  Accuracy:  0.6554\n",
      "Epoch 48, CIFAR-10 Batch 4:  Loss:  0.21757  Accuracy:  0.643\n",
      "Epoch 48, CIFAR-10 Batch 5:  Loss:  0.1147  Accuracy:  0.6548\n",
      "Epoch 49, CIFAR-10 Batch 1:  Loss:  0.125768  Accuracy:  0.6582\n",
      "Epoch 49, CIFAR-10 Batch 2:  Loss:  0.187352  Accuracy:  0.6476\n",
      "Epoch 49, CIFAR-10 Batch 3:  Loss:  0.107058  Accuracy:  0.653\n",
      "Epoch 49, CIFAR-10 Batch 4:  Loss:  0.186554  Accuracy:  0.6458\n",
      "Epoch 49, CIFAR-10 Batch 5:  Loss:  0.1259  Accuracy:  0.6526\n",
      "Epoch 50, CIFAR-10 Batch 1:  Loss:  0.147568  Accuracy:  0.6478\n",
      "Epoch 50, CIFAR-10 Batch 2:  Loss:  0.196401  Accuracy:  0.6398\n",
      "Epoch 50, CIFAR-10 Batch 3:  Loss:  0.114433  Accuracy:  0.6518\n",
      "Epoch 50, CIFAR-10 Batch 4:  Loss:  0.157325  Accuracy:  0.6402\n",
      "Epoch 50, CIFAR-10 Batch 5:  Loss:  0.116483  Accuracy:  0.6462\n"
     ]
    }
   ],
   "source": [
    "\"\"\"\n",
    "DON'T MODIFY ANYTHING IN THIS CELL\n",
    "\"\"\"\n",
    "save_model_path = './image_classification'\n",
    "\n",
    "print('Training...')\n",
    "with tf.Session() as sess:\n",
    "    # Initializing the variables\n",
    "    sess.run(tf.global_variables_initializer())\n",
    "    \n",
    "    # Training cycle\n",
    "    for epoch in range(epochs):\n",
    "        # Loop over all batches\n",
    "        n_batches = 5\n",
    "        for batch_i in range(1, n_batches + 1):\n",
    "            for batch_features, batch_labels in helper.load_preprocess_training_batch(batch_i, batch_size):\n",
    "                train_neural_network(sess, optimizer, keep_probability, batch_features, batch_labels)\n",
    "            print('Epoch {:>2}, CIFAR-10 Batch {}:  '.format(epoch + 1, batch_i), end='')\n",
    "            print_stats(sess, batch_features, batch_labels, cost, accuracy)\n",
    "            \n",
    "    # Save Model\n",
    "    saver = tf.train.Saver()\n",
    "    save_path = saver.save(sess, save_model_path)"
   ]
  },
  {
   "cell_type": "markdown",
   "metadata": {},
   "source": [
    "# Checkpoint\n",
    "The model has been saved to disk.\n",
    "## Test Model\n",
    "Test your model against the test dataset.  This will be your final accuracy. You should have an accuracy greater than 50%. If you don't, keep tweaking the model architecture and parameters."
   ]
  },
  {
   "cell_type": "code",
   "execution_count": 35,
   "metadata": {
    "collapsed": false
   },
   "outputs": [
    {
     "name": "stdout",
     "output_type": "stream",
     "text": [
      "INFO:tensorflow:Restoring parameters from ./image_classification\n",
      "Testing Accuracy: 0.637559335443038\n",
      "\n"
     ]
    },
    {
     "data": {
      "image/png": "[encoded data removed]",
      "text/plain": [
       "<matplotlib.figure.Figure at 0x12d6c8240>"
      ]
     },
     "metadata": {
      "image/png": {
       "height": 319,
       "width": 355
      }
     },
     "output_type": "display_data"
    }
   ],
   "source": [
    "\"\"\"\n",
    "DON'T MODIFY ANYTHING IN THIS CELL\n",
    "\"\"\"\n",
    "%matplotlib inline\n",
    "%config InlineBackend.figure_format = 'retina'\n",
    "\n",
    "import tensorflow as tf\n",
    "import pickle\n",
    "import helper\n",
    "import random\n",
    "\n",
    "# Set batch size if not already set\n",
    "try:\n",
    "    if batch_size:\n",
    "        pass\n",
    "except NameError:\n",
    "    batch_size = 64\n",
    "\n",
    "save_model_path = './image_classification'\n",
    "n_samples = 4\n",
    "top_n_predictions = 3\n",
    "\n",
    "def test_model():\n",
    "    \"\"\"\n",
    "    Test the saved model against the test dataset\n",
    "    \"\"\"\n",
    "\n",
    "    test_features, test_labels = pickle.load(open('preprocess_training.p', mode='rb'))\n",
    "    loaded_graph = tf.Graph()\n",
    "\n",
    "    with tf.Session(graph=loaded_graph) as sess:\n",
    "        # Load model\n",
    "        loader = tf.train.import_meta_graph(save_model_path + '.meta')\n",
    "        loader.restore(sess, save_model_path)\n",
    "\n",
    "        # Get Tensors from loaded model\n",
    "        loaded_x = loaded_graph.get_tensor_by_name('x:0')\n",
    "        loaded_y = loaded_graph.get_tensor_by_name('y:0')\n",
    "        loaded_keep_prob = loaded_graph.get_tensor_by_name('keep_prob:0')\n",
    "        loaded_logits = loaded_graph.get_tensor_by_name('logits:0')\n",
    "        loaded_acc = loaded_graph.get_tensor_by_name('accuracy:0')\n",
    "        \n",
    "        # Get accuracy in batches for memory limitations\n",
    "        test_batch_acc_total = 0\n",
    "        test_batch_count = 0\n",
    "        \n",
    "        for train_feature_batch, train_label_batch in helper.batch_features_labels(test_features, test_labels, batch_size):\n",
    "            test_batch_acc_total += sess.run(\n",
    "                loaded_acc,\n",
    "                feed_dict={loaded_x: train_feature_batch, loaded_y: train_label_batch, loaded_keep_prob: 1.0})\n",
    "            test_batch_count += 1\n",
    "\n",
    "        print('Testing Accuracy: {}\\n'.format(test_batch_acc_total/test_batch_count))\n",
    "\n",
    "        # Print Random Samples\n",
    "        random_test_features, random_test_labels = tuple(zip(*random.sample(list(zip(test_features, test_labels)), n_samples)))\n",
    "        random_test_predictions = sess.run(\n",
    "            tf.nn.top_k(tf.nn.softmax(loaded_logits), top_n_predictions),\n",
    "            feed_dict={loaded_x: random_test_features, loaded_y: random_test_labels, loaded_keep_prob: 1.0})\n",
    "        helper.display_image_predictions(random_test_features, random_test_labels, random_test_predictions)\n",
    "\n",
    "\n",
    "test_model()"
   ]
  },
  {
   "cell_type": "markdown",
   "metadata": {},
   "source": [
    "## Why 50-80% Accuracy?\n",
    "You might be wondering why you can't get an accuracy any higher. First things first, 50% isn't bad for a simple CNN.  Pure guessing would get you 10% accuracy. That's because there are many more techniques that can be applied to your model and we recemmond that once you are done with this project, you explore!\n",
    "\n",
    "## Submitting This Project\n",
    "When submitting this project, make sure to run all the cells before saving the notebook.  Save the notebook file as \"image_classification.ipynb\" and save it as a HTML file under \"File\" -> \"Download as\".  Include the \"helper.py\" and \"problem_unittests.py\" files in your submission."
   ]
  },
  {
   "cell_type": "code",
   "execution_count": null,
   "metadata": {
    "collapsed": true
   },
   "outputs": [],
   "source": []
  }
 ],
 "metadata": {
  "anaconda-cloud": {},
  "kernelspec": {
   "display_name": "Python [conda env:py3]",
   "language": "python",
   "name": "conda-env-py3-py"
  },
  "language_info": {
   "codemirror_mode": {
    "name": "ipython",
    "version": 3
   },
   "file_extension": ".py",
   "mimetype": "text/x-python",
   "name": "python",
   "nbconvert_exporter": "python",
   "pygments_lexer": "ipython3",
   "version": "3.5.3"
  }
 },
 "nbformat": 4,
 "nbformat_minor": 1
}
