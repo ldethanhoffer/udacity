<!DOCTYPE html>
<html>
<head><meta charset="utf-8" />
<title>boston_housing</title>

<script src="https://cdnjs.cloudflare.com/ajax/libs/require.js/2.1.10/require.min.js"></script>
<script src="https://cdnjs.cloudflare.com/ajax/libs/jquery/2.0.3/jquery.min.js"></script>

<style type="text/css">
    /*!
*
* Twitter Bootstrap
*
*/
/*!
 * Bootstrap v3.3.6 (http://getbootstrap.com)
 * Copyright 2011-2015 Twitter, Inc.
 * Licensed under MIT (https://github.com/twbs/bootstrap/blob/master/LICENSE)
 */
/*! normalize.css v3.0.3 | MIT License | github.com/necolas/normalize.css */
html {
  font-family: sans-serif;
  -ms-text-size-adjust: 100%;
  -webkit-text-size-adjust: 100%;
}
body {
  margin: 0;
}
article,
aside,
details,
figcaption,
figure,
footer,
header,
hgroup,
main,
menu,
nav,
section,
summary {
  display: block;
}
audio,
canvas,
progress,
video {
  display: inline-block;
  vertical-align: baseline;
}
audio:not([controls]) {
  display: none;
  height: 0;
}
[hidden],
template {
  display: none;
}
a {
  background-color: transparent;
}
a:active,
a:hover {
  outline: 0;
}
abbr[title] {
  border-bottom: 1px dotted;
}
b,
strong {
  font-weight: bold;
}
dfn {
  font-style: italic;
}
h1 {
  font-size: 2em;
  margin: 0.67em 0;
}
mark {
  background: #ff0;
  color: #000;
}
small {
  font-size: 80%;
}
sub,
sup {
  font-size: 75%;
  line-height: 0;
  position: relative;
  vertical-align: baseline;
}
sup {
  top: -0.5em;
}
sub {
  bottom: -0.25em;
}
img {
  border: 0;
}
svg:not(:root) {
  overflow: hidden;
}
figure {
  margin: 1em 40px;
}
hr {
  box-sizing: content-box;
  height: 0;
}
pre {
  overflow: auto;
}
code,
kbd,
pre,
samp {
  font-family: monospace, monospace;
  font-size: 1em;
}
button,
input,
optgroup,
select,
textarea {
  color: inherit;
  font: inherit;
  margin: 0;
}
button {
  overflow: visible;
}
button,
select {
  text-transform: none;
}
button,
html input[type="button"],
input[type="reset"],
input[type="submit"] {
  -webkit-appearance: button;
  cursor: pointer;
}
button[disabled],
html input[disabled] {
  cursor: default;
}
button::-moz-focus-inner,
input::-moz-focus-inner {
  border: 0;
  padding: 0;
}
input {
  line-height: normal;
}
input[type="checkbox"],
input[type="radio"] {
  box-sizing: border-box;
  padding: 0;
}
input[type="number"]::-webkit-inner-spin-button,
input[type="number"]::-webkit-outer-spin-button {
  height: auto;
}
input[type="search"] {
  -webkit-appearance: textfield;
  box-sizing: content-box;
}
input[type="search"]::-webkit-search-cancel-button,
input[type="search"]::-webkit-search-decoration {
  -webkit-appearance: none;
}
fieldset {
  border: 1px solid #c0c0c0;
  margin: 0 2px;
  padding: 0.35em 0.625em 0.75em;
}
legend {
  border: 0;
  padding: 0;
}
textarea {
  overflow: auto;
}
optgroup {
  font-weight: bold;
}
table {
  border-collapse: collapse;
  border-spacing: 0;
}
td,
th {
  padding: 0;
}
/*! Source: https://github.com/h5bp/html5-boilerplate/blob/master/src/css/main.css */
@media print {
  *,
  *:before,
  *:after {
    background: transparent !important;
    color: #000 !important;
    box-shadow: none !important;
    text-shadow: none !important;
  }
  a,
  a:visited {
    text-decoration: underline;
  }
  a[href]:after {
    content: " (" attr(href) ")";
  }
  abbr[title]:after {
    content: " (" attr(title) ")";
  }
  a[href^="#"]:after,
  a[href^="javascript:"]:after {
    content: "";
  }
  pre,
  blockquote {
    border: 1px solid #999;
    page-break-inside: avoid;
  }
  thead {
    display: table-header-group;
  }
  tr,
  img {
    page-break-inside: avoid;
  }
  img {
    max-width: 100% !important;
  }
  p,
  h2,
  h3 {
    orphans: 3;
    widows: 3;
  }
  h2,
  h3 {
    page-break-after: avoid;
  }
  .navbar {
    display: none;
  }
  .btn > .caret,
  .dropup > .btn > .caret {
    border-top-color: #000 !important;
  }
  .label {
    border: 1px solid #000;
  }
  .table {
    border-collapse: collapse !important;
  }
  .table td,
  .table th {
    background-color: #fff !important;
  }
  .table-bordered th,
  .table-bordered td {
    border: 1px solid #ddd !important;
  }
}
@font-face {
  font-family: 'Glyphicons Halflings';
  src: url('../components/bootstrap/fonts/glyphicons-halflings-regular.eot');
  src: url('../components/bootstrap/fonts/glyphicons-halflings-regular.eot?#iefix') format('embedded-opentype'), url('../components/bootstrap/fonts/glyphicons-halflings-regular.woff2') format('woff2'), url('../components/bootstrap/fonts/glyphicons-halflings-regular.woff') format('woff'), url('../components/bootstrap/fonts/glyphicons-halflings-regular.ttf') format('truetype'), url('../components/bootstrap/fonts/glyphicons-halflings-regular.svg#glyphicons_halflingsregular') format('svg');
}
.glyphicon {
  position: relative;
  top: 1px;
  display: inline-block;
  font-family: 'Glyphicons Halflings';
  font-style: normal;
  font-weight: normal;
  line-height: 1;
  -webkit-font-smoothing: antialiased;
  -moz-osx-font-smoothing: grayscale;
}
.glyphicon-asterisk:before {
  content: "\002a";
}
.glyphicon-plus:before {
  content: "\002b";
}
.glyphicon-euro:before,
.glyphicon-eur:before {
  content: "\20ac";
}
.glyphicon-minus:before {
  content: "\2212";
}
.glyphicon-cloud:before {
  content: "\2601";
}
.glyphicon-envelope:before {
  content: "\2709";
}
.glyphicon-pencil:before {
  content: "\270f";
}
.glyphicon-glass:before {
  content: "\e001";
}
.glyphicon-music:before {
  content: "\e002";
}
.glyphicon-search:before {
  content: "\e003";
}
.glyphicon-heart:before {
  content: "\e005";
}
.glyphicon-star:before {
  content: "\e006";
}
.glyphicon-star-empty:before {
  content: "\e007";
}
.glyphicon-user:before {
  content: "\e008";
}
.glyphicon-film:before {
  content: "\e009";
}
.glyphicon-th-large:before {
  content: "\e010";
}
.glyphicon-th:before {
  content: "\e011";
}
.glyphicon-th-list:before {
  content: "\e012";
}
.glyphicon-ok:before {
  content: "\e013";
}
.glyphicon-remove:before {
  content: "\e014";
}
.glyphicon-zoom-in:before {
  content: "\e015";
}
.glyphicon-zoom-out:before {
  content: "\e016";
}
.glyphicon-off:before {
  content: "\e017";
}
.glyphicon-signal:before {
  content: "\e018";
}
.glyphicon-cog:before {
  content: "\e019";
}
.glyphicon-trash:before {
  content: "\e020";
}
.glyphicon-home:before {
  content: "\e021";
}
.glyphicon-file:before {
  content: "\e022";
}
.glyphicon-time:before {
  content: "\e023";
}
.glyphicon-road:before {
  content: "\e024";
}
.glyphicon-download-alt:before {
  content: "\e025";
}
.glyphicon-download:before {
  content: "\e026";
}
.glyphicon-upload:before {
  content: "\e027";
}
.glyphicon-inbox:before {
  content: "\e028";
}
.glyphicon-play-circle:before {
  content: "\e029";
}
.glyphicon-repeat:before {
  content: "\e030";
}
.glyphicon-refresh:before {
  content: "\e031";
}
.glyphicon-list-alt:before {
  content: "\e032";
}
.glyphicon-lock:before {
  content: "\e033";
}
.glyphicon-flag:before {
  content: "\e034";
}
.glyphicon-headphones:before {
  content: "\e035";
}
.glyphicon-volume-off:before {
  content: "\e036";
}
.glyphicon-volume-down:before {
  content: "\e037";
}
.glyphicon-volume-up:before {
  content: "\e038";
}
.glyphicon-qrcode:before {
  content: "\e039";
}
.glyphicon-barcode:before {
  content: "\e040";
}
.glyphicon-tag:before {
  content: "\e041";
}
.glyphicon-tags:before {
  content: "\e042";
}
.glyphicon-book:before {
  content: "\e043";
}
.glyphicon-bookmark:before {
  content: "\e044";
}
.glyphicon-print:before {
  content: "\e045";
}
.glyphicon-camera:before {
  content: "\e046";
}
.glyphicon-font:before {
  content: "\e047";
}
.glyphicon-bold:before {
  content: "\e048";
}
.glyphicon-italic:before {
  content: "\e049";
}
.glyphicon-text-height:before {
  content: "\e050";
}
.glyphicon-text-width:before {
  content: "\e051";
}
.glyphicon-align-left:before {
  content: "\e052";
}
.glyphicon-align-center:before {
  content: "\e053";
}
.glyphicon-align-right:before {
  content: "\e054";
}
.glyphicon-align-justify:before {
  content: "\e055";
}
.glyphicon-list:before {
  content: "\e056";
}
.glyphicon-indent-left:before {
  content: "\e057";
}
.glyphicon-indent-right:before {
  content: "\e058";
}
.glyphicon-facetime-video:before {
  content: "\e059";
}
.glyphicon-picture:before {
  content: "\e060";
}
.glyphicon-map-marker:before {
  content: "\e062";
}
.glyphicon-adjust:before {
  content: "\e063";
}
.glyphicon-tint:before {
  content: "\e064";
}
.glyphicon-edit:before {
  content: "\e065";
}
.glyphicon-share:before {
  content: "\e066";
}
.glyphicon-check:before {
  content: "\e067";
}
.glyphicon-move:before {
  content: "\e068";
}
.glyphicon-step-backward:before {
  content: "\e069";
}
.glyphicon-fast-backward:before {
  content: "\e070";
}
.glyphicon-backward:before {
  content: "\e071";
}
.glyphicon-play:before {
  content: "\e072";
}
.glyphicon-pause:before {
  content: "\e073";
}
.glyphicon-stop:before {
  content: "\e074";
}
.glyphicon-forward:before {
  content: "\e075";
}
.glyphicon-fast-forward:before {
  content: "\e076";
}
.glyphicon-step-forward:before {
  content: "\e077";
}
.glyphicon-eject:before {
  content: "\e078";
}
.glyphicon-chevron-left:before {
  content: "\e079";
}
.glyphicon-chevron-right:before {
  content: "\e080";
}
.glyphicon-plus-sign:before {
  content: "\e081";
}
.glyphicon-minus-sign:before {
  content: "\e082";
}
.glyphicon-remove-sign:before {
  content: "\e083";
}
.glyphicon-ok-sign:before {
  content: "\e084";
}
.glyphicon-question-sign:before {
  content: "\e085";
}
.glyphicon-info-sign:before {
  content: "\e086";
}
.glyphicon-screenshot:before {
  content: "\e087";
}
.glyphicon-remove-circle:before {
  content: "\e088";
}
.glyphicon-ok-circle:before {
  content: "\e089";
}
.glyphicon-ban-circle:before {
  content: "\e090";
}
.glyphicon-arrow-left:before {
  content: "\e091";
}
.glyphicon-arrow-right:before {
  content: "\e092";
}
.glyphicon-arrow-up:before {
  content: "\e093";
}
.glyphicon-arrow-down:before {
  content: "\e094";
}
.glyphicon-share-alt:before {
  content: "\e095";
}
.glyphicon-resize-full:before {
  content: "\e096";
}
.glyphicon-resize-small:before {
  content: "\e097";
}
.glyphicon-exclamation-sign:before {
  content: "\e101";
}
.glyphicon-gift:before {
  content: "\e102";
}
.glyphicon-leaf:before {
  content: "\e103";
}
.glyphicon-fire:before {
  content: "\e104";
}
.glyphicon-eye-open:before {
  content: "\e105";
}
.glyphicon-eye-close:before {
  content: "\e106";
}
.glyphicon-warning-sign:before {
  content: "\e107";
}
.glyphicon-plane:before {
  content: "\e108";
}
.glyphicon-calendar:before {
  content: "\e109";
}
.glyphicon-random:before {
  content: "\e110";
}
.glyphicon-comment:before {
  content: "\e111";
}
.glyphicon-magnet:before {
  content: "\e112";
}
.glyphicon-chevron-up:before {
  content: "\e113";
}
.glyphicon-chevron-down:before {
  content: "\e114";
}
.glyphicon-retweet:before {
  content: "\e115";
}
.glyphicon-shopping-cart:before {
  content: "\e116";
}
.glyphicon-folder-close:before {
  content: "\e117";
}
.glyphicon-folder-open:before {
  content: "\e118";
}
.glyphicon-resize-vertical:before {
  content: "\e119";
}
.glyphicon-resize-horizontal:before {
  content: "\e120";
}
.glyphicon-hdd:before {
  content: "\e121";
}
.glyphicon-bullhorn:before {
  content: "\e122";
}
.glyphicon-bell:before {
  content: "\e123";
}
.glyphicon-certificate:before {
  content: "\e124";
}
.glyphicon-thumbs-up:before {
  content: "\e125";
}
.glyphicon-thumbs-down:before {
  content: "\e126";
}
.glyphicon-hand-right:before {
  content: "\e127";
}
.glyphicon-hand-left:before {
  content: "\e128";
}
.glyphicon-hand-up:before {
  content: "\e129";
}
.glyphicon-hand-down:before {
  content: "\e130";
}
.glyphicon-circle-arrow-right:before {
  content: "\e131";
}
.glyphicon-circle-arrow-left:before {
  content: "\e132";
}
.glyphicon-circle-arrow-up:before {
  content: "\e133";
}
.glyphicon-circle-arrow-down:before {
  content: "\e134";
}
.glyphicon-globe:before {
  content: "\e135";
}
.glyphicon-wrench:before {
  content: "\e136";
}
.glyphicon-tasks:before {
  content: "\e137";
}
.glyphicon-filter:before {
  content: "\e138";
}
.glyphicon-briefcase:before {
  content: "\e139";
}
.glyphicon-fullscreen:before {
  content: "\e140";
}
.glyphicon-dashboard:before {
  content: "\e141";
}
.glyphicon-paperclip:before {
  content: "\e142";
}
.glyphicon-heart-empty:before {
  content: "\e143";
}
.glyphicon-link:before {
  content: "\e144";
}
.glyphicon-phone:before {
  content: "\e145";
}
.glyphicon-pushpin:before {
  content: "\e146";
}
.glyphicon-usd:before {
  content: "\e148";
}
.glyphicon-gbp:before {
  content: "\e149";
}
.glyphicon-sort:before {
  content: "\e150";
}
.glyphicon-sort-by-alphabet:before {
  content: "\e151";
}
.glyphicon-sort-by-alphabet-alt:before {
  content: "\e152";
}
.glyphicon-sort-by-order:before {
  content: "\e153";
}
.glyphicon-sort-by-order-alt:before {
  content: "\e154";
}
.glyphicon-sort-by-attributes:before {
  content: "\e155";
}
.glyphicon-sort-by-attributes-alt:before {
  content: "\e156";
}
.glyphicon-unchecked:before {
  content: "\e157";
}
.glyphicon-expand:before {
  content: "\e158";
}
.glyphicon-collapse-down:before {
  content: "\e159";
}
.glyphicon-collapse-up:before {
  content: "\e160";
}
.glyphicon-log-in:before {
  content: "\e161";
}
.glyphicon-flash:before {
  content: "\e162";
}
.glyphicon-log-out:before {
  content: "\e163";
}
.glyphicon-new-window:before {
  content: "\e164";
}
.glyphicon-record:before {
  content: "\e165";
}
.glyphicon-save:before {
  content: "\e166";
}
.glyphicon-open:before {
  content: "\e167";
}
.glyphicon-saved:before {
  content: "\e168";
}
.glyphicon-import:before {
  content: "\e169";
}
.glyphicon-export:before {
  content: "\e170";
}
.glyphicon-send:before {
  content: "\e171";
}
.glyphicon-floppy-disk:before {
  content: "\e172";
}
.glyphicon-floppy-saved:before {
  content: "\e173";
}
.glyphicon-floppy-remove:before {
  content: "\e174";
}
.glyphicon-floppy-save:before {
  content: "\e175";
}
.glyphicon-floppy-open:before {
  content: "\e176";
}
.glyphicon-credit-card:before {
  content: "\e177";
}
.glyphicon-transfer:before {
  content: "\e178";
}
.glyphicon-cutlery:before {
  content: "\e179";
}
.glyphicon-header:before {
  content: "\e180";
}
.glyphicon-compressed:before {
  content: "\e181";
}
.glyphicon-earphone:before {
  content: "\e182";
}
.glyphicon-phone-alt:before {
  content: "\e183";
}
.glyphicon-tower:before {
  content: "\e184";
}
.glyphicon-stats:before {
  content: "\e185";
}
.glyphicon-sd-video:before {
  content: "\e186";
}
.glyphicon-hd-video:before {
  content: "\e187";
}
.glyphicon-subtitles:before {
  content: "\e188";
}
.glyphicon-sound-stereo:before {
  content: "\e189";
}
.glyphicon-sound-dolby:before {
  content: "\e190";
}
.glyphicon-sound-5-1:before {
  content: "\e191";
}
.glyphicon-sound-6-1:before {
  content: "\e192";
}
.glyphicon-sound-7-1:before {
  content: "\e193";
}
.glyphicon-copyright-mark:before {
  content: "\e194";
}
.glyphicon-registration-mark:before {
  content: "\e195";
}
.glyphicon-cloud-download:before {
  content: "\e197";
}
.glyphicon-cloud-upload:before {
  content: "\e198";
}
.glyphicon-tree-conifer:before {
  content: "\e199";
}
.glyphicon-tree-deciduous:before {
  content: "\e200";
}
.glyphicon-cd:before {
  content: "\e201";
}
.glyphicon-save-file:before {
  content: "\e202";
}
.glyphicon-open-file:before {
  content: "\e203";
}
.glyphicon-level-up:before {
  content: "\e204";
}
.glyphicon-copy:before {
  content: "\e205";
}
.glyphicon-paste:before {
  content: "\e206";
}
.glyphicon-alert:before {
  content: "\e209";
}
.glyphicon-equalizer:before {
  content: "\e210";
}
.glyphicon-king:before {
  content: "\e211";
}
.glyphicon-queen:before {
  content: "\e212";
}
.glyphicon-pawn:before {
  content: "\e213";
}
.glyphicon-bishop:before {
  content: "\e214";
}
.glyphicon-knight:before {
  content: "\e215";
}
.glyphicon-baby-formula:before {
  content: "\e216";
}
.glyphicon-tent:before {
  content: "\26fa";
}
.glyphicon-blackboard:before {
  content: "\e218";
}
.glyphicon-bed:before {
  content: "\e219";
}
.glyphicon-apple:before {
  content: "\f8ff";
}
.glyphicon-erase:before {
  content: "\e221";
}
.glyphicon-hourglass:before {
  content: "\231b";
}
.glyphicon-lamp:before {
  content: "\e223";
}
.glyphicon-duplicate:before {
  content: "\e224";
}
.glyphicon-piggy-bank:before {
  content: "\e225";
}
.glyphicon-scissors:before {
  content: "\e226";
}
.glyphicon-bitcoin:before {
  content: "\e227";
}
.glyphicon-btc:before {
  content: "\e227";
}
.glyphicon-xbt:before {
  content: "\e227";
}
.glyphicon-yen:before {
  content: "\00a5";
}
.glyphicon-jpy:before {
  content: "\00a5";
}
.glyphicon-ruble:before {
  content: "\20bd";
}
.glyphicon-rub:before {
  content: "\20bd";
}
.glyphicon-scale:before {
  content: "\e230";
}
.glyphicon-ice-lolly:before {
  content: "\e231";
}
.glyphicon-ice-lolly-tasted:before {
  content: "\e232";
}
.glyphicon-education:before {
  content: "\e233";
}
.glyphicon-option-horizontal:before {
  content: "\e234";
}
.glyphicon-option-vertical:before {
  content: "\e235";
}
.glyphicon-menu-hamburger:before {
  content: "\e236";
}
.glyphicon-modal-window:before {
  content: "\e237";
}
.glyphicon-oil:before {
  content: "\e238";
}
.glyphicon-grain:before {
  content: "\e239";
}
.glyphicon-sunglasses:before {
  content: "\e240";
}
.glyphicon-text-size:before {
  content: "\e241";
}
.glyphicon-text-color:before {
  content: "\e242";
}
.glyphicon-text-background:before {
  content: "\e243";
}
.glyphicon-object-align-top:before {
  content: "\e244";
}
.glyphicon-object-align-bottom:before {
  content: "\e245";
}
.glyphicon-object-align-horizontal:before {
  content: "\e246";
}
.glyphicon-object-align-left:before {
  content: "\e247";
}
.glyphicon-object-align-vertical:before {
  content: "\e248";
}
.glyphicon-object-align-right:before {
  content: "\e249";
}
.glyphicon-triangle-right:before {
  content: "\e250";
}
.glyphicon-triangle-left:before {
  content: "\e251";
}
.glyphicon-triangle-bottom:before {
  content: "\e252";
}
.glyphicon-triangle-top:before {
  content: "\e253";
}
.glyphicon-console:before {
  content: "\e254";
}
.glyphicon-superscript:before {
  content: "\e255";
}
.glyphicon-subscript:before {
  content: "\e256";
}
.glyphicon-menu-left:before {
  content: "\e257";
}
.glyphicon-menu-right:before {
  content: "\e258";
}
.glyphicon-menu-down:before {
  content: "\e259";
}
.glyphicon-menu-up:before {
  content: "\e260";
}
* {
  -webkit-box-sizing: border-box;
  -moz-box-sizing: border-box;
  box-sizing: border-box;
}
*:before,
*:after {
  -webkit-box-sizing: border-box;
  -moz-box-sizing: border-box;
  box-sizing: border-box;
}
html {
  font-size: 10px;
  -webkit-tap-highlight-color: rgba(0, 0, 0, 0);
}
body {
  font-family: "Helvetica Neue", Helvetica, Arial, sans-serif;
  font-size: 13px;
  line-height: 1.42857143;
  color: #000;
  background-color: #fff;
}
input,
button,
select,
textarea {
  font-family: inherit;
  font-size: inherit;
  line-height: inherit;
}
a {
  color: #337ab7;
  text-decoration: none;
}
a:hover,
a:focus {
  color: #23527c;
  text-decoration: underline;
}
a:focus {
  outline: thin dotted;
  outline: 5px auto -webkit-focus-ring-color;
  outline-offset: -2px;
}
figure {
  margin: 0;
}
img {
  vertical-align: middle;
}
.img-responsive,
.thumbnail > img,
.thumbnail a > img,
.carousel-inner > .item > img,
.carousel-inner > .item > a > img {
  display: block;
  max-width: 100%;
  height: auto;
}
.img-rounded {
  border-radius: 3px;
}
.img-thumbnail {
  padding: 4px;
  line-height: 1.42857143;
  background-color: #fff;
  border: 1px solid #ddd;
  border-radius: 2px;
  -webkit-transition: all 0.2s ease-in-out;
  -o-transition: all 0.2s ease-in-out;
  transition: all 0.2s ease-in-out;
  display: inline-block;
  max-width: 100%;
  height: auto;
}
.img-circle {
  border-radius: 50%;
}
hr {
  margin-top: 18px;
  margin-bottom: 18px;
  border: 0;
  border-top: 1px solid #eeeeee;
}
.sr-only {
  position: absolute;
  width: 1px;
  height: 1px;
  margin: -1px;
  padding: 0;
  overflow: hidden;
  clip: rect(0, 0, 0, 0);
  border: 0;
}
.sr-only-focusable:active,
.sr-only-focusable:focus {
  position: static;
  width: auto;
  height: auto;
  margin: 0;
  overflow: visible;
  clip: auto;
}
[role="button"] {
  cursor: pointer;
}
h1,
h2,
h3,
h4,
h5,
h6,
.h1,
.h2,
.h3,
.h4,
.h5,
.h6 {
  font-family: inherit;
  font-weight: 500;
  line-height: 1.1;
  color: inherit;
}
h1 small,
h2 small,
h3 small,
h4 small,
h5 small,
h6 small,
.h1 small,
.h2 small,
.h3 small,
.h4 small,
.h5 small,
.h6 small,
h1 .small,
h2 .small,
h3 .small,
h4 .small,
h5 .small,
h6 .small,
.h1 .small,
.h2 .small,
.h3 .small,
.h4 .small,
.h5 .small,
.h6 .small {
  font-weight: normal;
  line-height: 1;
  color: #777777;
}
h1,
.h1,
h2,
.h2,
h3,
.h3 {
  margin-top: 18px;
  margin-bottom: 9px;
}
h1 small,
.h1 small,
h2 small,
.h2 small,
h3 small,
.h3 small,
h1 .small,
.h1 .small,
h2 .small,
.h2 .small,
h3 .small,
.h3 .small {
  font-size: 65%;
}
h4,
.h4,
h5,
.h5,
h6,
.h6 {
  margin-top: 9px;
  margin-bottom: 9px;
}
h4 small,
.h4 small,
h5 small,
.h5 small,
h6 small,
.h6 small,
h4 .small,
.h4 .small,
h5 .small,
.h5 .small,
h6 .small,
.h6 .small {
  font-size: 75%;
}
h1,
.h1 {
  font-size: 33px;
}
h2,
.h2 {
  font-size: 27px;
}
h3,
.h3 {
  font-size: 23px;
}
h4,
.h4 {
  font-size: 17px;
}
h5,
.h5 {
  font-size: 13px;
}
h6,
.h6 {
  font-size: 12px;
}
p {
  margin: 0 0 9px;
}
.lead {
  margin-bottom: 18px;
  font-size: 14px;
  font-weight: 300;
  line-height: 1.4;
}
@media (min-width: 768px) {
  .lead {
    font-size: 19.5px;
  }
}
small,
.small {
  font-size: 92%;
}
mark,
.mark {
  background-color: #fcf8e3;
  padding: .2em;
}
.text-left {
  text-align: left;
}
.text-right {
  text-align: right;
}
.text-center {
  text-align: center;
}
.text-justify {
  text-align: justify;
}
.text-nowrap {
  white-space: nowrap;
}
.text-lowercase {
  text-transform: lowercase;
}
.text-uppercase {
  text-transform: uppercase;
}
.text-capitalize {
  text-transform: capitalize;
}
.text-muted {
  color: #777777;
}
.text-primary {
  color: #337ab7;
}
a.text-primary:hover,
a.text-primary:focus {
  color: #286090;
}
.text-success {
  color: #3c763d;
}
a.text-success:hover,
a.text-success:focus {
  color: #2b542c;
}
.text-info {
  color: #31708f;
}
a.text-info:hover,
a.text-info:focus {
  color: #245269;
}
.text-warning {
  color: #8a6d3b;
}
a.text-warning:hover,
a.text-warning:focus {
  color: #66512c;
}
.text-danger {
  color: #a94442;
}
a.text-danger:hover,
a.text-danger:focus {
  color: #843534;
}
.bg-primary {
  color: #fff;
  background-color: #337ab7;
}
a.bg-primary:hover,
a.bg-primary:focus {
  background-color: #286090;
}
.bg-success {
  background-color: #dff0d8;
}
a.bg-success:hover,
a.bg-success:focus {
  background-color: #c1e2b3;
}
.bg-info {
  background-color: #d9edf7;
}
a.bg-info:hover,
a.bg-info:focus {
  background-color: #afd9ee;
}
.bg-warning {
  background-color: #fcf8e3;
}
a.bg-warning:hover,
a.bg-warning:focus {
  background-color: #f7ecb5;
}
.bg-danger {
  background-color: #f2dede;
}
a.bg-danger:hover,
a.bg-danger:focus {
  background-color: #e4b9b9;
}
.page-header {
  padding-bottom: 8px;
  margin: 36px 0 18px;
  border-bottom: 1px solid #eeeeee;
}
ul,
ol {
  margin-top: 0;
  margin-bottom: 9px;
}
ul ul,
ol ul,
ul ol,
ol ol {
  margin-bottom: 0;
}
.list-unstyled {
  padding-left: 0;
  list-style: none;
}
.list-inline {
  padding-left: 0;
  list-style: none;
  margin-left: -5px;
}
.list-inline > li {
  display: inline-block;
  padding-left: 5px;
  padding-right: 5px;
}
dl {
  margin-top: 0;
  margin-bottom: 18px;
}
dt,
dd {
  line-height: 1.42857143;
}
dt {
  font-weight: bold;
}
dd {
  margin-left: 0;
}
@media (min-width: 541px) {
  .dl-horizontal dt {
    float: left;
    width: 160px;
    clear: left;
    text-align: right;
    overflow: hidden;
    text-overflow: ellipsis;
    white-space: nowrap;
  }
  .dl-horizontal dd {
    margin-left: 180px;
  }
}
abbr[title],
abbr[data-original-title] {
  cursor: help;
  border-bottom: 1px dotted #777777;
}
.initialism {
  font-size: 90%;
  text-transform: uppercase;
}
blockquote {
  padding: 9px 18px;
  margin: 0 0 18px;
  font-size: inherit;
  border-left: 5px solid #eeeeee;
}
blockquote p:last-child,
blockquote ul:last-child,
blockquote ol:last-child {
  margin-bottom: 0;
}
blockquote footer,
blockquote small,
blockquote .small {
  display: block;
  font-size: 80%;
  line-height: 1.42857143;
  color: #777777;
}
blockquote footer:before,
blockquote small:before,
blockquote .small:before {
  content: '\2014 \00A0';
}
.blockquote-reverse,
blockquote.pull-right {
  padding-right: 15px;
  padding-left: 0;
  border-right: 5px solid #eeeeee;
  border-left: 0;
  text-align: right;
}
.blockquote-reverse footer:before,
blockquote.pull-right footer:before,
.blockquote-reverse small:before,
blockquote.pull-right small:before,
.blockquote-reverse .small:before,
blockquote.pull-right .small:before {
  content: '';
}
.blockquote-reverse footer:after,
blockquote.pull-right footer:after,
.blockquote-reverse small:after,
blockquote.pull-right small:after,
.blockquote-reverse .small:after,
blockquote.pull-right .small:after {
  content: '\00A0 \2014';
}
address {
  margin-bottom: 18px;
  font-style: normal;
  line-height: 1.42857143;
}
code,
kbd,
pre,
samp {
  font-family: monospace;
}
code {
  padding: 2px 4px;
  font-size: 90%;
  color: #c7254e;
  background-color: #f9f2f4;
  border-radius: 2px;
}
kbd {
  padding: 2px 4px;
  font-size: 90%;
  color: #888;
  background-color: transparent;
  border-radius: 1px;
  box-shadow: inset 0 -1px 0 rgba(0, 0, 0, 0.25);
}
kbd kbd {
  padding: 0;
  font-size: 100%;
  font-weight: bold;
  box-shadow: none;
}
pre {
  display: block;
  padding: 8.5px;
  margin: 0 0 9px;
  font-size: 12px;
  line-height: 1.42857143;
  word-break: break-all;
  word-wrap: break-word;
  color: #333333;
  background-color: #f5f5f5;
  border: 1px solid #ccc;
  border-radius: 2px;
}
pre code {
  padding: 0;
  font-size: inherit;
  color: inherit;
  white-space: pre-wrap;
  background-color: transparent;
  border-radius: 0;
}
.pre-scrollable {
  max-height: 340px;
  overflow-y: scroll;
}
.container {
  margin-right: auto;
  margin-left: auto;
  padding-left: 0px;
  padding-right: 0px;
}
@media (min-width: 768px) {
  .container {
    width: 768px;
  }
}
@media (min-width: 992px) {
  .container {
    width: 940px;
  }
}
@media (min-width: 1200px) {
  .container {
    width: 1140px;
  }
}
.container-fluid {
  margin-right: auto;
  margin-left: auto;
  padding-left: 0px;
  padding-right: 0px;
}
.row {
  margin-left: 0px;
  margin-right: 0px;
}
.col-xs-1, .col-sm-1, .col-md-1, .col-lg-1, .col-xs-2, .col-sm-2, .col-md-2, .col-lg-2, .col-xs-3, .col-sm-3, .col-md-3, .col-lg-3, .col-xs-4, .col-sm-4, .col-md-4, .col-lg-4, .col-xs-5, .col-sm-5, .col-md-5, .col-lg-5, .col-xs-6, .col-sm-6, .col-md-6, .col-lg-6, .col-xs-7, .col-sm-7, .col-md-7, .col-lg-7, .col-xs-8, .col-sm-8, .col-md-8, .col-lg-8, .col-xs-9, .col-sm-9, .col-md-9, .col-lg-9, .col-xs-10, .col-sm-10, .col-md-10, .col-lg-10, .col-xs-11, .col-sm-11, .col-md-11, .col-lg-11, .col-xs-12, .col-sm-12, .col-md-12, .col-lg-12 {
  position: relative;
  min-height: 1px;
  padding-left: 0px;
  padding-right: 0px;
}
.col-xs-1, .col-xs-2, .col-xs-3, .col-xs-4, .col-xs-5, .col-xs-6, .col-xs-7, .col-xs-8, .col-xs-9, .col-xs-10, .col-xs-11, .col-xs-12 {
  float: left;
}
.col-xs-12 {
  width: 100%;
}
.col-xs-11 {
  width: 91.66666667%;
}
.col-xs-10 {
  width: 83.33333333%;
}
.col-xs-9 {
  width: 75%;
}
.col-xs-8 {
  width: 66.66666667%;
}
.col-xs-7 {
  width: 58.33333333%;
}
.col-xs-6 {
  width: 50%;
}
.col-xs-5 {
  width: 41.66666667%;
}
.col-xs-4 {
  width: 33.33333333%;
}
.col-xs-3 {
  width: 25%;
}
.col-xs-2 {
  width: 16.66666667%;
}
.col-xs-1 {
  width: 8.33333333%;
}
.col-xs-pull-12 {
  right: 100%;
}
.col-xs-pull-11 {
  right: 91.66666667%;
}
.col-xs-pull-10 {
  right: 83.33333333%;
}
.col-xs-pull-9 {
  right: 75%;
}
.col-xs-pull-8 {
  right: 66.66666667%;
}
.col-xs-pull-7 {
  right: 58.33333333%;
}
.col-xs-pull-6 {
  right: 50%;
}
.col-xs-pull-5 {
  right: 41.66666667%;
}
.col-xs-pull-4 {
  right: 33.33333333%;
}
.col-xs-pull-3 {
  right: 25%;
}
.col-xs-pull-2 {
  right: 16.66666667%;
}
.col-xs-pull-1 {
  right: 8.33333333%;
}
.col-xs-pull-0 {
  right: auto;
}
.col-xs-push-12 {
  left: 100%;
}
.col-xs-push-11 {
  left: 91.66666667%;
}
.col-xs-push-10 {
  left: 83.33333333%;
}
.col-xs-push-9 {
  left: 75%;
}
.col-xs-push-8 {
  left: 66.66666667%;
}
.col-xs-push-7 {
  left: 58.33333333%;
}
.col-xs-push-6 {
  left: 50%;
}
.col-xs-push-5 {
  left: 41.66666667%;
}
.col-xs-push-4 {
  left: 33.33333333%;
}
.col-xs-push-3 {
  left: 25%;
}
.col-xs-push-2 {
  left: 16.66666667%;
}
.col-xs-push-1 {
  left: 8.33333333%;
}
.col-xs-push-0 {
  left: auto;
}
.col-xs-offset-12 {
  margin-left: 100%;
}
.col-xs-offset-11 {
  margin-left: 91.66666667%;
}
.col-xs-offset-10 {
  margin-left: 83.33333333%;
}
.col-xs-offset-9 {
  margin-left: 75%;
}
.col-xs-offset-8 {
  margin-left: 66.66666667%;
}
.col-xs-offset-7 {
  margin-left: 58.33333333%;
}
.col-xs-offset-6 {
  margin-left: 50%;
}
.col-xs-offset-5 {
  margin-left: 41.66666667%;
}
.col-xs-offset-4 {
  margin-left: 33.33333333%;
}
.col-xs-offset-3 {
  margin-left: 25%;
}
.col-xs-offset-2 {
  margin-left: 16.66666667%;
}
.col-xs-offset-1 {
  margin-left: 8.33333333%;
}
.col-xs-offset-0 {
  margin-left: 0%;
}
@media (min-width: 768px) {
  .col-sm-1, .col-sm-2, .col-sm-3, .col-sm-4, .col-sm-5, .col-sm-6, .col-sm-7, .col-sm-8, .col-sm-9, .col-sm-10, .col-sm-11, .col-sm-12 {
    float: left;
  }
  .col-sm-12 {
    width: 100%;
  }
  .col-sm-11 {
    width: 91.66666667%;
  }
  .col-sm-10 {
    width: 83.33333333%;
  }
  .col-sm-9 {
    width: 75%;
  }
  .col-sm-8 {
    width: 66.66666667%;
  }
  .col-sm-7 {
    width: 58.33333333%;
  }
  .col-sm-6 {
    width: 50%;
  }
  .col-sm-5 {
    width: 41.66666667%;
  }
  .col-sm-4 {
    width: 33.33333333%;
  }
  .col-sm-3 {
    width: 25%;
  }
  .col-sm-2 {
    width: 16.66666667%;
  }
  .col-sm-1 {
    width: 8.33333333%;
  }
  .col-sm-pull-12 {
    right: 100%;
  }
  .col-sm-pull-11 {
    right: 91.66666667%;
  }
  .col-sm-pull-10 {
    right: 83.33333333%;
  }
  .col-sm-pull-9 {
    right: 75%;
  }
  .col-sm-pull-8 {
    right: 66.66666667%;
  }
  .col-sm-pull-7 {
    right: 58.33333333%;
  }
  .col-sm-pull-6 {
    right: 50%;
  }
  .col-sm-pull-5 {
    right: 41.66666667%;
  }
  .col-sm-pull-4 {
    right: 33.33333333%;
  }
  .col-sm-pull-3 {
    right: 25%;
  }
  .col-sm-pull-2 {
    right: 16.66666667%;
  }
  .col-sm-pull-1 {
    right: 8.33333333%;
  }
  .col-sm-pull-0 {
    right: auto;
  }
  .col-sm-push-12 {
    left: 100%;
  }
  .col-sm-push-11 {
    left: 91.66666667%;
  }
  .col-sm-push-10 {
    left: 83.33333333%;
  }
  .col-sm-push-9 {
    left: 75%;
  }
  .col-sm-push-8 {
    left: 66.66666667%;
  }
  .col-sm-push-7 {
    left: 58.33333333%;
  }
  .col-sm-push-6 {
    left: 50%;
  }
  .col-sm-push-5 {
    left: 41.66666667%;
  }
  .col-sm-push-4 {
    left: 33.33333333%;
  }
  .col-sm-push-3 {
    left: 25%;
  }
  .col-sm-push-2 {
    left: 16.66666667%;
  }
  .col-sm-push-1 {
    left: 8.33333333%;
  }
  .col-sm-push-0 {
    left: auto;
  }
  .col-sm-offset-12 {
    margin-left: 100%;
  }
  .col-sm-offset-11 {
    margin-left: 91.66666667%;
  }
  .col-sm-offset-10 {
    margin-left: 83.33333333%;
  }
  .col-sm-offset-9 {
    margin-left: 75%;
  }
  .col-sm-offset-8 {
    margin-left: 66.66666667%;
  }
  .col-sm-offset-7 {
    margin-left: 58.33333333%;
  }
  .col-sm-offset-6 {
    margin-left: 50%;
  }
  .col-sm-offset-5 {
    margin-left: 41.66666667%;
  }
  .col-sm-offset-4 {
    margin-left: 33.33333333%;
  }
  .col-sm-offset-3 {
    margin-left: 25%;
  }
  .col-sm-offset-2 {
    margin-left: 16.66666667%;
  }
  .col-sm-offset-1 {
    margin-left: 8.33333333%;
  }
  .col-sm-offset-0 {
    margin-left: 0%;
  }
}
@media (min-width: 992px) {
  .col-md-1, .col-md-2, .col-md-3, .col-md-4, .col-md-5, .col-md-6, .col-md-7, .col-md-8, .col-md-9, .col-md-10, .col-md-11, .col-md-12 {
    float: left;
  }
  .col-md-12 {
    width: 100%;
  }
  .col-md-11 {
    width: 91.66666667%;
  }
  .col-md-10 {
    width: 83.33333333%;
  }
  .col-md-9 {
    width: 75%;
  }
  .col-md-8 {
    width: 66.66666667%;
  }
  .col-md-7 {
    width: 58.33333333%;
  }
  .col-md-6 {
    width: 50%;
  }
  .col-md-5 {
    width: 41.66666667%;
  }
  .col-md-4 {
    width: 33.33333333%;
  }
  .col-md-3 {
    width: 25%;
  }
  .col-md-2 {
    width: 16.66666667%;
  }
  .col-md-1 {
    width: 8.33333333%;
  }
  .col-md-pull-12 {
    right: 100%;
  }
  .col-md-pull-11 {
    right: 91.66666667%;
  }
  .col-md-pull-10 {
    right: 83.33333333%;
  }
  .col-md-pull-9 {
    right: 75%;
  }
  .col-md-pull-8 {
    right: 66.66666667%;
  }
  .col-md-pull-7 {
    right: 58.33333333%;
  }
  .col-md-pull-6 {
    right: 50%;
  }
  .col-md-pull-5 {
    right: 41.66666667%;
  }
  .col-md-pull-4 {
    right: 33.33333333%;
  }
  .col-md-pull-3 {
    right: 25%;
  }
  .col-md-pull-2 {
    right: 16.66666667%;
  }
  .col-md-pull-1 {
    right: 8.33333333%;
  }
  .col-md-pull-0 {
    right: auto;
  }
  .col-md-push-12 {
    left: 100%;
  }
  .col-md-push-11 {
    left: 91.66666667%;
  }
  .col-md-push-10 {
    left: 83.33333333%;
  }
  .col-md-push-9 {
    left: 75%;
  }
  .col-md-push-8 {
    left: 66.66666667%;
  }
  .col-md-push-7 {
    left: 58.33333333%;
  }
  .col-md-push-6 {
    left: 50%;
  }
  .col-md-push-5 {
    left: 41.66666667%;
  }
  .col-md-push-4 {
    left: 33.33333333%;
  }
  .col-md-push-3 {
    left: 25%;
  }
  .col-md-push-2 {
    left: 16.66666667%;
  }
  .col-md-push-1 {
    left: 8.33333333%;
  }
  .col-md-push-0 {
    left: auto;
  }
  .col-md-offset-12 {
    margin-left: 100%;
  }
  .col-md-offset-11 {
    margin-left: 91.66666667%;
  }
  .col-md-offset-10 {
    margin-left: 83.33333333%;
  }
  .col-md-offset-9 {
    margin-left: 75%;
  }
  .col-md-offset-8 {
    margin-left: 66.66666667%;
  }
  .col-md-offset-7 {
    margin-left: 58.33333333%;
  }
  .col-md-offset-6 {
    margin-left: 50%;
  }
  .col-md-offset-5 {
    margin-left: 41.66666667%;
  }
  .col-md-offset-4 {
    margin-left: 33.33333333%;
  }
  .col-md-offset-3 {
    margin-left: 25%;
  }
  .col-md-offset-2 {
    margin-left: 16.66666667%;
  }
  .col-md-offset-1 {
    margin-left: 8.33333333%;
  }
  .col-md-offset-0 {
    margin-left: 0%;
  }
}
@media (min-width: 1200px) {
  .col-lg-1, .col-lg-2, .col-lg-3, .col-lg-4, .col-lg-5, .col-lg-6, .col-lg-7, .col-lg-8, .col-lg-9, .col-lg-10, .col-lg-11, .col-lg-12 {
    float: left;
  }
  .col-lg-12 {
    width: 100%;
  }
  .col-lg-11 {
    width: 91.66666667%;
  }
  .col-lg-10 {
    width: 83.33333333%;
  }
  .col-lg-9 {
    width: 75%;
  }
  .col-lg-8 {
    width: 66.66666667%;
  }
  .col-lg-7 {
    width: 58.33333333%;
  }
  .col-lg-6 {
    width: 50%;
  }
  .col-lg-5 {
    width: 41.66666667%;
  }
  .col-lg-4 {
    width: 33.33333333%;
  }
  .col-lg-3 {
    width: 25%;
  }
  .col-lg-2 {
    width: 16.66666667%;
  }
  .col-lg-1 {
    width: 8.33333333%;
  }
  .col-lg-pull-12 {
    right: 100%;
  }
  .col-lg-pull-11 {
    right: 91.66666667%;
  }
  .col-lg-pull-10 {
    right: 83.33333333%;
  }
  .col-lg-pull-9 {
    right: 75%;
  }
  .col-lg-pull-8 {
    right: 66.66666667%;
  }
  .col-lg-pull-7 {
    right: 58.33333333%;
  }
  .col-lg-pull-6 {
    right: 50%;
  }
  .col-lg-pull-5 {
    right: 41.66666667%;
  }
  .col-lg-pull-4 {
    right: 33.33333333%;
  }
  .col-lg-pull-3 {
    right: 25%;
  }
  .col-lg-pull-2 {
    right: 16.66666667%;
  }
  .col-lg-pull-1 {
    right: 8.33333333%;
  }
  .col-lg-pull-0 {
    right: auto;
  }
  .col-lg-push-12 {
    left: 100%;
  }
  .col-lg-push-11 {
    left: 91.66666667%;
  }
  .col-lg-push-10 {
    left: 83.33333333%;
  }
  .col-lg-push-9 {
    left: 75%;
  }
  .col-lg-push-8 {
    left: 66.66666667%;
  }
  .col-lg-push-7 {
    left: 58.33333333%;
  }
  .col-lg-push-6 {
    left: 50%;
  }
  .col-lg-push-5 {
    left: 41.66666667%;
  }
  .col-lg-push-4 {
    left: 33.33333333%;
  }
  .col-lg-push-3 {
    left: 25%;
  }
  .col-lg-push-2 {
    left: 16.66666667%;
  }
  .col-lg-push-1 {
    left: 8.33333333%;
  }
  .col-lg-push-0 {
    left: auto;
  }
  .col-lg-offset-12 {
    margin-left: 100%;
  }
  .col-lg-offset-11 {
    margin-left: 91.66666667%;
  }
  .col-lg-offset-10 {
    margin-left: 83.33333333%;
  }
  .col-lg-offset-9 {
    margin-left: 75%;
  }
  .col-lg-offset-8 {
    margin-left: 66.66666667%;
  }
  .col-lg-offset-7 {
    margin-left: 58.33333333%;
  }
  .col-lg-offset-6 {
    margin-left: 50%;
  }
  .col-lg-offset-5 {
    margin-left: 41.66666667%;
  }
  .col-lg-offset-4 {
    margin-left: 33.33333333%;
  }
  .col-lg-offset-3 {
    margin-left: 25%;
  }
  .col-lg-offset-2 {
    margin-left: 16.66666667%;
  }
  .col-lg-offset-1 {
    margin-left: 8.33333333%;
  }
  .col-lg-offset-0 {
    margin-left: 0%;
  }
}
table {
  background-color: transparent;
}
caption {
  padding-top: 8px;
  padding-bottom: 8px;
  color: #777777;
  text-align: left;
}
th {
  text-align: left;
}
.table {
  width: 100%;
  max-width: 100%;
  margin-bottom: 18px;
}
.table > thead > tr > th,
.table > tbody > tr > th,
.table > tfoot > tr > th,
.table > thead > tr > td,
.table > tbody > tr > td,
.table > tfoot > tr > td {
  padding: 8px;
  line-height: 1.42857143;
  vertical-align: top;
  border-top: 1px solid #ddd;
}
.table > thead > tr > th {
  vertical-align: bottom;
  border-bottom: 2px solid #ddd;
}
.table > caption + thead > tr:first-child > th,
.table > colgroup + thead > tr:first-child > th,
.table > thead:first-child > tr:first-child > th,
.table > caption + thead > tr:first-child > td,
.table > colgroup + thead > tr:first-child > td,
.table > thead:first-child > tr:first-child > td {
  border-top: 0;
}
.table > tbody + tbody {
  border-top: 2px solid #ddd;
}
.table .table {
  background-color: #fff;
}
.table-condensed > thead > tr > th,
.table-condensed > tbody > tr > th,
.table-condensed > tfoot > tr > th,
.table-condensed > thead > tr > td,
.table-condensed > tbody > tr > td,
.table-condensed > tfoot > tr > td {
  padding: 5px;
}
.table-bordered {
  border: 1px solid #ddd;
}
.table-bordered > thead > tr > th,
.table-bordered > tbody > tr > th,
.table-bordered > tfoot > tr > th,
.table-bordered > thead > tr > td,
.table-bordered > tbody > tr > td,
.table-bordered > tfoot > tr > td {
  border: 1px solid #ddd;
}
.table-bordered > thead > tr > th,
.table-bordered > thead > tr > td {
  border-bottom-width: 2px;
}
.table-striped > tbody > tr:nth-of-type(odd) {
  background-color: #f9f9f9;
}
.table-hover > tbody > tr:hover {
  background-color: #f5f5f5;
}
table col[class*="col-"] {
  position: static;
  float: none;
  display: table-column;
}
table td[class*="col-"],
table th[class*="col-"] {
  position: static;
  float: none;
  display: table-cell;
}
.table > thead > tr > td.active,
.table > tbody > tr > td.active,
.table > tfoot > tr > td.active,
.table > thead > tr > th.active,
.table > tbody > tr > th.active,
.table > tfoot > tr > th.active,
.table > thead > tr.active > td,
.table > tbody > tr.active > td,
.table > tfoot > tr.active > td,
.table > thead > tr.active > th,
.table > tbody > tr.active > th,
.table > tfoot > tr.active > th {
  background-color: #f5f5f5;
}
.table-hover > tbody > tr > td.active:hover,
.table-hover > tbody > tr > th.active:hover,
.table-hover > tbody > tr.active:hover > td,
.table-hover > tbody > tr:hover > .active,
.table-hover > tbody > tr.active:hover > th {
  background-color: #e8e8e8;
}
.table > thead > tr > td.success,
.table > tbody > tr > td.success,
.table > tfoot > tr > td.success,
.table > thead > tr > th.success,
.table > tbody > tr > th.success,
.table > tfoot > tr > th.success,
.table > thead > tr.success > td,
.table > tbody > tr.success > td,
.table > tfoot > tr.success > td,
.table > thead > tr.success > th,
.table > tbody > tr.success > th,
.table > tfoot > tr.success > th {
  background-color: #dff0d8;
}
.table-hover > tbody > tr > td.success:hover,
.table-hover > tbody > tr > th.success:hover,
.table-hover > tbody > tr.success:hover > td,
.table-hover > tbody > tr:hover > .success,
.table-hover > tbody > tr.success:hover > th {
  background-color: #d0e9c6;
}
.table > thead > tr > td.info,
.table > tbody > tr > td.info,
.table > tfoot > tr > td.info,
.table > thead > tr > th.info,
.table > tbody > tr > th.info,
.table > tfoot > tr > th.info,
.table > thead > tr.info > td,
.table > tbody > tr.info > td,
.table > tfoot > tr.info > td,
.table > thead > tr.info > th,
.table > tbody > tr.info > th,
.table > tfoot > tr.info > th {
  background-color: #d9edf7;
}
.table-hover > tbody > tr > td.info:hover,
.table-hover > tbody > tr > th.info:hover,
.table-hover > tbody > tr.info:hover > td,
.table-hover > tbody > tr:hover > .info,
.table-hover > tbody > tr.info:hover > th {
  background-color: #c4e3f3;
}
.table > thead > tr > td.warning,
.table > tbody > tr > td.warning,
.table > tfoot > tr > td.warning,
.table > thead > tr > th.warning,
.table > tbody > tr > th.warning,
.table > tfoot > tr > th.warning,
.table > thead > tr.warning > td,
.table > tbody > tr.warning > td,
.table > tfoot > tr.warning > td,
.table > thead > tr.warning > th,
.table > tbody > tr.warning > th,
.table > tfoot > tr.warning > th {
  background-color: #fcf8e3;
}
.table-hover > tbody > tr > td.warning:hover,
.table-hover > tbody > tr > th.warning:hover,
.table-hover > tbody > tr.warning:hover > td,
.table-hover > tbody > tr:hover > .warning,
.table-hover > tbody > tr.warning:hover > th {
  background-color: #faf2cc;
}
.table > thead > tr > td.danger,
.table > tbody > tr > td.danger,
.table > tfoot > tr > td.danger,
.table > thead > tr > th.danger,
.table > tbody > tr > th.danger,
.table > tfoot > tr > th.danger,
.table > thead > tr.danger > td,
.table > tbody > tr.danger > td,
.table > tfoot > tr.danger > td,
.table > thead > tr.danger > th,
.table > tbody > tr.danger > th,
.table > tfoot > tr.danger > th {
  background-color: #f2dede;
}
.table-hover > tbody > tr > td.danger:hover,
.table-hover > tbody > tr > th.danger:hover,
.table-hover > tbody > tr.danger:hover > td,
.table-hover > tbody > tr:hover > .danger,
.table-hover > tbody > tr.danger:hover > th {
  background-color: #ebcccc;
}
.table-responsive {
  overflow-x: auto;
  min-height: 0.01%;
}
@media screen and (max-width: 767px) {
  .table-responsive {
    width: 100%;
    margin-bottom: 13.5px;
    overflow-y: hidden;
    -ms-overflow-style: -ms-autohiding-scrollbar;
    border: 1px solid #ddd;
  }
  .table-responsive > .table {
    margin-bottom: 0;
  }
  .table-responsive > .table > thead > tr > th,
  .table-responsive > .table > tbody > tr > th,
  .table-responsive > .table > tfoot > tr > th,
  .table-responsive > .table > thead > tr > td,
  .table-responsive > .table > tbody > tr > td,
  .table-responsive > .table > tfoot > tr > td {
    white-space: nowrap;
  }
  .table-responsive > .table-bordered {
    border: 0;
  }
  .table-responsive > .table-bordered > thead > tr > th:first-child,
  .table-responsive > .table-bordered > tbody > tr > th:first-child,
  .table-responsive > .table-bordered > tfoot > tr > th:first-child,
  .table-responsive > .table-bordered > thead > tr > td:first-child,
  .table-responsive > .table-bordered > tbody > tr > td:first-child,
  .table-responsive > .table-bordered > tfoot > tr > td:first-child {
    border-left: 0;
  }
  .table-responsive > .table-bordered > thead > tr > th:last-child,
  .table-responsive > .table-bordered > tbody > tr > th:last-child,
  .table-responsive > .table-bordered > tfoot > tr > th:last-child,
  .table-responsive > .table-bordered > thead > tr > td:last-child,
  .table-responsive > .table-bordered > tbody > tr > td:last-child,
  .table-responsive > .table-bordered > tfoot > tr > td:last-child {
    border-right: 0;
  }
  .table-responsive > .table-bordered > tbody > tr:last-child > th,
  .table-responsive > .table-bordered > tfoot > tr:last-child > th,
  .table-responsive > .table-bordered > tbody > tr:last-child > td,
  .table-responsive > .table-bordered > tfoot > tr:last-child > td {
    border-bottom: 0;
  }
}
fieldset {
  padding: 0;
  margin: 0;
  border: 0;
  min-width: 0;
}
legend {
  display: block;
  width: 100%;
  padding: 0;
  margin-bottom: 18px;
  font-size: 19.5px;
  line-height: inherit;
  color: #333333;
  border: 0;
  border-bottom: 1px solid #e5e5e5;
}
label {
  display: inline-block;
  max-width: 100%;
  margin-bottom: 5px;
  font-weight: bold;
}
input[type="search"] {
  -webkit-box-sizing: border-box;
  -moz-box-sizing: border-box;
  box-sizing: border-box;
}
input[type="radio"],
input[type="checkbox"] {
  margin: 4px 0 0;
  margin-top: 1px \9;
  line-height: normal;
}
input[type="file"] {
  display: block;
}
input[type="range"] {
  display: block;
  width: 100%;
}
select[multiple],
select[size] {
  height: auto;
}
input[type="file"]:focus,
input[type="radio"]:focus,
input[type="checkbox"]:focus {
  outline: thin dotted;
  outline: 5px auto -webkit-focus-ring-color;
  outline-offset: -2px;
}
output {
  display: block;
  padding-top: 7px;
  font-size: 13px;
  line-height: 1.42857143;
  color: #555555;
}
.form-control {
  display: block;
  width: 100%;
  height: 32px;
  padding: 6px 12px;
  font-size: 13px;
  line-height: 1.42857143;
  color: #555555;
  background-color: #fff;
  background-image: none;
  border: 1px solid #ccc;
  border-radius: 2px;
  -webkit-box-shadow: inset 0 1px 1px rgba(0, 0, 0, 0.075);
  box-shadow: inset 0 1px 1px rgba(0, 0, 0, 0.075);
  -webkit-transition: border-color ease-in-out .15s, box-shadow ease-in-out .15s;
  -o-transition: border-color ease-in-out .15s, box-shadow ease-in-out .15s;
  transition: border-color ease-in-out .15s, box-shadow ease-in-out .15s;
}
.form-control:focus {
  border-color: #66afe9;
  outline: 0;
  -webkit-box-shadow: inset 0 1px 1px rgba(0,0,0,.075), 0 0 8px rgba(102, 175, 233, 0.6);
  box-shadow: inset 0 1px 1px rgba(0,0,0,.075), 0 0 8px rgba(102, 175, 233, 0.6);
}
.form-control::-moz-placeholder {
  color: #999;
  opacity: 1;
}
.form-control:-ms-input-placeholder {
  color: #999;
}
.form-control::-webkit-input-placeholder {
  color: #999;
}
.form-control::-ms-expand {
  border: 0;
  background-color: transparent;
}
.form-control[disabled],
.form-control[readonly],
fieldset[disabled] .form-control {
  background-color: #eeeeee;
  opacity: 1;
}
.form-control[disabled],
fieldset[disabled] .form-control {
  cursor: not-allowed;
}
textarea.form-control {
  height: auto;
}
input[type="search"] {
  -webkit-appearance: none;
}
@media screen and (-webkit-min-device-pixel-ratio: 0) {
  input[type="date"].form-control,
  input[type="time"].form-control,
  input[type="datetime-local"].form-control,
  input[type="month"].form-control {
    line-height: 32px;
  }
  input[type="date"].input-sm,
  input[type="time"].input-sm,
  input[type="datetime-local"].input-sm,
  input[type="month"].input-sm,
  .input-group-sm input[type="date"],
  .input-group-sm input[type="time"],
  .input-group-sm input[type="datetime-local"],
  .input-group-sm input[type="month"] {
    line-height: 30px;
  }
  input[type="date"].input-lg,
  input[type="time"].input-lg,
  input[type="datetime-local"].input-lg,
  input[type="month"].input-lg,
  .input-group-lg input[type="date"],
  .input-group-lg input[type="time"],
  .input-group-lg input[type="datetime-local"],
  .input-group-lg input[type="month"] {
    line-height: 45px;
  }
}
.form-group {
  margin-bottom: 15px;
}
.radio,
.checkbox {
  position: relative;
  display: block;
  margin-top: 10px;
  margin-bottom: 10px;
}
.radio label,
.checkbox label {
  min-height: 18px;
  padding-left: 20px;
  margin-bottom: 0;
  font-weight: normal;
  cursor: pointer;
}
.radio input[type="radio"],
.radio-inline input[type="radio"],
.checkbox input[type="checkbox"],
.checkbox-inline input[type="checkbox"] {
  position: absolute;
  margin-left: -20px;
  margin-top: 4px \9;
}
.radio + .radio,
.checkbox + .checkbox {
  margin-top: -5px;
}
.radio-inline,
.checkbox-inline {
  position: relative;
  display: inline-block;
  padding-left: 20px;
  margin-bottom: 0;
  vertical-align: middle;
  font-weight: normal;
  cursor: pointer;
}
.radio-inline + .radio-inline,
.checkbox-inline + .checkbox-inline {
  margin-top: 0;
  margin-left: 10px;
}
input[type="radio"][disabled],
input[type="checkbox"][disabled],
input[type="radio"].disabled,
input[type="checkbox"].disabled,
fieldset[disabled] input[type="radio"],
fieldset[disabled] input[type="checkbox"] {
  cursor: not-allowed;
}
.radio-inline.disabled,
.checkbox-inline.disabled,
fieldset[disabled] .radio-inline,
fieldset[disabled] .checkbox-inline {
  cursor: not-allowed;
}
.radio.disabled label,
.checkbox.disabled label,
fieldset[disabled] .radio label,
fieldset[disabled] .checkbox label {
  cursor: not-allowed;
}
.form-control-static {
  padding-top: 7px;
  padding-bottom: 7px;
  margin-bottom: 0;
  min-height: 31px;
}
.form-control-static.input-lg,
.form-control-static.input-sm {
  padding-left: 0;
  padding-right: 0;
}
.input-sm {
  height: 30px;
  padding: 5px 10px;
  font-size: 12px;
  line-height: 1.5;
  border-radius: 1px;
}
select.input-sm {
  height: 30px;
  line-height: 30px;
}
textarea.input-sm,
select[multiple].input-sm {
  height: auto;
}
.form-group-sm .form-control {
  height: 30px;
  padding: 5px 10px;
  font-size: 12px;
  line-height: 1.5;
  border-radius: 1px;
}
.form-group-sm select.form-control {
  height: 30px;
  line-height: 30px;
}
.form-group-sm textarea.form-control,
.form-group-sm select[multiple].form-control {
  height: auto;
}
.form-group-sm .form-control-static {
  height: 30px;
  min-height: 30px;
  padding: 6px 10px;
  font-size: 12px;
  line-height: 1.5;
}
.input-lg {
  height: 45px;
  padding: 10px 16px;
  font-size: 17px;
  line-height: 1.3333333;
  border-radius: 3px;
}
select.input-lg {
  height: 45px;
  line-height: 45px;
}
textarea.input-lg,
select[multiple].input-lg {
  height: auto;
}
.form-group-lg .form-control {
  height: 45px;
  padding: 10px 16px;
  font-size: 17px;
  line-height: 1.3333333;
  border-radius: 3px;
}
.form-group-lg select.form-control {
  height: 45px;
  line-height: 45px;
}
.form-group-lg textarea.form-control,
.form-group-lg select[multiple].form-control {
  height: auto;
}
.form-group-lg .form-control-static {
  height: 45px;
  min-height: 35px;
  padding: 11px 16px;
  font-size: 17px;
  line-height: 1.3333333;
}
.has-feedback {
  position: relative;
}
.has-feedback .form-control {
  padding-right: 40px;
}
.form-control-feedback {
  position: absolute;
  top: 0;
  right: 0;
  z-index: 2;
  display: block;
  width: 32px;
  height: 32px;
  line-height: 32px;
  text-align: center;
  pointer-events: none;
}
.input-lg + .form-control-feedback,
.input-group-lg + .form-control-feedback,
.form-group-lg .form-control + .form-control-feedback {
  width: 45px;
  height: 45px;
  line-height: 45px;
}
.input-sm + .form-control-feedback,
.input-group-sm + .form-control-feedback,
.form-group-sm .form-control + .form-control-feedback {
  width: 30px;
  height: 30px;
  line-height: 30px;
}
.has-success .help-block,
.has-success .control-label,
.has-success .radio,
.has-success .checkbox,
.has-success .radio-inline,
.has-success .checkbox-inline,
.has-success.radio label,
.has-success.checkbox label,
.has-success.radio-inline label,
.has-success.checkbox-inline label {
  color: #3c763d;
}
.has-success .form-control {
  border-color: #3c763d;
  -webkit-box-shadow: inset 0 1px 1px rgba(0, 0, 0, 0.075);
  box-shadow: inset 0 1px 1px rgba(0, 0, 0, 0.075);
}
.has-success .form-control:focus {
  border-color: #2b542c;
  -webkit-box-shadow: inset 0 1px 1px rgba(0, 0, 0, 0.075), 0 0 6px #67b168;
  box-shadow: inset 0 1px 1px rgba(0, 0, 0, 0.075), 0 0 6px #67b168;
}
.has-success .input-group-addon {
  color: #3c763d;
  border-color: #3c763d;
  background-color: #dff0d8;
}
.has-success .form-control-feedback {
  color: #3c763d;
}
.has-warning .help-block,
.has-warning .control-label,
.has-warning .radio,
.has-warning .checkbox,
.has-warning .radio-inline,
.has-warning .checkbox-inline,
.has-warning.radio label,
.has-warning.checkbox label,
.has-warning.radio-inline label,
.has-warning.checkbox-inline label {
  color: #8a6d3b;
}
.has-warning .form-control {
  border-color: #8a6d3b;
  -webkit-box-shadow: inset 0 1px 1px rgba(0, 0, 0, 0.075);
  box-shadow: inset 0 1px 1px rgba(0, 0, 0, 0.075);
}
.has-warning .form-control:focus {
  border-color: #66512c;
  -webkit-box-shadow: inset 0 1px 1px rgba(0, 0, 0, 0.075), 0 0 6px #c0a16b;
  box-shadow: inset 0 1px 1px rgba(0, 0, 0, 0.075), 0 0 6px #c0a16b;
}
.has-warning .input-group-addon {
  color: #8a6d3b;
  border-color: #8a6d3b;
  background-color: #fcf8e3;
}
.has-warning .form-control-feedback {
  color: #8a6d3b;
}
.has-error .help-block,
.has-error .control-label,
.has-error .radio,
.has-error .checkbox,
.has-error .radio-inline,
.has-error .checkbox-inline,
.has-error.radio label,
.has-error.checkbox label,
.has-error.radio-inline label,
.has-error.checkbox-inline label {
  color: #a94442;
}
.has-error .form-control {
  border-color: #a94442;
  -webkit-box-shadow: inset 0 1px 1px rgba(0, 0, 0, 0.075);
  box-shadow: inset 0 1px 1px rgba(0, 0, 0, 0.075);
}
.has-error .form-control:focus {
  border-color: #843534;
  -webkit-box-shadow: inset 0 1px 1px rgba(0, 0, 0, 0.075), 0 0 6px #ce8483;
  box-shadow: inset 0 1px 1px rgba(0, 0, 0, 0.075), 0 0 6px #ce8483;
}
.has-error .input-group-addon {
  color: #a94442;
  border-color: #a94442;
  background-color: #f2dede;
}
.has-error .form-control-feedback {
  color: #a94442;
}
.has-feedback label ~ .form-control-feedback {
  top: 23px;
}
.has-feedback label.sr-only ~ .form-control-feedback {
  top: 0;
}
.help-block {
  display: block;
  margin-top: 5px;
  margin-bottom: 10px;
  color: #404040;
}
@media (min-width: 768px) {
  .form-inline .form-group {
    display: inline-block;
    margin-bottom: 0;
    vertical-align: middle;
  }
  .form-inline .form-control {
    display: inline-block;
    width: auto;
    vertical-align: middle;
  }
  .form-inline .form-control-static {
    display: inline-block;
  }
  .form-inline .input-group {
    display: inline-table;
    vertical-align: middle;
  }
  .form-inline .input-group .input-group-addon,
  .form-inline .input-group .input-group-btn,
  .form-inline .input-group .form-control {
    width: auto;
  }
  .form-inline .input-group > .form-control {
    width: 100%;
  }
  .form-inline .control-label {
    margin-bottom: 0;
    vertical-align: middle;
  }
  .form-inline .radio,
  .form-inline .checkbox {
    display: inline-block;
    margin-top: 0;
    margin-bottom: 0;
    vertical-align: middle;
  }
  .form-inline .radio label,
  .form-inline .checkbox label {
    padding-left: 0;
  }
  .form-inline .radio input[type="radio"],
  .form-inline .checkbox input[type="checkbox"] {
    position: relative;
    margin-left: 0;
  }
  .form-inline .has-feedback .form-control-feedback {
    top: 0;
  }
}
.form-horizontal .radio,
.form-horizontal .checkbox,
.form-horizontal .radio-inline,
.form-horizontal .checkbox-inline {
  margin-top: 0;
  margin-bottom: 0;
  padding-top: 7px;
}
.form-horizontal .radio,
.form-horizontal .checkbox {
  min-height: 25px;
}
.form-horizontal .form-group {
  margin-left: 0px;
  margin-right: 0px;
}
@media (min-width: 768px) {
  .form-horizontal .control-label {
    text-align: right;
    margin-bottom: 0;
    padding-top: 7px;
  }
}
.form-horizontal .has-feedback .form-control-feedback {
  right: 0px;
}
@media (min-width: 768px) {
  .form-horizontal .form-group-lg .control-label {
    padding-top: 11px;
    font-size: 17px;
  }
}
@media (min-width: 768px) {
  .form-horizontal .form-group-sm .control-label {
    padding-top: 6px;
    font-size: 12px;
  }
}
.btn {
  display: inline-block;
  margin-bottom: 0;
  font-weight: normal;
  text-align: center;
  vertical-align: middle;
  touch-action: manipulation;
  cursor: pointer;
  background-image: none;
  border: 1px solid transparent;
  white-space: nowrap;
  padding: 6px 12px;
  font-size: 13px;
  line-height: 1.42857143;
  border-radius: 2px;
  -webkit-user-select: none;
  -moz-user-select: none;
  -ms-user-select: none;
  user-select: none;
}
.btn:focus,
.btn:active:focus,
.btn.active:focus,
.btn.focus,
.btn:active.focus,
.btn.active.focus {
  outline: thin dotted;
  outline: 5px auto -webkit-focus-ring-color;
  outline-offset: -2px;
}
.btn:hover,
.btn:focus,
.btn.focus {
  color: #333;
  text-decoration: none;
}
.btn:active,
.btn.active {
  outline: 0;
  background-image: none;
  -webkit-box-shadow: inset 0 3px 5px rgba(0, 0, 0, 0.125);
  box-shadow: inset 0 3px 5px rgba(0, 0, 0, 0.125);
}
.btn.disabled,
.btn[disabled],
fieldset[disabled] .btn {
  cursor: not-allowed;
  opacity: 0.65;
  filter: alpha(opacity=65);
  -webkit-box-shadow: none;
  box-shadow: none;
}
a.btn.disabled,
fieldset[disabled] a.btn {
  pointer-events: none;
}
.btn-default {
  color: #333;
  background-color: #fff;
  border-color: #ccc;
}
.btn-default:focus,
.btn-default.focus {
  color: #333;
  background-color: #e6e6e6;
  border-color: #8c8c8c;
}
.btn-default:hover {
  color: #333;
  background-color: #e6e6e6;
  border-color: #adadad;
}
.btn-default:active,
.btn-default.active,
.open > .dropdown-toggle.btn-default {
  color: #333;
  background-color: #e6e6e6;
  border-color: #adadad;
}
.btn-default:active:hover,
.btn-default.active:hover,
.open > .dropdown-toggle.btn-default:hover,
.btn-default:active:focus,
.btn-default.active:focus,
.open > .dropdown-toggle.btn-default:focus,
.btn-default:active.focus,
.btn-default.active.focus,
.open > .dropdown-toggle.btn-default.focus {
  color: #333;
  background-color: #d4d4d4;
  border-color: #8c8c8c;
}
.btn-default:active,
.btn-default.active,
.open > .dropdown-toggle.btn-default {
  background-image: none;
}
.btn-default.disabled:hover,
.btn-default[disabled]:hover,
fieldset[disabled] .btn-default:hover,
.btn-default.disabled:focus,
.btn-default[disabled]:focus,
fieldset[disabled] .btn-default:focus,
.btn-default.disabled.focus,
.btn-default[disabled].focus,
fieldset[disabled] .btn-default.focus {
  background-color: #fff;
  border-color: #ccc;
}
.btn-default .badge {
  color: #fff;
  background-color: #333;
}
.btn-primary {
  color: #fff;
  background-color: #337ab7;
  border-color: #2e6da4;
}
.btn-primary:focus,
.btn-primary.focus {
  color: #fff;
  background-color: #286090;
  border-color: #122b40;
}
.btn-primary:hover {
  color: #fff;
  background-color: #286090;
  border-color: #204d74;
}
.btn-primary:active,
.btn-primary.active,
.open > .dropdown-toggle.btn-primary {
  color: #fff;
  background-color: #286090;
  border-color: #204d74;
}
.btn-primary:active:hover,
.btn-primary.active:hover,
.open > .dropdown-toggle.btn-primary:hover,
.btn-primary:active:focus,
.btn-primary.active:focus,
.open > .dropdown-toggle.btn-primary:focus,
.btn-primary:active.focus,
.btn-primary.active.focus,
.open > .dropdown-toggle.btn-primary.focus {
  color: #fff;
  background-color: #204d74;
  border-color: #122b40;
}
.btn-primary:active,
.btn-primary.active,
.open > .dropdown-toggle.btn-primary {
  background-image: none;
}
.btn-primary.disabled:hover,
.btn-primary[disabled]:hover,
fieldset[disabled] .btn-primary:hover,
.btn-primary.disabled:focus,
.btn-primary[disabled]:focus,
fieldset[disabled] .btn-primary:focus,
.btn-primary.disabled.focus,
.btn-primary[disabled].focus,
fieldset[disabled] .btn-primary.focus {
  background-color: #337ab7;
  border-color: #2e6da4;
}
.btn-primary .badge {
  color: #337ab7;
  background-color: #fff;
}
.btn-success {
  color: #fff;
  background-color: #5cb85c;
  border-color: #4cae4c;
}
.btn-success:focus,
.btn-success.focus {
  color: #fff;
  background-color: #449d44;
  border-color: #255625;
}
.btn-success:hover {
  color: #fff;
  background-color: #449d44;
  border-color: #398439;
}
.btn-success:active,
.btn-success.active,
.open > .dropdown-toggle.btn-success {
  color: #fff;
  background-color: #449d44;
  border-color: #398439;
}
.btn-success:active:hover,
.btn-success.active:hover,
.open > .dropdown-toggle.btn-success:hover,
.btn-success:active:focus,
.btn-success.active:focus,
.open > .dropdown-toggle.btn-success:focus,
.btn-success:active.focus,
.btn-success.active.focus,
.open > .dropdown-toggle.btn-success.focus {
  color: #fff;
  background-color: #398439;
  border-color: #255625;
}
.btn-success:active,
.btn-success.active,
.open > .dropdown-toggle.btn-success {
  background-image: none;
}
.btn-success.disabled:hover,
.btn-success[disabled]:hover,
fieldset[disabled] .btn-success:hover,
.btn-success.disabled:focus,
.btn-success[disabled]:focus,
fieldset[disabled] .btn-success:focus,
.btn-success.disabled.focus,
.btn-success[disabled].focus,
fieldset[disabled] .btn-success.focus {
  background-color: #5cb85c;
  border-color: #4cae4c;
}
.btn-success .badge {
  color: #5cb85c;
  background-color: #fff;
}
.btn-info {
  color: #fff;
  background-color: #5bc0de;
  border-color: #46b8da;
}
.btn-info:focus,
.btn-info.focus {
  color: #fff;
  background-color: #31b0d5;
  border-color: #1b6d85;
}
.btn-info:hover {
  color: #fff;
  background-color: #31b0d5;
  border-color: #269abc;
}
.btn-info:active,
.btn-info.active,
.open > .dropdown-toggle.btn-info {
  color: #fff;
  background-color: #31b0d5;
  border-color: #269abc;
}
.btn-info:active:hover,
.btn-info.active:hover,
.open > .dropdown-toggle.btn-info:hover,
.btn-info:active:focus,
.btn-info.active:focus,
.open > .dropdown-toggle.btn-info:focus,
.btn-info:active.focus,
.btn-info.active.focus,
.open > .dropdown-toggle.btn-info.focus {
  color: #fff;
  background-color: #269abc;
  border-color: #1b6d85;
}
.btn-info:active,
.btn-info.active,
.open > .dropdown-toggle.btn-info {
  background-image: none;
}
.btn-info.disabled:hover,
.btn-info[disabled]:hover,
fieldset[disabled] .btn-info:hover,
.btn-info.disabled:focus,
.btn-info[disabled]:focus,
fieldset[disabled] .btn-info:focus,
.btn-info.disabled.focus,
.btn-info[disabled].focus,
fieldset[disabled] .btn-info.focus {
  background-color: #5bc0de;
  border-color: #46b8da;
}
.btn-info .badge {
  color: #5bc0de;
  background-color: #fff;
}
.btn-warning {
  color: #fff;
  background-color: #f0ad4e;
  border-color: #eea236;
}
.btn-warning:focus,
.btn-warning.focus {
  color: #fff;
  background-color: #ec971f;
  border-color: #985f0d;
}
.btn-warning:hover {
  color: #fff;
  background-color: #ec971f;
  border-color: #d58512;
}
.btn-warning:active,
.btn-warning.active,
.open > .dropdown-toggle.btn-warning {
  color: #fff;
  background-color: #ec971f;
  border-color: #d58512;
}
.btn-warning:active:hover,
.btn-warning.active:hover,
.open > .dropdown-toggle.btn-warning:hover,
.btn-warning:active:focus,
.btn-warning.active:focus,
.open > .dropdown-toggle.btn-warning:focus,
.btn-warning:active.focus,
.btn-warning.active.focus,
.open > .dropdown-toggle.btn-warning.focus {
  color: #fff;
  background-color: #d58512;
  border-color: #985f0d;
}
.btn-warning:active,
.btn-warning.active,
.open > .dropdown-toggle.btn-warning {
  background-image: none;
}
.btn-warning.disabled:hover,
.btn-warning[disabled]:hover,
fieldset[disabled] .btn-warning:hover,
.btn-warning.disabled:focus,
.btn-warning[disabled]:focus,
fieldset[disabled] .btn-warning:focus,
.btn-warning.disabled.focus,
.btn-warning[disabled].focus,
fieldset[disabled] .btn-warning.focus {
  background-color: #f0ad4e;
  border-color: #eea236;
}
.btn-warning .badge {
  color: #f0ad4e;
  background-color: #fff;
}
.btn-danger {
  color: #fff;
  background-color: #d9534f;
  border-color: #d43f3a;
}
.btn-danger:focus,
.btn-danger.focus {
  color: #fff;
  background-color: #c9302c;
  border-color: #761c19;
}
.btn-danger:hover {
  color: #fff;
  background-color: #c9302c;
  border-color: #ac2925;
}
.btn-danger:active,
.btn-danger.active,
.open > .dropdown-toggle.btn-danger {
  color: #fff;
  background-color: #c9302c;
  border-color: #ac2925;
}
.btn-danger:active:hover,
.btn-danger.active:hover,
.open > .dropdown-toggle.btn-danger:hover,
.btn-danger:active:focus,
.btn-danger.active:focus,
.open > .dropdown-toggle.btn-danger:focus,
.btn-danger:active.focus,
.btn-danger.active.focus,
.open > .dropdown-toggle.btn-danger.focus {
  color: #fff;
  background-color: #ac2925;
  border-color: #761c19;
}
.btn-danger:active,
.btn-danger.active,
.open > .dropdown-toggle.btn-danger {
  background-image: none;
}
.btn-danger.disabled:hover,
.btn-danger[disabled]:hover,
fieldset[disabled] .btn-danger:hover,
.btn-danger.disabled:focus,
.btn-danger[disabled]:focus,
fieldset[disabled] .btn-danger:focus,
.btn-danger.disabled.focus,
.btn-danger[disabled].focus,
fieldset[disabled] .btn-danger.focus {
  background-color: #d9534f;
  border-color: #d43f3a;
}
.btn-danger .badge {
  color: #d9534f;
  background-color: #fff;
}
.btn-link {
  color: #337ab7;
  font-weight: normal;
  border-radius: 0;
}
.btn-link,
.btn-link:active,
.btn-link.active,
.btn-link[disabled],
fieldset[disabled] .btn-link {
  background-color: transparent;
  -webkit-box-shadow: none;
  box-shadow: none;
}
.btn-link,
.btn-link:hover,
.btn-link:focus,
.btn-link:active {
  border-color: transparent;
}
.btn-link:hover,
.btn-link:focus {
  color: #23527c;
  text-decoration: underline;
  background-color: transparent;
}
.btn-link[disabled]:hover,
fieldset[disabled] .btn-link:hover,
.btn-link[disabled]:focus,
fieldset[disabled] .btn-link:focus {
  color: #777777;
  text-decoration: none;
}
.btn-lg,
.btn-group-lg > .btn {
  padding: 10px 16px;
  font-size: 17px;
  line-height: 1.3333333;
  border-radius: 3px;
}
.btn-sm,
.btn-group-sm > .btn {
  padding: 5px 10px;
  font-size: 12px;
  line-height: 1.5;
  border-radius: 1px;
}
.btn-xs,
.btn-group-xs > .btn {
  padding: 1px 5px;
  font-size: 12px;
  line-height: 1.5;
  border-radius: 1px;
}
.btn-block {
  display: block;
  width: 100%;
}
.btn-block + .btn-block {
  margin-top: 5px;
}
input[type="submit"].btn-block,
input[type="reset"].btn-block,
input[type="button"].btn-block {
  width: 100%;
}
.fade {
  opacity: 0;
  -webkit-transition: opacity 0.15s linear;
  -o-transition: opacity 0.15s linear;
  transition: opacity 0.15s linear;
}
.fade.in {
  opacity: 1;
}
.collapse {
  display: none;
}
.collapse.in {
  display: block;
}
tr.collapse.in {
  display: table-row;
}
tbody.collapse.in {
  display: table-row-group;
}
.collapsing {
  position: relative;
  height: 0;
  overflow: hidden;
  -webkit-transition-property: height, visibility;
  transition-property: height, visibility;
  -webkit-transition-duration: 0.35s;
  transition-duration: 0.35s;
  -webkit-transition-timing-function: ease;
  transition-timing-function: ease;
}
.caret {
  display: inline-block;
  width: 0;
  height: 0;
  margin-left: 2px;
  vertical-align: middle;
  border-top: 4px dashed;
  border-top: 4px solid \9;
  border-right: 4px solid transparent;
  border-left: 4px solid transparent;
}
.dropup,
.dropdown {
  position: relative;
}
.dropdown-toggle:focus {
  outline: 0;
}
.dropdown-menu {
  position: absolute;
  top: 100%;
  left: 0;
  z-index: 1000;
  display: none;
  float: left;
  min-width: 160px;
  padding: 5px 0;
  margin: 2px 0 0;
  list-style: none;
  font-size: 13px;
  text-align: left;
  background-color: #fff;
  border: 1px solid #ccc;
  border: 1px solid rgba(0, 0, 0, 0.15);
  border-radius: 2px;
  -webkit-box-shadow: 0 6px 12px rgba(0, 0, 0, 0.175);
  box-shadow: 0 6px 12px rgba(0, 0, 0, 0.175);
  background-clip: padding-box;
}
.dropdown-menu.pull-right {
  right: 0;
  left: auto;
}
.dropdown-menu .divider {
  height: 1px;
  margin: 8px 0;
  overflow: hidden;
  background-color: #e5e5e5;
}
.dropdown-menu > li > a {
  display: block;
  padding: 3px 20px;
  clear: both;
  font-weight: normal;
  line-height: 1.42857143;
  color: #333333;
  white-space: nowrap;
}
.dropdown-menu > li > a:hover,
.dropdown-menu > li > a:focus {
  text-decoration: none;
  color: #262626;
  background-color: #f5f5f5;
}
.dropdown-menu > .active > a,
.dropdown-menu > .active > a:hover,
.dropdown-menu > .active > a:focus {
  color: #fff;
  text-decoration: none;
  outline: 0;
  background-color: #337ab7;
}
.dropdown-menu > .disabled > a,
.dropdown-menu > .disabled > a:hover,
.dropdown-menu > .disabled > a:focus {
  color: #777777;
}
.dropdown-menu > .disabled > a:hover,
.dropdown-menu > .disabled > a:focus {
  text-decoration: none;
  background-color: transparent;
  background-image: none;
  filter: progid:DXImageTransform.Microsoft.gradient(enabled = false);
  cursor: not-allowed;
}
.open > .dropdown-menu {
  display: block;
}
.open > a {
  outline: 0;
}
.dropdown-menu-right {
  left: auto;
  right: 0;
}
.dropdown-menu-left {
  left: 0;
  right: auto;
}
.dropdown-header {
  display: block;
  padding: 3px 20px;
  font-size: 12px;
  line-height: 1.42857143;
  color: #777777;
  white-space: nowrap;
}
.dropdown-backdrop {
  position: fixed;
  left: 0;
  right: 0;
  bottom: 0;
  top: 0;
  z-index: 990;
}
.pull-right > .dropdown-menu {
  right: 0;
  left: auto;
}
.dropup .caret,
.navbar-fixed-bottom .dropdown .caret {
  border-top: 0;
  border-bottom: 4px dashed;
  border-bottom: 4px solid \9;
  content: "";
}
.dropup .dropdown-menu,
.navbar-fixed-bottom .dropdown .dropdown-menu {
  top: auto;
  bottom: 100%;
  margin-bottom: 2px;
}
@media (min-width: 541px) {
  .navbar-right .dropdown-menu {
    left: auto;
    right: 0;
  }
  .navbar-right .dropdown-menu-left {
    left: 0;
    right: auto;
  }
}
.btn-group,
.btn-group-vertical {
  position: relative;
  display: inline-block;
  vertical-align: middle;
}
.btn-group > .btn,
.btn-group-vertical > .btn {
  position: relative;
  float: left;
}
.btn-group > .btn:hover,
.btn-group-vertical > .btn:hover,
.btn-group > .btn:focus,
.btn-group-vertical > .btn:focus,
.btn-group > .btn:active,
.btn-group-vertical > .btn:active,
.btn-group > .btn.active,
.btn-group-vertical > .btn.active {
  z-index: 2;
}
.btn-group .btn + .btn,
.btn-group .btn + .btn-group,
.btn-group .btn-group + .btn,
.btn-group .btn-group + .btn-group {
  margin-left: -1px;
}
.btn-toolbar {
  margin-left: -5px;
}
.btn-toolbar .btn,
.btn-toolbar .btn-group,
.btn-toolbar .input-group {
  float: left;
}
.btn-toolbar > .btn,
.btn-toolbar > .btn-group,
.btn-toolbar > .input-group {
  margin-left: 5px;
}
.btn-group > .btn:not(:first-child):not(:last-child):not(.dropdown-toggle) {
  border-radius: 0;
}
.btn-group > .btn:first-child {
  margin-left: 0;
}
.btn-group > .btn:first-child:not(:last-child):not(.dropdown-toggle) {
  border-bottom-right-radius: 0;
  border-top-right-radius: 0;
}
.btn-group > .btn:last-child:not(:first-child),
.btn-group > .dropdown-toggle:not(:first-child) {
  border-bottom-left-radius: 0;
  border-top-left-radius: 0;
}
.btn-group > .btn-group {
  float: left;
}
.btn-group > .btn-group:not(:first-child):not(:last-child) > .btn {
  border-radius: 0;
}
.btn-group > .btn-group:first-child:not(:last-child) > .btn:last-child,
.btn-group > .btn-group:first-child:not(:last-child) > .dropdown-toggle {
  border-bottom-right-radius: 0;
  border-top-right-radius: 0;
}
.btn-group > .btn-group:last-child:not(:first-child) > .btn:first-child {
  border-bottom-left-radius: 0;
  border-top-left-radius: 0;
}
.btn-group .dropdown-toggle:active,
.btn-group.open .dropdown-toggle {
  outline: 0;
}
.btn-group > .btn + .dropdown-toggle {
  padding-left: 8px;
  padding-right: 8px;
}
.btn-group > .btn-lg + .dropdown-toggle {
  padding-left: 12px;
  padding-right: 12px;
}
.btn-group.open .dropdown-toggle {
  -webkit-box-shadow: inset 0 3px 5px rgba(0, 0, 0, 0.125);
  box-shadow: inset 0 3px 5px rgba(0, 0, 0, 0.125);
}
.btn-group.open .dropdown-toggle.btn-link {
  -webkit-box-shadow: none;
  box-shadow: none;
}
.btn .caret {
  margin-left: 0;
}
.btn-lg .caret {
  border-width: 5px 5px 0;
  border-bottom-width: 0;
}
.dropup .btn-lg .caret {
  border-width: 0 5px 5px;
}
.btn-group-vertical > .btn,
.btn-group-vertical > .btn-group,
.btn-group-vertical > .btn-group > .btn {
  display: block;
  float: none;
  width: 100%;
  max-width: 100%;
}
.btn-group-vertical > .btn-group > .btn {
  float: none;
}
.btn-group-vertical > .btn + .btn,
.btn-group-vertical > .btn + .btn-group,
.btn-group-vertical > .btn-group + .btn,
.btn-group-vertical > .btn-group + .btn-group {
  margin-top: -1px;
  margin-left: 0;
}
.btn-group-vertical > .btn:not(:first-child):not(:last-child) {
  border-radius: 0;
}
.btn-group-vertical > .btn:first-child:not(:last-child) {
  border-top-right-radius: 2px;
  border-top-left-radius: 2px;
  border-bottom-right-radius: 0;
  border-bottom-left-radius: 0;
}
.btn-group-vertical > .btn:last-child:not(:first-child) {
  border-top-right-radius: 0;
  border-top-left-radius: 0;
  border-bottom-right-radius: 2px;
  border-bottom-left-radius: 2px;
}
.btn-group-vertical > .btn-group:not(:first-child):not(:last-child) > .btn {
  border-radius: 0;
}
.btn-group-vertical > .btn-group:first-child:not(:last-child) > .btn:last-child,
.btn-group-vertical > .btn-group:first-child:not(:last-child) > .dropdown-toggle {
  border-bottom-right-radius: 0;
  border-bottom-left-radius: 0;
}
.btn-group-vertical > .btn-group:last-child:not(:first-child) > .btn:first-child {
  border-top-right-radius: 0;
  border-top-left-radius: 0;
}
.btn-group-justified {
  display: table;
  width: 100%;
  table-layout: fixed;
  border-collapse: separate;
}
.btn-group-justified > .btn,
.btn-group-justified > .btn-group {
  float: none;
  display: table-cell;
  width: 1%;
}
.btn-group-justified > .btn-group .btn {
  width: 100%;
}
.btn-group-justified > .btn-group .dropdown-menu {
  left: auto;
}
[data-toggle="buttons"] > .btn input[type="radio"],
[data-toggle="buttons"] > .btn-group > .btn input[type="radio"],
[data-toggle="buttons"] > .btn input[type="checkbox"],
[data-toggle="buttons"] > .btn-group > .btn input[type="checkbox"] {
  position: absolute;
  clip: rect(0, 0, 0, 0);
  pointer-events: none;
}
.input-group {
  position: relative;
  display: table;
  border-collapse: separate;
}
.input-group[class*="col-"] {
  float: none;
  padding-left: 0;
  padding-right: 0;
}
.input-group .form-control {
  position: relative;
  z-index: 2;
  float: left;
  width: 100%;
  margin-bottom: 0;
}
.input-group .form-control:focus {
  z-index: 3;
}
.input-group-lg > .form-control,
.input-group-lg > .input-group-addon,
.input-group-lg > .input-group-btn > .btn {
  height: 45px;
  padding: 10px 16px;
  font-size: 17px;
  line-height: 1.3333333;
  border-radius: 3px;
}
select.input-group-lg > .form-control,
select.input-group-lg > .input-group-addon,
select.input-group-lg > .input-group-btn > .btn {
  height: 45px;
  line-height: 45px;
}
textarea.input-group-lg > .form-control,
textarea.input-group-lg > .input-group-addon,
textarea.input-group-lg > .input-group-btn > .btn,
select[multiple].input-group-lg > .form-control,
select[multiple].input-group-lg > .input-group-addon,
select[multiple].input-group-lg > .input-group-btn > .btn {
  height: auto;
}
.input-group-sm > .form-control,
.input-group-sm > .input-group-addon,
.input-group-sm > .input-group-btn > .btn {
  height: 30px;
  padding: 5px 10px;
  font-size: 12px;
  line-height: 1.5;
  border-radius: 1px;
}
select.input-group-sm > .form-control,
select.input-group-sm > .input-group-addon,
select.input-group-sm > .input-group-btn > .btn {
  height: 30px;
  line-height: 30px;
}
textarea.input-group-sm > .form-control,
textarea.input-group-sm > .input-group-addon,
textarea.input-group-sm > .input-group-btn > .btn,
select[multiple].input-group-sm > .form-control,
select[multiple].input-group-sm > .input-group-addon,
select[multiple].input-group-sm > .input-group-btn > .btn {
  height: auto;
}
.input-group-addon,
.input-group-btn,
.input-group .form-control {
  display: table-cell;
}
.input-group-addon:not(:first-child):not(:last-child),
.input-group-btn:not(:first-child):not(:last-child),
.input-group .form-control:not(:first-child):not(:last-child) {
  border-radius: 0;
}
.input-group-addon,
.input-group-btn {
  width: 1%;
  white-space: nowrap;
  vertical-align: middle;
}
.input-group-addon {
  padding: 6px 12px;
  font-size: 13px;
  font-weight: normal;
  line-height: 1;
  color: #555555;
  text-align: center;
  background-color: #eeeeee;
  border: 1px solid #ccc;
  border-radius: 2px;
}
.input-group-addon.input-sm {
  padding: 5px 10px;
  font-size: 12px;
  border-radius: 1px;
}
.input-group-addon.input-lg {
  padding: 10px 16px;
  font-size: 17px;
  border-radius: 3px;
}
.input-group-addon input[type="radio"],
.input-group-addon input[type="checkbox"] {
  margin-top: 0;
}
.input-group .form-control:first-child,
.input-group-addon:first-child,
.input-group-btn:first-child > .btn,
.input-group-btn:first-child > .btn-group > .btn,
.input-group-btn:first-child > .dropdown-toggle,
.input-group-btn:last-child > .btn:not(:last-child):not(.dropdown-toggle),
.input-group-btn:last-child > .btn-group:not(:last-child) > .btn {
  border-bottom-right-radius: 0;
  border-top-right-radius: 0;
}
.input-group-addon:first-child {
  border-right: 0;
}
.input-group .form-control:last-child,
.input-group-addon:last-child,
.input-group-btn:last-child > .btn,
.input-group-btn:last-child > .btn-group > .btn,
.input-group-btn:last-child > .dropdown-toggle,
.input-group-btn:first-child > .btn:not(:first-child),
.input-group-btn:first-child > .btn-group:not(:first-child) > .btn {
  border-bottom-left-radius: 0;
  border-top-left-radius: 0;
}
.input-group-addon:last-child {
  border-left: 0;
}
.input-group-btn {
  position: relative;
  font-size: 0;
  white-space: nowrap;
}
.input-group-btn > .btn {
  position: relative;
}
.input-group-btn > .btn + .btn {
  margin-left: -1px;
}
.input-group-btn > .btn:hover,
.input-group-btn > .btn:focus,
.input-group-btn > .btn:active {
  z-index: 2;
}
.input-group-btn:first-child > .btn,
.input-group-btn:first-child > .btn-group {
  margin-right: -1px;
}
.input-group-btn:last-child > .btn,
.input-group-btn:last-child > .btn-group {
  z-index: 2;
  margin-left: -1px;
}
.nav {
  margin-bottom: 0;
  padding-left: 0;
  list-style: none;
}
.nav > li {
  position: relative;
  display: block;
}
.nav > li > a {
  position: relative;
  display: block;
  padding: 10px 15px;
}
.nav > li > a:hover,
.nav > li > a:focus {
  text-decoration: none;
  background-color: #eeeeee;
}
.nav > li.disabled > a {
  color: #777777;
}
.nav > li.disabled > a:hover,
.nav > li.disabled > a:focus {
  color: #777777;
  text-decoration: none;
  background-color: transparent;
  cursor: not-allowed;
}
.nav .open > a,
.nav .open > a:hover,
.nav .open > a:focus {
  background-color: #eeeeee;
  border-color: #337ab7;
}
.nav .nav-divider {
  height: 1px;
  margin: 8px 0;
  overflow: hidden;
  background-color: #e5e5e5;
}
.nav > li > a > img {
  max-width: none;
}
.nav-tabs {
  border-bottom: 1px solid #ddd;
}
.nav-tabs > li {
  float: left;
  margin-bottom: -1px;
}
.nav-tabs > li > a {
  margin-right: 2px;
  line-height: 1.42857143;
  border: 1px solid transparent;
  border-radius: 2px 2px 0 0;
}
.nav-tabs > li > a:hover {
  border-color: #eeeeee #eeeeee #ddd;
}
.nav-tabs > li.active > a,
.nav-tabs > li.active > a:hover,
.nav-tabs > li.active > a:focus {
  color: #555555;
  background-color: #fff;
  border: 1px solid #ddd;
  border-bottom-color: transparent;
  cursor: default;
}
.nav-tabs.nav-justified {
  width: 100%;
  border-bottom: 0;
}
.nav-tabs.nav-justified > li {
  float: none;
}
.nav-tabs.nav-justified > li > a {
  text-align: center;
  margin-bottom: 5px;
}
.nav-tabs.nav-justified > .dropdown .dropdown-menu {
  top: auto;
  left: auto;
}
@media (min-width: 768px) {
  .nav-tabs.nav-justified > li {
    display: table-cell;
    width: 1%;
  }
  .nav-tabs.nav-justified > li > a {
    margin-bottom: 0;
  }
}
.nav-tabs.nav-justified > li > a {
  margin-right: 0;
  border-radius: 2px;
}
.nav-tabs.nav-justified > .active > a,
.nav-tabs.nav-justified > .active > a:hover,
.nav-tabs.nav-justified > .active > a:focus {
  border: 1px solid #ddd;
}
@media (min-width: 768px) {
  .nav-tabs.nav-justified > li > a {
    border-bottom: 1px solid #ddd;
    border-radius: 2px 2px 0 0;
  }
  .nav-tabs.nav-justified > .active > a,
  .nav-tabs.nav-justified > .active > a:hover,
  .nav-tabs.nav-justified > .active > a:focus {
    border-bottom-color: #fff;
  }
}
.nav-pills > li {
  float: left;
}
.nav-pills > li > a {
  border-radius: 2px;
}
.nav-pills > li + li {
  margin-left: 2px;
}
.nav-pills > li.active > a,
.nav-pills > li.active > a:hover,
.nav-pills > li.active > a:focus {
  color: #fff;
  background-color: #337ab7;
}
.nav-stacked > li {
  float: none;
}
.nav-stacked > li + li {
  margin-top: 2px;
  margin-left: 0;
}
.nav-justified {
  width: 100%;
}
.nav-justified > li {
  float: none;
}
.nav-justified > li > a {
  text-align: center;
  margin-bottom: 5px;
}
.nav-justified > .dropdown .dropdown-menu {
  top: auto;
  left: auto;
}
@media (min-width: 768px) {
  .nav-justified > li {
    display: table-cell;
    width: 1%;
  }
  .nav-justified > li > a {
    margin-bottom: 0;
  }
}
.nav-tabs-justified {
  border-bottom: 0;
}
.nav-tabs-justified > li > a {
  margin-right: 0;
  border-radius: 2px;
}
.nav-tabs-justified > .active > a,
.nav-tabs-justified > .active > a:hover,
.nav-tabs-justified > .active > a:focus {
  border: 1px solid #ddd;
}
@media (min-width: 768px) {
  .nav-tabs-justified > li > a {
    border-bottom: 1px solid #ddd;
    border-radius: 2px 2px 0 0;
  }
  .nav-tabs-justified > .active > a,
  .nav-tabs-justified > .active > a:hover,
  .nav-tabs-justified > .active > a:focus {
    border-bottom-color: #fff;
  }
}
.tab-content > .tab-pane {
  display: none;
}
.tab-content > .active {
  display: block;
}
.nav-tabs .dropdown-menu {
  margin-top: -1px;
  border-top-right-radius: 0;
  border-top-left-radius: 0;
}
.navbar {
  position: relative;
  min-height: 30px;
  margin-bottom: 18px;
  border: 1px solid transparent;
}
@media (min-width: 541px) {
  .navbar {
    border-radius: 2px;
  }
}
@media (min-width: 541px) {
  .navbar-header {
    float: left;
  }
}
.navbar-collapse {
  overflow-x: visible;
  padding-right: 0px;
  padding-left: 0px;
  border-top: 1px solid transparent;
  box-shadow: inset 0 1px 0 rgba(255, 255, 255, 0.1);
  -webkit-overflow-scrolling: touch;
}
.navbar-collapse.in {
  overflow-y: auto;
}
@media (min-width: 541px) {
  .navbar-collapse {
    width: auto;
    border-top: 0;
    box-shadow: none;
  }
  .navbar-collapse.collapse {
    display: block !important;
    height: auto !important;
    padding-bottom: 0;
    overflow: visible !important;
  }
  .navbar-collapse.in {
    overflow-y: visible;
  }
  .navbar-fixed-top .navbar-collapse,
  .navbar-static-top .navbar-collapse,
  .navbar-fixed-bottom .navbar-collapse {
    padding-left: 0;
    padding-right: 0;
  }
}
.navbar-fixed-top .navbar-collapse,
.navbar-fixed-bottom .navbar-collapse {
  max-height: 340px;
}
@media (max-device-width: 540px) and (orientation: landscape) {
  .navbar-fixed-top .navbar-collapse,
  .navbar-fixed-bottom .navbar-collapse {
    max-height: 200px;
  }
}
.container > .navbar-header,
.container-fluid > .navbar-header,
.container > .navbar-collapse,
.container-fluid > .navbar-collapse {
  margin-right: 0px;
  margin-left: 0px;
}
@media (min-width: 541px) {
  .container > .navbar-header,
  .container-fluid > .navbar-header,
  .container > .navbar-collapse,
  .container-fluid > .navbar-collapse {
    margin-right: 0;
    margin-left: 0;
  }
}
.navbar-static-top {
  z-index: 1000;
  border-width: 0 0 1px;
}
@media (min-width: 541px) {
  .navbar-static-top {
    border-radius: 0;
  }
}
.navbar-fixed-top,
.navbar-fixed-bottom {
  position: fixed;
  right: 0;
  left: 0;
  z-index: 1030;
}
@media (min-width: 541px) {
  .navbar-fixed-top,
  .navbar-fixed-bottom {
    border-radius: 0;
  }
}
.navbar-fixed-top {
  top: 0;
  border-width: 0 0 1px;
}
.navbar-fixed-bottom {
  bottom: 0;
  margin-bottom: 0;
  border-width: 1px 0 0;
}
.navbar-brand {
  float: left;
  padding: 6px 0px;
  font-size: 17px;
  line-height: 18px;
  height: 30px;
}
.navbar-brand:hover,
.navbar-brand:focus {
  text-decoration: none;
}
.navbar-brand > img {
  display: block;
}
@media (min-width: 541px) {
  .navbar > .container .navbar-brand,
  .navbar > .container-fluid .navbar-brand {
    margin-left: 0px;
  }
}
.navbar-toggle {
  position: relative;
  float: right;
  margin-right: 0px;
  padding: 9px 10px;
  margin-top: -2px;
  margin-bottom: -2px;
  background-color: transparent;
  background-image: none;
  border: 1px solid transparent;
  border-radius: 2px;
}
.navbar-toggle:focus {
  outline: 0;
}
.navbar-toggle .icon-bar {
  display: block;
  width: 22px;
  height: 2px;
  border-radius: 1px;
}
.navbar-toggle .icon-bar + .icon-bar {
  margin-top: 4px;
}
@media (min-width: 541px) {
  .navbar-toggle {
    display: none;
  }
}
.navbar-nav {
  margin: 3px 0px;
}
.navbar-nav > li > a {
  padding-top: 10px;
  padding-bottom: 10px;
  line-height: 18px;
}
@media (max-width: 540px) {
  .navbar-nav .open .dropdown-menu {
    position: static;
    float: none;
    width: auto;
    margin-top: 0;
    background-color: transparent;
    border: 0;
    box-shadow: none;
  }
  .navbar-nav .open .dropdown-menu > li > a,
  .navbar-nav .open .dropdown-menu .dropdown-header {
    padding: 5px 15px 5px 25px;
  }
  .navbar-nav .open .dropdown-menu > li > a {
    line-height: 18px;
  }
  .navbar-nav .open .dropdown-menu > li > a:hover,
  .navbar-nav .open .dropdown-menu > li > a:focus {
    background-image: none;
  }
}
@media (min-width: 541px) {
  .navbar-nav {
    float: left;
    margin: 0;
  }
  .navbar-nav > li {
    float: left;
  }
  .navbar-nav > li > a {
    padding-top: 6px;
    padding-bottom: 6px;
  }
}
.navbar-form {
  margin-left: 0px;
  margin-right: 0px;
  padding: 10px 0px;
  border-top: 1px solid transparent;
  border-bottom: 1px solid transparent;
  -webkit-box-shadow: inset 0 1px 0 rgba(255, 255, 255, 0.1), 0 1px 0 rgba(255, 255, 255, 0.1);
  box-shadow: inset 0 1px 0 rgba(255, 255, 255, 0.1), 0 1px 0 rgba(255, 255, 255, 0.1);
  margin-top: -1px;
  margin-bottom: -1px;
}
@media (min-width: 768px) {
  .navbar-form .form-group {
    display: inline-block;
    margin-bottom: 0;
    vertical-align: middle;
  }
  .navbar-form .form-control {
    display: inline-block;
    width: auto;
    vertical-align: middle;
  }
  .navbar-form .form-control-static {
    display: inline-block;
  }
  .navbar-form .input-group {
    display: inline-table;
    vertical-align: middle;
  }
  .navbar-form .input-group .input-group-addon,
  .navbar-form .input-group .input-group-btn,
  .navbar-form .input-group .form-control {
    width: auto;
  }
  .navbar-form .input-group > .form-control {
    width: 100%;
  }
  .navbar-form .control-label {
    margin-bottom: 0;
    vertical-align: middle;
  }
  .navbar-form .radio,
  .navbar-form .checkbox {
    display: inline-block;
    margin-top: 0;
    margin-bottom: 0;
    vertical-align: middle;
  }
  .navbar-form .radio label,
  .navbar-form .checkbox label {
    padding-left: 0;
  }
  .navbar-form .radio input[type="radio"],
  .navbar-form .checkbox input[type="checkbox"] {
    position: relative;
    margin-left: 0;
  }
  .navbar-form .has-feedback .form-control-feedback {
    top: 0;
  }
}
@media (max-width: 540px) {
  .navbar-form .form-group {
    margin-bottom: 5px;
  }
  .navbar-form .form-group:last-child {
    margin-bottom: 0;
  }
}
@media (min-width: 541px) {
  .navbar-form {
    width: auto;
    border: 0;
    margin-left: 0;
    margin-right: 0;
    padding-top: 0;
    padding-bottom: 0;
    -webkit-box-shadow: none;
    box-shadow: none;
  }
}
.navbar-nav > li > .dropdown-menu {
  margin-top: 0;
  border-top-right-radius: 0;
  border-top-left-radius: 0;
}
.navbar-fixed-bottom .navbar-nav > li > .dropdown-menu {
  margin-bottom: 0;
  border-top-right-radius: 2px;
  border-top-left-radius: 2px;
  border-bottom-right-radius: 0;
  border-bottom-left-radius: 0;
}
.navbar-btn {
  margin-top: -1px;
  margin-bottom: -1px;
}
.navbar-btn.btn-sm {
  margin-top: 0px;
  margin-bottom: 0px;
}
.navbar-btn.btn-xs {
  margin-top: 4px;
  margin-bottom: 4px;
}
.navbar-text {
  margin-top: 6px;
  margin-bottom: 6px;
}
@media (min-width: 541px) {
  .navbar-text {
    float: left;
    margin-left: 0px;
    margin-right: 0px;
  }
}
@media (min-width: 541px) {
  .navbar-left {
    float: left !important;
    float: left;
  }
  .navbar-right {
    float: right !important;
    float: right;
    margin-right: 0px;
  }
  .navbar-right ~ .navbar-right {
    margin-right: 0;
  }
}
.navbar-default {
  background-color: #f8f8f8;
  border-color: #e7e7e7;
}
.navbar-default .navbar-brand {
  color: #777;
}
.navbar-default .navbar-brand:hover,
.navbar-default .navbar-brand:focus {
  color: #5e5e5e;
  background-color: transparent;
}
.navbar-default .navbar-text {
  color: #777;
}
.navbar-default .navbar-nav > li > a {
  color: #777;
}
.navbar-default .navbar-nav > li > a:hover,
.navbar-default .navbar-nav > li > a:focus {
  color: #333;
  background-color: transparent;
}
.navbar-default .navbar-nav > .active > a,
.navbar-default .navbar-nav > .active > a:hover,
.navbar-default .navbar-nav > .active > a:focus {
  color: #555;
  background-color: #e7e7e7;
}
.navbar-default .navbar-nav > .disabled > a,
.navbar-default .navbar-nav > .disabled > a:hover,
.navbar-default .navbar-nav > .disabled > a:focus {
  color: #ccc;
  background-color: transparent;
}
.navbar-default .navbar-toggle {
  border-color: #ddd;
}
.navbar-default .navbar-toggle:hover,
.navbar-default .navbar-toggle:focus {
  background-color: #ddd;
}
.navbar-default .navbar-toggle .icon-bar {
  background-color: #888;
}
.navbar-default .navbar-collapse,
.navbar-default .navbar-form {
  border-color: #e7e7e7;
}
.navbar-default .navbar-nav > .open > a,
.navbar-default .navbar-nav > .open > a:hover,
.navbar-default .navbar-nav > .open > a:focus {
  background-color: #e7e7e7;
  color: #555;
}
@media (max-width: 540px) {
  .navbar-default .navbar-nav .open .dropdown-menu > li > a {
    color: #777;
  }
  .navbar-default .navbar-nav .open .dropdown-menu > li > a:hover,
  .navbar-default .navbar-nav .open .dropdown-menu > li > a:focus {
    color: #333;
    background-color: transparent;
  }
  .navbar-default .navbar-nav .open .dropdown-menu > .active > a,
  .navbar-default .navbar-nav .open .dropdown-menu > .active > a:hover,
  .navbar-default .navbar-nav .open .dropdown-menu > .active > a:focus {
    color: #555;
    background-color: #e7e7e7;
  }
  .navbar-default .navbar-nav .open .dropdown-menu > .disabled > a,
  .navbar-default .navbar-nav .open .dropdown-menu > .disabled > a:hover,
  .navbar-default .navbar-nav .open .dropdown-menu > .disabled > a:focus {
    color: #ccc;
    background-color: transparent;
  }
}
.navbar-default .navbar-link {
  color: #777;
}
.navbar-default .navbar-link:hover {
  color: #333;
}
.navbar-default .btn-link {
  color: #777;
}
.navbar-default .btn-link:hover,
.navbar-default .btn-link:focus {
  color: #333;
}
.navbar-default .btn-link[disabled]:hover,
fieldset[disabled] .navbar-default .btn-link:hover,
.navbar-default .btn-link[disabled]:focus,
fieldset[disabled] .navbar-default .btn-link:focus {
  color: #ccc;
}
.navbar-inverse {
  background-color: #222;
  border-color: #080808;
}
.navbar-inverse .navbar-brand {
  color: #9d9d9d;
}
.navbar-inverse .navbar-brand:hover,
.navbar-inverse .navbar-brand:focus {
  color: #fff;
  background-color: transparent;
}
.navbar-inverse .navbar-text {
  color: #9d9d9d;
}
.navbar-inverse .navbar-nav > li > a {
  color: #9d9d9d;
}
.navbar-inverse .navbar-nav > li > a:hover,
.navbar-inverse .navbar-nav > li > a:focus {
  color: #fff;
  background-color: transparent;
}
.navbar-inverse .navbar-nav > .active > a,
.navbar-inverse .navbar-nav > .active > a:hover,
.navbar-inverse .navbar-nav > .active > a:focus {
  color: #fff;
  background-color: #080808;
}
.navbar-inverse .navbar-nav > .disabled > a,
.navbar-inverse .navbar-nav > .disabled > a:hover,
.navbar-inverse .navbar-nav > .disabled > a:focus {
  color: #444;
  background-color: transparent;
}
.navbar-inverse .navbar-toggle {
  border-color: #333;
}
.navbar-inverse .navbar-toggle:hover,
.navbar-inverse .navbar-toggle:focus {
  background-color: #333;
}
.navbar-inverse .navbar-toggle .icon-bar {
  background-color: #fff;
}
.navbar-inverse .navbar-collapse,
.navbar-inverse .navbar-form {
  border-color: #101010;
}
.navbar-inverse .navbar-nav > .open > a,
.navbar-inverse .navbar-nav > .open > a:hover,
.navbar-inverse .navbar-nav > .open > a:focus {
  background-color: #080808;
  color: #fff;
}
@media (max-width: 540px) {
  .navbar-inverse .navbar-nav .open .dropdown-menu > .dropdown-header {
    border-color: #080808;
  }
  .navbar-inverse .navbar-nav .open .dropdown-menu .divider {
    background-color: #080808;
  }
  .navbar-inverse .navbar-nav .open .dropdown-menu > li > a {
    color: #9d9d9d;
  }
  .navbar-inverse .navbar-nav .open .dropdown-menu > li > a:hover,
  .navbar-inverse .navbar-nav .open .dropdown-menu > li > a:focus {
    color: #fff;
    background-color: transparent;
  }
  .navbar-inverse .navbar-nav .open .dropdown-menu > .active > a,
  .navbar-inverse .navbar-nav .open .dropdown-menu > .active > a:hover,
  .navbar-inverse .navbar-nav .open .dropdown-menu > .active > a:focus {
    color: #fff;
    background-color: #080808;
  }
  .navbar-inverse .navbar-nav .open .dropdown-menu > .disabled > a,
  .navbar-inverse .navbar-nav .open .dropdown-menu > .disabled > a:hover,
  .navbar-inverse .navbar-nav .open .dropdown-menu > .disabled > a:focus {
    color: #444;
    background-color: transparent;
  }
}
.navbar-inverse .navbar-link {
  color: #9d9d9d;
}
.navbar-inverse .navbar-link:hover {
  color: #fff;
}
.navbar-inverse .btn-link {
  color: #9d9d9d;
}
.navbar-inverse .btn-link:hover,
.navbar-inverse .btn-link:focus {
  color: #fff;
}
.navbar-inverse .btn-link[disabled]:hover,
fieldset[disabled] .navbar-inverse .btn-link:hover,
.navbar-inverse .btn-link[disabled]:focus,
fieldset[disabled] .navbar-inverse .btn-link:focus {
  color: #444;
}
.breadcrumb {
  padding: 8px 15px;
  margin-bottom: 18px;
  list-style: none;
  background-color: #f5f5f5;
  border-radius: 2px;
}
.breadcrumb > li {
  display: inline-block;
}
.breadcrumb > li + li:before {
  content: "/\00a0";
  padding: 0 5px;
  color: #5e5e5e;
}
.breadcrumb > .active {
  color: #777777;
}
.pagination {
  display: inline-block;
  padding-left: 0;
  margin: 18px 0;
  border-radius: 2px;
}
.pagination > li {
  display: inline;
}
.pagination > li > a,
.pagination > li > span {
  position: relative;
  float: left;
  padding: 6px 12px;
  line-height: 1.42857143;
  text-decoration: none;
  color: #337ab7;
  background-color: #fff;
  border: 1px solid #ddd;
  margin-left: -1px;
}
.pagination > li:first-child > a,
.pagination > li:first-child > span {
  margin-left: 0;
  border-bottom-left-radius: 2px;
  border-top-left-radius: 2px;
}
.pagination > li:last-child > a,
.pagination > li:last-child > span {
  border-bottom-right-radius: 2px;
  border-top-right-radius: 2px;
}
.pagination > li > a:hover,
.pagination > li > span:hover,
.pagination > li > a:focus,
.pagination > li > span:focus {
  z-index: 2;
  color: #23527c;
  background-color: #eeeeee;
  border-color: #ddd;
}
.pagination > .active > a,
.pagination > .active > span,
.pagination > .active > a:hover,
.pagination > .active > span:hover,
.pagination > .active > a:focus,
.pagination > .active > span:focus {
  z-index: 3;
  color: #fff;
  background-color: #337ab7;
  border-color: #337ab7;
  cursor: default;
}
.pagination > .disabled > span,
.pagination > .disabled > span:hover,
.pagination > .disabled > span:focus,
.pagination > .disabled > a,
.pagination > .disabled > a:hover,
.pagination > .disabled > a:focus {
  color: #777777;
  background-color: #fff;
  border-color: #ddd;
  cursor: not-allowed;
}
.pagination-lg > li > a,
.pagination-lg > li > span {
  padding: 10px 16px;
  font-size: 17px;
  line-height: 1.3333333;
}
.pagination-lg > li:first-child > a,
.pagination-lg > li:first-child > span {
  border-bottom-left-radius: 3px;
  border-top-left-radius: 3px;
}
.pagination-lg > li:last-child > a,
.pagination-lg > li:last-child > span {
  border-bottom-right-radius: 3px;
  border-top-right-radius: 3px;
}
.pagination-sm > li > a,
.pagination-sm > li > span {
  padding: 5px 10px;
  font-size: 12px;
  line-height: 1.5;
}
.pagination-sm > li:first-child > a,
.pagination-sm > li:first-child > span {
  border-bottom-left-radius: 1px;
  border-top-left-radius: 1px;
}
.pagination-sm > li:last-child > a,
.pagination-sm > li:last-child > span {
  border-bottom-right-radius: 1px;
  border-top-right-radius: 1px;
}
.pager {
  padding-left: 0;
  margin: 18px 0;
  list-style: none;
  text-align: center;
}
.pager li {
  display: inline;
}
.pager li > a,
.pager li > span {
  display: inline-block;
  padding: 5px 14px;
  background-color: #fff;
  border: 1px solid #ddd;
  border-radius: 15px;
}
.pager li > a:hover,
.pager li > a:focus {
  text-decoration: none;
  background-color: #eeeeee;
}
.pager .next > a,
.pager .next > span {
  float: right;
}
.pager .previous > a,
.pager .previous > span {
  float: left;
}
.pager .disabled > a,
.pager .disabled > a:hover,
.pager .disabled > a:focus,
.pager .disabled > span {
  color: #777777;
  background-color: #fff;
  cursor: not-allowed;
}
.label {
  display: inline;
  padding: .2em .6em .3em;
  font-size: 75%;
  font-weight: bold;
  line-height: 1;
  color: #fff;
  text-align: center;
  white-space: nowrap;
  vertical-align: baseline;
  border-radius: .25em;
}
a.label:hover,
a.label:focus {
  color: #fff;
  text-decoration: none;
  cursor: pointer;
}
.label:empty {
  display: none;
}
.btn .label {
  position: relative;
  top: -1px;
}
.label-default {
  background-color: #777777;
}
.label-default[href]:hover,
.label-default[href]:focus {
  background-color: #5e5e5e;
}
.label-primary {
  background-color: #337ab7;
}
.label-primary[href]:hover,
.label-primary[href]:focus {
  background-color: #286090;
}
.label-success {
  background-color: #5cb85c;
}
.label-success[href]:hover,
.label-success[href]:focus {
  background-color: #449d44;
}
.label-info {
  background-color: #5bc0de;
}
.label-info[href]:hover,
.label-info[href]:focus {
  background-color: #31b0d5;
}
.label-warning {
  background-color: #f0ad4e;
}
.label-warning[href]:hover,
.label-warning[href]:focus {
  background-color: #ec971f;
}
.label-danger {
  background-color: #d9534f;
}
.label-danger[href]:hover,
.label-danger[href]:focus {
  background-color: #c9302c;
}
.badge {
  display: inline-block;
  min-width: 10px;
  padding: 3px 7px;
  font-size: 12px;
  font-weight: bold;
  color: #fff;
  line-height: 1;
  vertical-align: middle;
  white-space: nowrap;
  text-align: center;
  background-color: #777777;
  border-radius: 10px;
}
.badge:empty {
  display: none;
}
.btn .badge {
  position: relative;
  top: -1px;
}
.btn-xs .badge,
.btn-group-xs > .btn .badge {
  top: 0;
  padding: 1px 5px;
}
a.badge:hover,
a.badge:focus {
  color: #fff;
  text-decoration: none;
  cursor: pointer;
}
.list-group-item.active > .badge,
.nav-pills > .active > a > .badge {
  color: #337ab7;
  background-color: #fff;
}
.list-group-item > .badge {
  float: right;
}
.list-group-item > .badge + .badge {
  margin-right: 5px;
}
.nav-pills > li > a > .badge {
  margin-left: 3px;
}
.jumbotron {
  padding-top: 30px;
  padding-bottom: 30px;
  margin-bottom: 30px;
  color: inherit;
  background-color: #eeeeee;
}
.jumbotron h1,
.jumbotron .h1 {
  color: inherit;
}
.jumbotron p {
  margin-bottom: 15px;
  font-size: 20px;
  font-weight: 200;
}
.jumbotron > hr {
  border-top-color: #d5d5d5;
}
.container .jumbotron,
.container-fluid .jumbotron {
  border-radius: 3px;
  padding-left: 0px;
  padding-right: 0px;
}
.jumbotron .container {
  max-width: 100%;
}
@media screen and (min-width: 768px) {
  .jumbotron {
    padding-top: 48px;
    padding-bottom: 48px;
  }
  .container .jumbotron,
  .container-fluid .jumbotron {
    padding-left: 60px;
    padding-right: 60px;
  }
  .jumbotron h1,
  .jumbotron .h1 {
    font-size: 59px;
  }
}
.thumbnail {
  display: block;
  padding: 4px;
  margin-bottom: 18px;
  line-height: 1.42857143;
  background-color: #fff;
  border: 1px solid #ddd;
  border-radius: 2px;
  -webkit-transition: border 0.2s ease-in-out;
  -o-transition: border 0.2s ease-in-out;
  transition: border 0.2s ease-in-out;
}
.thumbnail > img,
.thumbnail a > img {
  margin-left: auto;
  margin-right: auto;
}
a.thumbnail:hover,
a.thumbnail:focus,
a.thumbnail.active {
  border-color: #337ab7;
}
.thumbnail .caption {
  padding: 9px;
  color: #000;
}
.alert {
  padding: 15px;
  margin-bottom: 18px;
  border: 1px solid transparent;
  border-radius: 2px;
}
.alert h4 {
  margin-top: 0;
  color: inherit;
}
.alert .alert-link {
  font-weight: bold;
}
.alert > p,
.alert > ul {
  margin-bottom: 0;
}
.alert > p + p {
  margin-top: 5px;
}
.alert-dismissable,
.alert-dismissible {
  padding-right: 35px;
}
.alert-dismissable .close,
.alert-dismissible .close {
  position: relative;
  top: -2px;
  right: -21px;
  color: inherit;
}
.alert-success {
  background-color: #dff0d8;
  border-color: #d6e9c6;
  color: #3c763d;
}
.alert-success hr {
  border-top-color: #c9e2b3;
}
.alert-success .alert-link {
  color: #2b542c;
}
.alert-info {
  background-color: #d9edf7;
  border-color: #bce8f1;
  color: #31708f;
}
.alert-info hr {
  border-top-color: #a6e1ec;
}
.alert-info .alert-link {
  color: #245269;
}
.alert-warning {
  background-color: #fcf8e3;
  border-color: #faebcc;
  color: #8a6d3b;
}
.alert-warning hr {
  border-top-color: #f7e1b5;
}
.alert-warning .alert-link {
  color: #66512c;
}
.alert-danger {
  background-color: #f2dede;
  border-color: #ebccd1;
  color: #a94442;
}
.alert-danger hr {
  border-top-color: #e4b9c0;
}
.alert-danger .alert-link {
  color: #843534;
}
@-webkit-keyframes progress-bar-stripes {
  from {
    background-position: 40px 0;
  }
  to {
    background-position: 0 0;
  }
}
@keyframes progress-bar-stripes {
  from {
    background-position: 40px 0;
  }
  to {
    background-position: 0 0;
  }
}
.progress {
  overflow: hidden;
  height: 18px;
  margin-bottom: 18px;
  background-color: #f5f5f5;
  border-radius: 2px;
  -webkit-box-shadow: inset 0 1px 2px rgba(0, 0, 0, 0.1);
  box-shadow: inset 0 1px 2px rgba(0, 0, 0, 0.1);
}
.progress-bar {
  float: left;
  width: 0%;
  height: 100%;
  font-size: 12px;
  line-height: 18px;
  color: #fff;
  text-align: center;
  background-color: #337ab7;
  -webkit-box-shadow: inset 0 -1px 0 rgba(0, 0, 0, 0.15);
  box-shadow: inset 0 -1px 0 rgba(0, 0, 0, 0.15);
  -webkit-transition: width 0.6s ease;
  -o-transition: width 0.6s ease;
  transition: width 0.6s ease;
}
.progress-striped .progress-bar,
.progress-bar-striped {
  background-image: -webkit-linear-gradient(45deg, rgba(255, 255, 255, 0.15) 25%, transparent 25%, transparent 50%, rgba(255, 255, 255, 0.15) 50%, rgba(255, 255, 255, 0.15) 75%, transparent 75%, transparent);
  background-image: -o-linear-gradient(45deg, rgba(255, 255, 255, 0.15) 25%, transparent 25%, transparent 50%, rgba(255, 255, 255, 0.15) 50%, rgba(255, 255, 255, 0.15) 75%, transparent 75%, transparent);
  background-image: linear-gradient(45deg, rgba(255, 255, 255, 0.15) 25%, transparent 25%, transparent 50%, rgba(255, 255, 255, 0.15) 50%, rgba(255, 255, 255, 0.15) 75%, transparent 75%, transparent);
  background-size: 40px 40px;
}
.progress.active .progress-bar,
.progress-bar.active {
  -webkit-animation: progress-bar-stripes 2s linear infinite;
  -o-animation: progress-bar-stripes 2s linear infinite;
  animation: progress-bar-stripes 2s linear infinite;
}
.progress-bar-success {
  background-color: #5cb85c;
}
.progress-striped .progress-bar-success {
  background-image: -webkit-linear-gradient(45deg, rgba(255, 255, 255, 0.15) 25%, transparent 25%, transparent 50%, rgba(255, 255, 255, 0.15) 50%, rgba(255, 255, 255, 0.15) 75%, transparent 75%, transparent);
  background-image: -o-linear-gradient(45deg, rgba(255, 255, 255, 0.15) 25%, transparent 25%, transparent 50%, rgba(255, 255, 255, 0.15) 50%, rgba(255, 255, 255, 0.15) 75%, transparent 75%, transparent);
  background-image: linear-gradient(45deg, rgba(255, 255, 255, 0.15) 25%, transparent 25%, transparent 50%, rgba(255, 255, 255, 0.15) 50%, rgba(255, 255, 255, 0.15) 75%, transparent 75%, transparent);
}
.progress-bar-info {
  background-color: #5bc0de;
}
.progress-striped .progress-bar-info {
  background-image: -webkit-linear-gradient(45deg, rgba(255, 255, 255, 0.15) 25%, transparent 25%, transparent 50%, rgba(255, 255, 255, 0.15) 50%, rgba(255, 255, 255, 0.15) 75%, transparent 75%, transparent);
  background-image: -o-linear-gradient(45deg, rgba(255, 255, 255, 0.15) 25%, transparent 25%, transparent 50%, rgba(255, 255, 255, 0.15) 50%, rgba(255, 255, 255, 0.15) 75%, transparent 75%, transparent);
  background-image: linear-gradient(45deg, rgba(255, 255, 255, 0.15) 25%, transparent 25%, transparent 50%, rgba(255, 255, 255, 0.15) 50%, rgba(255, 255, 255, 0.15) 75%, transparent 75%, transparent);
}
.progress-bar-warning {
  background-color: #f0ad4e;
}
.progress-striped .progress-bar-warning {
  background-image: -webkit-linear-gradient(45deg, rgba(255, 255, 255, 0.15) 25%, transparent 25%, transparent 50%, rgba(255, 255, 255, 0.15) 50%, rgba(255, 255, 255, 0.15) 75%, transparent 75%, transparent);
  background-image: -o-linear-gradient(45deg, rgba(255, 255, 255, 0.15) 25%, transparent 25%, transparent 50%, rgba(255, 255, 255, 0.15) 50%, rgba(255, 255, 255, 0.15) 75%, transparent 75%, transparent);
  background-image: linear-gradient(45deg, rgba(255, 255, 255, 0.15) 25%, transparent 25%, transparent 50%, rgba(255, 255, 255, 0.15) 50%, rgba(255, 255, 255, 0.15) 75%, transparent 75%, transparent);
}
.progress-bar-danger {
  background-color: #d9534f;
}
.progress-striped .progress-bar-danger {
  background-image: -webkit-linear-gradient(45deg, rgba(255, 255, 255, 0.15) 25%, transparent 25%, transparent 50%, rgba(255, 255, 255, 0.15) 50%, rgba(255, 255, 255, 0.15) 75%, transparent 75%, transparent);
  background-image: -o-linear-gradient(45deg, rgba(255, 255, 255, 0.15) 25%, transparent 25%, transparent 50%, rgba(255, 255, 255, 0.15) 50%, rgba(255, 255, 255, 0.15) 75%, transparent 75%, transparent);
  background-image: linear-gradient(45deg, rgba(255, 255, 255, 0.15) 25%, transparent 25%, transparent 50%, rgba(255, 255, 255, 0.15) 50%, rgba(255, 255, 255, 0.15) 75%, transparent 75%, transparent);
}
.media {
  margin-top: 15px;
}
.media:first-child {
  margin-top: 0;
}
.media,
.media-body {
  zoom: 1;
  overflow: hidden;
}
.media-body {
  width: 10000px;
}
.media-object {
  display: block;
}
.media-object.img-thumbnail {
  max-width: none;
}
.media-right,
.media > .pull-right {
  padding-left: 10px;
}
.media-left,
.media > .pull-left {
  padding-right: 10px;
}
.media-left,
.media-right,
.media-body {
  display: table-cell;
  vertical-align: top;
}
.media-middle {
  vertical-align: middle;
}
.media-bottom {
  vertical-align: bottom;
}
.media-heading {
  margin-top: 0;
  margin-bottom: 5px;
}
.media-list {
  padding-left: 0;
  list-style: none;
}
.list-group {
  margin-bottom: 20px;
  padding-left: 0;
}
.list-group-item {
  position: relative;
  display: block;
  padding: 10px 15px;
  margin-bottom: -1px;
  background-color: #fff;
  border: 1px solid #ddd;
}
.list-group-item:first-child {
  border-top-right-radius: 2px;
  border-top-left-radius: 2px;
}
.list-group-item:last-child {
  margin-bottom: 0;
  border-bottom-right-radius: 2px;
  border-bottom-left-radius: 2px;
}
a.list-group-item,
button.list-group-item {
  color: #555;
}
a.list-group-item .list-group-item-heading,
button.list-group-item .list-group-item-heading {
  color: #333;
}
a.list-group-item:hover,
button.list-group-item:hover,
a.list-group-item:focus,
button.list-group-item:focus {
  text-decoration: none;
  color: #555;
  background-color: #f5f5f5;
}
button.list-group-item {
  width: 100%;
  text-align: left;
}
.list-group-item.disabled,
.list-group-item.disabled:hover,
.list-group-item.disabled:focus {
  background-color: #eeeeee;
  color: #777777;
  cursor: not-allowed;
}
.list-group-item.disabled .list-group-item-heading,
.list-group-item.disabled:hover .list-group-item-heading,
.list-group-item.disabled:focus .list-group-item-heading {
  color: inherit;
}
.list-group-item.disabled .list-group-item-text,
.list-group-item.disabled:hover .list-group-item-text,
.list-group-item.disabled:focus .list-group-item-text {
  color: #777777;
}
.list-group-item.active,
.list-group-item.active:hover,
.list-group-item.active:focus {
  z-index: 2;
  color: #fff;
  background-color: #337ab7;
  border-color: #337ab7;
}
.list-group-item.active .list-group-item-heading,
.list-group-item.active:hover .list-group-item-heading,
.list-group-item.active:focus .list-group-item-heading,
.list-group-item.active .list-group-item-heading > small,
.list-group-item.active:hover .list-group-item-heading > small,
.list-group-item.active:focus .list-group-item-heading > small,
.list-group-item.active .list-group-item-heading > .small,
.list-group-item.active:hover .list-group-item-heading > .small,
.list-group-item.active:focus .list-group-item-heading > .small {
  color: inherit;
}
.list-group-item.active .list-group-item-text,
.list-group-item.active:hover .list-group-item-text,
.list-group-item.active:focus .list-group-item-text {
  color: #c7ddef;
}
.list-group-item-success {
  color: #3c763d;
  background-color: #dff0d8;
}
a.list-group-item-success,
button.list-group-item-success {
  color: #3c763d;
}
a.list-group-item-success .list-group-item-heading,
button.list-group-item-success .list-group-item-heading {
  color: inherit;
}
a.list-group-item-success:hover,
button.list-group-item-success:hover,
a.list-group-item-success:focus,
button.list-group-item-success:focus {
  color: #3c763d;
  background-color: #d0e9c6;
}
a.list-group-item-success.active,
button.list-group-item-success.active,
a.list-group-item-success.active:hover,
button.list-group-item-success.active:hover,
a.list-group-item-success.active:focus,
button.list-group-item-success.active:focus {
  color: #fff;
  background-color: #3c763d;
  border-color: #3c763d;
}
.list-group-item-info {
  color: #31708f;
  background-color: #d9edf7;
}
a.list-group-item-info,
button.list-group-item-info {
  color: #31708f;
}
a.list-group-item-info .list-group-item-heading,
button.list-group-item-info .list-group-item-heading {
  color: inherit;
}
a.list-group-item-info:hover,
button.list-group-item-info:hover,
a.list-group-item-info:focus,
button.list-group-item-info:focus {
  color: #31708f;
  background-color: #c4e3f3;
}
a.list-group-item-info.active,
button.list-group-item-info.active,
a.list-group-item-info.active:hover,
button.list-group-item-info.active:hover,
a.list-group-item-info.active:focus,
button.list-group-item-info.active:focus {
  color: #fff;
  background-color: #31708f;
  border-color: #31708f;
}
.list-group-item-warning {
  color: #8a6d3b;
  background-color: #fcf8e3;
}
a.list-group-item-warning,
button.list-group-item-warning {
  color: #8a6d3b;
}
a.list-group-item-warning .list-group-item-heading,
button.list-group-item-warning .list-group-item-heading {
  color: inherit;
}
a.list-group-item-warning:hover,
button.list-group-item-warning:hover,
a.list-group-item-warning:focus,
button.list-group-item-warning:focus {
  color: #8a6d3b;
  background-color: #faf2cc;
}
a.list-group-item-warning.active,
button.list-group-item-warning.active,
a.list-group-item-warning.active:hover,
button.list-group-item-warning.active:hover,
a.list-group-item-warning.active:focus,
button.list-group-item-warning.active:focus {
  color: #fff;
  background-color: #8a6d3b;
  border-color: #8a6d3b;
}
.list-group-item-danger {
  color: #a94442;
  background-color: #f2dede;
}
a.list-group-item-danger,
button.list-group-item-danger {
  color: #a94442;
}
a.list-group-item-danger .list-group-item-heading,
button.list-group-item-danger .list-group-item-heading {
  color: inherit;
}
a.list-group-item-danger:hover,
button.list-group-item-danger:hover,
a.list-group-item-danger:focus,
button.list-group-item-danger:focus {
  color: #a94442;
  background-color: #ebcccc;
}
a.list-group-item-danger.active,
button.list-group-item-danger.active,
a.list-group-item-danger.active:hover,
button.list-group-item-danger.active:hover,
a.list-group-item-danger.active:focus,
button.list-group-item-danger.active:focus {
  color: #fff;
  background-color: #a94442;
  border-color: #a94442;
}
.list-group-item-heading {
  margin-top: 0;
  margin-bottom: 5px;
}
.list-group-item-text {
  margin-bottom: 0;
  line-height: 1.3;
}
.panel {
  margin-bottom: 18px;
  background-color: #fff;
  border: 1px solid transparent;
  border-radius: 2px;
  -webkit-box-shadow: 0 1px 1px rgba(0, 0, 0, 0.05);
  box-shadow: 0 1px 1px rgba(0, 0, 0, 0.05);
}
.panel-body {
  padding: 15px;
}
.panel-heading {
  padding: 10px 15px;
  border-bottom: 1px solid transparent;
  border-top-right-radius: 1px;
  border-top-left-radius: 1px;
}
.panel-heading > .dropdown .dropdown-toggle {
  color: inherit;
}
.panel-title {
  margin-top: 0;
  margin-bottom: 0;
  font-size: 15px;
  color: inherit;
}
.panel-title > a,
.panel-title > small,
.panel-title > .small,
.panel-title > small > a,
.panel-title > .small > a {
  color: inherit;
}
.panel-footer {
  padding: 10px 15px;
  background-color: #f5f5f5;
  border-top: 1px solid #ddd;
  border-bottom-right-radius: 1px;
  border-bottom-left-radius: 1px;
}
.panel > .list-group,
.panel > .panel-collapse > .list-group {
  margin-bottom: 0;
}
.panel > .list-group .list-group-item,
.panel > .panel-collapse > .list-group .list-group-item {
  border-width: 1px 0;
  border-radius: 0;
}
.panel > .list-group:first-child .list-group-item:first-child,
.panel > .panel-collapse > .list-group:first-child .list-group-item:first-child {
  border-top: 0;
  border-top-right-radius: 1px;
  border-top-left-radius: 1px;
}
.panel > .list-group:last-child .list-group-item:last-child,
.panel > .panel-collapse > .list-group:last-child .list-group-item:last-child {
  border-bottom: 0;
  border-bottom-right-radius: 1px;
  border-bottom-left-radius: 1px;
}
.panel > .panel-heading + .panel-collapse > .list-group .list-group-item:first-child {
  border-top-right-radius: 0;
  border-top-left-radius: 0;
}
.panel-heading + .list-group .list-group-item:first-child {
  border-top-width: 0;
}
.list-group + .panel-footer {
  border-top-width: 0;
}
.panel > .table,
.panel > .table-responsive > .table,
.panel > .panel-collapse > .table {
  margin-bottom: 0;
}
.panel > .table caption,
.panel > .table-responsive > .table caption,
.panel > .panel-collapse > .table caption {
  padding-left: 15px;
  padding-right: 15px;
}
.panel > .table:first-child,
.panel > .table-responsive:first-child > .table:first-child {
  border-top-right-radius: 1px;
  border-top-left-radius: 1px;
}
.panel > .table:first-child > thead:first-child > tr:first-child,
.panel > .table-responsive:first-child > .table:first-child > thead:first-child > tr:first-child,
.panel > .table:first-child > tbody:first-child > tr:first-child,
.panel > .table-responsive:first-child > .table:first-child > tbody:first-child > tr:first-child {
  border-top-left-radius: 1px;
  border-top-right-radius: 1px;
}
.panel > .table:first-child > thead:first-child > tr:first-child td:first-child,
.panel > .table-responsive:first-child > .table:first-child > thead:first-child > tr:first-child td:first-child,
.panel > .table:first-child > tbody:first-child > tr:first-child td:first-child,
.panel > .table-responsive:first-child > .table:first-child > tbody:first-child > tr:first-child td:first-child,
.panel > .table:first-child > thead:first-child > tr:first-child th:first-child,
.panel > .table-responsive:first-child > .table:first-child > thead:first-child > tr:first-child th:first-child,
.panel > .table:first-child > tbody:first-child > tr:first-child th:first-child,
.panel > .table-responsive:first-child > .table:first-child > tbody:first-child > tr:first-child th:first-child {
  border-top-left-radius: 1px;
}
.panel > .table:first-child > thead:first-child > tr:first-child td:last-child,
.panel > .table-responsive:first-child > .table:first-child > thead:first-child > tr:first-child td:last-child,
.panel > .table:first-child > tbody:first-child > tr:first-child td:last-child,
.panel > .table-responsive:first-child > .table:first-child > tbody:first-child > tr:first-child td:last-child,
.panel > .table:first-child > thead:first-child > tr:first-child th:last-child,
.panel > .table-responsive:first-child > .table:first-child > thead:first-child > tr:first-child th:last-child,
.panel > .table:first-child > tbody:first-child > tr:first-child th:last-child,
.panel > .table-responsive:first-child > .table:first-child > tbody:first-child > tr:first-child th:last-child {
  border-top-right-radius: 1px;
}
.panel > .table:last-child,
.panel > .table-responsive:last-child > .table:last-child {
  border-bottom-right-radius: 1px;
  border-bottom-left-radius: 1px;
}
.panel > .table:last-child > tbody:last-child > tr:last-child,
.panel > .table-responsive:last-child > .table:last-child > tbody:last-child > tr:last-child,
.panel > .table:last-child > tfoot:last-child > tr:last-child,
.panel > .table-responsive:last-child > .table:last-child > tfoot:last-child > tr:last-child {
  border-bottom-left-radius: 1px;
  border-bottom-right-radius: 1px;
}
.panel > .table:last-child > tbody:last-child > tr:last-child td:first-child,
.panel > .table-responsive:last-child > .table:last-child > tbody:last-child > tr:last-child td:first-child,
.panel > .table:last-child > tfoot:last-child > tr:last-child td:first-child,
.panel > .table-responsive:last-child > .table:last-child > tfoot:last-child > tr:last-child td:first-child,
.panel > .table:last-child > tbody:last-child > tr:last-child th:first-child,
.panel > .table-responsive:last-child > .table:last-child > tbody:last-child > tr:last-child th:first-child,
.panel > .table:last-child > tfoot:last-child > tr:last-child th:first-child,
.panel > .table-responsive:last-child > .table:last-child > tfoot:last-child > tr:last-child th:first-child {
  border-bottom-left-radius: 1px;
}
.panel > .table:last-child > tbody:last-child > tr:last-child td:last-child,
.panel > .table-responsive:last-child > .table:last-child > tbody:last-child > tr:last-child td:last-child,
.panel > .table:last-child > tfoot:last-child > tr:last-child td:last-child,
.panel > .table-responsive:last-child > .table:last-child > tfoot:last-child > tr:last-child td:last-child,
.panel > .table:last-child > tbody:last-child > tr:last-child th:last-child,
.panel > .table-responsive:last-child > .table:last-child > tbody:last-child > tr:last-child th:last-child,
.panel > .table:last-child > tfoot:last-child > tr:last-child th:last-child,
.panel > .table-responsive:last-child > .table:last-child > tfoot:last-child > tr:last-child th:last-child {
  border-bottom-right-radius: 1px;
}
.panel > .panel-body + .table,
.panel > .panel-body + .table-responsive,
.panel > .table + .panel-body,
.panel > .table-responsive + .panel-body {
  border-top: 1px solid #ddd;
}
.panel > .table > tbody:first-child > tr:first-child th,
.panel > .table > tbody:first-child > tr:first-child td {
  border-top: 0;
}
.panel > .table-bordered,
.panel > .table-responsive > .table-bordered {
  border: 0;
}
.panel > .table-bordered > thead > tr > th:first-child,
.panel > .table-responsive > .table-bordered > thead > tr > th:first-child,
.panel > .table-bordered > tbody > tr > th:first-child,
.panel > .table-responsive > .table-bordered > tbody > tr > th:first-child,
.panel > .table-bordered > tfoot > tr > th:first-child,
.panel > .table-responsive > .table-bordered > tfoot > tr > th:first-child,
.panel > .table-bordered > thead > tr > td:first-child,
.panel > .table-responsive > .table-bordered > thead > tr > td:first-child,
.panel > .table-bordered > tbody > tr > td:first-child,
.panel > .table-responsive > .table-bordered > tbody > tr > td:first-child,
.panel > .table-bordered > tfoot > tr > td:first-child,
.panel > .table-responsive > .table-bordered > tfoot > tr > td:first-child {
  border-left: 0;
}
.panel > .table-bordered > thead > tr > th:last-child,
.panel > .table-responsive > .table-bordered > thead > tr > th:last-child,
.panel > .table-bordered > tbody > tr > th:last-child,
.panel > .table-responsive > .table-bordered > tbody > tr > th:last-child,
.panel > .table-bordered > tfoot > tr > th:last-child,
.panel > .table-responsive > .table-bordered > tfoot > tr > th:last-child,
.panel > .table-bordered > thead > tr > td:last-child,
.panel > .table-responsive > .table-bordered > thead > tr > td:last-child,
.panel > .table-bordered > tbody > tr > td:last-child,
.panel > .table-responsive > .table-bordered > tbody > tr > td:last-child,
.panel > .table-bordered > tfoot > tr > td:last-child,
.panel > .table-responsive > .table-bordered > tfoot > tr > td:last-child {
  border-right: 0;
}
.panel > .table-bordered > thead > tr:first-child > td,
.panel > .table-responsive > .table-bordered > thead > tr:first-child > td,
.panel > .table-bordered > tbody > tr:first-child > td,
.panel > .table-responsive > .table-bordered > tbody > tr:first-child > td,
.panel > .table-bordered > thead > tr:first-child > th,
.panel > .table-responsive > .table-bordered > thead > tr:first-child > th,
.panel > .table-bordered > tbody > tr:first-child > th,
.panel > .table-responsive > .table-bordered > tbody > tr:first-child > th {
  border-bottom: 0;
}
.panel > .table-bordered > tbody > tr:last-child > td,
.panel > .table-responsive > .table-bordered > tbody > tr:last-child > td,
.panel > .table-bordered > tfoot > tr:last-child > td,
.panel > .table-responsive > .table-bordered > tfoot > tr:last-child > td,
.panel > .table-bordered > tbody > tr:last-child > th,
.panel > .table-responsive > .table-bordered > tbody > tr:last-child > th,
.panel > .table-bordered > tfoot > tr:last-child > th,
.panel > .table-responsive > .table-bordered > tfoot > tr:last-child > th {
  border-bottom: 0;
}
.panel > .table-responsive {
  border: 0;
  margin-bottom: 0;
}
.panel-group {
  margin-bottom: 18px;
}
.panel-group .panel {
  margin-bottom: 0;
  border-radius: 2px;
}
.panel-group .panel + .panel {
  margin-top: 5px;
}
.panel-group .panel-heading {
  border-bottom: 0;
}
.panel-group .panel-heading + .panel-collapse > .panel-body,
.panel-group .panel-heading + .panel-collapse > .list-group {
  border-top: 1px solid #ddd;
}
.panel-group .panel-footer {
  border-top: 0;
}
.panel-group .panel-footer + .panel-collapse .panel-body {
  border-bottom: 1px solid #ddd;
}
.panel-default {
  border-color: #ddd;
}
.panel-default > .panel-heading {
  color: #333333;
  background-color: #f5f5f5;
  border-color: #ddd;
}
.panel-default > .panel-heading + .panel-collapse > .panel-body {
  border-top-color: #ddd;
}
.panel-default > .panel-heading .badge {
  color: #f5f5f5;
  background-color: #333333;
}
.panel-default > .panel-footer + .panel-collapse > .panel-body {
  border-bottom-color: #ddd;
}
.panel-primary {
  border-color: #337ab7;
}
.panel-primary > .panel-heading {
  color: #fff;
  background-color: #337ab7;
  border-color: #337ab7;
}
.panel-primary > .panel-heading + .panel-collapse > .panel-body {
  border-top-color: #337ab7;
}
.panel-primary > .panel-heading .badge {
  color: #337ab7;
  background-color: #fff;
}
.panel-primary > .panel-footer + .panel-collapse > .panel-body {
  border-bottom-color: #337ab7;
}
.panel-success {
  border-color: #d6e9c6;
}
.panel-success > .panel-heading {
  color: #3c763d;
  background-color: #dff0d8;
  border-color: #d6e9c6;
}
.panel-success > .panel-heading + .panel-collapse > .panel-body {
  border-top-color: #d6e9c6;
}
.panel-success > .panel-heading .badge {
  color: #dff0d8;
  background-color: #3c763d;
}
.panel-success > .panel-footer + .panel-collapse > .panel-body {
  border-bottom-color: #d6e9c6;
}
.panel-info {
  border-color: #bce8f1;
}
.panel-info > .panel-heading {
  color: #31708f;
  background-color: #d9edf7;
  border-color: #bce8f1;
}
.panel-info > .panel-heading + .panel-collapse > .panel-body {
  border-top-color: #bce8f1;
}
.panel-info > .panel-heading .badge {
  color: #d9edf7;
  background-color: #31708f;
}
.panel-info > .panel-footer + .panel-collapse > .panel-body {
  border-bottom-color: #bce8f1;
}
.panel-warning {
  border-color: #faebcc;
}
.panel-warning > .panel-heading {
  color: #8a6d3b;
  background-color: #fcf8e3;
  border-color: #faebcc;
}
.panel-warning > .panel-heading + .panel-collapse > .panel-body {
  border-top-color: #faebcc;
}
.panel-warning > .panel-heading .badge {
  color: #fcf8e3;
  background-color: #8a6d3b;
}
.panel-warning > .panel-footer + .panel-collapse > .panel-body {
  border-bottom-color: #faebcc;
}
.panel-danger {
  border-color: #ebccd1;
}
.panel-danger > .panel-heading {
  color: #a94442;
  background-color: #f2dede;
  border-color: #ebccd1;
}
.panel-danger > .panel-heading + .panel-collapse > .panel-body {
  border-top-color: #ebccd1;
}
.panel-danger > .panel-heading .badge {
  color: #f2dede;
  background-color: #a94442;
}
.panel-danger > .panel-footer + .panel-collapse > .panel-body {
  border-bottom-color: #ebccd1;
}
.embed-responsive {
  position: relative;
  display: block;
  height: 0;
  padding: 0;
  overflow: hidden;
}
.embed-responsive .embed-responsive-item,
.embed-responsive iframe,
.embed-responsive embed,
.embed-responsive object,
.embed-responsive video {
  position: absolute;
  top: 0;
  left: 0;
  bottom: 0;
  height: 100%;
  width: 100%;
  border: 0;
}
.embed-responsive-16by9 {
  padding-bottom: 56.25%;
}
.embed-responsive-4by3 {
  padding-bottom: 75%;
}
.well {
  min-height: 20px;
  padding: 19px;
  margin-bottom: 20px;
  background-color: #f5f5f5;
  border: 1px solid #e3e3e3;
  border-radius: 2px;
  -webkit-box-shadow: inset 0 1px 1px rgba(0, 0, 0, 0.05);
  box-shadow: inset 0 1px 1px rgba(0, 0, 0, 0.05);
}
.well blockquote {
  border-color: #ddd;
  border-color: rgba(0, 0, 0, 0.15);
}
.well-lg {
  padding: 24px;
  border-radius: 3px;
}
.well-sm {
  padding: 9px;
  border-radius: 1px;
}
.close {
  float: right;
  font-size: 19.5px;
  font-weight: bold;
  line-height: 1;
  color: #000;
  text-shadow: 0 1px 0 #fff;
  opacity: 0.2;
  filter: alpha(opacity=20);
}
.close:hover,
.close:focus {
  color: #000;
  text-decoration: none;
  cursor: pointer;
  opacity: 0.5;
  filter: alpha(opacity=50);
}
button.close {
  padding: 0;
  cursor: pointer;
  background: transparent;
  border: 0;
  -webkit-appearance: none;
}
.modal-open {
  overflow: hidden;
}
.modal {
  display: none;
  overflow: hidden;
  position: fixed;
  top: 0;
  right: 0;
  bottom: 0;
  left: 0;
  z-index: 1050;
  -webkit-overflow-scrolling: touch;
  outline: 0;
}
.modal.fade .modal-dialog {
  -webkit-transform: translate(0, -25%);
  -ms-transform: translate(0, -25%);
  -o-transform: translate(0, -25%);
  transform: translate(0, -25%);
  -webkit-transition: -webkit-transform 0.3s ease-out;
  -moz-transition: -moz-transform 0.3s ease-out;
  -o-transition: -o-transform 0.3s ease-out;
  transition: transform 0.3s ease-out;
}
.modal.in .modal-dialog {
  -webkit-transform: translate(0, 0);
  -ms-transform: translate(0, 0);
  -o-transform: translate(0, 0);
  transform: translate(0, 0);
}
.modal-open .modal {
  overflow-x: hidden;
  overflow-y: auto;
}
.modal-dialog {
  position: relative;
  width: auto;
  margin: 10px;
}
.modal-content {
  position: relative;
  background-color: #fff;
  border: 1px solid #999;
  border: 1px solid rgba(0, 0, 0, 0.2);
  border-radius: 3px;
  -webkit-box-shadow: 0 3px 9px rgba(0, 0, 0, 0.5);
  box-shadow: 0 3px 9px rgba(0, 0, 0, 0.5);
  background-clip: padding-box;
  outline: 0;
}
.modal-backdrop {
  position: fixed;
  top: 0;
  right: 0;
  bottom: 0;
  left: 0;
  z-index: 1040;
  background-color: #000;
}
.modal-backdrop.fade {
  opacity: 0;
  filter: alpha(opacity=0);
}
.modal-backdrop.in {
  opacity: 0.5;
  filter: alpha(opacity=50);
}
.modal-header {
  padding: 15px;
  border-bottom: 1px solid #e5e5e5;
}
.modal-header .close {
  margin-top: -2px;
}
.modal-title {
  margin: 0;
  line-height: 1.42857143;
}
.modal-body {
  position: relative;
  padding: 15px;
}
.modal-footer {
  padding: 15px;
  text-align: right;
  border-top: 1px solid #e5e5e5;
}
.modal-footer .btn + .btn {
  margin-left: 5px;
  margin-bottom: 0;
}
.modal-footer .btn-group .btn + .btn {
  margin-left: -1px;
}
.modal-footer .btn-block + .btn-block {
  margin-left: 0;
}
.modal-scrollbar-measure {
  position: absolute;
  top: -9999px;
  width: 50px;
  height: 50px;
  overflow: scroll;
}
@media (min-width: 768px) {
  .modal-dialog {
    width: 600px;
    margin: 30px auto;
  }
  .modal-content {
    -webkit-box-shadow: 0 5px 15px rgba(0, 0, 0, 0.5);
    box-shadow: 0 5px 15px rgba(0, 0, 0, 0.5);
  }
  .modal-sm {
    width: 300px;
  }
}
@media (min-width: 992px) {
  .modal-lg {
    width: 900px;
  }
}
.tooltip {
  position: absolute;
  z-index: 1070;
  display: block;
  font-family: "Helvetica Neue", Helvetica, Arial, sans-serif;
  font-style: normal;
  font-weight: normal;
  letter-spacing: normal;
  line-break: auto;
  line-height: 1.42857143;
  text-align: left;
  text-align: start;
  text-decoration: none;
  text-shadow: none;
  text-transform: none;
  white-space: normal;
  word-break: normal;
  word-spacing: normal;
  word-wrap: normal;
  font-size: 12px;
  opacity: 0;
  filter: alpha(opacity=0);
}
.tooltip.in {
  opacity: 0.9;
  filter: alpha(opacity=90);
}
.tooltip.top {
  margin-top: -3px;
  padding: 5px 0;
}
.tooltip.right {
  margin-left: 3px;
  padding: 0 5px;
}
.tooltip.bottom {
  margin-top: 3px;
  padding: 5px 0;
}
.tooltip.left {
  margin-left: -3px;
  padding: 0 5px;
}
.tooltip-inner {
  max-width: 200px;
  padding: 3px 8px;
  color: #fff;
  text-align: center;
  background-color: #000;
  border-radius: 2px;
}
.tooltip-arrow {
  position: absolute;
  width: 0;
  height: 0;
  border-color: transparent;
  border-style: solid;
}
.tooltip.top .tooltip-arrow {
  bottom: 0;
  left: 50%;
  margin-left: -5px;
  border-width: 5px 5px 0;
  border-top-color: #000;
}
.tooltip.top-left .tooltip-arrow {
  bottom: 0;
  right: 5px;
  margin-bottom: -5px;
  border-width: 5px 5px 0;
  border-top-color: #000;
}
.tooltip.top-right .tooltip-arrow {
  bottom: 0;
  left: 5px;
  margin-bottom: -5px;
  border-width: 5px 5px 0;
  border-top-color: #000;
}
.tooltip.right .tooltip-arrow {
  top: 50%;
  left: 0;
  margin-top: -5px;
  border-width: 5px 5px 5px 0;
  border-right-color: #000;
}
.tooltip.left .tooltip-arrow {
  top: 50%;
  right: 0;
  margin-top: -5px;
  border-width: 5px 0 5px 5px;
  border-left-color: #000;
}
.tooltip.bottom .tooltip-arrow {
  top: 0;
  left: 50%;
  margin-left: -5px;
  border-width: 0 5px 5px;
  border-bottom-color: #000;
}
.tooltip.bottom-left .tooltip-arrow {
  top: 0;
  right: 5px;
  margin-top: -5px;
  border-width: 0 5px 5px;
  border-bottom-color: #000;
}
.tooltip.bottom-right .tooltip-arrow {
  top: 0;
  left: 5px;
  margin-top: -5px;
  border-width: 0 5px 5px;
  border-bottom-color: #000;
}
.popover {
  position: absolute;
  top: 0;
  left: 0;
  z-index: 1060;
  display: none;
  max-width: 276px;
  padding: 1px;
  font-family: "Helvetica Neue", Helvetica, Arial, sans-serif;
  font-style: normal;
  font-weight: normal;
  letter-spacing: normal;
  line-break: auto;
  line-height: 1.42857143;
  text-align: left;
  text-align: start;
  text-decoration: none;
  text-shadow: none;
  text-transform: none;
  white-space: normal;
  word-break: normal;
  word-spacing: normal;
  word-wrap: normal;
  font-size: 13px;
  background-color: #fff;
  background-clip: padding-box;
  border: 1px solid #ccc;
  border: 1px solid rgba(0, 0, 0, 0.2);
  border-radius: 3px;
  -webkit-box-shadow: 0 5px 10px rgba(0, 0, 0, 0.2);
  box-shadow: 0 5px 10px rgba(0, 0, 0, 0.2);
}
.popover.top {
  margin-top: -10px;
}
.popover.right {
  margin-left: 10px;
}
.popover.bottom {
  margin-top: 10px;
}
.popover.left {
  margin-left: -10px;
}
.popover-title {
  margin: 0;
  padding: 8px 14px;
  font-size: 13px;
  background-color: #f7f7f7;
  border-bottom: 1px solid #ebebeb;
  border-radius: 2px 2px 0 0;
}
.popover-content {
  padding: 9px 14px;
}
.popover > .arrow,
.popover > .arrow:after {
  position: absolute;
  display: block;
  width: 0;
  height: 0;
  border-color: transparent;
  border-style: solid;
}
.popover > .arrow {
  border-width: 11px;
}
.popover > .arrow:after {
  border-width: 10px;
  content: "";
}
.popover.top > .arrow {
  left: 50%;
  margin-left: -11px;
  border-bottom-width: 0;
  border-top-color: #999999;
  border-top-color: rgba(0, 0, 0, 0.25);
  bottom: -11px;
}
.popover.top > .arrow:after {
  content: " ";
  bottom: 1px;
  margin-left: -10px;
  border-bottom-width: 0;
  border-top-color: #fff;
}
.popover.right > .arrow {
  top: 50%;
  left: -11px;
  margin-top: -11px;
  border-left-width: 0;
  border-right-color: #999999;
  border-right-color: rgba(0, 0, 0, 0.25);
}
.popover.right > .arrow:after {
  content: " ";
  left: 1px;
  bottom: -10px;
  border-left-width: 0;
  border-right-color: #fff;
}
.popover.bottom > .arrow {
  left: 50%;
  margin-left: -11px;
  border-top-width: 0;
  border-bottom-color: #999999;
  border-bottom-color: rgba(0, 0, 0, 0.25);
  top: -11px;
}
.popover.bottom > .arrow:after {
  content: " ";
  top: 1px;
  margin-left: -10px;
  border-top-width: 0;
  border-bottom-color: #fff;
}
.popover.left > .arrow {
  top: 50%;
  right: -11px;
  margin-top: -11px;
  border-right-width: 0;
  border-left-color: #999999;
  border-left-color: rgba(0, 0, 0, 0.25);
}
.popover.left > .arrow:after {
  content: " ";
  right: 1px;
  border-right-width: 0;
  border-left-color: #fff;
  bottom: -10px;
}
.carousel {
  position: relative;
}
.carousel-inner {
  position: relative;
  overflow: hidden;
  width: 100%;
}
.carousel-inner > .item {
  display: none;
  position: relative;
  -webkit-transition: 0.6s ease-in-out left;
  -o-transition: 0.6s ease-in-out left;
  transition: 0.6s ease-in-out left;
}
.carousel-inner > .item > img,
.carousel-inner > .item > a > img {
  line-height: 1;
}
@media all and (transform-3d), (-webkit-transform-3d) {
  .carousel-inner > .item {
    -webkit-transition: -webkit-transform 0.6s ease-in-out;
    -moz-transition: -moz-transform 0.6s ease-in-out;
    -o-transition: -o-transform 0.6s ease-in-out;
    transition: transform 0.6s ease-in-out;
    -webkit-backface-visibility: hidden;
    -moz-backface-visibility: hidden;
    backface-visibility: hidden;
    -webkit-perspective: 1000px;
    -moz-perspective: 1000px;
    perspective: 1000px;
  }
  .carousel-inner > .item.next,
  .carousel-inner > .item.active.right {
    -webkit-transform: translate3d(100%, 0, 0);
    transform: translate3d(100%, 0, 0);
    left: 0;
  }
  .carousel-inner > .item.prev,
  .carousel-inner > .item.active.left {
    -webkit-transform: translate3d(-100%, 0, 0);
    transform: translate3d(-100%, 0, 0);
    left: 0;
  }
  .carousel-inner > .item.next.left,
  .carousel-inner > .item.prev.right,
  .carousel-inner > .item.active {
    -webkit-transform: translate3d(0, 0, 0);
    transform: translate3d(0, 0, 0);
    left: 0;
  }
}
.carousel-inner > .active,
.carousel-inner > .next,
.carousel-inner > .prev {
  display: block;
}
.carousel-inner > .active {
  left: 0;
}
.carousel-inner > .next,
.carousel-inner > .prev {
  position: absolute;
  top: 0;
  width: 100%;
}
.carousel-inner > .next {
  left: 100%;
}
.carousel-inner > .prev {
  left: -100%;
}
.carousel-inner > .next.left,
.carousel-inner > .prev.right {
  left: 0;
}
.carousel-inner > .active.left {
  left: -100%;
}
.carousel-inner > .active.right {
  left: 100%;
}
.carousel-control {
  position: absolute;
  top: 0;
  left: 0;
  bottom: 0;
  width: 15%;
  opacity: 0.5;
  filter: alpha(opacity=50);
  font-size: 20px;
  color: #fff;
  text-align: center;
  text-shadow: 0 1px 2px rgba(0, 0, 0, 0.6);
  background-color: rgba(0, 0, 0, 0);
}
.carousel-control.left {
  background-image: -webkit-linear-gradient(left, rgba(0, 0, 0, 0.5) 0%, rgba(0, 0, 0, 0.0001) 100%);
  background-image: -o-linear-gradient(left, rgba(0, 0, 0, 0.5) 0%, rgba(0, 0, 0, 0.0001) 100%);
  background-image: linear-gradient(to right, rgba(0, 0, 0, 0.5) 0%, rgba(0, 0, 0, 0.0001) 100%);
  background-repeat: repeat-x;
  filter: progid:DXImageTransform.Microsoft.gradient(startColorstr='#80000000', endColorstr='#00000000', GradientType=1);
}
.carousel-control.right {
  left: auto;
  right: 0;
  background-image: -webkit-linear-gradient(left, rgba(0, 0, 0, 0.0001) 0%, rgba(0, 0, 0, 0.5) 100%);
  background-image: -o-linear-gradient(left, rgba(0, 0, 0, 0.0001) 0%, rgba(0, 0, 0, 0.5) 100%);
  background-image: linear-gradient(to right, rgba(0, 0, 0, 0.0001) 0%, rgba(0, 0, 0, 0.5) 100%);
  background-repeat: repeat-x;
  filter: progid:DXImageTransform.Microsoft.gradient(startColorstr='#00000000', endColorstr='#80000000', GradientType=1);
}
.carousel-control:hover,
.carousel-control:focus {
  outline: 0;
  color: #fff;
  text-decoration: none;
  opacity: 0.9;
  filter: alpha(opacity=90);
}
.carousel-control .icon-prev,
.carousel-control .icon-next,
.carousel-control .glyphicon-chevron-left,
.carousel-control .glyphicon-chevron-right {
  position: absolute;
  top: 50%;
  margin-top: -10px;
  z-index: 5;
  display: inline-block;
}
.carousel-control .icon-prev,
.carousel-control .glyphicon-chevron-left {
  left: 50%;
  margin-left: -10px;
}
.carousel-control .icon-next,
.carousel-control .glyphicon-chevron-right {
  right: 50%;
  margin-right: -10px;
}
.carousel-control .icon-prev,
.carousel-control .icon-next {
  width: 20px;
  height: 20px;
  line-height: 1;
  font-family: serif;
}
.carousel-control .icon-prev:before {
  content: '\2039';
}
.carousel-control .icon-next:before {
  content: '\203a';
}
.carousel-indicators {
  position: absolute;
  bottom: 10px;
  left: 50%;
  z-index: 15;
  width: 60%;
  margin-left: -30%;
  padding-left: 0;
  list-style: none;
  text-align: center;
}
.carousel-indicators li {
  display: inline-block;
  width: 10px;
  height: 10px;
  margin: 1px;
  text-indent: -999px;
  border: 1px solid #fff;
  border-radius: 10px;
  cursor: pointer;
  background-color: #000 \9;
  background-color: rgba(0, 0, 0, 0);
}
.carousel-indicators .active {
  margin: 0;
  width: 12px;
  height: 12px;
  background-color: #fff;
}
.carousel-caption {
  position: absolute;
  left: 15%;
  right: 15%;
  bottom: 20px;
  z-index: 10;
  padding-top: 20px;
  padding-bottom: 20px;
  color: #fff;
  text-align: center;
  text-shadow: 0 1px 2px rgba(0, 0, 0, 0.6);
}
.carousel-caption .btn {
  text-shadow: none;
}
@media screen and (min-width: 768px) {
  .carousel-control .glyphicon-chevron-left,
  .carousel-control .glyphicon-chevron-right,
  .carousel-control .icon-prev,
  .carousel-control .icon-next {
    width: 30px;
    height: 30px;
    margin-top: -10px;
    font-size: 30px;
  }
  .carousel-control .glyphicon-chevron-left,
  .carousel-control .icon-prev {
    margin-left: -10px;
  }
  .carousel-control .glyphicon-chevron-right,
  .carousel-control .icon-next {
    margin-right: -10px;
  }
  .carousel-caption {
    left: 20%;
    right: 20%;
    padding-bottom: 30px;
  }
  .carousel-indicators {
    bottom: 20px;
  }
}
.clearfix:before,
.clearfix:after,
.dl-horizontal dd:before,
.dl-horizontal dd:after,
.container:before,
.container:after,
.container-fluid:before,
.container-fluid:after,
.row:before,
.row:after,
.form-horizontal .form-group:before,
.form-horizontal .form-group:after,
.btn-toolbar:before,
.btn-toolbar:after,
.btn-group-vertical > .btn-group:before,
.btn-group-vertical > .btn-group:after,
.nav:before,
.nav:after,
.navbar:before,
.navbar:after,
.navbar-header:before,
.navbar-header:after,
.navbar-collapse:before,
.navbar-collapse:after,
.pager:before,
.pager:after,
.panel-body:before,
.panel-body:after,
.modal-header:before,
.modal-header:after,
.modal-footer:before,
.modal-footer:after,
.item_buttons:before,
.item_buttons:after {
  content: " ";
  display: table;
}
.clearfix:after,
.dl-horizontal dd:after,
.container:after,
.container-fluid:after,
.row:after,
.form-horizontal .form-group:after,
.btn-toolbar:after,
.btn-group-vertical > .btn-group:after,
.nav:after,
.navbar:after,
.navbar-header:after,
.navbar-collapse:after,
.pager:after,
.panel-body:after,
.modal-header:after,
.modal-footer:after,
.item_buttons:after {
  clear: both;
}
.center-block {
  display: block;
  margin-left: auto;
  margin-right: auto;
}
.pull-right {
  float: right !important;
}
.pull-left {
  float: left !important;
}
.hide {
  display: none !important;
}
.show {
  display: block !important;
}
.invisible {
  visibility: hidden;
}
.text-hide {
  font: 0/0 a;
  color: transparent;
  text-shadow: none;
  background-color: transparent;
  border: 0;
}
.hidden {
  display: none !important;
}
.affix {
  position: fixed;
}
@-ms-viewport {
  width: device-width;
}
.visible-xs,
.visible-sm,
.visible-md,
.visible-lg {
  display: none !important;
}
.visible-xs-block,
.visible-xs-inline,
.visible-xs-inline-block,
.visible-sm-block,
.visible-sm-inline,
.visible-sm-inline-block,
.visible-md-block,
.visible-md-inline,
.visible-md-inline-block,
.visible-lg-block,
.visible-lg-inline,
.visible-lg-inline-block {
  display: none !important;
}
@media (max-width: 767px) {
  .visible-xs {
    display: block !important;
  }
  table.visible-xs {
    display: table !important;
  }
  tr.visible-xs {
    display: table-row !important;
  }
  th.visible-xs,
  td.visible-xs {
    display: table-cell !important;
  }
}
@media (max-width: 767px) {
  .visible-xs-block {
    display: block !important;
  }
}
@media (max-width: 767px) {
  .visible-xs-inline {
    display: inline !important;
  }
}
@media (max-width: 767px) {
  .visible-xs-inline-block {
    display: inline-block !important;
  }
}
@media (min-width: 768px) and (max-width: 991px) {
  .visible-sm {
    display: block !important;
  }
  table.visible-sm {
    display: table !important;
  }
  tr.visible-sm {
    display: table-row !important;
  }
  th.visible-sm,
  td.visible-sm {
    display: table-cell !important;
  }
}
@media (min-width: 768px) and (max-width: 991px) {
  .visible-sm-block {
    display: block !important;
  }
}
@media (min-width: 768px) and (max-width: 991px) {
  .visible-sm-inline {
    display: inline !important;
  }
}
@media (min-width: 768px) and (max-width: 991px) {
  .visible-sm-inline-block {
    display: inline-block !important;
  }
}
@media (min-width: 992px) and (max-width: 1199px) {
  .visible-md {
    display: block !important;
  }
  table.visible-md {
    display: table !important;
  }
  tr.visible-md {
    display: table-row !important;
  }
  th.visible-md,
  td.visible-md {
    display: table-cell !important;
  }
}
@media (min-width: 992px) and (max-width: 1199px) {
  .visible-md-block {
    display: block !important;
  }
}
@media (min-width: 992px) and (max-width: 1199px) {
  .visible-md-inline {
    display: inline !important;
  }
}
@media (min-width: 992px) and (max-width: 1199px) {
  .visible-md-inline-block {
    display: inline-block !important;
  }
}
@media (min-width: 1200px) {
  .visible-lg {
    display: block !important;
  }
  table.visible-lg {
    display: table !important;
  }
  tr.visible-lg {
    display: table-row !important;
  }
  th.visible-lg,
  td.visible-lg {
    display: table-cell !important;
  }
}
@media (min-width: 1200px) {
  .visible-lg-block {
    display: block !important;
  }
}
@media (min-width: 1200px) {
  .visible-lg-inline {
    display: inline !important;
  }
}
@media (min-width: 1200px) {
  .visible-lg-inline-block {
    display: inline-block !important;
  }
}
@media (max-width: 767px) {
  .hidden-xs {
    display: none !important;
  }
}
@media (min-width: 768px) and (max-width: 991px) {
  .hidden-sm {
    display: none !important;
  }
}
@media (min-width: 992px) and (max-width: 1199px) {
  .hidden-md {
    display: none !important;
  }
}
@media (min-width: 1200px) {
  .hidden-lg {
    display: none !important;
  }
}
.visible-print {
  display: none !important;
}
@media print {
  .visible-print {
    display: block !important;
  }
  table.visible-print {
    display: table !important;
  }
  tr.visible-print {
    display: table-row !important;
  }
  th.visible-print,
  td.visible-print {
    display: table-cell !important;
  }
}
.visible-print-block {
  display: none !important;
}
@media print {
  .visible-print-block {
    display: block !important;
  }
}
.visible-print-inline {
  display: none !important;
}
@media print {
  .visible-print-inline {
    display: inline !important;
  }
}
.visible-print-inline-block {
  display: none !important;
}
@media print {
  .visible-print-inline-block {
    display: inline-block !important;
  }
}
@media print {
  .hidden-print {
    display: none !important;
  }
}
/*!
*
* Font Awesome
*
*/
/*!
 *  Font Awesome 4.2.0 by @davegandy - http://fontawesome.io - @fontawesome
 *  License - http://fontawesome.io/license (Font: SIL OFL 1.1, CSS: MIT License)
 */
/* FONT PATH
 * -------------------------- */
@font-face {
  font-family: 'FontAwesome';
  src: url('../components/font-awesome/fonts/fontawesome-webfont.eot?v=4.2.0');
  src: url('../components/font-awesome/fonts/fontawesome-webfont.eot?#iefix&v=4.2.0') format('embedded-opentype'), url('../components/font-awesome/fonts/fontawesome-webfont.woff?v=4.2.0') format('woff'), url('../components/font-awesome/fonts/fontawesome-webfont.ttf?v=4.2.0') format('truetype'), url('../components/font-awesome/fonts/fontawesome-webfont.svg?v=4.2.0#fontawesomeregular') format('svg');
  font-weight: normal;
  font-style: normal;
}
.fa {
  display: inline-block;
  font: normal normal normal 14px/1 FontAwesome;
  font-size: inherit;
  text-rendering: auto;
  -webkit-font-smoothing: antialiased;
  -moz-osx-font-smoothing: grayscale;
}
/* makes the font 33% larger relative to the icon container */
.fa-lg {
  font-size: 1.33333333em;
  line-height: 0.75em;
  vertical-align: -15%;
}
.fa-2x {
  font-size: 2em;
}
.fa-3x {
  font-size: 3em;
}
.fa-4x {
  font-size: 4em;
}
.fa-5x {
  font-size: 5em;
}
.fa-fw {
  width: 1.28571429em;
  text-align: center;
}
.fa-ul {
  padding-left: 0;
  margin-left: 2.14285714em;
  list-style-type: none;
}
.fa-ul > li {
  position: relative;
}
.fa-li {
  position: absolute;
  left: -2.14285714em;
  width: 2.14285714em;
  top: 0.14285714em;
  text-align: center;
}
.fa-li.fa-lg {
  left: -1.85714286em;
}
.fa-border {
  padding: .2em .25em .15em;
  border: solid 0.08em #eee;
  border-radius: .1em;
}
.pull-right {
  float: right;
}
.pull-left {
  float: left;
}
.fa.pull-left {
  margin-right: .3em;
}
.fa.pull-right {
  margin-left: .3em;
}
.fa-spin {
  -webkit-animation: fa-spin 2s infinite linear;
  animation: fa-spin 2s infinite linear;
}
@-webkit-keyframes fa-spin {
  0% {
    -webkit-transform: rotate(0deg);
    transform: rotate(0deg);
  }
  100% {
    -webkit-transform: rotate(359deg);
    transform: rotate(359deg);
  }
}
@keyframes fa-spin {
  0% {
    -webkit-transform: rotate(0deg);
    transform: rotate(0deg);
  }
  100% {
    -webkit-transform: rotate(359deg);
    transform: rotate(359deg);
  }
}
.fa-rotate-90 {
  filter: progid:DXImageTransform.Microsoft.BasicImage(rotation=1);
  -webkit-transform: rotate(90deg);
  -ms-transform: rotate(90deg);
  transform: rotate(90deg);
}
.fa-rotate-180 {
  filter: progid:DXImageTransform.Microsoft.BasicImage(rotation=2);
  -webkit-transform: rotate(180deg);
  -ms-transform: rotate(180deg);
  transform: rotate(180deg);
}
.fa-rotate-270 {
  filter: progid:DXImageTransform.Microsoft.BasicImage(rotation=3);
  -webkit-transform: rotate(270deg);
  -ms-transform: rotate(270deg);
  transform: rotate(270deg);
}
.fa-flip-horizontal {
  filter: progid:DXImageTransform.Microsoft.BasicImage(rotation=0, mirror=1);
  -webkit-transform: scale(-1, 1);
  -ms-transform: scale(-1, 1);
  transform: scale(-1, 1);
}
.fa-flip-vertical {
  filter: progid:DXImageTransform.Microsoft.BasicImage(rotation=2, mirror=1);
  -webkit-transform: scale(1, -1);
  -ms-transform: scale(1, -1);
  transform: scale(1, -1);
}
:root .fa-rotate-90,
:root .fa-rotate-180,
:root .fa-rotate-270,
:root .fa-flip-horizontal,
:root .fa-flip-vertical {
  filter: none;
}
.fa-stack {
  position: relative;
  display: inline-block;
  width: 2em;
  height: 2em;
  line-height: 2em;
  vertical-align: middle;
}
.fa-stack-1x,
.fa-stack-2x {
  position: absolute;
  left: 0;
  width: 100%;
  text-align: center;
}
.fa-stack-1x {
  line-height: inherit;
}
.fa-stack-2x {
  font-size: 2em;
}
.fa-inverse {
  color: #fff;
}
/* Font Awesome uses the Unicode Private Use Area (PUA) to ensure screen
   readers do not read off random characters that represent icons */
.fa-glass:before {
  content: "\f000";
}
.fa-music:before {
  content: "\f001";
}
.fa-search:before {
  content: "\f002";
}
.fa-envelope-o:before {
  content: "\f003";
}
.fa-heart:before {
  content: "\f004";
}
.fa-star:before {
  content: "\f005";
}
.fa-star-o:before {
  content: "\f006";
}
.fa-user:before {
  content: "\f007";
}
.fa-film:before {
  content: "\f008";
}
.fa-th-large:before {
  content: "\f009";
}
.fa-th:before {
  content: "\f00a";
}
.fa-th-list:before {
  content: "\f00b";
}
.fa-check:before {
  content: "\f00c";
}
.fa-remove:before,
.fa-close:before,
.fa-times:before {
  content: "\f00d";
}
.fa-search-plus:before {
  content: "\f00e";
}
.fa-search-minus:before {
  content: "\f010";
}
.fa-power-off:before {
  content: "\f011";
}
.fa-signal:before {
  content: "\f012";
}
.fa-gear:before,
.fa-cog:before {
  content: "\f013";
}
.fa-trash-o:before {
  content: "\f014";
}
.fa-home:before {
  content: "\f015";
}
.fa-file-o:before {
  content: "\f016";
}
.fa-clock-o:before {
  content: "\f017";
}
.fa-road:before {
  content: "\f018";
}
.fa-download:before {
  content: "\f019";
}
.fa-arrow-circle-o-down:before {
  content: "\f01a";
}
.fa-arrow-circle-o-up:before {
  content: "\f01b";
}
.fa-inbox:before {
  content: "\f01c";
}
.fa-play-circle-o:before {
  content: "\f01d";
}
.fa-rotate-right:before,
.fa-repeat:before {
  content: "\f01e";
}
.fa-refresh:before {
  content: "\f021";
}
.fa-list-alt:before {
  content: "\f022";
}
.fa-lock:before {
  content: "\f023";
}
.fa-flag:before {
  content: "\f024";
}
.fa-headphones:before {
  content: "\f025";
}
.fa-volume-off:before {
  content: "\f026";
}
.fa-volume-down:before {
  content: "\f027";
}
.fa-volume-up:before {
  content: "\f028";
}
.fa-qrcode:before {
  content: "\f029";
}
.fa-barcode:before {
  content: "\f02a";
}
.fa-tag:before {
  content: "\f02b";
}
.fa-tags:before {
  content: "\f02c";
}
.fa-book:before {
  content: "\f02d";
}
.fa-bookmark:before {
  content: "\f02e";
}
.fa-print:before {
  content: "\f02f";
}
.fa-camera:before {
  content: "\f030";
}
.fa-font:before {
  content: "\f031";
}
.fa-bold:before {
  content: "\f032";
}
.fa-italic:before {
  content: "\f033";
}
.fa-text-height:before {
  content: "\f034";
}
.fa-text-width:before {
  content: "\f035";
}
.fa-align-left:before {
  content: "\f036";
}
.fa-align-center:before {
  content: "\f037";
}
.fa-align-right:before {
  content: "\f038";
}
.fa-align-justify:before {
  content: "\f039";
}
.fa-list:before {
  content: "\f03a";
}
.fa-dedent:before,
.fa-outdent:before {
  content: "\f03b";
}
.fa-indent:before {
  content: "\f03c";
}
.fa-video-camera:before {
  content: "\f03d";
}
.fa-photo:before,
.fa-image:before,
.fa-picture-o:before {
  content: "\f03e";
}
.fa-pencil:before {
  content: "\f040";
}
.fa-map-marker:before {
  content: "\f041";
}
.fa-adjust:before {
  content: "\f042";
}
.fa-tint:before {
  content: "\f043";
}
.fa-edit:before,
.fa-pencil-square-o:before {
  content: "\f044";
}
.fa-share-square-o:before {
  content: "\f045";
}
.fa-check-square-o:before {
  content: "\f046";
}
.fa-arrows:before {
  content: "\f047";
}
.fa-step-backward:before {
  content: "\f048";
}
.fa-fast-backward:before {
  content: "\f049";
}
.fa-backward:before {
  content: "\f04a";
}
.fa-play:before {
  content: "\f04b";
}
.fa-pause:before {
  content: "\f04c";
}
.fa-stop:before {
  content: "\f04d";
}
.fa-forward:before {
  content: "\f04e";
}
.fa-fast-forward:before {
  content: "\f050";
}
.fa-step-forward:before {
  content: "\f051";
}
.fa-eject:before {
  content: "\f052";
}
.fa-chevron-left:before {
  content: "\f053";
}
.fa-chevron-right:before {
  content: "\f054";
}
.fa-plus-circle:before {
  content: "\f055";
}
.fa-minus-circle:before {
  content: "\f056";
}
.fa-times-circle:before {
  content: "\f057";
}
.fa-check-circle:before {
  content: "\f058";
}
.fa-question-circle:before {
  content: "\f059";
}
.fa-info-circle:before {
  content: "\f05a";
}
.fa-crosshairs:before {
  content: "\f05b";
}
.fa-times-circle-o:before {
  content: "\f05c";
}
.fa-check-circle-o:before {
  content: "\f05d";
}
.fa-ban:before {
  content: "\f05e";
}
.fa-arrow-left:before {
  content: "\f060";
}
.fa-arrow-right:before {
  content: "\f061";
}
.fa-arrow-up:before {
  content: "\f062";
}
.fa-arrow-down:before {
  content: "\f063";
}
.fa-mail-forward:before,
.fa-share:before {
  content: "\f064";
}
.fa-expand:before {
  content: "\f065";
}
.fa-compress:before {
  content: "\f066";
}
.fa-plus:before {
  content: "\f067";
}
.fa-minus:before {
  content: "\f068";
}
.fa-asterisk:before {
  content: "\f069";
}
.fa-exclamation-circle:before {
  content: "\f06a";
}
.fa-gift:before {
  content: "\f06b";
}
.fa-leaf:before {
  content: "\f06c";
}
.fa-fire:before {
  content: "\f06d";
}
.fa-eye:before {
  content: "\f06e";
}
.fa-eye-slash:before {
  content: "\f070";
}
.fa-warning:before,
.fa-exclamation-triangle:before {
  content: "\f071";
}
.fa-plane:before {
  content: "\f072";
}
.fa-calendar:before {
  content: "\f073";
}
.fa-random:before {
  content: "\f074";
}
.fa-comment:before {
  content: "\f075";
}
.fa-magnet:before {
  content: "\f076";
}
.fa-chevron-up:before {
  content: "\f077";
}
.fa-chevron-down:before {
  content: "\f078";
}
.fa-retweet:before {
  content: "\f079";
}
.fa-shopping-cart:before {
  content: "\f07a";
}
.fa-folder:before {
  content: "\f07b";
}
.fa-folder-open:before {
  content: "\f07c";
}
.fa-arrows-v:before {
  content: "\f07d";
}
.fa-arrows-h:before {
  content: "\f07e";
}
.fa-bar-chart-o:before,
.fa-bar-chart:before {
  content: "\f080";
}
.fa-twitter-square:before {
  content: "\f081";
}
.fa-facebook-square:before {
  content: "\f082";
}
.fa-camera-retro:before {
  content: "\f083";
}
.fa-key:before {
  content: "\f084";
}
.fa-gears:before,
.fa-cogs:before {
  content: "\f085";
}
.fa-comments:before {
  content: "\f086";
}
.fa-thumbs-o-up:before {
  content: "\f087";
}
.fa-thumbs-o-down:before {
  content: "\f088";
}
.fa-star-half:before {
  content: "\f089";
}
.fa-heart-o:before {
  content: "\f08a";
}
.fa-sign-out:before {
  content: "\f08b";
}
.fa-linkedin-square:before {
  content: "\f08c";
}
.fa-thumb-tack:before {
  content: "\f08d";
}
.fa-external-link:before {
  content: "\f08e";
}
.fa-sign-in:before {
  content: "\f090";
}
.fa-trophy:before {
  content: "\f091";
}
.fa-github-square:before {
  content: "\f092";
}
.fa-upload:before {
  content: "\f093";
}
.fa-lemon-o:before {
  content: "\f094";
}
.fa-phone:before {
  content: "\f095";
}
.fa-square-o:before {
  content: "\f096";
}
.fa-bookmark-o:before {
  content: "\f097";
}
.fa-phone-square:before {
  content: "\f098";
}
.fa-twitter:before {
  content: "\f099";
}
.fa-facebook:before {
  content: "\f09a";
}
.fa-github:before {
  content: "\f09b";
}
.fa-unlock:before {
  content: "\f09c";
}
.fa-credit-card:before {
  content: "\f09d";
}
.fa-rss:before {
  content: "\f09e";
}
.fa-hdd-o:before {
  content: "\f0a0";
}
.fa-bullhorn:before {
  content: "\f0a1";
}
.fa-bell:before {
  content: "\f0f3";
}
.fa-certificate:before {
  content: "\f0a3";
}
.fa-hand-o-right:before {
  content: "\f0a4";
}
.fa-hand-o-left:before {
  content: "\f0a5";
}
.fa-hand-o-up:before {
  content: "\f0a6";
}
.fa-hand-o-down:before {
  content: "\f0a7";
}
.fa-arrow-circle-left:before {
  content: "\f0a8";
}
.fa-arrow-circle-right:before {
  content: "\f0a9";
}
.fa-arrow-circle-up:before {
  content: "\f0aa";
}
.fa-arrow-circle-down:before {
  content: "\f0ab";
}
.fa-globe:before {
  content: "\f0ac";
}
.fa-wrench:before {
  content: "\f0ad";
}
.fa-tasks:before {
  content: "\f0ae";
}
.fa-filter:before {
  content: "\f0b0";
}
.fa-briefcase:before {
  content: "\f0b1";
}
.fa-arrows-alt:before {
  content: "\f0b2";
}
.fa-group:before,
.fa-users:before {
  content: "\f0c0";
}
.fa-chain:before,
.fa-link:before {
  content: "\f0c1";
}
.fa-cloud:before {
  content: "\f0c2";
}
.fa-flask:before {
  content: "\f0c3";
}
.fa-cut:before,
.fa-scissors:before {
  content: "\f0c4";
}
.fa-copy:before,
.fa-files-o:before {
  content: "\f0c5";
}
.fa-paperclip:before {
  content: "\f0c6";
}
.fa-save:before,
.fa-floppy-o:before {
  content: "\f0c7";
}
.fa-square:before {
  content: "\f0c8";
}
.fa-navicon:before,
.fa-reorder:before,
.fa-bars:before {
  content: "\f0c9";
}
.fa-list-ul:before {
  content: "\f0ca";
}
.fa-list-ol:before {
  content: "\f0cb";
}
.fa-strikethrough:before {
  content: "\f0cc";
}
.fa-underline:before {
  content: "\f0cd";
}
.fa-table:before {
  content: "\f0ce";
}
.fa-magic:before {
  content: "\f0d0";
}
.fa-truck:before {
  content: "\f0d1";
}
.fa-pinterest:before {
  content: "\f0d2";
}
.fa-pinterest-square:before {
  content: "\f0d3";
}
.fa-google-plus-square:before {
  content: "\f0d4";
}
.fa-google-plus:before {
  content: "\f0d5";
}
.fa-money:before {
  content: "\f0d6";
}
.fa-caret-down:before {
  content: "\f0d7";
}
.fa-caret-up:before {
  content: "\f0d8";
}
.fa-caret-left:before {
  content: "\f0d9";
}
.fa-caret-right:before {
  content: "\f0da";
}
.fa-columns:before {
  content: "\f0db";
}
.fa-unsorted:before,
.fa-sort:before {
  content: "\f0dc";
}
.fa-sort-down:before,
.fa-sort-desc:before {
  content: "\f0dd";
}
.fa-sort-up:before,
.fa-sort-asc:before {
  content: "\f0de";
}
.fa-envelope:before {
  content: "\f0e0";
}
.fa-linkedin:before {
  content: "\f0e1";
}
.fa-rotate-left:before,
.fa-undo:before {
  content: "\f0e2";
}
.fa-legal:before,
.fa-gavel:before {
  content: "\f0e3";
}
.fa-dashboard:before,
.fa-tachometer:before {
  content: "\f0e4";
}
.fa-comment-o:before {
  content: "\f0e5";
}
.fa-comments-o:before {
  content: "\f0e6";
}
.fa-flash:before,
.fa-bolt:before {
  content: "\f0e7";
}
.fa-sitemap:before {
  content: "\f0e8";
}
.fa-umbrella:before {
  content: "\f0e9";
}
.fa-paste:before,
.fa-clipboard:before {
  content: "\f0ea";
}
.fa-lightbulb-o:before {
  content: "\f0eb";
}
.fa-exchange:before {
  content: "\f0ec";
}
.fa-cloud-download:before {
  content: "\f0ed";
}
.fa-cloud-upload:before {
  content: "\f0ee";
}
.fa-user-md:before {
  content: "\f0f0";
}
.fa-stethoscope:before {
  content: "\f0f1";
}
.fa-suitcase:before {
  content: "\f0f2";
}
.fa-bell-o:before {
  content: "\f0a2";
}
.fa-coffee:before {
  content: "\f0f4";
}
.fa-cutlery:before {
  content: "\f0f5";
}
.fa-file-text-o:before {
  content: "\f0f6";
}
.fa-building-o:before {
  content: "\f0f7";
}
.fa-hospital-o:before {
  content: "\f0f8";
}
.fa-ambulance:before {
  content: "\f0f9";
}
.fa-medkit:before {
  content: "\f0fa";
}
.fa-fighter-jet:before {
  content: "\f0fb";
}
.fa-beer:before {
  content: "\f0fc";
}
.fa-h-square:before {
  content: "\f0fd";
}
.fa-plus-square:before {
  content: "\f0fe";
}
.fa-angle-double-left:before {
  content: "\f100";
}
.fa-angle-double-right:before {
  content: "\f101";
}
.fa-angle-double-up:before {
  content: "\f102";
}
.fa-angle-double-down:before {
  content: "\f103";
}
.fa-angle-left:before {
  content: "\f104";
}
.fa-angle-right:before {
  content: "\f105";
}
.fa-angle-up:before {
  content: "\f106";
}
.fa-angle-down:before {
  content: "\f107";
}
.fa-desktop:before {
  content: "\f108";
}
.fa-laptop:before {
  content: "\f109";
}
.fa-tablet:before {
  content: "\f10a";
}
.fa-mobile-phone:before,
.fa-mobile:before {
  content: "\f10b";
}
.fa-circle-o:before {
  content: "\f10c";
}
.fa-quote-left:before {
  content: "\f10d";
}
.fa-quote-right:before {
  content: "\f10e";
}
.fa-spinner:before {
  content: "\f110";
}
.fa-circle:before {
  content: "\f111";
}
.fa-mail-reply:before,
.fa-reply:before {
  content: "\f112";
}
.fa-github-alt:before {
  content: "\f113";
}
.fa-folder-o:before {
  content: "\f114";
}
.fa-folder-open-o:before {
  content: "\f115";
}
.fa-smile-o:before {
  content: "\f118";
}
.fa-frown-o:before {
  content: "\f119";
}
.fa-meh-o:before {
  content: "\f11a";
}
.fa-gamepad:before {
  content: "\f11b";
}
.fa-keyboard-o:before {
  content: "\f11c";
}
.fa-flag-o:before {
  content: "\f11d";
}
.fa-flag-checkered:before {
  content: "\f11e";
}
.fa-terminal:before {
  content: "\f120";
}
.fa-code:before {
  content: "\f121";
}
.fa-mail-reply-all:before,
.fa-reply-all:before {
  content: "\f122";
}
.fa-star-half-empty:before,
.fa-star-half-full:before,
.fa-star-half-o:before {
  content: "\f123";
}
.fa-location-arrow:before {
  content: "\f124";
}
.fa-crop:before {
  content: "\f125";
}
.fa-code-fork:before {
  content: "\f126";
}
.fa-unlink:before,
.fa-chain-broken:before {
  content: "\f127";
}
.fa-question:before {
  content: "\f128";
}
.fa-info:before {
  content: "\f129";
}
.fa-exclamation:before {
  content: "\f12a";
}
.fa-superscript:before {
  content: "\f12b";
}
.fa-subscript:before {
  content: "\f12c";
}
.fa-eraser:before {
  content: "\f12d";
}
.fa-puzzle-piece:before {
  content: "\f12e";
}
.fa-microphone:before {
  content: "\f130";
}
.fa-microphone-slash:before {
  content: "\f131";
}
.fa-shield:before {
  content: "\f132";
}
.fa-calendar-o:before {
  content: "\f133";
}
.fa-fire-extinguisher:before {
  content: "\f134";
}
.fa-rocket:before {
  content: "\f135";
}
.fa-maxcdn:before {
  content: "\f136";
}
.fa-chevron-circle-left:before {
  content: "\f137";
}
.fa-chevron-circle-right:before {
  content: "\f138";
}
.fa-chevron-circle-up:before {
  content: "\f139";
}
.fa-chevron-circle-down:before {
  content: "\f13a";
}
.fa-html5:before {
  content: "\f13b";
}
.fa-css3:before {
  content: "\f13c";
}
.fa-anchor:before {
  content: "\f13d";
}
.fa-unlock-alt:before {
  content: "\f13e";
}
.fa-bullseye:before {
  content: "\f140";
}
.fa-ellipsis-h:before {
  content: "\f141";
}
.fa-ellipsis-v:before {
  content: "\f142";
}
.fa-rss-square:before {
  content: "\f143";
}
.fa-play-circle:before {
  content: "\f144";
}
.fa-ticket:before {
  content: "\f145";
}
.fa-minus-square:before {
  content: "\f146";
}
.fa-minus-square-o:before {
  content: "\f147";
}
.fa-level-up:before {
  content: "\f148";
}
.fa-level-down:before {
  content: "\f149";
}
.fa-check-square:before {
  content: "\f14a";
}
.fa-pencil-square:before {
  content: "\f14b";
}
.fa-external-link-square:before {
  content: "\f14c";
}
.fa-share-square:before {
  content: "\f14d";
}
.fa-compass:before {
  content: "\f14e";
}
.fa-toggle-down:before,
.fa-caret-square-o-down:before {
  content: "\f150";
}
.fa-toggle-up:before,
.fa-caret-square-o-up:before {
  content: "\f151";
}
.fa-toggle-right:before,
.fa-caret-square-o-right:before {
  content: "\f152";
}
.fa-euro:before,
.fa-eur:before {
  content: "\f153";
}
.fa-gbp:before {
  content: "\f154";
}
.fa-dollar:before,
.fa-usd:before {
  content: "\f155";
}
.fa-rupee:before,
.fa-inr:before {
  content: "\f156";
}
.fa-cny:before,
.fa-rmb:before,
.fa-yen:before,
.fa-jpy:before {
  content: "\f157";
}
.fa-ruble:before,
.fa-rouble:before,
.fa-rub:before {
  content: "\f158";
}
.fa-won:before,
.fa-krw:before {
  content: "\f159";
}
.fa-bitcoin:before,
.fa-btc:before {
  content: "\f15a";
}
.fa-file:before {
  content: "\f15b";
}
.fa-file-text:before {
  content: "\f15c";
}
.fa-sort-alpha-asc:before {
  content: "\f15d";
}
.fa-sort-alpha-desc:before {
  content: "\f15e";
}
.fa-sort-amount-asc:before {
  content: "\f160";
}
.fa-sort-amount-desc:before {
  content: "\f161";
}
.fa-sort-numeric-asc:before {
  content: "\f162";
}
.fa-sort-numeric-desc:before {
  content: "\f163";
}
.fa-thumbs-up:before {
  content: "\f164";
}
.fa-thumbs-down:before {
  content: "\f165";
}
.fa-youtube-square:before {
  content: "\f166";
}
.fa-youtube:before {
  content: "\f167";
}
.fa-xing:before {
  content: "\f168";
}
.fa-xing-square:before {
  content: "\f169";
}
.fa-youtube-play:before {
  content: "\f16a";
}
.fa-dropbox:before {
  content: "\f16b";
}
.fa-stack-overflow:before {
  content: "\f16c";
}
.fa-instagram:before {
  content: "\f16d";
}
.fa-flickr:before {
  content: "\f16e";
}
.fa-adn:before {
  content: "\f170";
}
.fa-bitbucket:before {
  content: "\f171";
}
.fa-bitbucket-square:before {
  content: "\f172";
}
.fa-tumblr:before {
  content: "\f173";
}
.fa-tumblr-square:before {
  content: "\f174";
}
.fa-long-arrow-down:before {
  content: "\f175";
}
.fa-long-arrow-up:before {
  content: "\f176";
}
.fa-long-arrow-left:before {
  content: "\f177";
}
.fa-long-arrow-right:before {
  content: "\f178";
}
.fa-apple:before {
  content: "\f179";
}
.fa-windows:before {
  content: "\f17a";
}
.fa-android:before {
  content: "\f17b";
}
.fa-linux:before {
  content: "\f17c";
}
.fa-dribbble:before {
  content: "\f17d";
}
.fa-skype:before {
  content: "\f17e";
}
.fa-foursquare:before {
  content: "\f180";
}
.fa-trello:before {
  content: "\f181";
}
.fa-female:before {
  content: "\f182";
}
.fa-male:before {
  content: "\f183";
}
.fa-gittip:before {
  content: "\f184";
}
.fa-sun-o:before {
  content: "\f185";
}
.fa-moon-o:before {
  content: "\f186";
}
.fa-archive:before {
  content: "\f187";
}
.fa-bug:before {
  content: "\f188";
}
.fa-vk:before {
  content: "\f189";
}
.fa-weibo:before {
  content: "\f18a";
}
.fa-renren:before {
  content: "\f18b";
}
.fa-pagelines:before {
  content: "\f18c";
}
.fa-stack-exchange:before {
  content: "\f18d";
}
.fa-arrow-circle-o-right:before {
  content: "\f18e";
}
.fa-arrow-circle-o-left:before {
  content: "\f190";
}
.fa-toggle-left:before,
.fa-caret-square-o-left:before {
  content: "\f191";
}
.fa-dot-circle-o:before {
  content: "\f192";
}
.fa-wheelchair:before {
  content: "\f193";
}
.fa-vimeo-square:before {
  content: "\f194";
}
.fa-turkish-lira:before,
.fa-try:before {
  content: "\f195";
}
.fa-plus-square-o:before {
  content: "\f196";
}
.fa-space-shuttle:before {
  content: "\f197";
}
.fa-slack:before {
  content: "\f198";
}
.fa-envelope-square:before {
  content: "\f199";
}
.fa-wordpress:before {
  content: "\f19a";
}
.fa-openid:before {
  content: "\f19b";
}
.fa-institution:before,
.fa-bank:before,
.fa-university:before {
  content: "\f19c";
}
.fa-mortar-board:before,
.fa-graduation-cap:before {
  content: "\f19d";
}
.fa-yahoo:before {
  content: "\f19e";
}
.fa-google:before {
  content: "\f1a0";
}
.fa-reddit:before {
  content: "\f1a1";
}
.fa-reddit-square:before {
  content: "\f1a2";
}
.fa-stumbleupon-circle:before {
  content: "\f1a3";
}
.fa-stumbleupon:before {
  content: "\f1a4";
}
.fa-delicious:before {
  content: "\f1a5";
}
.fa-digg:before {
  content: "\f1a6";
}
.fa-pied-piper:before {
  content: "\f1a7";
}
.fa-pied-piper-alt:before {
  content: "\f1a8";
}
.fa-drupal:before {
  content: "\f1a9";
}
.fa-joomla:before {
  content: "\f1aa";
}
.fa-language:before {
  content: "\f1ab";
}
.fa-fax:before {
  content: "\f1ac";
}
.fa-building:before {
  content: "\f1ad";
}
.fa-child:before {
  content: "\f1ae";
}
.fa-paw:before {
  content: "\f1b0";
}
.fa-spoon:before {
  content: "\f1b1";
}
.fa-cube:before {
  content: "\f1b2";
}
.fa-cubes:before {
  content: "\f1b3";
}
.fa-behance:before {
  content: "\f1b4";
}
.fa-behance-square:before {
  content: "\f1b5";
}
.fa-steam:before {
  content: "\f1b6";
}
.fa-steam-square:before {
  content: "\f1b7";
}
.fa-recycle:before {
  content: "\f1b8";
}
.fa-automobile:before,
.fa-car:before {
  content: "\f1b9";
}
.fa-cab:before,
.fa-taxi:before {
  content: "\f1ba";
}
.fa-tree:before {
  content: "\f1bb";
}
.fa-spotify:before {
  content: "\f1bc";
}
.fa-deviantart:before {
  content: "\f1bd";
}
.fa-soundcloud:before {
  content: "\f1be";
}
.fa-database:before {
  content: "\f1c0";
}
.fa-file-pdf-o:before {
  content: "\f1c1";
}
.fa-file-word-o:before {
  content: "\f1c2";
}
.fa-file-excel-o:before {
  content: "\f1c3";
}
.fa-file-powerpoint-o:before {
  content: "\f1c4";
}
.fa-file-photo-o:before,
.fa-file-picture-o:before,
.fa-file-image-o:before {
  content: "\f1c5";
}
.fa-file-zip-o:before,
.fa-file-archive-o:before {
  content: "\f1c6";
}
.fa-file-sound-o:before,
.fa-file-audio-o:before {
  content: "\f1c7";
}
.fa-file-movie-o:before,
.fa-file-video-o:before {
  content: "\f1c8";
}
.fa-file-code-o:before {
  content: "\f1c9";
}
.fa-vine:before {
  content: "\f1ca";
}
.fa-codepen:before {
  content: "\f1cb";
}
.fa-jsfiddle:before {
  content: "\f1cc";
}
.fa-life-bouy:before,
.fa-life-buoy:before,
.fa-life-saver:before,
.fa-support:before,
.fa-life-ring:before {
  content: "\f1cd";
}
.fa-circle-o-notch:before {
  content: "\f1ce";
}
.fa-ra:before,
.fa-rebel:before {
  content: "\f1d0";
}
.fa-ge:before,
.fa-empire:before {
  content: "\f1d1";
}
.fa-git-square:before {
  content: "\f1d2";
}
.fa-git:before {
  content: "\f1d3";
}
.fa-hacker-news:before {
  content: "\f1d4";
}
.fa-tencent-weibo:before {
  content: "\f1d5";
}
.fa-qq:before {
  content: "\f1d6";
}
.fa-wechat:before,
.fa-weixin:before {
  content: "\f1d7";
}
.fa-send:before,
.fa-paper-plane:before {
  content: "\f1d8";
}
.fa-send-o:before,
.fa-paper-plane-o:before {
  content: "\f1d9";
}
.fa-history:before {
  content: "\f1da";
}
.fa-circle-thin:before {
  content: "\f1db";
}
.fa-header:before {
  content: "\f1dc";
}
.fa-paragraph:before {
  content: "\f1dd";
}
.fa-sliders:before {
  content: "\f1de";
}
.fa-share-alt:before {
  content: "\f1e0";
}
.fa-share-alt-square:before {
  content: "\f1e1";
}
.fa-bomb:before {
  content: "\f1e2";
}
.fa-soccer-ball-o:before,
.fa-futbol-o:before {
  content: "\f1e3";
}
.fa-tty:before {
  content: "\f1e4";
}
.fa-binoculars:before {
  content: "\f1e5";
}
.fa-plug:before {
  content: "\f1e6";
}
.fa-slideshare:before {
  content: "\f1e7";
}
.fa-twitch:before {
  content: "\f1e8";
}
.fa-yelp:before {
  content: "\f1e9";
}
.fa-newspaper-o:before {
  content: "\f1ea";
}
.fa-wifi:before {
  content: "\f1eb";
}
.fa-calculator:before {
  content: "\f1ec";
}
.fa-paypal:before {
  content: "\f1ed";
}
.fa-google-wallet:before {
  content: "\f1ee";
}
.fa-cc-visa:before {
  content: "\f1f0";
}
.fa-cc-mastercard:before {
  content: "\f1f1";
}
.fa-cc-discover:before {
  content: "\f1f2";
}
.fa-cc-amex:before {
  content: "\f1f3";
}
.fa-cc-paypal:before {
  content: "\f1f4";
}
.fa-cc-stripe:before {
  content: "\f1f5";
}
.fa-bell-slash:before {
  content: "\f1f6";
}
.fa-bell-slash-o:before {
  content: "\f1f7";
}
.fa-trash:before {
  content: "\f1f8";
}
.fa-copyright:before {
  content: "\f1f9";
}
.fa-at:before {
  content: "\f1fa";
}
.fa-eyedropper:before {
  content: "\f1fb";
}
.fa-paint-brush:before {
  content: "\f1fc";
}
.fa-birthday-cake:before {
  content: "\f1fd";
}
.fa-area-chart:before {
  content: "\f1fe";
}
.fa-pie-chart:before {
  content: "\f200";
}
.fa-line-chart:before {
  content: "\f201";
}
.fa-lastfm:before {
  content: "\f202";
}
.fa-lastfm-square:before {
  content: "\f203";
}
.fa-toggle-off:before {
  content: "\f204";
}
.fa-toggle-on:before {
  content: "\f205";
}
.fa-bicycle:before {
  content: "\f206";
}
.fa-bus:before {
  content: "\f207";
}
.fa-ioxhost:before {
  content: "\f208";
}
.fa-angellist:before {
  content: "\f209";
}
.fa-cc:before {
  content: "\f20a";
}
.fa-shekel:before,
.fa-sheqel:before,
.fa-ils:before {
  content: "\f20b";
}
.fa-meanpath:before {
  content: "\f20c";
}
/*!
*
* IPython base
*
*/
.modal.fade .modal-dialog {
  -webkit-transform: translate(0, 0);
  -ms-transform: translate(0, 0);
  -o-transform: translate(0, 0);
  transform: translate(0, 0);
}
code {
  color: #000;
}
pre {
  font-size: inherit;
  line-height: inherit;
}
label {
  font-weight: normal;
}
/* Make the page background atleast 100% the height of the view port */
/* Make the page itself atleast 70% the height of the view port */
.border-box-sizing {
  box-sizing: border-box;
  -moz-box-sizing: border-box;
  -webkit-box-sizing: border-box;
}
.corner-all {
  border-radius: 2px;
}
.no-padding {
  padding: 0px;
}
/* Flexible box model classes */
/* Taken from Alex Russell http://infrequently.org/2009/08/css-3-progress/ */
/* This file is a compatability layer.  It allows the usage of flexible box 
model layouts accross multiple browsers, including older browsers.  The newest,
universal implementation of the flexible box model is used when available (see
`Modern browsers` comments below).  Browsers that are known to implement this 
new spec completely include:

    Firefox 28.0+
    Chrome 29.0+
    Internet Explorer 11+ 
    Opera 17.0+

Browsers not listed, including Safari, are supported via the styling under the
`Old browsers` comments below.
*/
.hbox {
  /* Old browsers */
  display: -webkit-box;
  -webkit-box-orient: horizontal;
  -webkit-box-align: stretch;
  display: -moz-box;
  -moz-box-orient: horizontal;
  -moz-box-align: stretch;
  display: box;
  box-orient: horizontal;
  box-align: stretch;
  /* Modern browsers */
  display: flex;
  flex-direction: row;
  align-items: stretch;
}
.hbox > * {
  /* Old browsers */
  -webkit-box-flex: 0;
  -moz-box-flex: 0;
  box-flex: 0;
  /* Modern browsers */
  flex: none;
}
.vbox {
  /* Old browsers */
  display: -webkit-box;
  -webkit-box-orient: vertical;
  -webkit-box-align: stretch;
  display: -moz-box;
  -moz-box-orient: vertical;
  -moz-box-align: stretch;
  display: box;
  box-orient: vertical;
  box-align: stretch;
  /* Modern browsers */
  display: flex;
  flex-direction: column;
  align-items: stretch;
}
.vbox > * {
  /* Old browsers */
  -webkit-box-flex: 0;
  -moz-box-flex: 0;
  box-flex: 0;
  /* Modern browsers */
  flex: none;
}
.hbox.reverse,
.vbox.reverse,
.reverse {
  /* Old browsers */
  -webkit-box-direction: reverse;
  -moz-box-direction: reverse;
  box-direction: reverse;
  /* Modern browsers */
  flex-direction: row-reverse;
}
.hbox.box-flex0,
.vbox.box-flex0,
.box-flex0 {
  /* Old browsers */
  -webkit-box-flex: 0;
  -moz-box-flex: 0;
  box-flex: 0;
  /* Modern browsers */
  flex: none;
  width: auto;
}
.hbox.box-flex1,
.vbox.box-flex1,
.box-flex1 {
  /* Old browsers */
  -webkit-box-flex: 1;
  -moz-box-flex: 1;
  box-flex: 1;
  /* Modern browsers */
  flex: 1;
}
.hbox.box-flex,
.vbox.box-flex,
.box-flex {
  /* Old browsers */
  /* Old browsers */
  -webkit-box-flex: 1;
  -moz-box-flex: 1;
  box-flex: 1;
  /* Modern browsers */
  flex: 1;
}
.hbox.box-flex2,
.vbox.box-flex2,
.box-flex2 {
  /* Old browsers */
  -webkit-box-flex: 2;
  -moz-box-flex: 2;
  box-flex: 2;
  /* Modern browsers */
  flex: 2;
}
.box-group1 {
  /*  Deprecated */
  -webkit-box-flex-group: 1;
  -moz-box-flex-group: 1;
  box-flex-group: 1;
}
.box-group2 {
  /* Deprecated */
  -webkit-box-flex-group: 2;
  -moz-box-flex-group: 2;
  box-flex-group: 2;
}
.hbox.start,
.vbox.start,
.start {
  /* Old browsers */
  -webkit-box-pack: start;
  -moz-box-pack: start;
  box-pack: start;
  /* Modern browsers */
  justify-content: flex-start;
}
.hbox.end,
.vbox.end,
.end {
  /* Old browsers */
  -webkit-box-pack: end;
  -moz-box-pack: end;
  box-pack: end;
  /* Modern browsers */
  justify-content: flex-end;
}
.hbox.center,
.vbox.center,
.center {
  /* Old browsers */
  -webkit-box-pack: center;
  -moz-box-pack: center;
  box-pack: center;
  /* Modern browsers */
  justify-content: center;
}
.hbox.baseline,
.vbox.baseline,
.baseline {
  /* Old browsers */
  -webkit-box-pack: baseline;
  -moz-box-pack: baseline;
  box-pack: baseline;
  /* Modern browsers */
  justify-content: baseline;
}
.hbox.stretch,
.vbox.stretch,
.stretch {
  /* Old browsers */
  -webkit-box-pack: stretch;
  -moz-box-pack: stretch;
  box-pack: stretch;
  /* Modern browsers */
  justify-content: stretch;
}
.hbox.align-start,
.vbox.align-start,
.align-start {
  /* Old browsers */
  -webkit-box-align: start;
  -moz-box-align: start;
  box-align: start;
  /* Modern browsers */
  align-items: flex-start;
}
.hbox.align-end,
.vbox.align-end,
.align-end {
  /* Old browsers */
  -webkit-box-align: end;
  -moz-box-align: end;
  box-align: end;
  /* Modern browsers */
  align-items: flex-end;
}
.hbox.align-center,
.vbox.align-center,
.align-center {
  /* Old browsers */
  -webkit-box-align: center;
  -moz-box-align: center;
  box-align: center;
  /* Modern browsers */
  align-items: center;
}
.hbox.align-baseline,
.vbox.align-baseline,
.align-baseline {
  /* Old browsers */
  -webkit-box-align: baseline;
  -moz-box-align: baseline;
  box-align: baseline;
  /* Modern browsers */
  align-items: baseline;
}
.hbox.align-stretch,
.vbox.align-stretch,
.align-stretch {
  /* Old browsers */
  -webkit-box-align: stretch;
  -moz-box-align: stretch;
  box-align: stretch;
  /* Modern browsers */
  align-items: stretch;
}
div.error {
  margin: 2em;
  text-align: center;
}
div.error > h1 {
  font-size: 500%;
  line-height: normal;
}
div.error > p {
  font-size: 200%;
  line-height: normal;
}
div.traceback-wrapper {
  text-align: left;
  max-width: 800px;
  margin: auto;
}
/**
 * Primary styles
 *
 * Author: Jupyter Development Team
 */
body {
  background-color: #fff;
  /* This makes sure that the body covers the entire window and needs to
       be in a different element than the display: box in wrapper below */
  position: absolute;
  left: 0px;
  right: 0px;
  top: 0px;
  bottom: 0px;
  overflow: visible;
}
body > #header {
  /* Initially hidden to prevent FLOUC */
  display: none;
  background-color: #fff;
  /* Display over codemirror */
  position: relative;
  z-index: 100;
}
body > #header #header-container {
  padding-bottom: 5px;
  padding-top: 5px;
  box-sizing: border-box;
  -moz-box-sizing: border-box;
  -webkit-box-sizing: border-box;
}
body > #header .header-bar {
  width: 100%;
  height: 1px;
  background: #e7e7e7;
  margin-bottom: -1px;
}
@media print {
  body > #header {
    display: none !important;
  }
}
#header-spacer {
  width: 100%;
  visibility: hidden;
}
@media print {
  #header-spacer {
    display: none;
  }
}
#ipython_notebook {
  padding-left: 0px;
  padding-top: 1px;
  padding-bottom: 1px;
}
@media (max-width: 991px) {
  #ipython_notebook {
    margin-left: 10px;
  }
}
#noscript {
  width: auto;
  padding-top: 16px;
  padding-bottom: 16px;
  text-align: center;
  font-size: 22px;
  color: red;
  font-weight: bold;
}
#ipython_notebook img {
  height: 28px;
}
#site {
  width: 100%;
  display: none;
  box-sizing: border-box;
  -moz-box-sizing: border-box;
  -webkit-box-sizing: border-box;
  overflow: auto;
}
@media print {
  #site {
    height: auto !important;
  }
}
/* Smaller buttons */
.ui-button .ui-button-text {
  padding: 0.2em 0.8em;
  font-size: 77%;
}
input.ui-button {
  padding: 0.3em 0.9em;
}
span#login_widget {
  float: right;
}
span#login_widget > .button,
#logout {
  color: #333;
  background-color: #fff;
  border-color: #ccc;
}
span#login_widget > .button:focus,
#logout:focus,
span#login_widget > .button.focus,
#logout.focus {
  color: #333;
  background-color: #e6e6e6;
  border-color: #8c8c8c;
}
span#login_widget > .button:hover,
#logout:hover {
  color: #333;
  background-color: #e6e6e6;
  border-color: #adadad;
}
span#login_widget > .button:active,
#logout:active,
span#login_widget > .button.active,
#logout.active,
.open > .dropdown-togglespan#login_widget > .button,
.open > .dropdown-toggle#logout {
  color: #333;
  background-color: #e6e6e6;
  border-color: #adadad;
}
span#login_widget > .button:active:hover,
#logout:active:hover,
span#login_widget > .button.active:hover,
#logout.active:hover,
.open > .dropdown-togglespan#login_widget > .button:hover,
.open > .dropdown-toggle#logout:hover,
span#login_widget > .button:active:focus,
#logout:active:focus,
span#login_widget > .button.active:focus,
#logout.active:focus,
.open > .dropdown-togglespan#login_widget > .button:focus,
.open > .dropdown-toggle#logout:focus,
span#login_widget > .button:active.focus,
#logout:active.focus,
span#login_widget > .button.active.focus,
#logout.active.focus,
.open > .dropdown-togglespan#login_widget > .button.focus,
.open > .dropdown-toggle#logout.focus {
  color: #333;
  background-color: #d4d4d4;
  border-color: #8c8c8c;
}
span#login_widget > .button:active,
#logout:active,
span#login_widget > .button.active,
#logout.active,
.open > .dropdown-togglespan#login_widget > .button,
.open > .dropdown-toggle#logout {
  background-image: none;
}
span#login_widget > .button.disabled:hover,
#logout.disabled:hover,
span#login_widget > .button[disabled]:hover,
#logout[disabled]:hover,
fieldset[disabled] span#login_widget > .button:hover,
fieldset[disabled] #logout:hover,
span#login_widget > .button.disabled:focus,
#logout.disabled:focus,
span#login_widget > .button[disabled]:focus,
#logout[disabled]:focus,
fieldset[disabled] span#login_widget > .button:focus,
fieldset[disabled] #logout:focus,
span#login_widget > .button.disabled.focus,
#logout.disabled.focus,
span#login_widget > .button[disabled].focus,
#logout[disabled].focus,
fieldset[disabled] span#login_widget > .button.focus,
fieldset[disabled] #logout.focus {
  background-color: #fff;
  border-color: #ccc;
}
span#login_widget > .button .badge,
#logout .badge {
  color: #fff;
  background-color: #333;
}
.nav-header {
  text-transform: none;
}
#header > span {
  margin-top: 10px;
}
.modal_stretch .modal-dialog {
  /* Old browsers */
  display: -webkit-box;
  -webkit-box-orient: vertical;
  -webkit-box-align: stretch;
  display: -moz-box;
  -moz-box-orient: vertical;
  -moz-box-align: stretch;
  display: box;
  box-orient: vertical;
  box-align: stretch;
  /* Modern browsers */
  display: flex;
  flex-direction: column;
  align-items: stretch;
  min-height: 80vh;
}
.modal_stretch .modal-dialog .modal-body {
  max-height: calc(100vh - 200px);
  overflow: auto;
  flex: 1;
}
@media (min-width: 768px) {
  .modal .modal-dialog {
    width: 700px;
  }
}
@media (min-width: 768px) {
  select.form-control {
    margin-left: 12px;
    margin-right: 12px;
  }
}
/*!
*
* IPython auth
*
*/
.center-nav {
  display: inline-block;
  margin-bottom: -4px;
}
/*!
*
* IPython tree view
*
*/
/* We need an invisible input field on top of the sentense*/
/* "Drag file onto the list ..." */
.alternate_upload {
  background-color: none;
  display: inline;
}
.alternate_upload.form {
  padding: 0;
  margin: 0;
}
.alternate_upload input.fileinput {
  text-align: center;
  vertical-align: middle;
  display: inline;
  opacity: 0;
  z-index: 2;
  width: 12ex;
  margin-right: -12ex;
}
.alternate_upload .btn-upload {
  height: 22px;
}
/**
 * Primary styles
 *
 * Author: Jupyter Development Team
 */
ul#tabs {
  margin-bottom: 4px;
}
ul#tabs a {
  padding-top: 6px;
  padding-bottom: 4px;
}
ul.breadcrumb a:focus,
ul.breadcrumb a:hover {
  text-decoration: none;
}
ul.breadcrumb i.icon-home {
  font-size: 16px;
  margin-right: 4px;
}
ul.breadcrumb span {
  color: #5e5e5e;
}
.list_toolbar {
  padding: 4px 0 4px 0;
  vertical-align: middle;
}
.list_toolbar .tree-buttons {
  padding-top: 1px;
}
.dynamic-buttons {
  padding-top: 3px;
  display: inline-block;
}
.list_toolbar [class*="span"] {
  min-height: 24px;
}
.list_header {
  font-weight: bold;
  background-color: #EEE;
}
.list_placeholder {
  font-weight: bold;
  padding-top: 4px;
  padding-bottom: 4px;
  padding-left: 7px;
  padding-right: 7px;
}
.list_container {
  margin-top: 4px;
  margin-bottom: 20px;
  border: 1px solid #ddd;
  border-radius: 2px;
}
.list_container > div {
  border-bottom: 1px solid #ddd;
}
.list_container > div:hover .list-item {
  background-color: red;
}
.list_container > div:last-child {
  border: none;
}
.list_item:hover .list_item {
  background-color: #ddd;
}
.list_item a {
  text-decoration: none;
}
.list_item:hover {
  background-color: #fafafa;
}
.list_header > div,
.list_item > div {
  padding-top: 4px;
  padding-bottom: 4px;
  padding-left: 7px;
  padding-right: 7px;
  line-height: 22px;
}
.list_header > div input,
.list_item > div input {
  margin-right: 7px;
  margin-left: 14px;
  vertical-align: baseline;
  line-height: 22px;
  position: relative;
  top: -1px;
}
.list_header > div .item_link,
.list_item > div .item_link {
  margin-left: -1px;
  vertical-align: baseline;
  line-height: 22px;
}
.new-file input[type=checkbox] {
  visibility: hidden;
}
.item_name {
  line-height: 22px;
  height: 24px;
}
.item_icon {
  font-size: 14px;
  color: #5e5e5e;
  margin-right: 7px;
  margin-left: 7px;
  line-height: 22px;
  vertical-align: baseline;
}
.item_buttons {
  line-height: 1em;
  margin-left: -5px;
}
.item_buttons .btn,
.item_buttons .btn-group,
.item_buttons .input-group {
  float: left;
}
.item_buttons > .btn,
.item_buttons > .btn-group,
.item_buttons > .input-group {
  margin-left: 5px;
}
.item_buttons .btn {
  min-width: 13ex;
}
.item_buttons .running-indicator {
  padding-top: 4px;
  color: #5cb85c;
}
.item_buttons .kernel-name {
  padding-top: 4px;
  color: #5bc0de;
  margin-right: 7px;
  float: left;
}
.toolbar_info {
  height: 24px;
  line-height: 24px;
}
.list_item input:not([type=checkbox]) {
  padding-top: 3px;
  padding-bottom: 3px;
  height: 22px;
  line-height: 14px;
  margin: 0px;
}
.highlight_text {
  color: blue;
}
#project_name {
  display: inline-block;
  padding-left: 7px;
  margin-left: -2px;
}
#project_name > .breadcrumb {
  padding: 0px;
  margin-bottom: 0px;
  background-color: transparent;
  font-weight: bold;
}
#tree-selector {
  padding-right: 0px;
}
#button-select-all {
  min-width: 50px;
}
#select-all {
  margin-left: 7px;
  margin-right: 2px;
}
.menu_icon {
  margin-right: 2px;
}
.tab-content .row {
  margin-left: 0px;
  margin-right: 0px;
}
.folder_icon:before {
  display: inline-block;
  font: normal normal normal 14px/1 FontAwesome;
  font-size: inherit;
  text-rendering: auto;
  -webkit-font-smoothing: antialiased;
  -moz-osx-font-smoothing: grayscale;
  content: "\f114";
}
.folder_icon:before.pull-left {
  margin-right: .3em;
}
.folder_icon:before.pull-right {
  margin-left: .3em;
}
.notebook_icon:before {
  display: inline-block;
  font: normal normal normal 14px/1 FontAwesome;
  font-size: inherit;
  text-rendering: auto;
  -webkit-font-smoothing: antialiased;
  -moz-osx-font-smoothing: grayscale;
  content: "\f02d";
  position: relative;
  top: -1px;
}
.notebook_icon:before.pull-left {
  margin-right: .3em;
}
.notebook_icon:before.pull-right {
  margin-left: .3em;
}
.running_notebook_icon:before {
  display: inline-block;
  font: normal normal normal 14px/1 FontAwesome;
  font-size: inherit;
  text-rendering: auto;
  -webkit-font-smoothing: antialiased;
  -moz-osx-font-smoothing: grayscale;
  content: "\f02d";
  position: relative;
  top: -1px;
  color: #5cb85c;
}
.running_notebook_icon:before.pull-left {
  margin-right: .3em;
}
.running_notebook_icon:before.pull-right {
  margin-left: .3em;
}
.file_icon:before {
  display: inline-block;
  font: normal normal normal 14px/1 FontAwesome;
  font-size: inherit;
  text-rendering: auto;
  -webkit-font-smoothing: antialiased;
  -moz-osx-font-smoothing: grayscale;
  content: "\f016";
  position: relative;
  top: -2px;
}
.file_icon:before.pull-left {
  margin-right: .3em;
}
.file_icon:before.pull-right {
  margin-left: .3em;
}
#notebook_toolbar .pull-right {
  padding-top: 0px;
  margin-right: -1px;
}
ul#new-menu {
  left: auto;
  right: 0;
}
.kernel-menu-icon {
  padding-right: 12px;
  width: 24px;
  content: "\f096";
}
.kernel-menu-icon:before {
  content: "\f096";
}
.kernel-menu-icon-current:before {
  content: "\f00c";
}
#tab_content {
  padding-top: 20px;
}
#running .panel-group .panel {
  margin-top: 3px;
  margin-bottom: 1em;
}
#running .panel-group .panel .panel-heading {
  background-color: #EEE;
  padding-top: 4px;
  padding-bottom: 4px;
  padding-left: 7px;
  padding-right: 7px;
  line-height: 22px;
}
#running .panel-group .panel .panel-heading a:focus,
#running .panel-group .panel .panel-heading a:hover {
  text-decoration: none;
}
#running .panel-group .panel .panel-body {
  padding: 0px;
}
#running .panel-group .panel .panel-body .list_container {
  margin-top: 0px;
  margin-bottom: 0px;
  border: 0px;
  border-radius: 0px;
}
#running .panel-group .panel .panel-body .list_container .list_item {
  border-bottom: 1px solid #ddd;
}
#running .panel-group .panel .panel-body .list_container .list_item:last-child {
  border-bottom: 0px;
}
.delete-button {
  display: none;
}
.duplicate-button {
  display: none;
}
.rename-button {
  display: none;
}
.shutdown-button {
  display: none;
}
.dynamic-instructions {
  display: inline-block;
  padding-top: 4px;
}
/*!
*
* IPython text editor webapp
*
*/
.selected-keymap i.fa {
  padding: 0px 5px;
}
.selected-keymap i.fa:before {
  content: "\f00c";
}
#mode-menu {
  overflow: auto;
  max-height: 20em;
}
.edit_app #header {
  -webkit-box-shadow: 0px 0px 12px 1px rgba(87, 87, 87, 0.2);
  box-shadow: 0px 0px 12px 1px rgba(87, 87, 87, 0.2);
}
.edit_app #menubar .navbar {
  /* Use a negative 1 bottom margin, so the border overlaps the border of the
    header */
  margin-bottom: -1px;
}
.dirty-indicator {
  display: inline-block;
  font: normal normal normal 14px/1 FontAwesome;
  font-size: inherit;
  text-rendering: auto;
  -webkit-font-smoothing: antialiased;
  -moz-osx-font-smoothing: grayscale;
  width: 20px;
}
.dirty-indicator.pull-left {
  margin-right: .3em;
}
.dirty-indicator.pull-right {
  margin-left: .3em;
}
.dirty-indicator-dirty {
  display: inline-block;
  font: normal normal normal 14px/1 FontAwesome;
  font-size: inherit;
  text-rendering: auto;
  -webkit-font-smoothing: antialiased;
  -moz-osx-font-smoothing: grayscale;
  width: 20px;
}
.dirty-indicator-dirty.pull-left {
  margin-right: .3em;
}
.dirty-indicator-dirty.pull-right {
  margin-left: .3em;
}
.dirty-indicator-clean {
  display: inline-block;
  font: normal normal normal 14px/1 FontAwesome;
  font-size: inherit;
  text-rendering: auto;
  -webkit-font-smoothing: antialiased;
  -moz-osx-font-smoothing: grayscale;
  width: 20px;
}
.dirty-indicator-clean.pull-left {
  margin-right: .3em;
}
.dirty-indicator-clean.pull-right {
  margin-left: .3em;
}
.dirty-indicator-clean:before {
  display: inline-block;
  font: normal normal normal 14px/1 FontAwesome;
  font-size: inherit;
  text-rendering: auto;
  -webkit-font-smoothing: antialiased;
  -moz-osx-font-smoothing: grayscale;
  content: "\f00c";
}
.dirty-indicator-clean:before.pull-left {
  margin-right: .3em;
}
.dirty-indicator-clean:before.pull-right {
  margin-left: .3em;
}
#filename {
  font-size: 16pt;
  display: table;
  padding: 0px 5px;
}
#current-mode {
  padding-left: 5px;
  padding-right: 5px;
}
#texteditor-backdrop {
  padding-top: 20px;
  padding-bottom: 20px;
}
@media not print {
  #texteditor-backdrop {
    background-color: #EEE;
  }
}
@media print {
  #texteditor-backdrop #texteditor-container .CodeMirror-gutter,
  #texteditor-backdrop #texteditor-container .CodeMirror-gutters {
    background-color: #fff;
  }
}
@media not print {
  #texteditor-backdrop #texteditor-container .CodeMirror-gutter,
  #texteditor-backdrop #texteditor-container .CodeMirror-gutters {
    background-color: #fff;
  }
}
@media not print {
  #texteditor-backdrop #texteditor-container {
    padding: 0px;
    background-color: #fff;
    -webkit-box-shadow: 0px 0px 12px 1px rgba(87, 87, 87, 0.2);
    box-shadow: 0px 0px 12px 1px rgba(87, 87, 87, 0.2);
  }
}
/*!
*
* IPython notebook
*
*/
/* CSS font colors for translated ANSI colors. */
.ansibold {
  font-weight: bold;
}
/* use dark versions for foreground, to improve visibility */
.ansiblack {
  color: black;
}
.ansired {
  color: darkred;
}
.ansigreen {
  color: darkgreen;
}
.ansiyellow {
  color: #c4a000;
}
.ansiblue {
  color: darkblue;
}
.ansipurple {
  color: darkviolet;
}
.ansicyan {
  color: steelblue;
}
.ansigray {
  color: gray;
}
/* and light for background, for the same reason */
.ansibgblack {
  background-color: black;
}
.ansibgred {
  background-color: red;
}
.ansibggreen {
  background-color: green;
}
.ansibgyellow {
  background-color: yellow;
}
.ansibgblue {
  background-color: blue;
}
.ansibgpurple {
  background-color: magenta;
}
.ansibgcyan {
  background-color: cyan;
}
.ansibggray {
  background-color: gray;
}
div.cell {
  /* Old browsers */
  display: -webkit-box;
  -webkit-box-orient: vertical;
  -webkit-box-align: stretch;
  display: -moz-box;
  -moz-box-orient: vertical;
  -moz-box-align: stretch;
  display: box;
  box-orient: vertical;
  box-align: stretch;
  /* Modern browsers */
  display: flex;
  flex-direction: column;
  align-items: stretch;
  border-radius: 2px;
  box-sizing: border-box;
  -moz-box-sizing: border-box;
  -webkit-box-sizing: border-box;
  border-width: 1px;
  border-style: solid;
  border-color: transparent;
  width: 100%;
  padding: 5px;
  /* This acts as a spacer between cells, that is outside the border */
  margin: 0px;
  outline: none;
  border-left-width: 1px;
  padding-left: 5px;
  background: linear-gradient(to right, transparent -40px, transparent 1px, transparent 1px, transparent 100%);
}
div.cell.jupyter-soft-selected {
  border-left-color: #90CAF9;
  border-left-color: #E3F2FD;
  border-left-width: 1px;
  padding-left: 5px;
  border-right-color: #E3F2FD;
  border-right-width: 1px;
  background: #E3F2FD;
}
@media print {
  div.cell.jupyter-soft-selected {
    border-color: transparent;
  }
}
div.cell.selected {
  border-color: #ababab;
  border-left-width: 0px;
  padding-left: 6px;
  background: linear-gradient(to right, #42A5F5 -40px, #42A5F5 5px, transparent 5px, transparent 100%);
}
@media print {
  div.cell.selected {
    border-color: transparent;
  }
}
div.cell.selected.jupyter-soft-selected {
  border-left-width: 0;
  padding-left: 6px;
  background: linear-gradient(to right, #42A5F5 -40px, #42A5F5 7px, #E3F2FD 7px, #E3F2FD 100%);
}
.edit_mode div.cell.selected {
  border-color: #66BB6A;
  border-left-width: 0px;
  padding-left: 6px;
  background: linear-gradient(to right, #66BB6A -40px, #66BB6A 5px, transparent 5px, transparent 100%);
}
@media print {
  .edit_mode div.cell.selected {
    border-color: transparent;
  }
}
.prompt {
  /* This needs to be wide enough for 3 digit prompt numbers: In[100]: */
  min-width: 14ex;
  /* This padding is tuned to match the padding on the CodeMirror editor. */
  padding: 0.4em;
  margin: 0px;
  font-family: monospace;
  text-align: right;
  /* This has to match that of the the CodeMirror class line-height below */
  line-height: 1.21429em;
  /* Don't highlight prompt number selection */
  -webkit-touch-callout: none;
  -webkit-user-select: none;
  -khtml-user-select: none;
  -moz-user-select: none;
  -ms-user-select: none;
  user-select: none;
  /* Use default cursor */
  cursor: default;
}
@media (max-width: 540px) {
  .prompt {
    text-align: left;
  }
}
div.inner_cell {
  /* Old browsers */
  display: -webkit-box;
  -webkit-box-orient: vertical;
  -webkit-box-align: stretch;
  display: -moz-box;
  -moz-box-orient: vertical;
  -moz-box-align: stretch;
  display: box;
  box-orient: vertical;
  box-align: stretch;
  /* Modern browsers */
  display: flex;
  flex-direction: column;
  align-items: stretch;
  /* Old browsers */
  -webkit-box-flex: 1;
  -moz-box-flex: 1;
  box-flex: 1;
  /* Modern browsers */
  flex: 1;
}
@-moz-document url-prefix() {
  div.inner_cell {
    overflow-x: hidden;
  }
}
/* input_area and input_prompt must match in top border and margin for alignment */
div.input_area {
  border: 1px solid #cfcfcf;
  border-radius: 2px;
  background: #f7f7f7;
  line-height: 1.21429em;
}
/* This is needed so that empty prompt areas can collapse to zero height when there
   is no content in the output_subarea and the prompt. The main purpose of this is
   to make sure that empty JavaScript output_subareas have no height. */
div.prompt:empty {
  padding-top: 0;
  padding-bottom: 0;
}
div.unrecognized_cell {
  padding: 5px 5px 5px 0px;
  /* Old browsers */
  display: -webkit-box;
  -webkit-box-orient: horizontal;
  -webkit-box-align: stretch;
  display: -moz-box;
  -moz-box-orient: horizontal;
  -moz-box-align: stretch;
  display: box;
  box-orient: horizontal;
  box-align: stretch;
  /* Modern browsers */
  display: flex;
  flex-direction: row;
  align-items: stretch;
}
div.unrecognized_cell .inner_cell {
  border-radius: 2px;
  padding: 5px;
  font-weight: bold;
  color: red;
  border: 1px solid #cfcfcf;
  background: #eaeaea;
}
div.unrecognized_cell .inner_cell a {
  color: inherit;
  text-decoration: none;
}
div.unrecognized_cell .inner_cell a:hover {
  color: inherit;
  text-decoration: none;
}
@media (max-width: 540px) {
  div.unrecognized_cell > div.prompt {
    display: none;
  }
}
div.code_cell {
  /* avoid page breaking on code cells when printing */
}
@media print {
  div.code_cell {
    page-break-inside: avoid;
  }
}
/* any special styling for code cells that are currently running goes here */
div.input {
  page-break-inside: avoid;
  /* Old browsers */
  display: -webkit-box;
  -webkit-box-orient: horizontal;
  -webkit-box-align: stretch;
  display: -moz-box;
  -moz-box-orient: horizontal;
  -moz-box-align: stretch;
  display: box;
  box-orient: horizontal;
  box-align: stretch;
  /* Modern browsers */
  display: flex;
  flex-direction: row;
  align-items: stretch;
}
@media (max-width: 540px) {
  div.input {
    /* Old browsers */
    display: -webkit-box;
    -webkit-box-orient: vertical;
    -webkit-box-align: stretch;
    display: -moz-box;
    -moz-box-orient: vertical;
    -moz-box-align: stretch;
    display: box;
    box-orient: vertical;
    box-align: stretch;
    /* Modern browsers */
    display: flex;
    flex-direction: column;
    align-items: stretch;
  }
}
/* input_area and input_prompt must match in top border and margin for alignment */
div.input_prompt {
  color: #303F9F;
  border-top: 1px solid transparent;
}
div.input_area > div.highlight {
  margin: 0.4em;
  border: none;
  padding: 0px;
  background-color: transparent;
}
div.input_area > div.highlight > pre {
  margin: 0px;
  border: none;
  padding: 0px;
  background-color: transparent;
}
/* The following gets added to the <head> if it is detected that the user has a
 * monospace font with inconsistent normal/bold/italic height.  See
 * notebookmain.js.  Such fonts will have keywords vertically offset with
 * respect to the rest of the text.  The user should select a better font.
 * See: https://github.com/ipython/ipython/issues/1503
 *
 * .CodeMirror span {
 *      vertical-align: bottom;
 * }
 */
.CodeMirror {
  line-height: 1.21429em;
  /* Changed from 1em to our global default */
  font-size: 14px;
  height: auto;
  /* Changed to auto to autogrow */
  background: none;
  /* Changed from white to allow our bg to show through */
}
.CodeMirror-scroll {
  /*  The CodeMirror docs are a bit fuzzy on if overflow-y should be hidden or visible.*/
  /*  We have found that if it is visible, vertical scrollbars appear with font size changes.*/
  overflow-y: hidden;
  overflow-x: auto;
}
.CodeMirror-lines {
  /* In CM2, this used to be 0.4em, but in CM3 it went to 4px. We need the em value because */
  /* we have set a different line-height and want this to scale with that. */
  padding: 0.4em;
}
.CodeMirror-linenumber {
  padding: 0 8px 0 4px;
}
.CodeMirror-gutters {
  border-bottom-left-radius: 2px;
  border-top-left-radius: 2px;
}
.CodeMirror pre {
  /* In CM3 this went to 4px from 0 in CM2. We need the 0 value because of how we size */
  /* .CodeMirror-lines */
  padding: 0;
  border: 0;
  border-radius: 0;
}
/*

Original style from softwaremaniacs.org (c) Ivan Sagalaev <Maniac@SoftwareManiacs.Org>
Adapted from GitHub theme

*/
.highlight-base {
  color: #000;
}
.highlight-variable {
  color: #000;
}
.highlight-variable-2 {
  color: #1a1a1a;
}
.highlight-variable-3 {
  color: #333333;
}
.highlight-string {
  color: #BA2121;
}
.highlight-comment {
  color: #408080;
  font-style: italic;
}
.highlight-number {
  color: #080;
}
.highlight-atom {
  color: #88F;
}
.highlight-keyword {
  color: #008000;
  font-weight: bold;
}
.highlight-builtin {
  color: #008000;
}
.highlight-error {
  color: #f00;
}
.highlight-operator {
  color: #AA22FF;
  font-weight: bold;
}
.highlight-meta {
  color: #AA22FF;
}
/* previously not defined, copying from default codemirror */
.highlight-def {
  color: #00f;
}
.highlight-string-2 {
  color: #f50;
}
.highlight-qualifier {
  color: #555;
}
.highlight-bracket {
  color: #997;
}
.highlight-tag {
  color: #170;
}
.highlight-attribute {
  color: #00c;
}
.highlight-header {
  color: blue;
}
.highlight-quote {
  color: #090;
}
.highlight-link {
  color: #00c;
}
/* apply the same style to codemirror */
.cm-s-ipython span.cm-keyword {
  color: #008000;
  font-weight: bold;
}
.cm-s-ipython span.cm-atom {
  color: #88F;
}
.cm-s-ipython span.cm-number {
  color: #080;
}
.cm-s-ipython span.cm-def {
  color: #00f;
}
.cm-s-ipython span.cm-variable {
  color: #000;
}
.cm-s-ipython span.cm-operator {
  color: #AA22FF;
  font-weight: bold;
}
.cm-s-ipython span.cm-variable-2 {
  color: #1a1a1a;
}
.cm-s-ipython span.cm-variable-3 {
  color: #333333;
}
.cm-s-ipython span.cm-comment {
  color: #408080;
  font-style: italic;
}
.cm-s-ipython span.cm-string {
  color: #BA2121;
}
.cm-s-ipython span.cm-string-2 {
  color: #f50;
}
.cm-s-ipython span.cm-meta {
  color: #AA22FF;
}
.cm-s-ipython span.cm-qualifier {
  color: #555;
}
.cm-s-ipython span.cm-builtin {
  color: #008000;
}
.cm-s-ipython span.cm-bracket {
  color: #997;
}
.cm-s-ipython span.cm-tag {
  color: #170;
}
.cm-s-ipython span.cm-attribute {
  color: #00c;
}
.cm-s-ipython span.cm-header {
  color: blue;
}
.cm-s-ipython span.cm-quote {
  color: #090;
}
.cm-s-ipython span.cm-link {
  color: #00c;
}
.cm-s-ipython span.cm-error {
  color: #f00;
}
.cm-s-ipython span.cm-tab {
  background: url(data:image/png;base64,iVBORw0KGgoAAAANSUhEUgAAADAAAAAMCAYAAAAkuj5RAAAAAXNSR0IArs4c6QAAAGFJREFUSMft1LsRQFAQheHPowAKoACx3IgEKtaEHujDjORSgWTH/ZOdnZOcM/sgk/kFFWY0qV8foQwS4MKBCS3qR6ixBJvElOobYAtivseIE120FaowJPN75GMu8j/LfMwNjh4HUpwg4LUAAAAASUVORK5CYII=);
  background-position: right;
  background-repeat: no-repeat;
}
div.output_wrapper {
  /* this position must be relative to enable descendents to be absolute within it */
  position: relative;
  /* Old browsers */
  display: -webkit-box;
  -webkit-box-orient: vertical;
  -webkit-box-align: stretch;
  display: -moz-box;
  -moz-box-orient: vertical;
  -moz-box-align: stretch;
  display: box;
  box-orient: vertical;
  box-align: stretch;
  /* Modern browsers */
  display: flex;
  flex-direction: column;
  align-items: stretch;
  z-index: 1;
}
/* class for the output area when it should be height-limited */
div.output_scroll {
  /* ideally, this would be max-height, but FF barfs all over that */
  height: 24em;
  /* FF needs this *and the wrapper* to specify full width, or it will shrinkwrap */
  width: 100%;
  overflow: auto;
  border-radius: 2px;
  -webkit-box-shadow: inset 0 2px 8px rgba(0, 0, 0, 0.8);
  box-shadow: inset 0 2px 8px rgba(0, 0, 0, 0.8);
  display: block;
}
/* output div while it is collapsed */
div.output_collapsed {
  margin: 0px;
  padding: 0px;
  /* Old browsers */
  display: -webkit-box;
  -webkit-box-orient: vertical;
  -webkit-box-align: stretch;
  display: -moz-box;
  -moz-box-orient: vertical;
  -moz-box-align: stretch;
  display: box;
  box-orient: vertical;
  box-align: stretch;
  /* Modern browsers */
  display: flex;
  flex-direction: column;
  align-items: stretch;
}
div.out_prompt_overlay {
  height: 100%;
  padding: 0px 0.4em;
  position: absolute;
  border-radius: 2px;
}
div.out_prompt_overlay:hover {
  /* use inner shadow to get border that is computed the same on WebKit/FF */
  -webkit-box-shadow: inset 0 0 1px #000;
  box-shadow: inset 0 0 1px #000;
  background: rgba(240, 240, 240, 0.5);
}
div.output_prompt {
  color: #D84315;
}
/* This class is the outer container of all output sections. */
div.output_area {
  padding: 0px;
  page-break-inside: avoid;
  /* Old browsers */
  display: -webkit-box;
  -webkit-box-orient: horizontal;
  -webkit-box-align: stretch;
  display: -moz-box;
  -moz-box-orient: horizontal;
  -moz-box-align: stretch;
  display: box;
  box-orient: horizontal;
  box-align: stretch;
  /* Modern browsers */
  display: flex;
  flex-direction: row;
  align-items: stretch;
}
div.output_area .MathJax_Display {
  text-align: left !important;
}
div.output_area .rendered_html table {
  margin-left: 0;
  margin-right: 0;
}
div.output_area .rendered_html img {
  margin-left: 0;
  margin-right: 0;
}
div.output_area img,
div.output_area svg {
  max-width: 100%;
  height: auto;
}
div.output_area img.unconfined,
div.output_area svg.unconfined {
  max-width: none;
}
/* This is needed to protect the pre formating from global settings such
   as that of bootstrap */
.output {
  /* Old browsers */
  display: -webkit-box;
  -webkit-box-orient: vertical;
  -webkit-box-align: stretch;
  display: -moz-box;
  -moz-box-orient: vertical;
  -moz-box-align: stretch;
  display: box;
  box-orient: vertical;
  box-align: stretch;
  /* Modern browsers */
  display: flex;
  flex-direction: column;
  align-items: stretch;
}
@media (max-width: 540px) {
  div.output_area {
    /* Old browsers */
    display: -webkit-box;
    -webkit-box-orient: vertical;
    -webkit-box-align: stretch;
    display: -moz-box;
    -moz-box-orient: vertical;
    -moz-box-align: stretch;
    display: box;
    box-orient: vertical;
    box-align: stretch;
    /* Modern browsers */
    display: flex;
    flex-direction: column;
    align-items: stretch;
  }
}
div.output_area pre {
  margin: 0;
  padding: 0;
  border: 0;
  vertical-align: baseline;
  color: black;
  background-color: transparent;
  border-radius: 0;
}
/* This class is for the output subarea inside the output_area and after
   the prompt div. */
div.output_subarea {
  overflow-x: auto;
  padding: 0.4em;
  /* Old browsers */
  -webkit-box-flex: 1;
  -moz-box-flex: 1;
  box-flex: 1;
  /* Modern browsers */
  flex: 1;
  max-width: calc(100% - 14ex);
}
div.output_scroll div.output_subarea {
  overflow-x: visible;
}
/* The rest of the output_* classes are for special styling of the different
   output types */
/* all text output has this class: */
div.output_text {
  text-align: left;
  color: #000;
  /* This has to match that of the the CodeMirror class line-height below */
  line-height: 1.21429em;
}
/* stdout/stderr are 'text' as well as 'stream', but execute_result/error are *not* streams */
div.output_stderr {
  background: #fdd;
  /* very light red background for stderr */
}
div.output_latex {
  text-align: left;
}
/* Empty output_javascript divs should have no height */
div.output_javascript:empty {
  padding: 0;
}
.js-error {
  color: darkred;
}
/* raw_input styles */
div.raw_input_container {
  line-height: 1.21429em;
  padding-top: 5px;
}
pre.raw_input_prompt {
  /* nothing needed here. */
}
input.raw_input {
  font-family: monospace;
  font-size: inherit;
  color: inherit;
  width: auto;
  /* make sure input baseline aligns with prompt */
  vertical-align: baseline;
  /* padding + margin = 0.5em between prompt and cursor */
  padding: 0em 0.25em;
  margin: 0em 0.25em;
}
input.raw_input:focus {
  box-shadow: none;
}
p.p-space {
  margin-bottom: 10px;
}
div.output_unrecognized {
  padding: 5px;
  font-weight: bold;
  color: red;
}
div.output_unrecognized a {
  color: inherit;
  text-decoration: none;
}
div.output_unrecognized a:hover {
  color: inherit;
  text-decoration: none;
}
.rendered_html {
  color: #000;
  /* any extras will just be numbers: */
}
.rendered_html em {
  font-style: italic;
}
.rendered_html strong {
  font-weight: bold;
}
.rendered_html u {
  text-decoration: underline;
}
.rendered_html :link {
  text-decoration: underline;
}
.rendered_html :visited {
  text-decoration: underline;
}
.rendered_html h1 {
  font-size: 185.7%;
  margin: 1.08em 0 0 0;
  font-weight: bold;
  line-height: 1.0;
}
.rendered_html h2 {
  font-size: 157.1%;
  margin: 1.27em 0 0 0;
  font-weight: bold;
  line-height: 1.0;
}
.rendered_html h3 {
  font-size: 128.6%;
  margin: 1.55em 0 0 0;
  font-weight: bold;
  line-height: 1.0;
}
.rendered_html h4 {
  font-size: 100%;
  margin: 2em 0 0 0;
  font-weight: bold;
  line-height: 1.0;
}
.rendered_html h5 {
  font-size: 100%;
  margin: 2em 0 0 0;
  font-weight: bold;
  line-height: 1.0;
  font-style: italic;
}
.rendered_html h6 {
  font-size: 100%;
  margin: 2em 0 0 0;
  font-weight: bold;
  line-height: 1.0;
  font-style: italic;
}
.rendered_html h1:first-child {
  margin-top: 0.538em;
}
.rendered_html h2:first-child {
  margin-top: 0.636em;
}
.rendered_html h3:first-child {
  margin-top: 0.777em;
}
.rendered_html h4:first-child {
  margin-top: 1em;
}
.rendered_html h5:first-child {
  margin-top: 1em;
}
.rendered_html h6:first-child {
  margin-top: 1em;
}
.rendered_html ul {
  list-style: disc;
  margin: 0em 2em;
  padding-left: 0px;
}
.rendered_html ul ul {
  list-style: square;
  margin: 0em 2em;
}
.rendered_html ul ul ul {
  list-style: circle;
  margin: 0em 2em;
}
.rendered_html ol {
  list-style: decimal;
  margin: 0em 2em;
  padding-left: 0px;
}
.rendered_html ol ol {
  list-style: upper-alpha;
  margin: 0em 2em;
}
.rendered_html ol ol ol {
  list-style: lower-alpha;
  margin: 0em 2em;
}
.rendered_html ol ol ol ol {
  list-style: lower-roman;
  margin: 0em 2em;
}
.rendered_html ol ol ol ol ol {
  list-style: decimal;
  margin: 0em 2em;
}
.rendered_html * + ul {
  margin-top: 1em;
}
.rendered_html * + ol {
  margin-top: 1em;
}
.rendered_html hr {
  color: black;
  background-color: black;
}
.rendered_html pre {
  margin: 1em 2em;
}
.rendered_html pre,
.rendered_html code {
  border: 0;
  background-color: #fff;
  color: #000;
  font-size: 100%;
  padding: 0px;
}
.rendered_html blockquote {
  margin: 1em 2em;
}
.rendered_html table {
  margin-left: auto;
  margin-right: auto;
  border: 1px solid black;
  border-collapse: collapse;
}
.rendered_html tr,
.rendered_html th,
.rendered_html td {
  border: 1px solid black;
  border-collapse: collapse;
  margin: 1em 2em;
}
.rendered_html td,
.rendered_html th {
  text-align: left;
  vertical-align: middle;
  padding: 4px;
}
.rendered_html th {
  font-weight: bold;
}
.rendered_html * + table {
  margin-top: 1em;
}
.rendered_html p {
  text-align: left;
}
.rendered_html * + p {
  margin-top: 1em;
}
.rendered_html img {
  display: block;
  margin-left: auto;
  margin-right: auto;
}
.rendered_html * + img {
  margin-top: 1em;
}
.rendered_html img,
.rendered_html svg {
  max-width: 100%;
  height: auto;
}
.rendered_html img.unconfined,
.rendered_html svg.unconfined {
  max-width: none;
}
div.text_cell {
  /* Old browsers */
  display: -webkit-box;
  -webkit-box-orient: horizontal;
  -webkit-box-align: stretch;
  display: -moz-box;
  -moz-box-orient: horizontal;
  -moz-box-align: stretch;
  display: box;
  box-orient: horizontal;
  box-align: stretch;
  /* Modern browsers */
  display: flex;
  flex-direction: row;
  align-items: stretch;
}
@media (max-width: 540px) {
  div.text_cell > div.prompt {
    display: none;
  }
}
div.text_cell_render {
  /*font-family: "Helvetica Neue", Arial, Helvetica, Geneva, sans-serif;*/
  outline: none;
  resize: none;
  width: inherit;
  border-style: none;
  padding: 0.5em 0.5em 0.5em 0.4em;
  color: #000;
  box-sizing: border-box;
  -moz-box-sizing: border-box;
  -webkit-box-sizing: border-box;
}
a.anchor-link:link {
  text-decoration: none;
  padding: 0px 20px;
  visibility: hidden;
}
h1:hover .anchor-link,
h2:hover .anchor-link,
h3:hover .anchor-link,
h4:hover .anchor-link,
h5:hover .anchor-link,
h6:hover .anchor-link {
  visibility: visible;
}
.text_cell.rendered .input_area {
  display: none;
}
.text_cell.rendered .rendered_html {
  overflow-x: auto;
  overflow-y: hidden;
}
.text_cell.unrendered .text_cell_render {
  display: none;
}
.cm-header-1,
.cm-header-2,
.cm-header-3,
.cm-header-4,
.cm-header-5,
.cm-header-6 {
  font-weight: bold;
  font-family: "Helvetica Neue", Helvetica, Arial, sans-serif;
}
.cm-header-1 {
  font-size: 185.7%;
}
.cm-header-2 {
  font-size: 157.1%;
}
.cm-header-3 {
  font-size: 128.6%;
}
.cm-header-4 {
  font-size: 110%;
}
.cm-header-5 {
  font-size: 100%;
  font-style: italic;
}
.cm-header-6 {
  font-size: 100%;
  font-style: italic;
}
/*!
*
* IPython notebook webapp
*
*/
@media (max-width: 767px) {
  .notebook_app {
    padding-left: 0px;
    padding-right: 0px;
  }
}
#ipython-main-app {
  box-sizing: border-box;
  -moz-box-sizing: border-box;
  -webkit-box-sizing: border-box;
  height: 100%;
}
div#notebook_panel {
  margin: 0px;
  padding: 0px;
  box-sizing: border-box;
  -moz-box-sizing: border-box;
  -webkit-box-sizing: border-box;
  height: 100%;
}
div#notebook {
  font-size: 14px;
  line-height: 20px;
  overflow-y: hidden;
  overflow-x: auto;
  width: 100%;
  /* This spaces the page away from the edge of the notebook area */
  padding-top: 20px;
  margin: 0px;
  outline: none;
  box-sizing: border-box;
  -moz-box-sizing: border-box;
  -webkit-box-sizing: border-box;
  min-height: 100%;
}
@media not print {
  #notebook-container {
    padding: 15px;
    background-color: #fff;
    min-height: 0;
    -webkit-box-shadow: 0px 0px 12px 1px rgba(87, 87, 87, 0.2);
    box-shadow: 0px 0px 12px 1px rgba(87, 87, 87, 0.2);
  }
}
@media print {
  #notebook-container {
    width: 100%;
  }
}
div.ui-widget-content {
  border: 1px solid #ababab;
  outline: none;
}
pre.dialog {
  background-color: #f7f7f7;
  border: 1px solid #ddd;
  border-radius: 2px;
  padding: 0.4em;
  padding-left: 2em;
}
p.dialog {
  padding: 0.2em;
}
/* Word-wrap output correctly.  This is the CSS3 spelling, though Firefox seems
   to not honor it correctly.  Webkit browsers (Chrome, rekonq, Safari) do.
 */
pre,
code,
kbd,
samp {
  white-space: pre-wrap;
}
#fonttest {
  font-family: monospace;
}
p {
  margin-bottom: 0;
}
.end_space {
  min-height: 100px;
  transition: height .2s ease;
}
.notebook_app > #header {
  -webkit-box-shadow: 0px 0px 12px 1px rgba(87, 87, 87, 0.2);
  box-shadow: 0px 0px 12px 1px rgba(87, 87, 87, 0.2);
}
@media not print {
  .notebook_app {
    background-color: #EEE;
  }
}
kbd {
  border-style: solid;
  border-width: 1px;
  box-shadow: none;
  margin: 2px;
  padding-left: 2px;
  padding-right: 2px;
  padding-top: 1px;
  padding-bottom: 1px;
}
/* CSS for the cell toolbar */
.celltoolbar {
  border: thin solid #CFCFCF;
  border-bottom: none;
  background: #EEE;
  border-radius: 2px 2px 0px 0px;
  width: 100%;
  height: 29px;
  padding-right: 4px;
  /* Old browsers */
  display: -webkit-box;
  -webkit-box-orient: horizontal;
  -webkit-box-align: stretch;
  display: -moz-box;
  -moz-box-orient: horizontal;
  -moz-box-align: stretch;
  display: box;
  box-orient: horizontal;
  box-align: stretch;
  /* Modern browsers */
  display: flex;
  flex-direction: row;
  align-items: stretch;
  /* Old browsers */
  -webkit-box-pack: end;
  -moz-box-pack: end;
  box-pack: end;
  /* Modern browsers */
  justify-content: flex-end;
  display: -webkit-flex;
}
@media print {
  .celltoolbar {
    display: none;
  }
}
.ctb_hideshow {
  display: none;
  vertical-align: bottom;
}
/* ctb_show is added to the ctb_hideshow div to show the cell toolbar.
   Cell toolbars are only shown when the ctb_global_show class is also set.
*/
.ctb_global_show .ctb_show.ctb_hideshow {
  display: block;
}
.ctb_global_show .ctb_show + .input_area,
.ctb_global_show .ctb_show + div.text_cell_input,
.ctb_global_show .ctb_show ~ div.text_cell_render {
  border-top-right-radius: 0px;
  border-top-left-radius: 0px;
}
.ctb_global_show .ctb_show ~ div.text_cell_render {
  border: 1px solid #cfcfcf;
}
.celltoolbar {
  font-size: 87%;
  padding-top: 3px;
}
.celltoolbar select {
  display: block;
  width: 100%;
  height: 32px;
  padding: 6px 12px;
  font-size: 13px;
  line-height: 1.42857143;
  color: #555555;
  background-color: #fff;
  background-image: none;
  border: 1px solid #ccc;
  border-radius: 2px;
  -webkit-box-shadow: inset 0 1px 1px rgba(0, 0, 0, 0.075);
  box-shadow: inset 0 1px 1px rgba(0, 0, 0, 0.075);
  -webkit-transition: border-color ease-in-out .15s, box-shadow ease-in-out .15s;
  -o-transition: border-color ease-in-out .15s, box-shadow ease-in-out .15s;
  transition: border-color ease-in-out .15s, box-shadow ease-in-out .15s;
  height: 30px;
  padding: 5px 10px;
  font-size: 12px;
  line-height: 1.5;
  border-radius: 1px;
  width: inherit;
  font-size: inherit;
  height: 22px;
  padding: 0px;
  display: inline-block;
}
.celltoolbar select:focus {
  border-color: #66afe9;
  outline: 0;
  -webkit-box-shadow: inset 0 1px 1px rgba(0,0,0,.075), 0 0 8px rgba(102, 175, 233, 0.6);
  box-shadow: inset 0 1px 1px rgba(0,0,0,.075), 0 0 8px rgba(102, 175, 233, 0.6);
}
.celltoolbar select::-moz-placeholder {
  color: #999;
  opacity: 1;
}
.celltoolbar select:-ms-input-placeholder {
  color: #999;
}
.celltoolbar select::-webkit-input-placeholder {
  color: #999;
}
.celltoolbar select::-ms-expand {
  border: 0;
  background-color: transparent;
}
.celltoolbar select[disabled],
.celltoolbar select[readonly],
fieldset[disabled] .celltoolbar select {
  background-color: #eeeeee;
  opacity: 1;
}
.celltoolbar select[disabled],
fieldset[disabled] .celltoolbar select {
  cursor: not-allowed;
}
textarea.celltoolbar select {
  height: auto;
}
select.celltoolbar select {
  height: 30px;
  line-height: 30px;
}
textarea.celltoolbar select,
select[multiple].celltoolbar select {
  height: auto;
}
.celltoolbar label {
  margin-left: 5px;
  margin-right: 5px;
}
.completions {
  position: absolute;
  z-index: 110;
  overflow: hidden;
  border: 1px solid #ababab;
  border-radius: 2px;
  -webkit-box-shadow: 0px 6px 10px -1px #adadad;
  box-shadow: 0px 6px 10px -1px #adadad;
  line-height: 1;
}
.completions select {
  background: white;
  outline: none;
  border: none;
  padding: 0px;
  margin: 0px;
  overflow: auto;
  font-family: monospace;
  font-size: 110%;
  color: #000;
  width: auto;
}
.completions select option.context {
  color: #286090;
}
#kernel_logo_widget {
  float: right !important;
  float: right;
}
#kernel_logo_widget .current_kernel_logo {
  display: none;
  margin-top: -1px;
  margin-bottom: -1px;
  width: 32px;
  height: 32px;
}
#menubar {
  box-sizing: border-box;
  -moz-box-sizing: border-box;
  -webkit-box-sizing: border-box;
  margin-top: 1px;
}
#menubar .navbar {
  border-top: 1px;
  border-radius: 0px 0px 2px 2px;
  margin-bottom: 0px;
}
#menubar .navbar-toggle {
  float: left;
  padding-top: 7px;
  padding-bottom: 7px;
  border: none;
}
#menubar .navbar-collapse {
  clear: left;
}
.nav-wrapper {
  border-bottom: 1px solid #e7e7e7;
}
i.menu-icon {
  padding-top: 4px;
}
ul#help_menu li a {
  overflow: hidden;
  padding-right: 2.2em;
}
ul#help_menu li a i {
  margin-right: -1.2em;
}
.dropdown-submenu {
  position: relative;
}
.dropdown-submenu > .dropdown-menu {
  top: 0;
  left: 100%;
  margin-top: -6px;
  margin-left: -1px;
}
.dropdown-submenu:hover > .dropdown-menu {
  display: block;
}
.dropdown-submenu > a:after {
  display: inline-block;
  font: normal normal normal 14px/1 FontAwesome;
  font-size: inherit;
  text-rendering: auto;
  -webkit-font-smoothing: antialiased;
  -moz-osx-font-smoothing: grayscale;
  display: block;
  content: "\f0da";
  float: right;
  color: #333333;
  margin-top: 2px;
  margin-right: -10px;
}
.dropdown-submenu > a:after.pull-left {
  margin-right: .3em;
}
.dropdown-submenu > a:after.pull-right {
  margin-left: .3em;
}
.dropdown-submenu:hover > a:after {
  color: #262626;
}
.dropdown-submenu.pull-left {
  float: none;
}
.dropdown-submenu.pull-left > .dropdown-menu {
  left: -100%;
  margin-left: 10px;
}
#notification_area {
  float: right !important;
  float: right;
  z-index: 10;
}
.indicator_area {
  float: right !important;
  float: right;
  color: #777;
  margin-left: 5px;
  margin-right: 5px;
  width: 11px;
  z-index: 10;
  text-align: center;
  width: auto;
}
#kernel_indicator {
  float: right !important;
  float: right;
  color: #777;
  margin-left: 5px;
  margin-right: 5px;
  width: 11px;
  z-index: 10;
  text-align: center;
  width: auto;
  border-left: 1px solid;
}
#kernel_indicator .kernel_indicator_name {
  padding-left: 5px;
  padding-right: 5px;
}
#modal_indicator {
  float: right !important;
  float: right;
  color: #777;
  margin-left: 5px;
  margin-right: 5px;
  width: 11px;
  z-index: 10;
  text-align: center;
  width: auto;
}
#readonly-indicator {
  float: right !important;
  float: right;
  color: #777;
  margin-left: 5px;
  margin-right: 5px;
  width: 11px;
  z-index: 10;
  text-align: center;
  width: auto;
  margin-top: 2px;
  margin-bottom: 0px;
  margin-left: 0px;
  margin-right: 0px;
  display: none;
}
.modal_indicator:before {
  width: 1.28571429em;
  text-align: center;
}
.edit_mode .modal_indicator:before {
  display: inline-block;
  font: normal normal normal 14px/1 FontAwesome;
  font-size: inherit;
  text-rendering: auto;
  -webkit-font-smoothing: antialiased;
  -moz-osx-font-smoothing: grayscale;
  content: "\f040";
}
.edit_mode .modal_indicator:before.pull-left {
  margin-right: .3em;
}
.edit_mode .modal_indicator:before.pull-right {
  margin-left: .3em;
}
.command_mode .modal_indicator:before {
  display: inline-block;
  font: normal normal normal 14px/1 FontAwesome;
  font-size: inherit;
  text-rendering: auto;
  -webkit-font-smoothing: antialiased;
  -moz-osx-font-smoothing: grayscale;
  content: ' ';
}
.command_mode .modal_indicator:before.pull-left {
  margin-right: .3em;
}
.command_mode .modal_indicator:before.pull-right {
  margin-left: .3em;
}
.kernel_idle_icon:before {
  display: inline-block;
  font: normal normal normal 14px/1 FontAwesome;
  font-size: inherit;
  text-rendering: auto;
  -webkit-font-smoothing: antialiased;
  -moz-osx-font-smoothing: grayscale;
  content: "\f10c";
}
.kernel_idle_icon:before.pull-left {
  margin-right: .3em;
}
.kernel_idle_icon:before.pull-right {
  margin-left: .3em;
}
.kernel_busy_icon:before {
  display: inline-block;
  font: normal normal normal 14px/1 FontAwesome;
  font-size: inherit;
  text-rendering: auto;
  -webkit-font-smoothing: antialiased;
  -moz-osx-font-smoothing: grayscale;
  content: "\f111";
}
.kernel_busy_icon:before.pull-left {
  margin-right: .3em;
}
.kernel_busy_icon:before.pull-right {
  margin-left: .3em;
}
.kernel_dead_icon:before {
  display: inline-block;
  font: normal normal normal 14px/1 FontAwesome;
  font-size: inherit;
  text-rendering: auto;
  -webkit-font-smoothing: antialiased;
  -moz-osx-font-smoothing: grayscale;
  content: "\f1e2";
}
.kernel_dead_icon:before.pull-left {
  margin-right: .3em;
}
.kernel_dead_icon:before.pull-right {
  margin-left: .3em;
}
.kernel_disconnected_icon:before {
  display: inline-block;
  font: normal normal normal 14px/1 FontAwesome;
  font-size: inherit;
  text-rendering: auto;
  -webkit-font-smoothing: antialiased;
  -moz-osx-font-smoothing: grayscale;
  content: "\f127";
}
.kernel_disconnected_icon:before.pull-left {
  margin-right: .3em;
}
.kernel_disconnected_icon:before.pull-right {
  margin-left: .3em;
}
.notification_widget {
  color: #777;
  z-index: 10;
  background: rgba(240, 240, 240, 0.5);
  margin-right: 4px;
  color: #333;
  background-color: #fff;
  border-color: #ccc;
}
.notification_widget:focus,
.notification_widget.focus {
  color: #333;
  background-color: #e6e6e6;
  border-color: #8c8c8c;
}
.notification_widget:hover {
  color: #333;
  background-color: #e6e6e6;
  border-color: #adadad;
}
.notification_widget:active,
.notification_widget.active,
.open > .dropdown-toggle.notification_widget {
  color: #333;
  background-color: #e6e6e6;
  border-color: #adadad;
}
.notification_widget:active:hover,
.notification_widget.active:hover,
.open > .dropdown-toggle.notification_widget:hover,
.notification_widget:active:focus,
.notification_widget.active:focus,
.open > .dropdown-toggle.notification_widget:focus,
.notification_widget:active.focus,
.notification_widget.active.focus,
.open > .dropdown-toggle.notification_widget.focus {
  color: #333;
  background-color: #d4d4d4;
  border-color: #8c8c8c;
}
.notification_widget:active,
.notification_widget.active,
.open > .dropdown-toggle.notification_widget {
  background-image: none;
}
.notification_widget.disabled:hover,
.notification_widget[disabled]:hover,
fieldset[disabled] .notification_widget:hover,
.notification_widget.disabled:focus,
.notification_widget[disabled]:focus,
fieldset[disabled] .notification_widget:focus,
.notification_widget.disabled.focus,
.notification_widget[disabled].focus,
fieldset[disabled] .notification_widget.focus {
  background-color: #fff;
  border-color: #ccc;
}
.notification_widget .badge {
  color: #fff;
  background-color: #333;
}
.notification_widget.warning {
  color: #fff;
  background-color: #f0ad4e;
  border-color: #eea236;
}
.notification_widget.warning:focus,
.notification_widget.warning.focus {
  color: #fff;
  background-color: #ec971f;
  border-color: #985f0d;
}
.notification_widget.warning:hover {
  color: #fff;
  background-color: #ec971f;
  border-color: #d58512;
}
.notification_widget.warning:active,
.notification_widget.warning.active,
.open > .dropdown-toggle.notification_widget.warning {
  color: #fff;
  background-color: #ec971f;
  border-color: #d58512;
}
.notification_widget.warning:active:hover,
.notification_widget.warning.active:hover,
.open > .dropdown-toggle.notification_widget.warning:hover,
.notification_widget.warning:active:focus,
.notification_widget.warning.active:focus,
.open > .dropdown-toggle.notification_widget.warning:focus,
.notification_widget.warning:active.focus,
.notification_widget.warning.active.focus,
.open > .dropdown-toggle.notification_widget.warning.focus {
  color: #fff;
  background-color: #d58512;
  border-color: #985f0d;
}
.notification_widget.warning:active,
.notification_widget.warning.active,
.open > .dropdown-toggle.notification_widget.warning {
  background-image: none;
}
.notification_widget.warning.disabled:hover,
.notification_widget.warning[disabled]:hover,
fieldset[disabled] .notification_widget.warning:hover,
.notification_widget.warning.disabled:focus,
.notification_widget.warning[disabled]:focus,
fieldset[disabled] .notification_widget.warning:focus,
.notification_widget.warning.disabled.focus,
.notification_widget.warning[disabled].focus,
fieldset[disabled] .notification_widget.warning.focus {
  background-color: #f0ad4e;
  border-color: #eea236;
}
.notification_widget.warning .badge {
  color: #f0ad4e;
  background-color: #fff;
}
.notification_widget.success {
  color: #fff;
  background-color: #5cb85c;
  border-color: #4cae4c;
}
.notification_widget.success:focus,
.notification_widget.success.focus {
  color: #fff;
  background-color: #449d44;
  border-color: #255625;
}
.notification_widget.success:hover {
  color: #fff;
  background-color: #449d44;
  border-color: #398439;
}
.notification_widget.success:active,
.notification_widget.success.active,
.open > .dropdown-toggle.notification_widget.success {
  color: #fff;
  background-color: #449d44;
  border-color: #398439;
}
.notification_widget.success:active:hover,
.notification_widget.success.active:hover,
.open > .dropdown-toggle.notification_widget.success:hover,
.notification_widget.success:active:focus,
.notification_widget.success.active:focus,
.open > .dropdown-toggle.notification_widget.success:focus,
.notification_widget.success:active.focus,
.notification_widget.success.active.focus,
.open > .dropdown-toggle.notification_widget.success.focus {
  color: #fff;
  background-color: #398439;
  border-color: #255625;
}
.notification_widget.success:active,
.notification_widget.success.active,
.open > .dropdown-toggle.notification_widget.success {
  background-image: none;
}
.notification_widget.success.disabled:hover,
.notification_widget.success[disabled]:hover,
fieldset[disabled] .notification_widget.success:hover,
.notification_widget.success.disabled:focus,
.notification_widget.success[disabled]:focus,
fieldset[disabled] .notification_widget.success:focus,
.notification_widget.success.disabled.focus,
.notification_widget.success[disabled].focus,
fieldset[disabled] .notification_widget.success.focus {
  background-color: #5cb85c;
  border-color: #4cae4c;
}
.notification_widget.success .badge {
  color: #5cb85c;
  background-color: #fff;
}
.notification_widget.info {
  color: #fff;
  background-color: #5bc0de;
  border-color: #46b8da;
}
.notification_widget.info:focus,
.notification_widget.info.focus {
  color: #fff;
  background-color: #31b0d5;
  border-color: #1b6d85;
}
.notification_widget.info:hover {
  color: #fff;
  background-color: #31b0d5;
  border-color: #269abc;
}
.notification_widget.info:active,
.notification_widget.info.active,
.open > .dropdown-toggle.notification_widget.info {
  color: #fff;
  background-color: #31b0d5;
  border-color: #269abc;
}
.notification_widget.info:active:hover,
.notification_widget.info.active:hover,
.open > .dropdown-toggle.notification_widget.info:hover,
.notification_widget.info:active:focus,
.notification_widget.info.active:focus,
.open > .dropdown-toggle.notification_widget.info:focus,
.notification_widget.info:active.focus,
.notification_widget.info.active.focus,
.open > .dropdown-toggle.notification_widget.info.focus {
  color: #fff;
  background-color: #269abc;
  border-color: #1b6d85;
}
.notification_widget.info:active,
.notification_widget.info.active,
.open > .dropdown-toggle.notification_widget.info {
  background-image: none;
}
.notification_widget.info.disabled:hover,
.notification_widget.info[disabled]:hover,
fieldset[disabled] .notification_widget.info:hover,
.notification_widget.info.disabled:focus,
.notification_widget.info[disabled]:focus,
fieldset[disabled] .notification_widget.info:focus,
.notification_widget.info.disabled.focus,
.notification_widget.info[disabled].focus,
fieldset[disabled] .notification_widget.info.focus {
  background-color: #5bc0de;
  border-color: #46b8da;
}
.notification_widget.info .badge {
  color: #5bc0de;
  background-color: #fff;
}
.notification_widget.danger {
  color: #fff;
  background-color: #d9534f;
  border-color: #d43f3a;
}
.notification_widget.danger:focus,
.notification_widget.danger.focus {
  color: #fff;
  background-color: #c9302c;
  border-color: #761c19;
}
.notification_widget.danger:hover {
  color: #fff;
  background-color: #c9302c;
  border-color: #ac2925;
}
.notification_widget.danger:active,
.notification_widget.danger.active,
.open > .dropdown-toggle.notification_widget.danger {
  color: #fff;
  background-color: #c9302c;
  border-color: #ac2925;
}
.notification_widget.danger:active:hover,
.notification_widget.danger.active:hover,
.open > .dropdown-toggle.notification_widget.danger:hover,
.notification_widget.danger:active:focus,
.notification_widget.danger.active:focus,
.open > .dropdown-toggle.notification_widget.danger:focus,
.notification_widget.danger:active.focus,
.notification_widget.danger.active.focus,
.open > .dropdown-toggle.notification_widget.danger.focus {
  color: #fff;
  background-color: #ac2925;
  border-color: #761c19;
}
.notification_widget.danger:active,
.notification_widget.danger.active,
.open > .dropdown-toggle.notification_widget.danger {
  background-image: none;
}
.notification_widget.danger.disabled:hover,
.notification_widget.danger[disabled]:hover,
fieldset[disabled] .notification_widget.danger:hover,
.notification_widget.danger.disabled:focus,
.notification_widget.danger[disabled]:focus,
fieldset[disabled] .notification_widget.danger:focus,
.notification_widget.danger.disabled.focus,
.notification_widget.danger[disabled].focus,
fieldset[disabled] .notification_widget.danger.focus {
  background-color: #d9534f;
  border-color: #d43f3a;
}
.notification_widget.danger .badge {
  color: #d9534f;
  background-color: #fff;
}
div#pager {
  background-color: #fff;
  font-size: 14px;
  line-height: 20px;
  overflow: hidden;
  display: none;
  position: fixed;
  bottom: 0px;
  width: 100%;
  max-height: 50%;
  padding-top: 8px;
  -webkit-box-shadow: 0px 0px 12px 1px rgba(87, 87, 87, 0.2);
  box-shadow: 0px 0px 12px 1px rgba(87, 87, 87, 0.2);
  /* Display over codemirror */
  z-index: 100;
  /* Hack which prevents jquery ui resizable from changing top. */
  top: auto !important;
}
div#pager pre {
  line-height: 1.21429em;
  color: #000;
  background-color: #f7f7f7;
  padding: 0.4em;
}
div#pager #pager-button-area {
  position: absolute;
  top: 8px;
  right: 20px;
}
div#pager #pager-contents {
  position: relative;
  overflow: auto;
  width: 100%;
  height: 100%;
}
div#pager #pager-contents #pager-container {
  position: relative;
  padding: 15px 0px;
  box-sizing: border-box;
  -moz-box-sizing: border-box;
  -webkit-box-sizing: border-box;
}
div#pager .ui-resizable-handle {
  top: 0px;
  height: 8px;
  background: #f7f7f7;
  border-top: 1px solid #cfcfcf;
  border-bottom: 1px solid #cfcfcf;
  /* This injects handle bars (a short, wide = symbol) for 
        the resize handle. */
}
div#pager .ui-resizable-handle::after {
  content: '';
  top: 2px;
  left: 50%;
  height: 3px;
  width: 30px;
  margin-left: -15px;
  position: absolute;
  border-top: 1px solid #cfcfcf;
}
.quickhelp {
  /* Old browsers */
  display: -webkit-box;
  -webkit-box-orient: horizontal;
  -webkit-box-align: stretch;
  display: -moz-box;
  -moz-box-orient: horizontal;
  -moz-box-align: stretch;
  display: box;
  box-orient: horizontal;
  box-align: stretch;
  /* Modern browsers */
  display: flex;
  flex-direction: row;
  align-items: stretch;
  line-height: 1.8em;
}
.shortcut_key {
  display: inline-block;
  width: 20ex;
  text-align: right;
  font-family: monospace;
}
.shortcut_descr {
  display: inline-block;
  /* Old browsers */
  -webkit-box-flex: 1;
  -moz-box-flex: 1;
  box-flex: 1;
  /* Modern browsers */
  flex: 1;
}
span.save_widget {
  margin-top: 6px;
}
span.save_widget span.filename {
  height: 1em;
  line-height: 1em;
  padding: 3px;
  margin-left: 16px;
  border: none;
  font-size: 146.5%;
  border-radius: 2px;
}
span.save_widget span.filename:hover {
  background-color: #e6e6e6;
}
span.checkpoint_status,
span.autosave_status {
  font-size: small;
}
@media (max-width: 767px) {
  span.save_widget {
    font-size: small;
  }
  span.checkpoint_status,
  span.autosave_status {
    display: none;
  }
}
@media (min-width: 768px) and (max-width: 991px) {
  span.checkpoint_status {
    display: none;
  }
  span.autosave_status {
    font-size: x-small;
  }
}
.toolbar {
  padding: 0px;
  margin-left: -5px;
  margin-top: 2px;
  margin-bottom: 5px;
  box-sizing: border-box;
  -moz-box-sizing: border-box;
  -webkit-box-sizing: border-box;
}
.toolbar select,
.toolbar label {
  width: auto;
  vertical-align: middle;
  margin-right: 2px;
  margin-bottom: 0px;
  display: inline;
  font-size: 92%;
  margin-left: 0.3em;
  margin-right: 0.3em;
  padding: 0px;
  padding-top: 3px;
}
.toolbar .btn {
  padding: 2px 8px;
}
.toolbar .btn-group {
  margin-top: 0px;
  margin-left: 5px;
}
#maintoolbar {
  margin-bottom: -3px;
  margin-top: -8px;
  border: 0px;
  min-height: 27px;
  margin-left: 0px;
  padding-top: 11px;
  padding-bottom: 3px;
}
#maintoolbar .navbar-text {
  float: none;
  vertical-align: middle;
  text-align: right;
  margin-left: 5px;
  margin-right: 0px;
  margin-top: 0px;
}
.select-xs {
  height: 24px;
}
.pulse,
.dropdown-menu > li > a.pulse,
li.pulse > a.dropdown-toggle,
li.pulse.open > a.dropdown-toggle {
  background-color: #F37626;
  color: white;
}
/**
 * Primary styles
 *
 * Author: Jupyter Development Team
 */
/** WARNING IF YOU ARE EDITTING THIS FILE, if this is a .css file, It has a lot
 * of chance of beeing generated from the ../less/[samename].less file, you can
 * try to get back the less file by reverting somme commit in history
 **/
/*
 * We'll try to get something pretty, so we
 * have some strange css to have the scroll bar on
 * the left with fix button on the top right of the tooltip
 */
@-moz-keyframes fadeOut {
  from {
    opacity: 1;
  }
  to {
    opacity: 0;
  }
}
@-webkit-keyframes fadeOut {
  from {
    opacity: 1;
  }
  to {
    opacity: 0;
  }
}
@-moz-keyframes fadeIn {
  from {
    opacity: 0;
  }
  to {
    opacity: 1;
  }
}
@-webkit-keyframes fadeIn {
  from {
    opacity: 0;
  }
  to {
    opacity: 1;
  }
}
/*properties of tooltip after "expand"*/
.bigtooltip {
  overflow: auto;
  height: 200px;
  -webkit-transition-property: height;
  -webkit-transition-duration: 500ms;
  -moz-transition-property: height;
  -moz-transition-duration: 500ms;
  transition-property: height;
  transition-duration: 500ms;
}
/*properties of tooltip before "expand"*/
.smalltooltip {
  -webkit-transition-property: height;
  -webkit-transition-duration: 500ms;
  -moz-transition-property: height;
  -moz-transition-duration: 500ms;
  transition-property: height;
  transition-duration: 500ms;
  text-overflow: ellipsis;
  overflow: hidden;
  height: 80px;
}
.tooltipbuttons {
  position: absolute;
  padding-right: 15px;
  top: 0px;
  right: 0px;
}
.tooltiptext {
  /*avoid the button to overlap on some docstring*/
  padding-right: 30px;
}
.ipython_tooltip {
  max-width: 700px;
  /*fade-in animation when inserted*/
  -webkit-animation: fadeOut 400ms;
  -moz-animation: fadeOut 400ms;
  animation: fadeOut 400ms;
  -webkit-animation: fadeIn 400ms;
  -moz-animation: fadeIn 400ms;
  animation: fadeIn 400ms;
  vertical-align: middle;
  background-color: #f7f7f7;
  overflow: visible;
  border: #ababab 1px solid;
  outline: none;
  padding: 3px;
  margin: 0px;
  padding-left: 7px;
  font-family: monospace;
  min-height: 50px;
  -moz-box-shadow: 0px 6px 10px -1px #adadad;
  -webkit-box-shadow: 0px 6px 10px -1px #adadad;
  box-shadow: 0px 6px 10px -1px #adadad;
  border-radius: 2px;
  position: absolute;
  z-index: 1000;
}
.ipython_tooltip a {
  float: right;
}
.ipython_tooltip .tooltiptext pre {
  border: 0;
  border-radius: 0;
  font-size: 100%;
  background-color: #f7f7f7;
}
.pretooltiparrow {
  left: 0px;
  margin: 0px;
  top: -16px;
  width: 40px;
  height: 16px;
  overflow: hidden;
  position: absolute;
}
.pretooltiparrow:before {
  background-color: #f7f7f7;
  border: 1px #ababab solid;
  z-index: 11;
  content: "";
  position: absolute;
  left: 15px;
  top: 10px;
  width: 25px;
  height: 25px;
  -webkit-transform: rotate(45deg);
  -moz-transform: rotate(45deg);
  -ms-transform: rotate(45deg);
  -o-transform: rotate(45deg);
}
ul.typeahead-list i {
  margin-left: -10px;
  width: 18px;
}
ul.typeahead-list {
  max-height: 80vh;
  overflow: auto;
}
ul.typeahead-list > li > a {
  /** Firefox bug **/
  /* see https://github.com/jupyter/notebook/issues/559 */
  white-space: normal;
}
.cmd-palette .modal-body {
  padding: 7px;
}
.cmd-palette form {
  background: white;
}
.cmd-palette input {
  outline: none;
}
.no-shortcut {
  display: none;
}
.command-shortcut:before {
  content: "(command)";
  padding-right: 3px;
  color: #777777;
}
.edit-shortcut:before {
  content: "(edit)";
  padding-right: 3px;
  color: #777777;
}
#find-and-replace #replace-preview .match,
#find-and-replace #replace-preview .insert {
  background-color: #BBDEFB;
  border-color: #90CAF9;
  border-style: solid;
  border-width: 1px;
  border-radius: 0px;
}
#find-and-replace #replace-preview .replace .match {
  background-color: #FFCDD2;
  border-color: #EF9A9A;
  border-radius: 0px;
}
#find-and-replace #replace-preview .replace .insert {
  background-color: #C8E6C9;
  border-color: #A5D6A7;
  border-radius: 0px;
}
#find-and-replace #replace-preview {
  max-height: 60vh;
  overflow: auto;
}
#find-and-replace #replace-preview pre {
  padding: 5px 10px;
}
.terminal-app {
  background: #EEE;
}
.terminal-app #header {
  background: #fff;
  -webkit-box-shadow: 0px 0px 12px 1px rgba(87, 87, 87, 0.2);
  box-shadow: 0px 0px 12px 1px rgba(87, 87, 87, 0.2);
}
.terminal-app .terminal {
  float: left;
  font-family: monospace;
  color: white;
  background: black;
  padding: 0.4em;
  border-radius: 2px;
  -webkit-box-shadow: 0px 0px 12px 1px rgba(87, 87, 87, 0.4);
  box-shadow: 0px 0px 12px 1px rgba(87, 87, 87, 0.4);
}
.terminal-app .terminal,
.terminal-app .terminal dummy-screen {
  line-height: 1em;
  font-size: 14px;
}
.terminal-app .terminal-cursor {
  color: black;
  background: white;
}
.terminal-app #terminado-container {
  margin-top: 20px;
}
/*# sourceMappingURL=style.min.css.map */
    </style>
<style type="text/css">
    .highlight .hll { background-color: #ffffcc }
.highlight  { background: #f8f8f8; }
.highlight .c { color: #408080; font-style: italic } /* Comment */
.highlight .err { border: 1px solid #FF0000 } /* Error */
.highlight .k { color: #008000; font-weight: bold } /* Keyword */
.highlight .o { color: #666666 } /* Operator */
.highlight .ch { color: #408080; font-style: italic } /* Comment.Hashbang */
.highlight .cm { color: #408080; font-style: italic } /* Comment.Multiline */
.highlight .cp { color: #BC7A00 } /* Comment.Preproc */
.highlight .cpf { color: #408080; font-style: italic } /* Comment.PreprocFile */
.highlight .c1 { color: #408080; font-style: italic } /* Comment.Single */
.highlight .cs { color: #408080; font-style: italic } /* Comment.Special */
.highlight .gd { color: #A00000 } /* Generic.Deleted */
.highlight .ge { font-style: italic } /* Generic.Emph */
.highlight .gr { color: #FF0000 } /* Generic.Error */
.highlight .gh { color: #000080; font-weight: bold } /* Generic.Heading */
.highlight .gi { color: #00A000 } /* Generic.Inserted */
.highlight .go { color: #888888 } /* Generic.Output */
.highlight .gp { color: #000080; font-weight: bold } /* Generic.Prompt */
.highlight .gs { font-weight: bold } /* Generic.Strong */
.highlight .gu { color: #800080; font-weight: bold } /* Generic.Subheading */
.highlight .gt { color: #0044DD } /* Generic.Traceback */
.highlight .kc { color: #008000; font-weight: bold } /* Keyword.Constant */
.highlight .kd { color: #008000; font-weight: bold } /* Keyword.Declaration */
.highlight .kn { color: #008000; font-weight: bold } /* Keyword.Namespace */
.highlight .kp { color: #008000 } /* Keyword.Pseudo */
.highlight .kr { color: #008000; font-weight: bold } /* Keyword.Reserved */
.highlight .kt { color: #B00040 } /* Keyword.Type */
.highlight .m { color: #666666 } /* Literal.Number */
.highlight .s { color: #BA2121 } /* Literal.String */
.highlight .na { color: #7D9029 } /* Name.Attribute */
.highlight .nb { color: #008000 } /* Name.Builtin */
.highlight .nc { color: #0000FF; font-weight: bold } /* Name.Class */
.highlight .no { color: #880000 } /* Name.Constant */
.highlight .nd { color: #AA22FF } /* Name.Decorator */
.highlight .ni { color: #999999; font-weight: bold } /* Name.Entity */
.highlight .ne { color: #D2413A; font-weight: bold } /* Name.Exception */
.highlight .nf { color: #0000FF } /* Name.Function */
.highlight .nl { color: #A0A000 } /* Name.Label */
.highlight .nn { color: #0000FF; font-weight: bold } /* Name.Namespace */
.highlight .nt { color: #008000; font-weight: bold } /* Name.Tag */
.highlight .nv { color: #19177C } /* Name.Variable */
.highlight .ow { color: #AA22FF; font-weight: bold } /* Operator.Word */
.highlight .w { color: #bbbbbb } /* Text.Whitespace */
.highlight .mb { color: #666666 } /* Literal.Number.Bin */
.highlight .mf { color: #666666 } /* Literal.Number.Float */
.highlight .mh { color: #666666 } /* Literal.Number.Hex */
.highlight .mi { color: #666666 } /* Literal.Number.Integer */
.highlight .mo { color: #666666 } /* Literal.Number.Oct */
.highlight .sb { color: #BA2121 } /* Literal.String.Backtick */
.highlight .sc { color: #BA2121 } /* Literal.String.Char */
.highlight .sd { color: #BA2121; font-style: italic } /* Literal.String.Doc */
.highlight .s2 { color: #BA2121 } /* Literal.String.Double */
.highlight .se { color: #BB6622; font-weight: bold } /* Literal.String.Escape */
.highlight .sh { color: #BA2121 } /* Literal.String.Heredoc */
.highlight .si { color: #BB6688; font-weight: bold } /* Literal.String.Interpol */
.highlight .sx { color: #008000 } /* Literal.String.Other */
.highlight .sr { color: #BB6688 } /* Literal.String.Regex */
.highlight .s1 { color: #BA2121 } /* Literal.String.Single */
.highlight .ss { color: #19177C } /* Literal.String.Symbol */
.highlight .bp { color: #008000 } /* Name.Builtin.Pseudo */
.highlight .vc { color: #19177C } /* Name.Variable.Class */
.highlight .vg { color: #19177C } /* Name.Variable.Global */
.highlight .vi { color: #19177C } /* Name.Variable.Instance */
.highlight .il { color: #666666 } /* Literal.Number.Integer.Long */
    </style>
<style type="text/css">
    
/* Temporary definitions which will become obsolete with Notebook release 5.0 */
.ansi-black-fg { color: #3E424D; }
.ansi-black-bg { background-color: #3E424D; }
.ansi-black-intense-fg { color: #282C36; }
.ansi-black-intense-bg { background-color: #282C36; }
.ansi-red-fg { color: #E75C58; }
.ansi-red-bg { background-color: #E75C58; }
.ansi-red-intense-fg { color: #B22B31; }
.ansi-red-intense-bg { background-color: #B22B31; }
.ansi-green-fg { color: #00A250; }
.ansi-green-bg { background-color: #00A250; }
.ansi-green-intense-fg { color: #007427; }
.ansi-green-intense-bg { background-color: #007427; }
.ansi-yellow-fg { color: #DDB62B; }
.ansi-yellow-bg { background-color: #DDB62B; }
.ansi-yellow-intense-fg { color: #B27D12; }
.ansi-yellow-intense-bg { background-color: #B27D12; }
.ansi-blue-fg { color: #208FFB; }
.ansi-blue-bg { background-color: #208FFB; }
.ansi-blue-intense-fg { color: #0065CA; }
.ansi-blue-intense-bg { background-color: #0065CA; }
.ansi-magenta-fg { color: #D160C4; }
.ansi-magenta-bg { background-color: #D160C4; }
.ansi-magenta-intense-fg { color: #A03196; }
.ansi-magenta-intense-bg { background-color: #A03196; }
.ansi-cyan-fg { color: #60C6C8; }
.ansi-cyan-bg { background-color: #60C6C8; }
.ansi-cyan-intense-fg { color: #258F8F; }
.ansi-cyan-intense-bg { background-color: #258F8F; }
.ansi-white-fg { color: #C5C1B4; }
.ansi-white-bg { background-color: #C5C1B4; }
.ansi-white-intense-fg { color: #A1A6B2; }
.ansi-white-intense-bg { background-color: #A1A6B2; }

.ansi-bold { font-weight: bold; }

    </style>


<style type="text/css">
/* Overrides of notebook CSS for static HTML export */
body {
  overflow: visible;
  padding: 8px;
}

div#notebook {
  overflow: visible;
  border-top: none;
}

@media print {
  div.cell {
    display: block;
    page-break-inside: avoid;
  } 
  div.output_wrapper { 
    display: block;
    page-break-inside: avoid; 
  }
  div.output { 
    display: block;
    page-break-inside: avoid; 
  }
}
</style>

<!-- Custom stylesheet, it must be in the same directory as the html file -->
<link rel="stylesheet" href="custom.css">

<!-- Loading mathjax macro -->
<!-- Load mathjax -->
    <script src="https://cdn.mathjax.org/mathjax/latest/MathJax.js?config=TeX-AMS_HTML"></script>
    <!-- MathJax configuration -->
    <script type="text/x-mathjax-config">
    MathJax.Hub.Config({
        tex2jax: {
            inlineMath: [ ['$','$'], ["\\(","\\)"] ],
            displayMath: [ ['$$','$$'], ["\\[","\\]"] ],
            processEscapes: true,
            processEnvironments: true
        },
        // Center justify equations in code and markdown cells. Elsewhere
        // we use CSS to left justify single line equations in code cells.
        displayAlign: 'center',
        "HTML-CSS": {
            styles: {'.MathJax_Display': {"margin": 0}},
            linebreaks: { automatic: true }
        }
    });
    </script>
    <!-- End of mathjax configuration --></head>
<body>
  <div tabindex="-1" id="notebook" class="border-box-sizing">
    <div class="container" id="notebook-container">

<div class="cell border-box-sizing text_cell rendered">
<div class="prompt input_prompt">
</div>
<div class="inner_cell">
<div class="text_cell_render border-box-sizing rendered_html">
<h1 id="Machine-Learning-Engineer-Nanodegree">Machine Learning Engineer Nanodegree<a class="anchor-link" href="#Machine-Learning-Engineer-Nanodegree">&#182;</a></h1><h2 id="Model-Evaluation-&amp;-Validation">Model Evaluation &amp; Validation<a class="anchor-link" href="#Model-Evaluation-&amp;-Validation">&#182;</a></h2><h2 id="Project:-Predicting-Boston-Housing-Prices">Project: Predicting Boston Housing Prices<a class="anchor-link" href="#Project:-Predicting-Boston-Housing-Prices">&#182;</a></h2><p>Welcome to the first project of the Machine Learning Engineer Nanodegree! In this notebook, some template code has already been provided for you, and you will need to implement additional functionality to successfully complete this project. You will not need to modify the included code beyond what is requested. Sections that begin with <strong>'Implementation'</strong> in the header indicate that the following block of code will require additional functionality which you must provide. Instructions will be provided for each section and the specifics of the implementation are marked in the code block with a 'TODO' statement. Please be sure to read the instructions carefully!</p>
<p>In addition to implementing code, there will be questions that you must answer which relate to the project and your implementation. Each section where you will answer a question is preceded by a <strong>'Question X'</strong> header. Carefully read each question and provide thorough answers in the following text boxes that begin with <strong>'Answer:'</strong>. Your project submission will be evaluated based on your answers to each of the questions and the implementation you provide.</p>
<blockquote><p><strong>Note:</strong> Code and Markdown cells can be executed using the <strong>Shift + Enter</strong> keyboard shortcut. In addition, Markdown cells can be edited by typically double-clicking the cell to enter edit mode.</p>
</blockquote>

</div>
</div>
</div>
<div class="cell border-box-sizing text_cell rendered">
<div class="prompt input_prompt">
</div>
<div class="inner_cell">
<div class="text_cell_render border-box-sizing rendered_html">
<h2 id="Getting-Started">Getting Started<a class="anchor-link" href="#Getting-Started">&#182;</a></h2><p>In this project, you will evaluate the performance and predictive power of a model that has been trained and tested on data collected from homes in suburbs of Boston, Massachusetts. A model trained on this data that is seen as a <em>good fit</em> could then be used to make certain predictions about a home — in particular, its monetary value. This model would prove to be invaluable for someone like a real estate agent who could make use of such information on a daily basis.</p>
<p>The dataset for this project originates from the <a href="https://archive.ics.uci.edu/ml/datasets/Housing">UCI Machine Learning Repository</a>. The Boston housing data was collected in 1978 and each of the 506 entries represent aggregated data about 14 features for homes from various suburbs in Boston, Massachusetts. For the purposes of this project, the following preprocessing steps have been made to the dataset:</p>
<ul>
<li>16 data points have an <code>'MEDV'</code> value of 50.0. These data points likely contain <strong>missing or censored values</strong> and have been removed.</li>
<li>1 data point has an <code>'RM'</code> value of 8.78. This data point can be considered an <strong>outlier</strong> and has been removed.</li>
<li>The features <code>'RM'</code>, <code>'LSTAT'</code>, <code>'PTRATIO'</code>, and <code>'MEDV'</code> are essential. The remaining <strong>non-relevant features</strong> have been excluded.</li>
<li>The feature <code>'MEDV'</code> has been <strong>multiplicatively scaled</strong> to account for 35 years of market inflation.</li>
</ul>
<p>Run the code cell below to load the Boston housing dataset, along with a few of the necessary Python libraries required for this project. You will know the dataset loaded successfully if the size of the dataset is reported.</p>

</div>
</div>
</div>
<div class="cell border-box-sizing code_cell rendered">
<div class="input">
<div class="prompt input_prompt">In&nbsp;[11]:</div>
<div class="inner_cell">
    <div class="input_area">
<div class=" highlight hl-ipython2"><pre><span></span><span class="c1"># Import libraries necessary for this project</span>
<span class="kn">import</span> <span class="nn">numpy</span> <span class="kn">as</span> <span class="nn">np</span>
<span class="kn">import</span> <span class="nn">pandas</span> <span class="kn">as</span> <span class="nn">pd</span>
<span class="kn">from</span> <span class="nn">sklearn.cross_validation</span> <span class="kn">import</span> <span class="n">ShuffleSplit</span>

<span class="c1"># Import supplementary visualizations code visuals.py</span>
<span class="kn">import</span> <span class="nn">visuals</span> <span class="kn">as</span> <span class="nn">vs</span>

<span class="c1"># Pretty display for notebooks</span>
<span class="o">%</span><span class="k">matplotlib</span> inline

<span class="c1"># Load the Boston housing dataset</span>
<span class="n">data</span> <span class="o">=</span> <span class="n">pd</span><span class="o">.</span><span class="n">read_csv</span><span class="p">(</span><span class="s1">&#39;housing.csv&#39;</span><span class="p">)</span>
<span class="n">prices</span> <span class="o">=</span> <span class="n">data</span><span class="p">[</span><span class="s1">&#39;MEDV&#39;</span><span class="p">]</span>
<span class="n">features</span> <span class="o">=</span> <span class="n">data</span><span class="o">.</span><span class="n">drop</span><span class="p">(</span><span class="s1">&#39;MEDV&#39;</span><span class="p">,</span> <span class="n">axis</span> <span class="o">=</span> <span class="mi">1</span><span class="p">)</span>
    
<span class="c1"># Success</span>
<span class="k">print</span> <span class="s2">&quot;Boston housing dataset has {} data points with {} variables each.&quot;</span><span class="o">.</span><span class="n">format</span><span class="p">(</span><span class="o">*</span><span class="n">data</span><span class="o">.</span><span class="n">shape</span><span class="p">)</span>
</pre></div>

</div>
</div>
</div>

<div class="output_wrapper">
<div class="output">


<div class="output_area"><div class="prompt"></div>
<div class="output_subarea output_stream output_stdout output_text">
<pre>Boston housing dataset has 489 data points with 4 variables each.
</pre>
</div>
</div>

</div>
</div>

</div>
<div class="cell border-box-sizing text_cell rendered">
<div class="prompt input_prompt">
</div>
<div class="inner_cell">
<div class="text_cell_render border-box-sizing rendered_html">
<h2 id="Data-Exploration">Data Exploration<a class="anchor-link" href="#Data-Exploration">&#182;</a></h2><p>In this first section of this project, you will make a cursory investigation about the Boston housing data and provide your observations. Familiarizing yourself with the data through an explorative process is a fundamental practice to help you better understand and justify your results.</p>
<p>Since the main goal of this project is to construct a working model which has the capability of predicting the value of houses, we will need to separate the dataset into <strong>features</strong> and the <strong>target variable</strong>. The <strong>features</strong>, <code>'RM'</code>, <code>'LSTAT'</code>, and <code>'PTRATIO'</code>, give us quantitative information about each data point. The <strong>target variable</strong>, <code>'MEDV'</code>, will be the variable we seek to predict. These are stored in <code>features</code> and <code>prices</code>, respectively.</p>

</div>
</div>
</div>
<div class="cell border-box-sizing text_cell rendered">
<div class="prompt input_prompt">
</div>
<div class="inner_cell">
<div class="text_cell_render border-box-sizing rendered_html">
<h3 id="Implementation:-Calculate-Statistics">Implementation: Calculate Statistics<a class="anchor-link" href="#Implementation:-Calculate-Statistics">&#182;</a></h3><p>For your very first coding implementation, you will calculate descriptive statistics about the Boston housing prices. Since <code>numpy</code> has already been imported for you, use this library to perform the necessary calculations. These statistics will be extremely important later on to analyze various prediction results from the constructed model.</p>
<p>In the code cell below, you will need to implement the following:</p>
<ul>
<li>Calculate the minimum, maximum, mean, median, and standard deviation of <code>'MEDV'</code>, which is stored in <code>prices</code>.<ul>
<li>Store each calculation in their respective variable.</li>
</ul>
</li>
</ul>

</div>
</div>
</div>
<div class="cell border-box-sizing code_cell rendered">
<div class="input">
<div class="prompt input_prompt">In&nbsp;[12]:</div>
<div class="inner_cell">
    <div class="input_area">
<div class=" highlight hl-ipython2"><pre><span></span><span class="c1"># TODO: Minimum price of the data</span>
<span class="n">minimum_price</span> <span class="o">=</span> <span class="n">np</span><span class="o">.</span><span class="n">min</span><span class="p">(</span><span class="n">prices</span><span class="p">)</span>

<span class="c1"># TODO: Maximum price of the data</span>
<span class="n">maximum_price</span> <span class="o">=</span> <span class="n">np</span><span class="o">.</span><span class="n">max</span><span class="p">(</span><span class="n">prices</span><span class="p">)</span>

<span class="c1"># TODO: Mean price of the data</span>
<span class="n">mean_price</span> <span class="o">=</span> <span class="n">np</span><span class="o">.</span><span class="n">mean</span><span class="p">(</span><span class="n">prices</span><span class="p">)</span>

<span class="c1"># TODO: Median price of the data</span>
<span class="n">median_price</span> <span class="o">=</span> <span class="n">np</span><span class="o">.</span><span class="n">median</span><span class="p">(</span><span class="n">prices</span><span class="p">)</span>

<span class="c1"># TODO: Standard deviation of prices of the data</span>
<span class="n">std_price</span> <span class="o">=</span> <span class="n">np</span><span class="o">.</span><span class="n">std</span><span class="p">(</span><span class="n">prices</span><span class="p">)</span>

<span class="c1"># Show the calculated statistics</span>
<span class="k">print</span> <span class="s2">&quot;Statistics for Boston housing dataset:</span><span class="se">\n</span><span class="s2">&quot;</span>
<span class="k">print</span> <span class="s2">&quot;Minimum price: ${:,.2f}&quot;</span><span class="o">.</span><span class="n">format</span><span class="p">(</span><span class="n">minimum_price</span><span class="p">)</span>
<span class="k">print</span> <span class="s2">&quot;Maximum price: ${:,.2f}&quot;</span><span class="o">.</span><span class="n">format</span><span class="p">(</span><span class="n">maximum_price</span><span class="p">)</span>
<span class="k">print</span> <span class="s2">&quot;Mean price: ${:,.2f}&quot;</span><span class="o">.</span><span class="n">format</span><span class="p">(</span><span class="n">mean_price</span><span class="p">)</span>
<span class="k">print</span> <span class="s2">&quot;Median price ${:,.2f}&quot;</span><span class="o">.</span><span class="n">format</span><span class="p">(</span><span class="n">median_price</span><span class="p">)</span>
<span class="k">print</span> <span class="s2">&quot;Standard deviation of prices: ${:,.2f}&quot;</span><span class="o">.</span><span class="n">format</span><span class="p">(</span><span class="n">std_price</span><span class="p">)</span>
</pre></div>

</div>
</div>
</div>

<div class="output_wrapper">
<div class="output">


<div class="output_area"><div class="prompt"></div>
<div class="output_subarea output_stream output_stdout output_text">
<pre>Statistics for Boston housing dataset:

Minimum price: $105,000.00
Maximum price: $1,024,800.00
Mean price: $454,342.94
Median price $438,900.00
Standard deviation of prices: $165,171.13
</pre>
</div>
</div>

</div>
</div>

</div>
<div class="cell border-box-sizing text_cell rendered">
<div class="prompt input_prompt">
</div>
<div class="inner_cell">
<div class="text_cell_render border-box-sizing rendered_html">
<h3 id="Question-1---Feature-Observation">Question 1 - Feature Observation<a class="anchor-link" href="#Question-1---Feature-Observation">&#182;</a></h3><p>As a reminder, we are using three features from the Boston housing dataset: <code>'RM'</code>, <code>'LSTAT'</code>, and <code>'PTRATIO'</code>. For each data point (neighborhood):</p>
<ul>
<li><code>'RM'</code> is the average number of rooms among homes in the neighborhood.</li>
<li><code>'LSTAT'</code> is the percentage of homeowners in the neighborhood considered "lower class" (working poor).</li>
<li><code>'PTRATIO'</code> is the ratio of students to teachers in primary and secondary schools in the neighborhood.</li>
</ul>
<p><em>Using your intuition, for each of the three features above, do you think that an increase in the value of that feature would lead to an <strong>increase</strong> in the value of <code>'MEDV'</code> or a <strong>decrease</strong> in the value of <code>'MEDV'</code>? Justify your answer for each.</em><br>
<strong>Hint:</strong> Would you expect a home that has an <code>'RM'</code> value of 6 be worth more or less than a home that has an <code>'RM'</code> value of 7?</p>

</div>
</div>
</div>
<div class="cell border-box-sizing text_cell rendered">
<div class="prompt input_prompt">
</div>
<div class="inner_cell">
<div class="text_cell_render border-box-sizing rendered_html">
<p>An increase of RM leads to increase of prices as this typically points to homes suitable for larger families, A  decrease of LSTAT  would point to higher average income in the neighborhood and hence a higher average house price, finally  a decrease in PTRATIO would point to smaller classes in the school disctrict, which is more desirable and would likely raise the house price.</p>

</div>
</div>
</div>
<div class="cell border-box-sizing text_cell rendered">
<div class="prompt input_prompt">
</div>
<div class="inner_cell">
<div class="text_cell_render border-box-sizing rendered_html">
<hr>
<h2 id="Developing-a-Model">Developing a Model<a class="anchor-link" href="#Developing-a-Model">&#182;</a></h2><p>In this second section of the project, you will develop the tools and techniques necessary for a model to make a prediction. Being able to make accurate evaluations of each model's performance through the use of these tools and techniques helps to greatly reinforce the confidence in your predictions.</p>

</div>
</div>
</div>
<div class="cell border-box-sizing text_cell rendered">
<div class="prompt input_prompt">
</div>
<div class="inner_cell">
<div class="text_cell_render border-box-sizing rendered_html">
<h3 id="Implementation:-Define-a-Performance-Metric">Implementation: Define a Performance Metric<a class="anchor-link" href="#Implementation:-Define-a-Performance-Metric">&#182;</a></h3><p>It is difficult to measure the quality of a given model without quantifying its performance over training and testing. This is typically done using some type of performance metric, whether it is through calculating some type of error, the goodness of fit, or some other useful measurement. For this project, you will be calculating the <a href="http://stattrek.com/statistics/dictionary.aspx?definition=coefficient_of_determination"><em>coefficient of determination</em></a>, R<sup>2</sup>, to quantify your model's performance. The coefficient of determination for a model is a useful statistic in regression analysis, as it often describes how "good" that model is at making predictions.</p>
<p>The values for R<sup>2</sup> range from 0 to 1, which captures the percentage of squared correlation between the predicted and actual values of the <strong>target variable</strong>. A model with an R<sup>2</sup> of 0 is no better than a model that always predicts the <em>mean</em> of the target variable, whereas a model with an R<sup>2</sup> of 1 perfectly predicts the target variable. Any value between 0 and 1 indicates what percentage of the target variable, using this model, can be explained by the <strong>features</strong>. <em>A model can be given a negative R<sup>2</sup> as well, which indicates that the model is <strong>arbitrarily worse</strong> than one that always predicts the mean of the target variable.</em></p>
<p>For the <code>performance_metric</code> function in the code cell below, you will need to implement the following:</p>
<ul>
<li>Use <code>r2_score</code> from <code>sklearn.metrics</code> to perform a performance calculation between <code>y_true</code> and <code>y_predict</code>.</li>
<li>Assign the performance score to the <code>score</code> variable.</li>
</ul>

</div>
</div>
</div>
<div class="cell border-box-sizing code_cell rendered">
<div class="input">
<div class="prompt input_prompt">In&nbsp;[13]:</div>
<div class="inner_cell">
    <div class="input_area">
<div class=" highlight hl-ipython2"><pre><span></span><span class="kn">from</span> <span class="nn">sklearn.metrics</span> <span class="kn">import</span> <span class="n">r2_score</span>
<span class="k">def</span> <span class="nf">performance_metric</span><span class="p">(</span><span class="n">y_true</span><span class="p">,</span> <span class="n">y_predict</span><span class="p">):</span>
    <span class="sd">&quot;&quot;&quot; Calculates and returns the performance score between </span>
<span class="sd">        true and predicted values based on the metric chosen. &quot;&quot;&quot;</span>
    
    <span class="c1"># TODO: Calculate the performance score between &#39;y_true&#39; and &#39;y_predict&#39;</span>
    <span class="n">score</span> <span class="o">=</span> <span class="n">r2_score</span><span class="p">(</span><span class="n">y_true</span><span class="p">,</span> <span class="n">y_predict</span><span class="p">)</span>
    
    <span class="c1"># Return the score</span>
    <span class="k">return</span> <span class="n">score</span>
</pre></div>

</div>
</div>
</div>

</div>
<div class="cell border-box-sizing text_cell rendered">
<div class="prompt input_prompt">
</div>
<div class="inner_cell">
<div class="text_cell_render border-box-sizing rendered_html">
<h3 id="Question-2---Goodness-of-Fit">Question 2 - Goodness of Fit<a class="anchor-link" href="#Question-2---Goodness-of-Fit">&#182;</a></h3><p>Assume that a dataset contains five data points and a model made the following predictions for the target variable:</p>
<table>
<thead><tr>
<th style="text-align:center">True Value</th>
<th style="text-align:center">Prediction</th>
</tr>
</thead>
<tbody>
<tr>
<td style="text-align:center">3.0</td>
<td style="text-align:center">2.5</td>
</tr>
<tr>
<td style="text-align:center">-0.5</td>
<td style="text-align:center">0.0</td>
</tr>
<tr>
<td style="text-align:center">2.0</td>
<td style="text-align:center">2.1</td>
</tr>
<tr>
<td style="text-align:center">7.0</td>
<td style="text-align:center">7.8</td>
</tr>
<tr>
<td style="text-align:center">4.2</td>
<td style="text-align:center">5.3</td>
</tr>
</tbody>
</table>
<p><em>Would you consider this model to have successfully captured the variation of the target variable? Why or why not?</em></p>
<p>Run the code cell below to use the <code>performance_metric</code> function and calculate this model's coefficient of determination.</p>

</div>
</div>
</div>
<div class="cell border-box-sizing code_cell rendered">
<div class="input">
<div class="prompt input_prompt">In&nbsp;[14]:</div>
<div class="inner_cell">
    <div class="input_area">
<div class=" highlight hl-ipython2"><pre><span></span><span class="c1"># Calculate the performance of this model</span>
<span class="n">score</span> <span class="o">=</span> <span class="n">performance_metric</span><span class="p">([</span><span class="mi">3</span><span class="p">,</span> <span class="o">-</span><span class="mf">0.5</span><span class="p">,</span> <span class="mi">2</span><span class="p">,</span> <span class="mi">7</span><span class="p">,</span> <span class="mf">4.2</span><span class="p">],</span> <span class="p">[</span><span class="mf">2.5</span><span class="p">,</span> <span class="mf">0.0</span><span class="p">,</span> <span class="mf">2.1</span><span class="p">,</span> <span class="mf">7.8</span><span class="p">,</span> <span class="mf">5.3</span><span class="p">])</span>
<span class="k">print</span> <span class="s2">&quot;Model has a coefficient of determination, R^2, of {:.3f}.&quot;</span><span class="o">.</span><span class="n">format</span><span class="p">(</span><span class="n">score</span><span class="p">)</span>
</pre></div>

</div>
</div>
</div>

<div class="output_wrapper">
<div class="output">


<div class="output_area"><div class="prompt"></div>
<div class="output_subarea output_stream output_stdout output_text">
<pre>Model has a coefficient of determination, R^2, of 0.923.
</pre>
</div>
</div>

</div>
</div>

</div>
<div class="cell border-box-sizing text_cell rendered">
<div class="prompt input_prompt">
</div>
<div class="inner_cell">
<div class="text_cell_render border-box-sizing rendered_html">
<p>0.923. The regression makes very good predictions, as an $R^2$ score of 1 means that the predicted values coincide with the actual values on the nose.</p>

</div>
</div>
</div>
<div class="cell border-box-sizing text_cell rendered">
<div class="prompt input_prompt">
</div>
<div class="inner_cell">
<div class="text_cell_render border-box-sizing rendered_html">
<h3 id="Implementation:-Shuffle-and-Split-Data">Implementation: Shuffle and Split Data<a class="anchor-link" href="#Implementation:-Shuffle-and-Split-Data">&#182;</a></h3><p>Your next implementation requires that you take the Boston housing dataset and split the data into training and testing subsets. Typically, the data is also shuffled into a random order when creating the training and testing subsets to remove any bias in the ordering of the dataset.</p>
<p>For the code cell below, you will need to implement the following:</p>
<ul>
<li>Use <code>train_test_split</code> from <code>sklearn.cross_validation</code> to shuffle and split the <code>features</code> and <code>prices</code> data into training and testing sets.<ul>
<li>Split the data into 80% training and 20% testing.</li>
<li>Set the <code>random_state</code> for <code>train_test_split</code> to a value of your choice. This ensures results are consistent.</li>
</ul>
</li>
<li>Assign the train and testing splits to <code>X_train</code>, <code>X_test</code>, <code>y_train</code>, and <code>y_test</code>.</li>
</ul>

</div>
</div>
</div>
<div class="cell border-box-sizing code_cell rendered">
<div class="input">
<div class="prompt input_prompt">In&nbsp;[15]:</div>
<div class="inner_cell">
    <div class="input_area">
<div class=" highlight hl-ipython2"><pre><span></span><span class="c1"># TODO: Import &#39;train_test_split&#39;</span>
<span class="kn">from</span> <span class="nn">sklearn.cross_validation</span> <span class="kn">import</span> <span class="n">train_test_split</span>
<span class="c1"># TODO: Shuffle and split the data into training and testing subsets</span>
<span class="n">X_train</span><span class="p">,</span> <span class="n">X_test</span><span class="p">,</span> <span class="n">y_train</span><span class="p">,</span> <span class="n">y_test</span> <span class="o">=</span> <span class="n">train_test_split</span><span class="p">(</span><span class="n">features</span><span class="p">,</span> <span class="n">prices</span><span class="p">,</span> <span class="n">test_size</span><span class="o">=</span><span class="mf">0.2</span><span class="p">,</span> <span class="n">random_state</span><span class="o">=</span><span class="mi">42</span><span class="p">)</span>

<span class="c1"># Success</span>
<span class="k">print</span> <span class="s2">&quot;Training and testing split was successful.&quot;</span>
</pre></div>

</div>
</div>
</div>

<div class="output_wrapper">
<div class="output">


<div class="output_area"><div class="prompt"></div>
<div class="output_subarea output_stream output_stdout output_text">
<pre>Training and testing split was successful.
</pre>
</div>
</div>

</div>
</div>

</div>
<div class="cell border-box-sizing text_cell rendered">
<div class="prompt input_prompt">
</div>
<div class="inner_cell">
<div class="text_cell_render border-box-sizing rendered_html">
<h3 id="Question-3---Training-and-Testing">Question 3 - Training and Testing<a class="anchor-link" href="#Question-3---Training-and-Testing">&#182;</a></h3><p><em>What is the benefit to splitting a dataset into some ratio of training and testing subsets for a learning algorithm?</em><br>
<strong>Hint:</strong> What could go wrong with not having a way to test your model?</p>

</div>
</div>
</div>
<div class="cell border-box-sizing text_cell rendered">
<div class="prompt input_prompt">
</div>
<div class="inner_cell">
<div class="text_cell_render border-box-sizing rendered_html">
<p>it allows us to test for the efficiency of making predictions. Should we not do this, we would have a model that could be prone to overfitting for example.</p>

</div>
</div>
</div>
<div class="cell border-box-sizing text_cell rendered">
<div class="prompt input_prompt">
</div>
<div class="inner_cell">
<div class="text_cell_render border-box-sizing rendered_html">
<hr>
<h2 id="Analyzing-Model-Performance">Analyzing Model Performance<a class="anchor-link" href="#Analyzing-Model-Performance">&#182;</a></h2><p>In this third section of the project, you'll take a look at several models' learning and testing performances on various subsets of training data. Additionally, you'll investigate one particular algorithm with an increasing <code>'max_depth'</code> parameter on the full training set to observe how model complexity affects performance. Graphing your model's performance based on varying criteria can be beneficial in the analysis process, such as visualizing behavior that may not have been apparent from the results alone.</p>

</div>
</div>
</div>
<div class="cell border-box-sizing text_cell rendered">
<div class="prompt input_prompt">
</div>
<div class="inner_cell">
<div class="text_cell_render border-box-sizing rendered_html">
<h3 id="Learning-Curves">Learning Curves<a class="anchor-link" href="#Learning-Curves">&#182;</a></h3><p>The following code cell produces four graphs for a decision tree model with different maximum depths. Each graph visualizes the learning curves of the model for both training and testing as the size of the training set is increased. Note that the shaded region of a learning curve denotes the uncertainty of that curve (measured as the standard deviation). The model is scored on both the training and testing sets using R<sup>2</sup>, the coefficient of determination.</p>
<p>Run the code cell below and use these graphs to answer the following question.</p>

</div>
</div>
</div>
<div class="cell border-box-sizing code_cell rendered">
<div class="input">
<div class="prompt input_prompt">In&nbsp;[16]:</div>
<div class="inner_cell">
    <div class="input_area">
<div class=" highlight hl-ipython2"><pre><span></span><span class="c1"># Produce learning curves for varying training set sizes and maximum depths</span>
<span class="n">vs</span><span class="o">.</span><span class="n">ModelLearning</span><span class="p">(</span><span class="n">features</span><span class="p">,</span> <span class="n">prices</span><span class="p">)</span>
</pre></div>

</div>
</div>
</div>

<div class="output_wrapper">
<div class="output">


<div class="output_area"><div class="prompt"></div>


<div class="output_png output_subarea ">
<img src="data:image/png;base64,iVBORw0KGgoAAAANSUhEUgAABKcAAALWCAYAAACTLvAjAAAABHNCSVQICAgIfAhkiAAAAAlwSFlz
AAAPYQAAD2EBqD+naQAAIABJREFUeJzs3Xd8VFX6x/HPMyFAAqEjCiIgikZ0UbBRREEFbIiCiIrr
ytpXEJG1gWvflRUsa8PfKsKKIixgQwVFLCuKriKslQ4iRaQHkJac3x/nDplMZpJJSDIJfN+v130l
c8u5587cmXvnmXOeY845REREREREREREkiGU7AqIiIiIiIiIiMj+S8EpERERERERERFJGgWnRERE
REREREQkaRScEhERERERERGRpFFwSkREREREREREkkbBKRERERERERERSRoFp0REREREREREJGkU
nBIRERERERERkaRRcEpERERERERERJJGwSmRcsTMlppZTsSUbWabzWy5mc0ws4fN7IRk1xPy1PWQ
vSwnx8yyS6peJSnqtUh0mpHsehdHcG5FH8tuM1tnZjPN7BYzq5rsekrRmdn5weu5Ptl1KWsRxz45
2XUpiJm9FuP9t9PMVpvZ22bWKwl1qmdmzwfXn50V4XkUERGRiqtSsisgInm4YJoJLAzmpQH1gOOA
U4FbzOwjoJ9zbklSauk5IKcEyyqPRseYdyDQDV/nMTGW/1iaFSoDy4H3g/8rA4cBJwNtgcvNrKNz
bnOyKidSDOHP1fIsXMcfgC+CeenA74CuQDczG+2c61eGdXoZOAOYD0wAdgKzy3D/IiIish9RcEqk
fHrOOfev6Jlm1g14DB+kmmlmbZ1zy8q8dl5nIBVYsZflHFkCdSkVsb4Imtmp+OBUzOX7gLnRx2Vm
ZwJvA8cAdwSTSEXwHpAJZCW7Igl61zk3KHKGmd0KPARcYWZvOOdeK+1KmFlNfGBqLXCMc25Xae9T
RERE9m/q1idSgTjnpgInAQuABsBzSazLEufcfOfcXnXJC8qYX1L1kpLnnHsP33LCgPOSXB2RhDnn
tgWfMauSXZfics79HZgbPOxdRrttEvz9WYEpERERKQsKTolUMM65TcBAfKCgs5kdF72OmaWY2VVm
9mGQM2i7mS02s6fN7OB4ZZtZwyD30P+CXFdbzGyemb1gZm2j1o2Zc8rMapjZA0EZW4J9rzCzT8zs
XjNLiVo/bs4pM6ttZn81s2/NbGtQpy/N7M+x8h+Z2anhvE9mVsnMbgu23WZma81skpmVSUstMzsn
qMsbZlbNzP5mZj8Gdflf1LrVzOx2M/vCzDYG63wfPI81CtjHUWY2KnhtfzOzDcGxl0Z+mnCdGxRQ
nyZm9mRwzmwzs01m9mlwLlqcbWoE59zi4FxZHpyn9czsseA5HBC1zZ75ZnaYmb1oZj+b2S4ze2Rv
6mRm6WZ2l5l9bWZZQZ1WmtlnZvagmaVHrd/SzMaa2TIz2xGco0vM5xC6OM4xn29m04JzckdwzC+a
2dFx1p8THO/vzOxMM3vHzH41n5Oue7zXY2+ZWXUzu9PM/hs8b9vM7Dszu8/MMmKsX9XMrjSz8cHz
nRW8b78zs7+bWb3iHl/Ua36QmT0XvObbg+f74ejXJtguZs4pM2sVzJ9t3oCgHlvNbL2ZvWlmrQp4
bo4P1llv/nNutpldEyzbGNQ97nu3GL7Cf+Y3jVGXluY/o5cEz8d6M3vfzC6MU/eCnu/zzSwHmBOs
fqzlzYH4u4hyKpvZQDP7POL8+CHea21mNS0i95mZ3WD+M29TML9GjPqdZmbvBce00czeNbPjI8q8
wMw+DpZtMrMpZpYZ57jPMbORZjY3eO9tN38d+1cB771inXdRr81zZrYweH42mNk3ZvaomR0WY/16
5q8V/wveP1vM7CvzOf8qx1g/xcz6m9ms4DnYYT5P2Vdm9oiZxf28FhERKW/UrU+kAnLOvRPc4NcG
zgS+Di8zs+rAm/iuf1n4LzW/4rtkXQdcZGZnOOfmRpZpZqcD/wZqAmuA6fgcI02BS/D5UD6LrAZR
eVzMLA2fL6tlRBlb8XmajgSGAiOAQnMWmVkz4APgkKCst/DdCDsBw4DewXFsirF5Kr4bWlvgY+B7
4ETgAuA0MzvOOfdTYXUoIdWBT/EtET7Gv1Z7Amtm1gSYBrTAH+dnwDbgeOBOoJf5PE9rIgs1s98D
/8R/jn+Hf83r4lvWnWZm/3DODSzB4wh/0f4l1kIzOwsYD1TD50t7B3/sJwL/B3QhqtWHmdUCPgGO
AjbiX7PdwIXAOcGyWLmCwufescADwIZg3cpBOcWqk5lVAmYEy9fjz7/N+IDcEcDtwLPAT8H6JwXr
V8W/Bp8HRTXCd4mqEew/8pj/AdwIZAd1XoHPK3QZ/r15mXNuUpzjvSrYdg7+nDkAKJVWLWZ2aLCP
5vjz8lPgN/x5OZTc83JtxGbNgeeBdfjca7Pxz0FrYDBwsZmdHKMVUyLHF17niGD5DvxnTQbQHrgF
n5fvjCIeagiYCJyFf3/OA9rgz79Tzewk59wPUc/NOcBk/Hvvx6A+DYAnzP9YUBr5rcLvvx1RdekH
jARS8Ofgf/E5Ck8GOpnZI865wVFlxXu+6+M/80cDdYDu+PfBGxHbhQNL1fBdJk8GtuDfK78Bp+Bf
60vN7HTn3LxYB2NmY4A++NfwTeBwcp+3cP0uDcr6LzAVOBr/+p5sZu3xrTjvA/4TLG8DnA2cZGbH
OOdWR+12ND6P1/fAR8G8o8h9753nnJse57kq8nlnZtcCT+Bfm8XBcabi3ycDgCXAPyLWPx6Ygn8d
fg6eU/Cf6Q8D55vZmc65yHNgAv66tgX/ebIe//o3B24CXiPOZ7aIiEi545zTpElTOZnwN6vZwO8T
WPfdYN0xUfNfwicqfw2oF7VsQLDsR8Ai5h+M/1Kfjf+yXylqu3pAuzh1PSRi3uVB+W8CoRh1PiVG
2TlAdox1ZwXlTwbSIubXBb4Mlr0Ytc2pQXk5wTr1I5ZVxgcnsoFn9uI1OjVenaPWOyeiLp8BtWOs
E8J/gc/G5xKrGrGsEvBk+LWM2u5E/JfITUDXqGWHBq9vNtCjCMf1cLCvN2IsM3xQLRt4MMbyZvgg
zg7g0qhlDYLjzwZujFo2KtjnLKBWxPx0fKAqJ9huQNR2j0Ys+0ecc63IdcJ/2c3BfylMjVHmyUC1
iMeTgzKui7FuOtA2al6foPyNwElRywYGy7KAxlHLvo443j7FOGfPD7Zfn+D6KfhuZNn4YHKViGWp
wDNBeROjtquHD/iFouanBq9TDlHv2USPL+o1fzRyH8FrvTZYFv1+CB/75Kj5rch9f34PHBx1/BOC
8sZFbVcLH3zLBu6MWnYcPjgQrmeNIrxGrwbbPBJjWU18gCEbeDRiflt88G4jcEbUNofhE5lnA+cW
4/kOPz+z4ywfGSyfAxwQMb8yMC5YNjfGcYT3+wtwdJyyw/XbGaPu/xds/23wXJ8YsawSPkiVDQyL
Ue6FQPUY8y/DB8WXxDh3i3venRaUuYMY13P85/TRUc/NiqCsQVH7qQ68HiwbHjH/mIjzt2aMfRwD
NEj0HNSkSZMmTZqSPSW9Apo0acqdKFpw6uXgxnRKxLwjg+1/AtLjbDclWOfsiHnhG/BXi1HXyODU
4KCcm4pQTr5AD/4X6fAX9foxtmkdLN8FNIyYHw4c7Y71xQcf1MkBFuzFa1TU4NRuoFWcdXoG63wc
Z3klfH6xbKBJjNfwqkLqOKMIx5UvOIUPKhyF/7IZbumTEWPbkcHye+KUfVhQ9vyIeXWCL27ZQJsY
2xyC/3JaUHDqJ6BynH0Wp05XBfPuTvA5+yT6tSlk/XBQ9c44yz8Klj8UNT8cGJxQzHO2qMGpcBAt
5vkTnBeLg3O7UYJlhvDBwizyBwAKPb6I1/x7ICXG8r8GZTwc59jjBaeyiQq8B8tbBMt/jZp/IzEC
LxHL74wod6+CU/iRWk8OzrMcfMukFhHLw4GYP8Qp8/Rgu3eL8XzHDU7hW+xuL+C5q0Xujx3dIuZH
BqduKGDf4frl+xEB35I3XMZtMZZ3CpZ/WcT3yFtBmSeX0Hn3QTD/7gT3f3uwn9FxltfG/xiRRRA4
x7fWygFeKMqxatKkSZMmTeV1Us4pkYor/P51EfPOxrdymeqc2xZnuw+DddpFzOsalPPPvazTf4O/
t5nZ5WZWu5jlnBb8neqc+zV6oXNuNr5lRwgfiIn2k3Pu2xjzw91zGhWzXsWxxEV1oYxwDv55nxhr
oXNuN74LCfhWEgR5R04vaDt8F6zd+C+2RXVuOMcMPnj0LXAxvntaR+dcrFHPzg7+TohzHAuBlUDz
iFw0bfFBjoXOua9ibPMTuccez1vOuZ1xlhWnTl/in9f+ZvbHWHlzonyBfy+9EOTGSY23ovkcTeH8
cGPirDYqKK9TnOXR3f1Ky9kUfF7uwp9jRnBeRjKzNmY22MyeMJ8T7QX8se3GtyhrHGe/iRzfVBd7
EIYfgvoU9b29yTn3aYz5C/D1rROV6+dU/HPzSpzyXiri/iMZMDDi/bcV/zy3xbcS6uWCwSPM59w7
DR8Aife8zQyW53uNAsU9n9rhW0gtjvXcOec24oNtsHfn8jsxyl5KblfPfMvxrxtAw1gFmtkhZnZd
kI/pOfO5ul7At4IC330vloTPuyAHVfvgYaLX1PB7Lt7n1QbgG/z7J5wL7X/4z+iLzexmKyCfpIiI
SEWgnFMiFVc9InKABA4N/l5lZlcVsK3D57UIaxL8/XFvKuSc+8jMHgL+jP8C7sxsAf5L0uvAm845
V1AZgUZBHZcUsM4ifK6eWF9GY+aTcs5lmc+BXSWBOpSUpQUsOxT/xeYxM3usgPUiX6+G+Po7YL3F
zjMelmJmGXECSvEsB94P/q+Gb6V2KL41zff4bp97BHmaDg7q820h9Qkfx9pgGyj4+VkKdCygrJjb
FrdOzrk5ZjYEuBfffeifZrYI3wXwDXzLwsgvqPcCJ+ADFjOAHWY2B98C6mXnXGTi+4Pwr/UO59yK
OHVZFPyNF2BZWtCBlKDwefmkmT1ZwHp5PkfMrCb+y/WZxM67ZMH8eInClxZSL0ec9za5eezyDZRQ
iHifFc7MtuLrWhXfig8KP29/xgeEivvj3/f4oCf44NgGfEuiN6J+cDgYHyBywKZCzvF0M0tzzv0W
NX9pMesYPj8L+3yOFyzc4ZxLJA9SvNd6G/51ibU8/FkXa8CMh/HdZwt6bWKdm0U97xrh76+3OOdW
FrCvSOFr95QEP69wzq0J8lo9BQwHRpjZz/hu0m8Drzjntie4fxERkaRTcEqk4gq3wvgmYl74pvtr
cocej+fzQpYXi3PuTjMbic/f0wH/C/IfgCuB/5rZaTG+JJW0nFIuvygKOtYQ/svGh8CyQsoJJxYO
v8a7SayVRsyREAsw1znXL3KGmd0KPATcY2YfOef+E7E48oveSxSeoDs6UFZQsLKwQGa857bYdXLO
PRQkaz4ff+52wOek6YsPdHUMWobgfDL+U8yPZHlmsP7J+O6jt5rZ35xzQwrZd1GU9vsmLHxezsAH
KwuyIOL/J/DPw2xgCD4f0dpwQM/MvsN3PY737TuR4yvp93Zxy4t3broCliVS5rvOuUEJrBs+x3fi
u90mUna0sjqfoiUaMCnstUn4tQsSx9+Czxd2Mz6J+qpwy0szewo/YEi8c7O0rynh1/N1fECyIHsG
FHDO/cvM3sQnrz8F/xnUE+gF3BtcbwsKIoqIiJQbCk6JVEDBaFG1Cb7MRCwKf5Gc6ZwbUIQif8Ln
WDkSn0tmrwRdsp4KJsysDT5IcDxwK77FSUFW4L8kHFrAOodGrFtRhV+v8c65/0twm1X4wFQKPm9L
qf8y7pz7u5mdDPTAJ25vE7Fsp5n9im/Jd7dzLtHzJ/y6NS1gnYKWxbUXdQpvvwqfs2okgPlh5v+F
705zN/7LbeT6nxGMZBm02uqDH7XudjObEHTrXIV/v1Y2s4Odcz/H2HV5OaeX40cIG+ecG1WE7Xri
j/H86NZh5puDFPR+rigKO28Pxt9bFTdAlaiV+MBzCj4hf7zuraUh/BwU9vnsSP65HHYRvj4DnXOx
gvqHl+C+wq9NNTNrmGDrqeUEIz4652YUZWdBl78xwRQe6XYkPifVI/jR/ERERMo95ZwSqWCCrjOP
kvsre2TXoXAOju5ReVIKMxUfDLq6ZGqZV5BT6OlgH8cmsMmHwd9uZlY/emEwXPuxBMnES6iayfAO
/jnpnegGQauzj4PtepVSvWK5Bd8C6Vgz6xm1LHzeJXwc+GDObuBwM2sdvdDMGpObt6U4ilOnmIL8
ZY+RwPnrnNvtnBtLbr6sY4P5WfgWReBbEsbSj9wWS8lU5PPSzNLwCbx3E9GyI0JvyrY7bWkJv/f6
xFl+WVlUwjm3BX+OpeBHoStLn+JbbDUzsw7RC4NrVDgg8kFZVqwAdYK/+brnmVlT9u6zJg/n3FZ8
EntI/Jpa5PdcAftfAjxI4tdbERGRckHBKZEKxMzOwucjOQz/6+w1kcudc3PwiWYPAV41syYxykg3
s0ujgj6P4Ls2dTez+4PWH5Hb1DezQm/ezayHmZ1iUUkzgvLOooA8QVHHMRPf7TANeDb44hsuqx7w
bFDWuALy91QE4/AJxzuZ2TOxEsibWT0zuz5q9l/wgbknzeziWAWbWSszO6+kKhp84fkn/gvP3VGL
H8R3Ebo7SDacEqM+h5vZni9ezrl1+BEnDXgq8tjNrBr+l/+9ad1b5DqZ2VlmdrqZhaLWM3zyeog4
f83spqCVQnS5TfHDuEPe7prD8cc7OGiJFrnNAHx+rW3AMwkeY2kZi0/0fKaZPWlmtaJXCD4Trgs/
DoKmP+Ffs+uj1m1FbkC9onsR3+3qGDO7I3JBEDQfXIZ1+Qv+OX3azC6KtYKZHRu0tC0xQUudF8jN
S9YgYn9V8O/dmsA3zrmpJbnvvRBOXH595GdBcD35F0XPVVaY+4K/d5jZ5dELzay5mR0TMesfwBp8
vsi7zCe8j96msZn9IeJxWzM7P84PUd2Dv0uLewAiIiJlTd36RMofA642s/AoR1Xw3ZNa43/9Dbes
+KNzLlY+mCvxXwy6AfPMbC4+ca3hu6K0wo+Slgn8CuCcW25mvYB/44dCv8rMPsO3lGmCz2/1EoWP
nnYqcBOw1sy+xt9sZ+Dz8NTHJwt+OMHn4VJ8Yu7zgSVm9nFQ705BmV8B/RMsq1xyzmUHAaQp+EDj
pWb2P/yX/Kr4IGRLfCDqmYjtPjWzK/FJu8eZT0L/Az45fl18oviDgOeAN0uwyvcDVwAtzayPc+6V
oD4LgtZU4/At5O4K8gv9gh9W/mj8eTSVvKNRDcJ39TwRWGxmH+Bb3nTEj0I1Hj9SYKwuSwVnDS5e
nU7EB942mNnsYN30YH5D/Pn8YMRuBgKPmk/6/z1+dLUG+NwvqcBrzrkPI+o03szaATcCnwTn9Er8
63V0cMxXBN1iS0P14H0dz3zn3BXOud1mdi7+vLweuDz4HFlO3vNyJ0HXx8Dd+FH5ngjOz/n487AD
/jxsjj/O4irwNS8LzrkNQYDg38CDZtYXn1vrAPzn3yj8OVuD2OdtQYp0fM65j83sj/jPhvFmNozc
z4F65H4OjATeKmJdCjMYH4BtCywI3ru/4c/9g/Cf9XvdCqgEPYxvYXYxcLKZ/Rf/3j4V/z4fh7/m
xFLk884594GZ9ce3uBxjZn/Bt5xMxb8PjsF/fnwTrL/ezM7G55y6BxhgZt/gPx+q47vct8APWjI6
2E0LfJBwS/B5tQJ/v9Aq2MdW/PVcRESkQlBwSqT8cfihutsFj7cCm/DDRv8XmBB0k4u9se/u0SVo
UdMXnx+oFX5UoVX4VhGvkzsyWHi794LcOoPwga2u+EDBSnwui+fi1DXSC/iWHx3wwa+OQd1/wrfO
+mfwq3th5eCcWxJ09xqMz3V0Dj5IMw8/jPsTzrkdccoqrIXG3rbgSDTpcaHrOeeWmdnxwB/xeVGO
xo8Atx7/ZeNx/Ehx0duNNbNPgQH43CKn4L9ErQa+w38ZK+pQ8QXW1zn3i/lRBe/EB3vGh0dfdM5N
M7OW+IBhN3zOolT8F79l+EDapKjy1gfBmrvw+YrOxgdMXwvmhQNya+PUteCDKXqdxuNbFJ+Cz0HT
HtiCD8o8C4x0zv0asf4g/PvkJPz7tUZQ9of490u+5985d5OZvQ/cgA/MtQuO+UXg4aALYczDKex4
C+HwXcBOLGCdPS0wgvdfG+AqfPfRo4Nt1+E/Ex7Df44Qsc0Y86OFDcF/+W4BLMS/h/+B/3JeUCLx
RI6hsOWx1inq/AL36Zx7M+jO9hf8Z10TfGL4AfjWgNcA24qRD67IydSD53xmsO/T8Z+54c+Bb4G/
E/tzYK8+v5xzW4MfUG7AB3U64e8pl+GvMQ8752K9b4uy7xJb7pz7LriePIgPqJ2HP4//iQ+6311A
mcU675xzTwevzUDgNHxrpq34wN0IfPA3cv3ZwTX4hmDd4/CfD2uCbR4AXo3YZAb+vdYR/147Hh/g
Dpf/pHOusIE2REREyg1LbFR3ERGRshN05ZyPb7HU3Dm3NLk1EimcmXXHB1c/cs51Kmx9EREREfGU
c0pERJImaJ0TPa8WvuVRI/yX/KVlXS+ReMzsQDNrFGP+8cCT+FY0L5R5xUREREQqMLWcEhGRpDGz
DfhcNd/hu7cdhB9hqia+G+qpzrmFyauhSF5mdj4wGZ8vaCk+N18zfDcsgEnOufKUb0lERESk3FNw
SkREksbMbsXnmmoB1MbnOVsCvA084pxbk8TqieQTjMZ4Kz7Xz0H4hNWb8YnRX3TO/StplRMRERGp
oBScEhERERERERGRpFHOKRERERERERERSRoFp0REREREREREJGkUnBIRERERERERkaRRcEpERERE
RERERJJGwSkREREREREREUkaBadERERERERERCRpFJwSEREREREREZGkUXBKRERERERERESSRsEp
ERERERERERFJGgWnREREREREREQkaRScEhERERERERGRpFFwSkREREREREREkkbBKRERERERERER
SRoFp0REREREREREJGkUnBIRERERERERkaRRcEpE8jCzpWY2Kkn7bmJmOWY2KBn7FxERqUh0zRYR
kX2FglMiEs2V9g7M7Cwzu7u097O3zOx6M5tgZsuCG/CkfAEQERGJQ9dswMyqmtnzZvaNmW00sywz
m2NmA8ysUrLrJyIihVNwSkSS4WzgL8muRAJuBToB3wK7klwXERGRZKgI1+w0IBN4C7gduAWYAzwK
jE5etUREJFH6JUFEksGSXYEEdXTOLQcws6xkV0ZERCQJyv012zm3AWgXNfv/zGwz8CczG+ScW5OE
qomISILUckqkBJjZPUG3r8PNbGzQpHyNmd0XLG9sZq+Z2SYzWxWdn8HMUs3sPjP7Mth2i5l9bGan
xdhPtpl1ipr/f2a2w8yOKWK9h5rZcjPbambvm9lRcdaraWaPmdlPZrbdzBaY2a1mZhHr7Mk9YWYD
gzwY28zsQzNrGbHeC8ANwf85wZQdY59Xm9nCYH9fmNnxRTm2khAOTImIyL5D1+x985odx7Lgb62k
1kJERAqlllMiJSOc82E88D1wG3AOMMTM1gPXAu/ju4ldBjxsZl845z4JtqsB9APGAf8HZAB/BKaa
2YnOuf8F6z0AnAc8b2bHOOe2mllX4CpgiHPum0QrbGb3A0OAKcA7QGvgXSA1ar004GPgIGAksBz/
6+TfgAOB6ESoVwDVgSeBqsBNwPtBfX8NymgInBE8F7F+kb0sKGMk/rm9DZhkZoc65/LdFEfU1YA6
iT0DbHLO7U5wXRER2Xfomp1rn7pmm1kq/vVJA07Ad+9bCixMcD8iIpIszjlNmjTt5QTcDeQAT0fM
CwE/AbuBwRHzawJbgVER8wyoFFVmDWAV8M+o+S2B7cCzQVk/A7OAUBHqWy8o4/Wo+Q8ExxFZt6HA
ZuDQqHX/CuwEGgWPmwTbbgEOjFjvhGD+8Ih5TwDZMeoVLmMNUCNi/nlANnB2IccV3r6wKRvfZa8o
r3FW5POiSZMmTZoq5qRr9r57zQYujtr2c6Blss85TZo0adJU+KSWUyIlxwHP73ngXI6ZfQmcD4yK
mL/JzOYBh0bMc/gb4vAvibWAFOBL/K+jRKz7nflRc/4GtML/6ni6cy6nCHU9A/9r6xNR8x8D7oya
1wv4D7DJzOpGzH8fn3S0I/7X47BXnXOrI+r7XzP7HJ9QdXCC9XvFObc54vF/8F8GDo2zfthq/LEl
Ym6C64mIyL5H12xvX7tmzwjKrAWcjn/Oqye4rYiIJJGCUyIl66eox5uA7c659THm52nKbmZX4Jvb
H0neZvqLY+znYaAP/hfOO51z84pYzybB3zzN3J1za81sQ9S6hwPHAL/GKMcBB0TNi9V0fj5wURHq
lyfXk3NuY5Aqo3ZBGznnduBvTEVERAqja/Y+ds12vitiuMzJZnYH8J6ZHeaUEF1EpFxTcEqkZMXK
rRAv30JkYtK+wAvAZODv+Cby2fhfRGP98tgcfwMK/ia0NIWA94BhxM41Mb8U9lnocxZzoVkIqJ/g
PtY753YVqVYiIrIv0TW7ZJTna/ZE4EF8i7h/FmN7EREpIwpOiZQPPYFFzrlekTPDIwdFzTNgNP6X
3EfxCVwnOudeK8L+wqPXHI5PFBouux75f+lcBFR3zn2QYNmHx5jXInI/5CajLWmNgSUJrOeATvik
sSIiIkWha3bJKItrdlrwt2YxthURkTKk4JRI+RBrWOaTgLbk3pSG3QKcjE84+g7+hu0ZM/s4RleE
eKbj82X0x//CGnZzjHUnAHebWRfn3LtRdawJbHF5R+PpYWYNnXMrg3VOBE4CHolYZ2uwrEZUnoq9
pZxTIiJS2nTNLhklds02s7rOuXUxFl2ND259WcS6iYhIGVNwSqR8mAJcaGavAW/huwVcC3xHRCJP
M8sE7gNecM69Hcz7AzAHeAY/Sk2hgjwVw4HbzWwK8DZwHNCN/HkqHga6A1PMbDTwFVAN+B1wIdAU
iLzBXgh8YmbPkDss9a9BOWFf4Zv7P2Fm0/CjAI1PpO6FHFeJ5q8ws3PxyVQNn1OklZkNCRa/7pz7
tqT2JSIXXyLmAAAgAElEQVQiFYau2eXvmt3XzK4DXsPn/coAuuKDX2845z4sof2IiEgpUXBKpPTF
aw6/Z75zbrSZNcDf3HYBvgcuA3oDp8Ke3Ayj8bktbo7YdmGQ8PMxM+vlnJuYUKWcG2JmvwHXAafh
h7bugr/Rjqzbb2bWEZ9L4yLgcvww1fOBv+C7KkT6F3745oH4xKufA/2dc79ErDMZ+Ac+Qexl+Jve
8I2uI/ZzFm9+aeoJ/D7i8bHBBD4BrIJTIiL7Fl2zK+Y1+xN8y7U+QAN8S7N5+Of+yTKsh4iIFJP5
0XBFRPaOmTXB544Y7Jx7pLD1RUREJDl0zRYRkfImlOwKiIiIiIiIiIjI/kvd+kT2McHoPSkFrLLT
ObehrOojIiIisemaLSIi4ik4JbLv+S/QpIDlHwKdS2nfycgLJSIiUlHpmi0iIoJyTonsc8ysLZBW
wCobnHNfl1V9REREJDZds0VERDwFp0REREREREREJGn2m259ZlYX6AosBbYntzYiIiIFqgo0BaY5
59YluS5lStdrERGpQPbb67VISdtvglP4G92Xkl0JERGRIrgMeDnZlShjul6LiEhFsz9er0VK1P4U
nFoKMHbsWDIzM5NclZJ188038+ijjya7GqVCx1Yx6dgqpn312Cricf3www/07dsXgmvXfmYp7JvX
a6iY52OidGwVz756XKBjq6gq2rHt59drkRK1PwWntgNkZmbSunXrZNelRNWsWXOfO6YwHVvFpGOr
mPbVY6vgx7U/dmvbZ6/XUOHPxwLp2CqeffW4QMdWUVXgY9sfr9ciJSqU7AqIiIiIiIiIiMj+a39q
OSUiIiIiIiJSrpnZIUC9ZNdDpAStdc79VNAKCk6JiIiIiIiIlANmdkgoFJqXk5NTNdl1ESkpoVBo
u5kdUVCAqlwEp8zsFODPQBvgIKCHc+6NQrY5DRgBtAR+Ah50zo0p5aqWS5dcckmyq1BqdGwVk46t
YtpXj21fPa5k0PV67+3L56OOreLZV48LdGwV1b58bEVQLycnp+q+OjCI7H+CgQOq4lsDxg1OmXOu
7GoVrxJm3YB2wFfAZOCCgm52zawp8C3wNPA8cAbwGHC2c+69ONu0Br768ssvadOmTYnWX0REpCTN
nj07fK1q45ybnez6hOl6LSIikqs0rtfh6+BXX31VUZPDi+SR6PukXLSccs5NBaYCmJklsMn1wGLn
3K3B43lm1gG4GYh5sxs26KyzSK1WjfbnncfgBx8kIyNjb6ouIiKy39D1WkRERERKQ0Udre9kYHrU
vGlA28I2fPTXX3lv6VLaPvUUPdu2JSsrq1QqKCIiIrpei4iIiEjhKmpw6kDgl6h5vwA1zKxKYRsb
0C0nh5t/+IERQ4eWRv1ERERE12sRERERSUBFDU6ViG45Ocx8o8A8riIiIpJkul6LiIiI7NvKRc6p
YlgNNIia1wDY7JzbUdCGNwM1Ix5/s3o1L7/8MpdeemkJV1FERKRw48aNY9y4cXnmbdq0KUm1KXEl
d71euZKXX3yRSy+/vISrKCIiUrh9/Hq9T5o3bx6ZmZm88sor9O7du0jb7tixg7S0NB566CFuvfXW
wjeQvVZRg1OfAWdFzesSzC/Qo0B4zAMHnHnggQpMiYhI0lxyySX5hs6OGNWkoiu56/XOnVw6dizU
qAEdOkC1alC1asnWVkREJI59/HpdJkKhwjtumRkffPABHTt2LJF9JjZ+S/xt92b7vbFmzRruu+8+
pk+fzk8//URGRgaHHnoonTp14u6776ZKlUKzI1Q45SI4ZWbVgMPw6SUADjWzVsB659xyM/sb0NA5
d0WwfCTwJzMbBowCTgd6AWcXZb9TQyE6dO9eIscgIiKyr0vq9bpVK/jmG+jRA449Fvr2ha5doV49
qF4d0tMhgZteERERSY6xY8fmeTxmzBimT5/O2LFjcc7tmZ+ZmVki+zviiCP47bffqFy5cpG3rVKl
Cr/99hupqaklUpei+PXXXznuuOPYuXMn/fr1o0WLFqxdu5Y5c+bw5JNPMnDgQA444IAyr1dpKxfB
KeB44AP8j6MOGBHMHwP0wydUbRxe2Tm31MzOwf+wOgD4Gfijcy56RKCYHDDVjEczM5n0wAMldhAi
IiL7uLK/XodC/no9ZQps2ACvvgrjx8PgwfCPf0Dv3nD22VCnjp+qV/dTEm4mRUREksE5V2otfEqy
7OgeS5999hnTp0/P1yItnu3bt1O1iK2mixOYKolt98bIkSNZvXo1s2fPplWrVnmWbd68mfT09DKr
y7Zt28psf+XiJ0bn3EfOuZBzLiVq6hcsv9I51zlqm4+dc22cc2nOucOdcy8msq+b69enS3o6n1et
yqTJk8nIyCiNQxIREdnnlPn1umlTPr/xRiZ99hkZDRtCZiZcey2MGQNPPQWHHQYjRkCvXvDMMzBn
Dnz7LcydCwsXwq+/wrZtEPFrrIiIyL4gKyuLuwcM4IxmzejRuDFnNGvG3QMGkJWVVa7LTtS0adMI
hUK8+uqr3HbbbTRq1Ijq1auzc+dO1q5dy80338zRRx9N9erVqVWrFueddx7ff/99njLmzZtHKBRi
woQJe+b16dOH+vXrs3z5cs4991wyMjJo0KABQ4YMybPtjh07CIVC/P3vf98z7/bbbycUCrF8+XL6
9u1LrVq1qFOnDtdeey07d+7Ms/22bdu44YYbqFu3LjVq1KBXr14sW7YsX5mxLF68mKpVq+YLTAHU
qFGDSpXytjGaOXMmXbt2pXbt2lSvXp3jjjuOkSNH5ns+27VrR7Vq1ahTpw49e/Zk4cKFedYJH9/C
hQvp3bs3tWvX5swzz9yz/Ntvv+WCCy6gbt26pKenc9JJJzF16tQCj6UoykvLqTLzyDvv0KZyZd8l
4IUX4L779OuqiIhIOfPIO+/kz+MRCkH9+j7vVN26cNxxsGwZvP66D1iNGeO7/fXpAzt3wqpVULmy
z09Vt67/W60apKQk56BERERKQFZWFj3btmXQDz9wT04Ohm9tPO2pp+g5Y4b/UaeYjTBKs+ziuOuu
u6hWrRq33XYbW7duJSUlhXnz5jF16lR69epFkyZNWLVqFSNHjuS0007j+++/p169enHLMzN27drF
mWeeyWmnncbw4cOZOnUqDz30EC1atOCKK64ocFszo0ePHrRo0YJhw4bxxRdf8Nxzz9GwYUPuvvvu
PetecsklTJkyhX79+tGmTRumT59Ojx49EmqF1qRJE7Zv386ECRMKTeQ+ZcoULrzwQpo0acKgQYNo
0KAB3333HW+99RbXXXcdAG+//Tbdu3cnMzOTBx54gKysLB5//HHat2/P119/TcOGDfccH0CPHj04
6qijGDZs2J55c+bMoWPHjhx66KHceeedpKWlMW7cOM4991ymTJlCt27dCj2uQjnn9osJn1fVffXV
V84559yFFzpXr55zCxc6ERGR8uSrr74Kd5tr7crBNbQsp3zX64Js2uTcd98599FHzr33nnMDBjhX
p45zZs6deaZz48Y597//OTdrlnMff+zcJ58499VXzi1Z4ty6dc5t357Q6yEiIhJLaVyvE7kO/qV/
f/dOKOScbxucZ3o7FHJ3DxhQ7GMqzbKj3XjjjS4UCsVcNnXqVGdm7qijjnK7du3Ks2zHjh351l+w
YIGrXLmyGz58+J55P/74ozMzN378+D3z+vTp40KhkBsxYkSe7Vu2bOlOOeWUPY+3b9/uzMwNGzZs
z7zbb7/dmZnr379/nm3PPvts17hx4z2PP/30U2dmbsiQIXnWu+SSS1woFMpTZiwrVqxwderUcWbm
WrZs6W644QY3YcIEt3nz5jzr7dq1yzVq1MgdeeSRbsuWLXHLO/LII13jxo1dVlbWnnlffvmlC4VC
7rrrrst3fH/84x/zldG+fXt34oknuuzs7D3zcnJy3PHHH+9atWpV4PEk+j4pF936kuIvf/G5K555
xjf5FxERkYqlRg044gg/1a4NPXvCtGlw//2waBFccgn8/vfwxRc+cXrt2n67n3+G776D//0PfvwR
fvkFtm5V9z8REakQZr75Jl1zcmIu65aTw8yJE2H27GJNMydOLLjsN94ozUPLp1+/fvm6sUXmgsrO
zmb9+vXUqlWLZs2aMXv27ITKveaaa/I87tChA4sXLy50OzPj2muvzTPvlFNOYeXKlezatQuAqVOn
YmZcf/31edbr379/OABZoIYNG/LNN99w9dVXs3btWkaOHMnFF1/MAQcckKdL4Oeff87KlSsZNGgQ
1apVi1nW0qVLmTdvHldddRXVq1ffM79NmzZ07NiRt956K9/xhVtcha1evZpPP/2Uiy++mA0bNrBu
3bo9U5cuXfjmm2/YsGFDocdVmP2uW98erVrB+ef7rn39+vk8FkkaJlJERESKKSUFGjSAmjVh5UpY
vRo6dfLd+z75BEaNggEDoHFjuPJKuOACOOAAH4javh02boQ1a3wX//R03/0vnFS90v57myQiIuWT
c45qu3YR75urAekrV+LatIm7TtyygWpQcNm7duFc6SVgj9a0adN883Jychg+fDjPPvssy5YtIycI
ppkZhx12WKFl1qpVK0+gBqB27doJB1gOOeSQfNs659i4cSP169dn2bJlVKlShUaNGuVZL5G6hTVs
2JBnn32WZ599lvnz5zNt2jQeeugh7rjjDg4++GAuvfRSFi1ahJnRsmXLuOUsW7YMgBYtWuRblpmZ
yccff0xOTg6hiBGPmzVrlme9BQsWAPDnP/+ZwYMH5yvHzFizZg21wz8CFtP+fdd1110+T8XIkT73
VK1aya6RiIiIFEfVqtCsmR+xb8UKWLcOTjjBB6q++cb/GPXgg36Evz59oG9fn78qLc1vv3Mn/PYb
LFnif6xKS/P3BTVr+jxV4fVERESSyMzYmpqKI3YQyQFbDzoImzKl6GUDW889F7dqVfyyU1PLLDAF
kBbj+vuXv/yFv/71r1x33XV06tSJ2rVrEwqFuP766/cEqgqSEif3ZCKtmkpi+6Jq0aIFLVq0oEuX
LmRmZvLSSy/lG/mwJEU/5+Hn9M4776RTp04xt4kO2BXH/h2cCreeevFF3+z/uOOUJFVERKSiMvMB
perV/Uh9P//su+wdcQQ88ggMGgT/+pefnn/e3wNceaUf9a9yZT/VrAk5Ob7L/+rVvjVW5cqQkeED
X+Gk6qH9NzOCiIgkV/vzzmPaU0/RLUYgZmooRIeLLoLWrYtXdq9eBZfdvXuxyi1JkyZN4uyzz+bp
p5/OM3/9+vU0b948SbXK1aRJE3bs2MGKFSvytJ4Kt0AqriOOOIJq1aqxatUqAJo3b45zjm+//ZZ2
7drFrQv4kQuj/fjjjzRq1ChPq6lYws9plSpV6Ny5c4Hr7o39+87KDIYMgawsf5O6bl2yayQiIiJ7
q1IlOOggaNnS/924Edavh4YN4c474cMPfVe/jz+Gc86Ba66BWbNyc06FQj7AVb++7zKYng6bN8OC
BT5P1dy5fpTADRt8iysREZEyNPjBB3kkM5N3QiHCbXUc8E4oxKOZmdzywAPlsuyiitdCKyUlJV8r
pRdffJF15eT7fNeuXXHO5QuePfHEEwm1Ops1axa//fZbvvkff/wxW7du5cgjjwTgpJNOolGjRowY
MYKsrKyYZTVt2pQjjzySUaNGsWXLlj3zZ8+ezUcffcS5555baH0OPvhgTj75ZJ566inWrl2bb3ms
ecWxf7ecgtzWU6+84pv416wJVaoku1YiIiKyt9LToXlz3+Lp5599bqnq1f21/ppr4A9/gLff9j9Q
XXGFD2b16wddu/ocVGFVquTeG+ze7bv//fSTf1y1qi8v3GIrLU05LEVEpFRlZGQw6bPPGDF0KI+8
8Qbpu3axLTWV9t27M+mBB8jIyCiXZRdVvG5y5557Lg8//DDXXHMNJ5xwAnPnzmX8+PEx81MlQ7t2
7TjnnHN46KGHWL16Nccffzzvv/8+S5YsAeIH3cKef/55Xn31VS644AJat25Namoq33zzDaNHj6Za
tWrcdtttAFSqVImnn36anj17ctxxx3HFFVfQoEEDfvjhBxYvXszrr78OwIgRI+jevTvt2rXjyiuv
ZPPmzTzxxBPUr1+foUOHJnRMI0eO5NRTT+Xoo4/mqquuolmzZqxatYqZM2eyYcMGZs2atRfPmKfg
VEoK3HEHvPGG797XuDGUQH9JERERKQfMfHAqI8MHp1as8F396tTx3fV69PA/Us2c6ZOn33ILjBjh
g1W9evmAU6RKlXxZGRm+pdVvv/mW16tX+/KqVfNlV6/u/1dSdRERKQUZGRnc8/jj8PjjJZ6gvDTL
jlZQ2fGW3XPPPezYsYMJEyYwbtw4TjjhBN59913+9Kc/5dsmVhnxyo21bSLlxTJ+/HgGDx7M+PHj
mThxIl26dOHFF1/k6KOPpmrVqgVu279/f2rVqsWMGTN47bXX2Lx5MwcccADnnXced9xxR54E6Oed
dx7vv/8+9913H8OHDwd84vXIkQLPOuss3n77be655x6GDh1K5cqVOf3003nooYdo2LBhQsf3u9/9
ji+//JJ7772X559/ng0bNtCgQQNat26dcICrMFZaSbvKGzNrDXz11Vdf0Tq6/+3OnXDppTB9Okye
DCeemP9mVEREpIzMnj2bNm3aALRxziU2JvI+osDrdUnYujU3QFW5sm/xFHkj9uOPPnn6lCm+FVTv
3j4v5YEHFl72zp0+V9WOHb7M9HSoXRtq1PCBqkJuRkVEpGIpjet1qV8HJWlmzZpFu3btmDRpEhdc
cEGyq1NmEn2f7N85p8IqV4Zbb/U3lOPH++Sn+0nQTkREZL9SrRocfjhkZvqueqtX++t/2JFHwrBh
8P77cPHF/r7g9NP9fcKPPxZcdjjY1aAB1K3r561YAd9953NV/fCD39/GjbB9u0+8LiIiIvuc7du3
55v3+OOPk5qaSocOHZJQo/JPbc3Djj4aunf3N6EXXgj16vlm+SIiIrJvMfPX+Ro1fAuqlSthyxZ/
3Q93wzvwQPjzn+H662HiRBgzBl5/Hdq39yP8dehQcG6plBTfCrt6df+D144dsGkThJOGhkcHDK8T
zmtVtapGDhYREang7r//fn788Uc6duyImTFlyhTef/99brrpJurXr5/s6pVLCk6FpafDzTfDm2/6
rn0HHeRvWpUrQkREZN9UubLPNVmrlm/h9OuvPjhUo0Zu4Kl6dZ84vW9fmDbNJ0+/6ipo0cInTz/n
HF9OQcx8ueFufc7Brl0+YLV2rW9NBf6eo0oV350wI8OvHw5YRSZoFxERkXKtQ4cOfPjhh9x3331s
3bqVJk2a8OCDD+5JZi75KfIS6ZhjfOupceN8ctQDDkgsx4SIiIhUXBkZPthUty4sX+6DRbVr580R
VamSD0SdfTZ88YVPnn777fDII3D55b4LYM2aie3PLLflVKRwwCqyhVUo5NcLB6zS0nIDVpUra2RA
ERGRcuiss87irLPOSnY1KhQFpyJlZED//n7kvjfe8MGpmjX9jaCIiIjsu0IhqF/ft5patcpPWVm+
q19kNzszOOkkPy1a5JOn/+Mf8MwzfnS/K66Agw+Ou5sCRz1KTc3fQio7OzfR+saNuTkxK1f2Aarw
qICR3QJDSikqIiIiFYuCU5HMfO6p88+Hl1/2rajq1oVmzZJdMxERESkLVapA06a+5VS4q196ug9a
RWveHB54AG66CV56ybe8HjsWunXzeal+9zsAsrZsYfhjjzFzxgyq7d7N1kqVaN+5M4MHDiSjsNGB
U1L8j2SRP5Tl5OS2svrlFx/AAh/YqlzZB6syMvIGrJSmQERERMox3alEq1kTrrsut/VU7dr+V9NE
m+qLiIhIxVezpm+VVLcu/PyzDwLVquWDPdHq14eBA+Gaa+DVV2H0aLjoIjjhBLIuvZSeTz3FoMWL
uScnBwMcMO2ll+g5axaTXnml8ABVtFAoN/AUFs5jtXMnbNgAa9b4+SkpBeexUrdAERERKQcUnIqW
kuJbT/Xo4X8F7d7d/3KakaFm8iIiIvuTlBRo0CBvV79QyAepYo2ol54Ol10GffrA++/DqFEMv/lm
BgHdIlYzoFtODm7RIkY89hj3DB2693WNl8dq924fsMrKgnXr8q5btaq/v0lPz5vHSvc7IiIiUsZ0
9xFLrVp+JJ7du/2w0evW5d7QiYiIyP4lLc138T/qKB/M+fVX2LIl/vopKdClC7zyCjPr16drnNW6
5eQw8733cvNIlYZKlXzwqXZtH2hr0ADq1fOBqB07YOVKmD8fvvkG5s6FOXNgwQIfiFu/HrZuze02
KCIiIlJK1HIqlsqVITPTt54aO9YnOF2xwjfxL2y4aBEREdn3mPkAT0aG7zK3YoXv6le7dtx7A+cc
1UIh4nWcMyB99WrcscdiBx/sE6kffDA0bpz7/8EH++6FJSkU8sGpyNEIw90Cd+zwIwWuXu3nV6rk
jy89PXa3QBEREZESoOBUPHXqwB/+4FtO/fvf0LevvxktYAQeERER2cdVqgQNG/pW1itX+gBVSop/
HNUdzszYWqkSDmIGqBywtU4d7NprfV6rn3+Gzz+HiRNh+/bcFWvVyhusigxeNWxYMj+cxesWGA5Y
bdrkg1bgj7Ny5bx5rFJS/PyUlNiTiIiISAEUnIonLQ1atIALL/S5p/r08TehtWv7UXBERERk/5We
7kfrq1PHB5XWrPGBmqh7hPadOzPtpZfolpOTr4ipoRAdzjnH/xgWyTmfTiAcsFq+PPf/b7/1Xe7C
Xe3MfFe96NZW4SBW/fp7l0MqNTV/C6nsbJ/Hats22LgRl5ODRSZWDwekQqHcqXLl3NEEU1PjB7EU
0BIRkTLUp08f5s6dyw8//JDsquz3FJwqSL16vsXUq6/64aF//3t/Q9i8uUa3ERER2d+Z+eBURoZv
QbVihc9FVafOnoDO4IED6TlrFm7RIrpFjNY3NRTi0ebNmTRwYOxy69Xz07HH5l++e7e/HwkHrMLT
kiXwn//ktnACHwxq2DB/8Cr8uDijEaekkJWdzfAnn2TmjBlU272brZUq0b5zZwbfdBMZ6ek+gJWT
k/t369a8j8PHGc63FW51Ffk3HMgKB7UKC2aFQro/ExEpx0IJ/FhiZnzwwQd07NixxPa7fPlyRo0a
xUUXXcRRRx2Vb3+J1Ks05OTkMHr0aEaOHMnChQvJzs7moIMOom3btvTv35/WrVsnpV7JouBUQapX
9wlQe/Xyraf69vU5GOrW9S2oRERERFJTfaCnVi0foFqzxgdTatUio3p1Jr3yCiMee4xHZswgffdu
tgWBnEkDB5JRnHxSlSr54FLjxrGXb9vm6xEZuFq+HGbPhjfe8IGisIyM2HmuwlOVKvmKz9qyhZ59
+jBo0SLuiQi4TXvpJXrOmsWkV14p2nE5lzdwtTcBrchgVmEBrfB2CmiJiJSJsWPH5nk8ZswYpk+f
ztixY3ERg4NkZmaW6H5/+ukn7r33XjIzM/MFp6L3XZauueYaRo0aRa9evbjiiisIhULMmzePt99+
m8zMTAWnJIIZHHAAXHwxTJ4M//qXH8VvxQo/rLSanIuIiEhY9epw+OH+R6yff/Y/aAUBqnuGDoWh
Q3HO5e0CVxrS0309Dj88/zLnYOPGvF0Fw9P77/sUBrt25a5fv36+1lbDP/iAQQsX0i3iZt7wow+6
RYsY8dhj/ngTZVa8rnzZ2fkDWr/95luvhedFKyyglZoKlSrhQiGsUiUfCExJyf2rYJaIlEOleW0p
ybIvvfTSPI8/++wzpk+fziWXXFIi5cdTUPApJUnf6cOtuW666SYeffTRPMsee+wx1q1bV2Z12b17
NwCVKiU3PJSc9msVSc2acMgh0Ls3vPyyv2HbsCFvk3kRERER8MGOevXgqKN86+vffoNff/Vd8aD0
A1OFCY86+LvfwdlnwzXXwH33wahR8O67MHcufPihH634b3/z9z+HHOKDVhMnwp13MvO99+ga50a/
W04OMydPhocfhmee8T/sTZ4M06bBzJkwZw4sXOi7JW7eHDuAlKiUFB9QqlrV5/rKyPD3bXXq+Neg
QYP8U506PoiYlua3d86/Rhs2kLVwIXcPHMgZxx1Hj5YtOaNlS+7u14+sTz/19Z471//9/ntYsMAH
+Fat8q/v+vX+eLZu9Qnkd+/ObeElIlIKsrKyGHDrAJq1bkbjExvTrHUzBtw6gKysrHJddlFs376d
IUOG0Lx5c6pWrUrTpk0ZOnQouyJ/RAHefvtt2rdvT61atcjIyCAzM5N7770XgGnTptGxY0fMjD59
+hAKhUhJSWHChAmAzzkV2VJr3rx5hEIhnn76aZ5++mmaN29OWloa7dq1Y+7cufnq+PLLL5OZmUla
WhrHHnssb731Vr4yY1m8eDEA7dq1i7m8bt26eR6vX7+eAQMG0KRJE6pWrUqTJk3o168fmzdv3rPO
L7/8wh/+8AcOOOAA0tLSOO644xg3blyecsLH99RTTzF8+HAOPfRQ0tLS9tQn0ee8NKjlVGFCIX8z
07OnH7Vv1Ci48Ub/C2PNmnmHYRYREREBHzQ55BAfCPr5Z/+jVtWqvuV1sgNUBUlJgYMO8tMJJ+Rb
7LZvp1rnzlicX3QNSN+xAzdtGrZtm2/FtGNHwftMS/MBo2rVcqfw4+i/hS0r7BfwOC20srZsoeef
/pS/q+Krr9Jz7lwmvfgiGSkpPpi2ZUtuq63oAFSlSv7eMfy3ShV/LlSpkpsIPro1VviviEiCsrKy
aNulLT8c9gM53XMIf2g9tfgpZnSZwWfvfkZGRka5K7socnJyOOuss5g9ezbXXXcdhx9+OF9//TXD
hg1j8eLFvPzyywDMmTOHHj16cMIJJ/Dggw9SuXJl5s+fz6effgpAq1atuOuuu7j//vu58cYbOfnk
kwFo27Yt4H80ivXD0fPPP8/27dv505/+RHZ2NsOGDaNXr17Mnz9/z/qTJ0+mb9++HH/88QwbNoy1
a1TuJsMAACAASURBVNdy+eWX07Bhw0J/jGrSpAkA48ePp3v37lSJ0Y0+bPPmzbRr146lS5dy1VVX
0apVK9asWcNrr73G6tWrqVGjBlu3bqVDhw6sWLGCAQMGcPDBBzN+/Hguu+wytmzZwtVXX52nzGee
eYbs7GxuuOEGKlWqRM2aNRN+zkuLglOJqFULDjwQLrkExoyBP/7R34z88gsEJ5WIiIhIPhkZcMQR
uV39fvkltxtbeCS7cFexWKPclTNWtSpbq1bF4b+vRHPA1gYNsOnTc2fu2uXzYG3Z4lsWFfY3PK1e
nX95cQJdBQW0gr/D//3v+F0VFy9mxNNPF95V0bncoFV4ig5khXNmRb7e4SkcxIoc0VCBLBGJYcj9
Q3zw6LCIkWANcprn8IP7gaEPDOXxYY+Xu7KLYtSoUcycOZPPPvuMNm3a7Jl/xBFHcPPNN3Prrbdy
7LHHMm3aNHJycnjvvfdIT0/PV86BBx5Ily5duP/+++nQoQO9e/dOaP+rV69m/vz5VAtG4W3atCl9
+vThgw8+oHPnzgDccccdNG/enP/85z97gkunnHIKXbt25cgjjyyw/KZNm9K7d2/+/e9/06hRIzp1
6kT79u0599xzOeyww/Ks++CDD7JgwQLeeecdunTpsmf+kCFD9vz/5JNPsnjxYiZNmkSPHj0AuO66
6zj55JO5/fbbufzyy6ka0bDml19+YdGiRdSoUWPPvOeeey6h57y0KDiViNRUH5zq3h1eeQX++U+4
5RbflDs8So+IiIhILKGQz2FZs6ZPDbB7tw/Y7NyZ+39Ojn+ck5ObLylWt7DIXEmRwa3o/0tR+86d
mfbSS3TLycm3bGooRIfgpn2P1FR/7MUZGTBaKQW6ZgL3xNllt5wcHpk40b8m4UFx6tb1U506fqpZ
M7fFVCI5O5zzr31Ojv+bnQ1ZWbBp054uoHvECmRFtsiKlRsrMkdWnt2WQc4zESl1b05/07dqiiGn
eQ4TX5vIFQOvKFbZE6dNJOeC+GW/8eYbPE7pB6cmTpxIq1ataNq0aZ78S507d8Y5xwcffMCxxx5L
rVq1cM7x6quvctlll5XY/i+77LI9gSnwQSfnHIsXL6Zz584sWbKEBQsW8MADD+Rp9XTmmWdyeKyc
jzGMGzeO9u3bM3r0aCZPnszkyZMZNGgQXbt2ZfTo0TRo0ADwLbROOumkPIGpaO+88w5NmjTZE5gC
n0Oqf//+9OvXj08//XRPUA18d8bIwBQk/pyXFgWnElWnjr+x7NsXnnsOrr7a3yysWAEtWpTLXzdF
RESkHKlSxf/YFUtkYu+C/t+1K+8UnhdeLzxB/pHt4gWzipiQfPDAgfScNQu3aBHdIrrATQ2FeLR5
cyYNHLjXT1VcpRDocllZVOvdu+CuitnZuC+/xDZsyA0wRkpJ8UGrcLAqMnAVDmRFBrWqV/fHAjFH
RMwjViArnK8rOmeXWd6uhSkpZO3axfAnnmDmjBlU272bramptO/alcF33OG75oSDVWYl939R1xWR
hDnn2JWyK3bzVQCDldtX0ubZNvHXiVs4sIMCy94V2lUmge4FCxawdOlS6tevn78aZqxZswaAyy+/
nNGjR/P73/+eW265hTPOOIOePXtywQUX7NX+G0eNiFu7dm0ANmzYAMCyZcsAaN68eb5tDzvsMJYs
WVLoPsyM/v37079/f9atW8cnn3zCM888w7Rp07j88st59913AViyZAmdOnUqsKxly5ZxxBFH5Juf
mZmJc25PfcOaNm2ab91En/PSouBUoqpW9cGp887zidGffRbuuMMnwaxXz08iIiIixREODoUDFomK
HKkuVjAr/Di6pdbu3X4Kt9YKrxctHLiKCGBlhEJMGjOGEU89xSMffkj67t1sq1SJ9p07M2ngQDKq
Vy+Z56S0BYEuq1mz8K6K9etjb74ZzHA+OLRunU+Evn69/3/dOh+4WrfO5xibP9//v3Fj/uc2NTV+
ICvW/+np/jUoLJAV9dpnbdxIz379GLR0ad5cWqNG0XP6dCY9+ywZaWmJPV9FCTQVZZ3IKRTKu37k
4zj/OzM/smK8AGys+SIVmJmRmp1KQR9aB1U5iCnXTilW+ee+ei6r3Kr/Z+/N4+So6/z/56f6vubK
HOESIRyCApJ4AEHUCBJQAY0gqKsCXgi6wMKiEoVVWXclQEBOV7/gQiSCkXM5/EJ2fyohrCb6UxEU
giC55kzm6Onp7qr6fP/4dHVX93TPlTmT95NHUVWf+lT1p3pmUtOveb1fn5rXDjmhaXFguq7LokWL
+Pd///eqs+15mU3xeJx169bx9NNP89hjj/HEE0/wk5/8hFNPPZVHH53YewC1Z/Ebaea/XWHevHmc
fvrpnH766Rx33HE8/fTTdHZ2VhWKJoNYlX/7x/qeTxUiTo2HefNM/tSnPmVmoPnc58wvCVu2mL/g
jfcXSkEQBEEQhF1hotlUlflItcQtfwmiJ2o5DqlAgKsvugi+9CW045Q+w3hldKNRTZiobPcEiFr9
qwkY/vZxMK5SRaVK7q0DDxz94o5jyvU8McsvYnnbW7fCH/9otnfuHH6NaHR0Acu/X8gVWXHDDVz6
6qtl91XM0vr737nunntGz9KCkgNP69rb4+2rtfleG61/lWv2Dw6y4o47eOaZZ4wbLBhk8eLFXPb5
z5fENu97yBNXvZ8Vz13mX7yMr1piVrU2cX0JM8iHTvwQt7xyC+6C4f9mWZsszlx6Jgv3Wjiha3/0
5I+OeO3TTjptQtcdLwsWLOC1114b1TEERrA78cQTOfHEE7n++uu56qqr+M53vsO6des47rjjpkRM
84Sal19+edixl19+uaa4NRYWLVrEc889x7Zt22hpaeGAAw7gT3/606jj+etf/zqs/YUXXkApNSZh
aTzv+VQg4tR4SCbNA/8DHzBTI99+O1x1FXR0mGWffWZ6hIIgCIIgCKPj/4A+HjxRyydgKU9gqLVU
O+4vQfSXJPqvX3leZZs3nmrLON+Ly/7hH1j261+jX3tteKniAQew5ktfMgLdOMofiwQCJfFoLOTz
RqCqdGb5t199FTZuNNsDA8OvEY/DvHk8097O1dUccRSytB59FBYuLIWw+9e1tkOhkpgzA/QPDLDs
3HOrz6z4hz+wZvVq497zf4953z/e99bQ0PDvNw/vQ6y/JLaawOU5Hb2Mr1CoVFI5VoGrhrAs2WBz
h6ly0YzGNd+4hrXvX8sL+gUjIhV+EKxNFoe9fBjfufU7s/La4+Gss87iggsu4O677+Yf/uEfyo4N
Dg6ilCIWi9HT00NTxb+vRx11FADZQraglx21s5r4P0EOOOAADj74YO666y7+6Z/+qRg2/uSTT/LS
Sy+NGoi+ZcsW0uk0hxxySFl7Nptl7dq1hEIhDiz8AWTZsmVce+21PPnkk5x88slVr3fqqafyta99
jYceeojTTz8dANu2ufnmm2loaGDx4sWj3tNY3/OpQsSp8dLaaoSo886D738fPv9585ezrVtNlkCV
GQIEQRAEQRB2CzxRa7oYSfQaTQAbh1CWchzWPPgg1113Hdc//XSpVPGEE1jzxS+SsqzSzHvVxB5P
bPDPuFi5HiuhELS0mGUs5HLlAlbBjaW7ukjcc89I0THEd+xAX3LJuGNpiuOsFLTGu55A24q77649
s+KmTVy3cqVxg03GjJeVoqh/soJ83oTqV4pgMFzgquXi8meDDQ2x4sYbeebpp8uzwa68spQN5glj
o6297VnG7iK69ff3s+LKK3nmkUfIj8UpOgWkUime/cWzLP/Och5+5GHyVp6QG+K0E0/jO7d+x3zP
zMJrj4fzzz+f+++/n3PPPZdf/OIXHHvsseTzef785z9z//338+tf/5rDDz+cK6+8ko0bN7J06VLe
8IY3sG3bNm699VYOPPBA3vnOdwJmtrlEIsHNN99MKBQiHo+zePFi9t13310a4zXXXMPHPvYxjj/+
eD71qU/R0dHBbbfdxpvf/GbcGn8Y8Hj11Vd597vfzYknnsh73/te2traaG9vZ9WqVbz44ot87Wtf
I1kok//617/OAw88wGmnncb555/PW9/6Vrq6unjwwQe55557OOSQQ7jwwgv54Q9/yMc//nEuuugi
9ttvP1avXs3GjRu5/fbby0Lbd/U9nypEnBovdXVGhPrgB+Guu0z21Le+ZaaG3r4dDjhAbL6CIAiC
IAiTwQTL9CZCCrj6xz8GfB+iK8sfq2V6edldXumjF1BfmedVKVhMlqAVDpug/YqwfQWkH38cvWVL
7Sytvfc2WVre2P33Ubk93rbKdTo99tepDJz3MerMivfcA48/bqI3YrHSOhotLZXHqvWptXj9xxPn
USlg+b+P8nn6+/tZ9tnPculrr1XPBrv9dlL+P4BXClJQvby18nur2vZI4tZYhbARfkb9Qk4inzei
24c+xGXXXDM1IsdI5aSTsN3f18eyk0/m0r/+latdl98Biyb/LsZEKpXixn+/kRu5cdKFv6m8diW1
rh0IBHj88cdZsWIF99xzDz/72c9IJpMsWLCAf/7nfy4Gei9btoxt27bxox/9iO7ublpaWnj/+9/P
v/zLvxAv/NxEo1H+8z//k+XLl/PFL34R27a59957Oeuss6qOodaYlFJlxz760Y9y99138+1vf5sr
rriCQw89lHvuuYdbb72VrVu3jnjfRxxxBNdffz2PPfYYt9xyCx0dHcRiMY444gjuuuuuMudSXV0d
69at45vf/CYPPfQQd955J/Pnz+ekk05ifuHf/kQiwa9+9Su++tWvcuedd9Lf389hhx3GqlWrOPvs
syf1PZ8q1ExZEacbpdRCYMOGDRtYuHBi9bdFurrghRfgkUfghhvgiSeMo6q/Hw4/3ORSCYIgCMIE
2bhxI4sWLQJYpLXeONPjmU4m9XktCDNBNUGrcvELWl6uV2W4feXv6J7YUG3GxRqC1lXf+Q7H1sjS
etyyeO4Tnxhb5tR045+Z0idc6WyWMz71KR7q6al56unJJA+edx4qmzXle5VLJmMcT5XroSGzHivB
oBGpRhKwRlr7+l/1859z7H//d5kbzONxy+K5c87h6m98oyQC+Z1c3jmVbaOV1Vb7/qrWVk2IqiZk
VRFZ+4eGWPbhD3Ppyy9zsl90syyuP/hg1jzyCKlEovZ4x3Mv1cp6J5BnVnXbx1U33sixDzxQ/Jna
SFGcmrTntTwH5z6HHXYYhxxyCA899NBMD2VWMNbfa8U5NREaGiCVMjP33XmnyZ665hojTm3dao7N
UB2+IAiCIAiCMINMJM9rvIKWf8ZFr7SsiqB12Sc/ObYsrVpB9DOFJ3QUMlw8FJCOxUaeWbG+HnXh
hRN7XdetLlz5156IVeuYf+nsHPl6BUZ1g61aBatWlZc5VpY9Vi7VjlUrlxzpPK9008vW8tq8vC0v
Y8sTESuEohU33GBKMKsF8r/0Etd97Wtc/Y//6PsCV0yOUNnm3/ecaLZdfdZSr93rU831WPnz5fWp
3Pa1PfOLX9TMcRP2PGzbxrIsLN8fBp544gn+8pe/8IUvfGEGRzY3mTXilFLqQuAyYD7w/wNf1lr/
ZoT+nwAuBw4GeoHHgcu11rX/lDJZBIPGOt3XB5/9LFx7LXzhCyYQvbMTmpuNk0oQBEEQdjPm1PNa
EOYKUyRopWybNQ88wHUrVnD92rXE83kGQyEWv+tdpSytdLq6A8U/Nn92UuWxyoyjai6bkRw44xTE
xjWz4nixLONqmsLA3yIFIUxnMiQ+9CFUV1fVbgqI19WhL78c5S+D9C/V2oeGzGeVkUopvcVxJn4f
Xhh8FYHrmb/9beRA/kcegZdeKheHvLXnnqsUj7zt6aj+KeSBeaH32rJIpNMTy2gTdks2bdrEGWec
wTnnnMNee+3F888/zx133MH+++/P+eefP9PDm3PMCnFKKfUx4Drg88D/ApcATyqlDtFaD/uXWim1
GPgx8I/Ao8A+wB3AD4CPTsugvfDzD30IfvQjuO02+O53zcNs82YTkj6G0DFBEARBmCvMyee1IOyu
jFHQSu23H1fffTcA2nHMB+uRyqfGWlbln23R70qpnIVxtMD6yhkYvXurIYiN6AZ74xtZc+650Ntb
23lT2VZreyJ9x0NBCFOxGOlIZGQ3WCqFKmTjTAmeEDRW4WukY74SzMTrrxtBrQoKiFsW+pBDUN73
sU8IKq7929WOV/ardtw/s2Kt496216+KYKqA9JIlNXPchD2PlpYWjjzySH7wgx/Q1dVFXV0dH/nI
R/jud787bcHxuxOzQpzC/HJ7h9b6PwGUUl8EPgCcB3yvSv9jgL9prW8p7L+mlLoD+OfpGCxghKfW
VnjtNTNj37/9m3FP7b+/CUdvb4c3vGHahiMIgiAI08Dce14Lwh6O1pq8myfv5HG0g8IE+lrKlKJY
ykIRMPvKmvzg4/GKYKMIYinXZc3DDxs32FNPlWZWfO97WfOVr5jg8FpimH9M5s0Zni1UmUc0Ug7R
aO4dT1jzh+FXyXZafMwxPOnLMfLzhGVx/HHHmZkYK689UgncaCJbZZtllXKwqvUb7fqVtw6k/+d/
Rg7knzcPdc01I16ndEKV9360r8dIfSq/J6BU1jnCeYuPO44n16yp+rUS9jyampr46U9/OtPD2G2Y
cXFKKRXC5Mj9q9emtdZKqaeAY2uc9ixwjVLqFK3140qpNuBM4L+mfMB+5s2Dbdvg9NPhP/4Dbr0V
vvc9M6Pftm3Q1ASF6R8FQRAEYS4zp5/XgrAb42qXvJMn7+axXbu4nbWzZOwMQ/YQjutguza2tlEo
LEpClCdUFUUrLIJWkIAVMIsyS9AKFsUsr7+37V2rbN9/3Jpc0Su1335cfdddAGObSWw0YWM0wWOi
xwvb2nXRaLPWbqlNm/aLvvVNzvnjH3Bf3sQpPjfY45bF9QsO5N6vXk42EUe5GgVYWqHAfM1gZGea
/z3wB6GPJNKMV9SppCDAjSq6HXMMdHTUFO2qXtdbjySgVetf6zx/39HKUIHLrriCZb/7HfqVV0Sg
EoRJZsbFKaAZCADtFe3twKHVTtBar1NKfRL4qVIqirmPh4GLpnKgw0gkjEC1fbtxTV1zDXzxi3Dg
gaVw9IMPnvlQSUEQBEHYdebu81oQ5jCO6xSdT7ZrF7eH7CEy+Qw5N2eEJ8fG0aXsIE9YCgVCRIIR
4ipO0AoakURr3IIw4m17+452yNv5qscrUUrhzfytlCoTpPz7nuhVTfDy2sYrePlFNVe7aK2L4/XW
wLC2sayBEft470fxfdMaF992xTHvv7LrotGqMM46+NqDt3HftXfwb//31yRsm3QwyGEnHc/XLv8C
r6RclEoXBURvDUagClgBIzhagfJ9pbBQBFQAyztXU9qmJHApTeHrpMrbKPXzX6PsXE8kqxCyLlux
gmV/+hP6pZeGl2AecghrVqwwf8gfj+g0Wp9dPX8UUsCajRu5bvlyrn/4YXLptMkcFgRhl5kN4tS4
UUodDtyImdjiF8BewApMjsVnp3UwLS2mhO+MM0ruqRUrTCZVR4cJR29qmtYhCYIgCMJsYFY9rwVh
FqJ1QQyqcD7lnJwRn+xMUZSyXbtMIPKEnaAVJBaMEQib7dFQKFAQYHJnlq4UuWqJXhpdJuL4hSQo
F7y8fb8oBVQtQawlRnnHyto9sch7mYJq4r125RgqqRSIvHGZS5ULSJVCkmVZnpRTdjwxL8FX/u0q
1L8rvACqkcQy73vB1S6O44xJePPfa+X9lN2v8gSncoGxcszefRf7WZYRwgr9A6kA1z75U+767kq+
9/hTJPI2g6EQC099P7d84wrSdVHS2GXvVeVrDG8zX2Vvu9RWEMwKbaNfZ+LmgVQqxdU33gg33siG
DRt429veNuFrCYJQYjaIU12AA7RVtLcB22uc81XgGa319YX9PymlvgT8Sil1pda68q+6RS655BLq
6+vL2s455xzOOeecCQ2eujojRPX2GvfUt74FF1wACxaYYL3Nm02f8cy+IgiCIOwx3Hvvvdx7771l
bb29vTM0mhGZ289rQZgBvLwnT3TynE9ZO1t0PtnaLrqj/AJBKBAquosS4YRxG1mTKyhNJkoZh85U
iV7VRC2/WOd3a1UTIMqElEkQKHZnRnOU+UVF7z9Xu9iOXeYWA9CW5swrP8dHv/5ZHNcpvufb89vZ
3m0eHcMEyYKAWlUgrBDOvPMrv57VhMGy4z5BzS/AVbr9/A69R37+CA//7OGy66T70pPxlguCwCwQ
p7TWeaXUBuB9GKs/yvzEvw+4qcZpcSBX0eZS/DtDbW644QYWLly4S2MuQyloa4Pubvjwh4176pZb
4PrroaHBuKc6O2GvvSbvNQVBEITdhmqCy8aNG1m0aNEMjag6c/55LQhTgJf35IlOngg1ZA8VF9st
iE86X3SsKKUIWkFCVoigFSQajJpMJ58DRzB4opcwfRSdRrNQu6vmkPPa/duj9fGETduxx3ydo086
mqNPOrrYnnfz7HhlB+tOXDcl9/rCCy9MyXUFYboZ6/fyjItTBa4H7ir80utNTR0H7gJQSn0X2Ftr
/elC/0eAHxRmCXoS2Bu4AXhOa13rr7dTR0ODcUdlsyZz6qqrjHvq4INNLtWWLaZPLDbtQxMEQRCE
SWRuP68FYZx4jqZK51MmnyHrZIviU1nek6IYKh4KhAgHwgRDQYJWUJw6wpgYU8j7HGQy7svvhJpp
8WxHZgc72DEVl+6yLGvok5/8ZHQqLi4IM4FlWUOu63aN1GdWiFNa6/uUUs3AtzDlAb8HTtZae+ly
84H9fP1/rJRKAhdisit2Ak9jygemn0AA5s+Hv/zFZE/dcQfcfDPceCOkUiaTats2E5QuCIIgCHOU
Of+8FiadTD5DzjHmuEq3gYfX7j/mb6s8ZzzXqda/8jWK7gm/I8LvkvC7I3ztOSdXFkTuLyHzsp6K
rqdwcEx5T4JQi4H+AVZev5K1v1yLHbAJOkGWnLCEiy+9mGRq7s7+vbve11Sitf67UupQzEQkgrBb
4Lpul9b67yP1USOF/e1OKKUWAhs2bNgwNWUCuRz88Y+mzO/xx2H5cnj4YTj0UOOoGhiAww+HivwM
QRAEQajEV9a3SGu9cabHM51M+fNa2GVs16Yv20dPpoeeTA9ZOzu8U5XQZaiY3Q2FpuSkqGyv7D+W
61e+Vqm7Glc7UMx78pbZnPckzG0G+gc4+6yz2XToJtwFbvH723rFYsGLC1h93+o5KeTsrvflsSOz
g9dffJ0zTzoT9sDntSBMNvInnskiHDbZU6+8UnJP3XIL3HQTRCLQ12fK+1IpsCRPQBAEQRCEuYPW
moHcADuHdtI52Ek6l8ZSFslwkoZow0wPTxDmNCuvX2kEnINK7jwUuAtcNulNrLxhJcu/uXzmBjhB
dtf78txgT/1/TzGUG5rp4QjCboOIU5NJU5MRoGzbZE59/evwwgtw2GFmRr/ubrO0tMz0SAVBEARB
EEZlyB6id6iXznQnfdk+HO0QD8VpSbRIePccZHfNMpqL5Jwc7el22gfaefTpR3HPdKv2cxe43PeT
+9h01CYsLJNpVpg9rjjzoG9GuVHbqJjV0DdDHTBs1rpiW5X+o7U99H8fwv1Y7fv6r5/9Fyd8+gQi
gQjRYJRIMEIkECESLOwXtmdTyWyZG+zDLmwDXpzpUQnC7sHs+UnfHYjHjfC0ZQucfjrcfrvJnrrl
FggGjYNq82ZT2hcOz/RoBUEQBEEQhlFZtjdkDxEJRKiP1hMKhGZ6eMI4kcyf6WcgN0D7QDvbB7bT
njbr7QPb6Uh3FNt6Mj2mswYcaod7KyAMqXDKdC9kp7naLeapua6Lg1NsQ4OLa45VafPnsA1r8649
jjag+DrFflrTT/+I99Vj9/C5hz83arB50AoSDoTLBCv/dlHcqnYsGCEaiBIOhokGolVFMO/a/u1I
IFK1lLeqG0wQhElBxKnJprkZtm8H14ULL4QrroDnn4c3v9mIUu3t0NEB++470yMVBEEQBEEASmV7
vUO9dAx2SNnebkKZy+OMUubPqldWsf6s9XM+8wem1w3mapcdmR1Fwclbdwx0sD1tBKj2gXbS+XTZ
eU2xJtoSbcxPzufItiOZn5xf3J+fnM/5D5zPNr2tukijoTnYzE2n3DQt9ziZLPnJErboLTXva6/I
Xqw+dzVD9hBZO1ucAdPbztqF/cJ25fHKY73ZXnJ2jiFniCF7iJyTK+tvu/a4xh+yQsOEq82Pb8b9
hAhTgjAViDg12aRSpryvpwc++EG47Tb4/veNi0opc3zLFlPml0jM9GgFQRAEQdiDkbK93ZvdPfNn
Mt1geSdP12CXcTmljcjUPtBeJkS1D7STd/PFcwIqQEuihfmJ+bQl2zjoDQcVtz0BqjXRSiQYGfG1
T3z3iax6ZZUJDa/A2mSx5N1LJnRPM82SE5aMeF8nvudE5ifnT9t4bNceVfjyC1pDzlCZ2JXNZ1kd
XU1e5Ud/MUEQxo2IU5ONUtDaCp2dZvvCC+Hyy81MfkccYQSpgQHYtg0WLDB9BEEQBEEQpolqZXvh
QJi6aB3hgMQO7A7knTzdmW6e+O8ncJfVzvx55P5HOPSjhxIOhE2ZUyBitoNmXWwPlh8LWaEZy66a
iBssk88ME5n8zqf2gXa6BruKs0QCRINR2hJttCXb2Du1Nwv3WlgUnNqSbbQl2miON0/KLI4XX3ox
689azyZdMavdJosFf1nAxfddvMuvMRPMtvsKWkGC4SAJJm4Q+EXgF7XdYIIg7BIiTk0F9fVm6euD
D3yg5J76wQ/M8cZGU/o3b57ZFgRBEARBmEKqle0ppUiFU1K2N4fwRKeOdEdx6RzsNOt0Z7GtJ9Nj
soDyjJj5s9PZyfKnl0/og7ZfuKoUsrztYrtf3ApECAfDZftl16joGwlGCAVCRfHspmtvqukGe1m/
zLlXnMuhHz20TIjqzfaWjb0+Ul8Umd7U/Cbes/97jOCUbCs6n+oj9dMmwCVTSVbft5qVN6xkr24M
vwAAIABJREFU7UNrsS2boFtwg903d7PBdsf7GskNJgjCrqG8ELvdHaXUQmDDhg0bWLhw4dS/YEcH
vPgitLXBY4/BpZfCfffBUUeZ493dpsTvTW8yYemCIAiCUGDjxo0sWrQIYJHWeuNMj2c6mfbn9W7O
kD1EX7aPznQnvUO9xbK9RDghZXsjMN2z2nklZZ7Y1J5uL4pNfvGpJ9NT5u7xyspa4i20JlppSZh1
a7yV1kQrV37mSjqXddbM/NnnwX146qmnyDv5svKmnJMj5+TI2mY765RKoWodyzk5cnb5fln/yvN9
+1knO/Y368fAp6h5T9Y9Fof/0+FluU6tidYy11M8FB/nV2h62V1nVdwd7qvMubegMFuf8R/scc9r
QZhsRBWZKhoaIJk0JXxLl8Kttxr31A9/WDre2QldXTB/+mqtBUEQBEHYvbFdm/5sP92ZbinbGwdT
kWOUc3J0DXaVXE2DHWUuJ094Ks7cViBoBWmONxvBKd7C0fOPHiY8tSZaaYw1jigyLn3v0lGzjCxl
FWc1Y+RopClDa03ezRcFLb+45RfLhvJDfPXnX6VX9Va/kIKW+hZ+dubP5rQIMpfHPhK7w3353WBP
PfgU2WyWHnpGP1EQhFERcWqqCIeNa2rTJuOQuvBCuOQS+N3v4OijIRCAeNyEozc0QDQ60yMWBEEQ
BGGOImV7u8Z4c4xyTo7OdOfwkroK8WnH0I6y1wlZoZLolGhh4V4Ly1xPbYk2WuIto4pOY2W2Zf7U
QilVLOtLhkcWApMqSa/uremcCjrB3UIEmUt4lTgajda66O7zb3v7SiksZaEorOfg1yqZSrL8m8u5
MHMhr7/4OmeedOZMD0kQdgtEnJpKmpqM+DQ4aNxTXvbU//k/5ngqBe3tJn/qjW+c0aEKgiAIgjD3
8Mr2uga72JnZKbPtTZCRZrV72X2Zsy45i71O26soPFUTnfzldYv2XlR0PXkup9ZEKw3Rhmn9uuxp
mT9zeWY7P3knj6vdqiJPNcHHE4WAYdten2rHasW7KKWKx2ptl58AqvCf2VVF0cm/7eFq1yy4UG0I
BRHVE7K8nxlv2xO3/Mf9Ytd0/ozNRXFNEGYrIk5NJbEYtLTA5s3GJXXRRfCVr8Bvfwtve5uZqa++
3ohTTU1QVzfTIxYEQRAEYZYz28r2ZnOOjO3a7MjsKL5XXYNd9GR66B7sLrZ1Z7p5/rHncT9ZPeBY
H6R5/Sevs+AjC3j73m8vE528UrvpFp3Gg+fyWM7yWf21GitzxQ02FirLGW3XBkxZpye0jCT0+AUZ
pRQWFpZlFUWiolhDeR+/e8lrr/Y6RbFphHGM9zxPdCsKVNpF6/J9r4/t2jiug+3a2K6Nq93iWqNx
XKd4fvEamH3v+6IaRUGriotrtH1BEKYOEaemmuZm2LYNcjk46SQ49FDjnvrxj83xWMzkUm3dajKq
rNn5i40gCIIgCDOH1pp0Ps3OzM6ysr1kODmts4p5TEU+01jwyhe7MwVxabCnuF0UnHxtO4d2DrtG
PBSnKdbEvNg8mmJNHNx0MC/HXmZQDVZ/UQWNqUZuOuWmOf/hdK6PH+auG8zVbjE7K+fksB27WM4Y
Cphyz2Q4WZytMGgFRxV9vO09Dc8tNkzQqhC5qolgntjlaKdM8HJcBxe3KHi52ojVI7m8PDFREITJ
QcSpqSaZNK6o7m7jovrKV0z+1G9+A29/u+njhaM3N5tFEARBEAQByNpZerO9dA120TvUi+3axEIx
muPNBKzAjIxpvPlMo5FzcsPdTBXOJm+/e7CbvJsvO99SFk2xpqLg1Jps5bCWw4z4FDdt/u1qM7Wt
/9f1DOpByTGaI8x2N5jjOsVZCHNOrjjGcCBMJBChMdpYJkRFgpFZ67ybjXji3GS/Z2MRuCr7vLj9
xUkdgyDsyYg4NdUoZYLROzvBtuF974PDD4ebboK77zZ9QiEToL5liynzC4VmdsyCIAiCIMwYjuvQ
l+2jJ9NDT6aHjJ0hHAiTiqRmxWx7I+UzbdKbWHnDSi7654vKXUyeuFThbOrJ9NCX7Rv2Gslwsuhs
mhefx1ta31IUn+bF5xXXTbGmSSmp2xNyjHZXZlqYyjv5MkcUGME0HAgTD8ZpS7QRC8WIBqNEAhHC
gfCMj1mojqUsUBBg7ML/lsiWKRyRIOxZiDg1HdTXQ2Mj9PUZF9VFF8GXvgTr18Mxx5T6dHSYZZ99
Zna8giAIgiBMK17ZXu9QLx3pDgZyA1jKIhFOUBepm1UfZtf+cq1xTFXBXeBy9913c3fT3WXtQStY
Ji7tW7cvR7UdVe5sKghR82LziAQj03ErRXanHCNhavDnQ+WcnHHwafO97YnHdeE6oqFo0Q01G8Rk
QRCEuYKIU9OBZRn31I4doDUsWQJvfrPJnnrnO427yrJMCeDWrUbIig+3nAuCIAiCsHsxG8v2auFq
lw1bN9Dj9FQvfwNQkEqm+M7J36E50VwUpGabwFbJXM0xEqYGrXVRhMo6WRzXAcysjOFgmMZoI6lI
quiGigRNRpQgCIIwceRf0emioQESCejvN7PyfeUr8IUvGPfUsceaPskktLebAPUDDzSilSAIgiAI
uxVe2Z43i1wmnyEcnD1le35c7bJx20aeePkJntz0JB3pDqyMZYKBa+Qz1ak6lh68dLqHusvM9hwj
YWrw8qG8xdXGORe2TD5UW6KNRDhBJBAxYpTkQwmCIEwJIk5NF6EQzJ8PL79sxKl3vxuOPBJuvNGU
9nm/ADU2wvbtMG+eEbQEQRAEQdgtcFyH7QPb6RzspD/bj0KRjCRnnauomiDVlmhj6UFLWXrQUh7r
foyfvPKT3TqfaTZ9PYTJw3Zt44ays8PyoSLBCM3x5qIQ5YWVy/eCIAjC9CDi1HTS1ASxGKTTxkX1
5S/D5z4HzzwDxx9v+oTDRqjasgVSKQjMLku/IAiCIAgTozfbyys7XpmVZXujCVJHzz+66BY59NJD
ee6s5ySfSZjV+N1QecfM8BhQASLBCKlIilTYlOV5bqjZ5loUBEHY0xBxajqJRqGlBV5/3YhT73oX
vPWtZua+xYvL3VOdndDdDa2tMztmQRAEQRAmha50F5ayqIvUzfRQgPEJUn4kn2l24k1v72jHrF2n
6r6H5whShfpM/36lW8jfVq2/f3+0a461v7dfrX/lfZcJUW4epRQhZfKhGqIN1EXqim6oaDAq+VCC
IAizEPmXebqZN8+U7WWzEImY7KnzzoNf/tKU+oFxS8VisHmzmcUvMr0z1giCIAiCMLlk8hl2DO0g
FUnN6DgmKkhVIvlMU4/jOmMWmgBQECBAwApgKYuAFSCgAsRCMUJWqBjmDeC6Ltr7TxeWwn/DjhXW
QPXjvnM9iudohp0PFPf925XHivv+a5dOKzr2AMKBMOFAmOZ4M8lwsuiGigQis8qhKAiCINRGxKnp
JpUy5X0dHcYVddxxsHChmbnvhBNK7qm6OhOOvn077L//zI5ZEARBEIRdojfby5A9RGOscdpfe7IE
qVqIMDU6ntCktS4TmPzblVjKIqACWFZhrSyiwSihQIiwFSYcDBNQPjGqsF25ni78olI1wamm+DTK
eaMds5RVLMuToHJBEIS5i4hTM0FLixGnbBuCQeOe+sxn4H/+B977XtNHKSNQbd9uxKzUzP6lVRAE
QRCEieFql/aBdmKh2LS+5lQKUnsytZxM4xWaYsGYEZoKrp9qwpJ/bSlrVguBZSV5s3eYgiAIwixF
xKmZoL7e5Er19Rnh6Zhj4O1vN+6p97yn5J6Kx6G/H7ZuhUMOKbULgiAIgjBn6Mv20Z/rpynWNKWv
4xeknnj5CToHO0WQGgdaa/Juvhig7YlPGo3SqujYUUoVxSLPtVR0NAXChK0wwUBwmLBUKTbNZqFJ
EARBEKYbEadmAssyJX3d3eC6Zv/LX4ZPfQrWroX3va/U1wtHb242eVWCIAiCIMwpegZ7QDMlIcy1
BKlTDj5FBKkaVIpQOSdXPOblMqUiKSIBUyoWtIKjuppEaBIEQRCEXUPEqZmisdGU6vX3GyfVO99p
lu9/H5YsKbmkwmFT+rdli+kXlC+ZIAiCIMwVsnaW7kw3iXBi0q4pgtTY8ItQnhCllHFAha0woUCI
ukgdyXCymFnkCVISoi0IgiAI04soHTNFMAjz58NLL5lsKaVM9tQnPgFPPQUnnVTq29BgwtE7OmDv
vWduzIIgCIIgjIvebC8ZO0Nbom2XriOCVG1c7ZJ38mVuKAAURRGqPlJfnMXNy3gSEUoQBEEQZg8i
Ts0kjY0Qi0E6DckkvO1tcOyxxj31vveZcj8w61TKZE955wiCIAiCMKvRWtOZ7iQcCE+o7EsEqXJc
7RbFp7ybL4pQSilCVohQIERjtJFEKEEkGCm6oWQWN0EQBEGY/Yg4NZNEoyZ76rXXjDgFJnvq4x+H
X/wCli4t9U0mjXtq2zY48MCZGa8gCIIgCGOmP9dP71AvddG6YpvWekShSgQpcFynKD7lnBy2awNm
xrtQIETIMiJUKpIqc0GJCCUIgiAIcxcRp2aa5mYjOGWzEInAokVw/PFwyy3w/veX3FNgyvu2bzfB
6PX1MzdmQRAEQRBGZefQThztkBvM8b3rv8faX67FDtgEnSBLTljCxZdeTDKV3GMFKdu1y1xQlSJU
2ArTHG8mEU6U5UFN1IkmCIIgCMLsRcSpmSaRMALV9u3GRQXGPfWxj8ETT8Cpp5b6RiLQ12fC0VOp
cuFKEARBEIRZQ97J05nuhByc/Ymz2XToJtwzXFCAhlWvrOK/P/zfHH/58Ty95endWpDyRKickyPv
5nFcB4CAChgRKhCmMdpIPBQvik+RYISQFRIRShAEQRD2EEScmg20tBhxKp+HUAje+lY44QS4+WY4
+WQI+MI6Gxuhu9ssLS0zN2ZBEARBEGrSm+0lnU/zw+//0AhTB7mlgwrcBS6b3c08dOdDnHnhmbuF
IOV3QeWcHK429xxQAcJBIzg1hZqIh+JleVAiQgmCIAiCIOLUbKCuDpqaoLfXlOyBcU+deSY8/jh8
8IOlvsGgcVBt3mxK+8LhmRmzIAiCIAhV0VrTNdhFyAqx9pdrjWOqGgdB0/NNXPmuK6d3gJOA1pqM
nSGTz5hyPAVBFSQUCBENRmmONxMLxcrK8UKB0EwPWxAEQRCEWYqIU7MBpUxJX3c3uK4p1zvySHjP
e4x76pRTyt1T9fUmHL29Hfbbb8aGLQiCIAjCcAbzg+zM7CQZTmIHjHBTFQW2ZY8akj5byDv5oiAF
EA1GmRebR120riwPSkQoQRAEQRDGi4hTs4WGBpMj1ddntsG4p5Ytg0cfhdNPL/VVyvTdutU4rhKJ
mRmzIAiCIAjD2Dm0k5yToynYRNAJgqa6QKUh6ARnrTCltWbIHiJjZ8g5OYIqSDwcZ/+G/UmFU8Wg
ckEQBEEQhF1l7gYb7G4EgzB/PgwNgdam7S1vgSVL4NZbwbbL+ycSkMsZgcrrLwiCIAjCjGK7Nh3p
DuLhOABLTliC9Ur1X7esTRZL3r1kOoc3KrZr05/tp32gnY50B1knS32knkPnHcqR84/kyLYjeUP9
G2iMNYowJQiCIAjCpCHi1GyisRHicUinS21f/jK8+io88kj1/u3tsGPHtA1REARBEITa9GX7GMgN
kAgZV/PFl17MghcXwEsYBxVmbb1sseAvC7j4kotnbKweWTvLjswOtvdvZ0dmB0op9q3blze3vpmj
2o7isJbDaEu2kQwn53RguyAIgiAIs5dZ8xuGUupCpdTflFIZpdR6pdTbR+kfVkpdo5R6VSk1pJR6
RSn1mWka7tQQiUBbGwwMlNoOPxxOOqm6eyocNllUW7cOPyYIgiAIU4A8r0emJ9ODUoqAZbIik6kk
/3HPf8BmaLi/gbaH29jnoX34RNMnWH3fapKp5LSP0XEdBnIDdKY7aR9oZzA/SCqS4uB5B3NE2xEc
1XYUBzQeQFOsiUgwMu3jEwRBEARhz2NWZE4ppT4GXAd8Hvhf4BLgSaXUIVrrrhqn3Q+0AOcCm4C9
mEVi24RpajJi09AQRKOm7aKLTObUQw+ZDCo/DQ3Q2WncVU1NZua/4Kz4sgqCIAi7GfK8HplMPkP3
YDepcKqs/fne5+G9sOZTa9gntc+MZEzlnByD+UGydhalFPFQnL2Se1EXrSMRShANRmdt9pUgCIIg
CLs/s0XFuAS4Q2v9nwBKqS8CHwDOA75X2VkptRR4F3Cg1npnofnv0zTWqSWRgHnzYNu2kjj1pjfB
yScb99Rpp0HINwtOIGDK+7ZvN+ckEtDSYmb0SybNzH+CIAiCMDnI83oEerO9ZO0sjbHGsvZ1r69j
v7r92Ldu32kbi6tdMvkMGTuD7dqErTCJcIJ9UvuQDCdJhBMErdnya6AgCIIgCHs6M65cKKVCwCLg
aa9Na62Bp4Bja5z2IeC3wBVKqc1Kqb8opa5VSkWnfMDTQUuLEZVyuVLbRRfBli3w4IPD+0ci0Npq
ztPauKj++Ef405+MaDU4OG1DFwRBEHZP5Hk9Mq526Uh3EA0Nv7VnNz/LcfsdN+VjyDk5eod6aR9o
pzPdiaMdWuItHNZ8GEfOP5K3tL6Ffer2oT5aL8KUIAiCIAizitnwm0kzEADaK9rbgUNrnHMg5i+x
Q8AZhWvcBjQB50/NMKeRujrjhtq5E5qbTdshh8DSpXDbbabEL1xlhhzLglTKLPm8CVb/61+NeFVf
bxxZdXVmXxAEQRDGhzyvR6A/209fto+mWFNZe/tAO6/seIUvv+PLk/6aWmuG7CEydoacnSMUCBXL
9ZKRJIlQglAgNPqFBEEQBEEQZpjZIE5NBAtwgY9rrQcAlFKXAvcrpb6ktc7O6Oh2FaVMMHp3NziO
Kd0D45764Afh5z+Hs88e+RqhkMmjAshmzYx+nZ0Qi5lsqsZGI2JJPpUgCIIwdezez2sfPZketNbD
HEnPbn4WgGP2PWZSXsd2bVOul8+g0USDURqiDTRGG0mGk8RCMZlRTxAEQRCEOcdsUCa6AAdoq2hv
A7bXOGcbsMX7RbfAC4AC9sUErlblkksuob6+vqztnHPO4ZxzzhnnsKeYhgbjcurvL4lMBx0EH/gA
3H47fOQj1d1T1YhEzKK1KfHbutWUCCYSphzQy6eSIFRBEIRp59577+Xee+8ta+vt7Z2h0YyIPK9r
kLWzdA12kQwPn3lv3evrOKz5sGGOqrGitSbrZBnMD5J38gRUgFgoxn71+5GKpEiEEjKjniAIwjQw
h57XgjAnUSYuYoYHodR64Dmt9T8W9hUmMPUmrfW1Vfp/DrgBaNVaDxbaTgd+BiSr/SVWKbUQ2LBh
wwYWLlw4dTczmbS3w4svwvz5JeFo0ybjnvrGN+DjH5/4tR3HCFWDg8aZVVdnMqtSKYjHJ2f8giAI
woTYuHEjixYtAliktd440+PxkOd1dTrSHbzY+SJtybayGe+01rzrznfxoUM/xBWLrxjz9RzXIWNn
GMwP4mqXaDBKMpykKdZEIpQgHooTsAJTcSuCIAjCOJitz2tBmIvMBucUwPXAXUqpDZSmpo4DdwEo
pb4L7K21/nSh/0+A5cCdSqmrMVNUfw/40e5UIkBjo3E0pdNmDbBggRGnbr8dli2beH5UIFCeTzUw
AD095noNDaV8qrG6swRBEIQ9AXleV6C1pmuwi3AwXCZMAbyy4xU6Bzs5dt9aefElsrZxR+WcHEop
4qE4+6T2oS5SRyKcIBrc7TLkBUEQBEEQiswKcUprfZ9Sqhn4FqY84PfAyVrrzkKX+cB+vv5ppdRJ
wPeB3wDdwE+Bb0zrwKeacNhkT73ySkmcAvjSl+DRR+H+++GTn9z11wmFjBAGMDRksq7a242Dat68
Uj5VQP5KKwiCsCcjz+vhDOQG2JnZSV20btixda+vI2SFeNvebxt2zNUug/lBMvkMrnYJB8IkQgne
UP8GEuEEiVBC3FGCIAiCIOwxzApxCkBrfStwa41j51Zp+ytw8lSPa8ZpajL5UJmMCTMHOOAAM2Pf
HXfARz+KjkSG/bV2wkSjZtHaOLY2bzavn0yasr/6epNVJflUgiAIeyTyvC5nx9AOHO0QDgx3Gj+7
+VneOv+txEOlcvm+bB8ZO4NCEQvGaEu20RBtIBEy7qhJe54LgiAIgiDMIWaNOCXUIB43otCWLSVx
Cuj/zGdY8cADPHPCCSSiUdLBIIuXLOGyiy8mlRweyDpulDKCVDJp8qnSaePgCgZNuV9zs1n7xiQI
giAIexJ5J0/XYBeJcGLYMdu1eW7Lc5x39HnFtsH8II7rcED9ASQjSRKhBKFAaDqHLAiCIAiCMCsR
cWou0NwM27dDLgfhMP0DAyy77DIuBa7u7UX19qKBJ1etYtn69axZvXpyBCoPLzC9rs6Mob/flP5F
Iqbkz8unCskv2IIgCMKeQ2+2l3QuTUuiZdix5zueZyA3UJY3NWQPURepY9/6fadzmIIgCIIgCLMe
a6InKqWCSqkTlVJfUEqlCm17K6UmURURAJP31NQEfX0ArFi5kks3bWIpZi5uCuulrsslmzZx3cqV
UzeWcNiMZf58U/7X2Ql//jP84Q/w2mvQ22ucVoIgCMKsQJ7XU0fXYBcBK4Clhv86tW7zOhKhBEe0
HlFsyzt56sLDs6kEQRAEQRD2dCYkTiml9gf+CDwE3IKZfQfgCmDF5AxNKKIUtLYa0ce2eWbtWk52
3apdl7ouz6xdOz3jisVMyWFrqxnj3/8Of/wj/OlPpgxxYMBkVwmCIAgzgjyvp450Ls3OzE5S4VTV
48++/izv2Ocdw8r2YiEphxcEQRAEQahkos6pG4HfAo1Axtf+APC+XR2UUIX6emhoQPf1kbBtasWl
KiDe2Yn+/vfh2WdNVtRU4+VTtbUZV1UuB5s2GZHqhRego8PMAigIgiBMN/K8niJ2Du0k5+SIBCPD
jmXyGTZu28ix+5VK+mzXJqACVfsLgiAIgiDs6Uw0c+pdwHFa61zFrDKvAvvs6qCEKgQC0NaGevFF
0sEgGqoKVBpIWxbqnnvg5pvNeYcdBosWmWXhQuN2miqCQSOk1dcbkaqvD7q6TAlgU5NZUinJpxIE
QZge5Hk9BTiuQ+dgJ/FwvOrxjds2knfzHLfvccW2rJ0lEowQDUana5iCIAiCIAhzhomKUxYQqNK+
L9A/8eEII9LYCMkki48/nifvv5+lVUr7nrAsjj/zTPj6183sehs2mOXpp+HHPzad9t+/JFQtWgQH
HGDcT5ONl08FkMlAezts2waJhAlRb2gwQpU14egzQRAEYWTkeT0F9GX76M/20xxvrnp83eZ1tMRb
OKjpoGJbzsmRiqQIWjIXjSAIgiAIQiUT/Q3pF8DFwOcL+7oQrPovwGOTMTChCqEQtLVx2Wc+w7KN
G9GbNrHUdVEYx9QTlsUNCxaw5uKLjeBz0EFm+djHzPnt7Uao2rjRrB98EFzXiF6es2rRIuO0Cocn
d+yxmFlcFwYHTT7V5s2mHLC11cz2F49PjUgmCIKw5yLP6ymgO9ONUoqAVU33M3lTx+x7DH63Ws7J
SRi6IAiCIAhCDSYqTv0T8KRS6s9AFPgJcDDQBZwzSWMTqtHURKqpiTV33sl1d9zB9WvXErdtBoNB
Fi9ZwpqLLyaVrDEBU1sbnHqqWcAElv/+9yV31Y03mmyoaBSOPLIkVh19tBGRJgPLMtdKJsG2zRhe
esmIYXV1puSwrg4iU5zJ4Q9q97ZHahtv/1rXUMqUPgYCZi1inCAIU4s8ryeZTD5DT6anZhD6zqGd
/Lnzz3ziiE8MOyZh6IIgCIIgCNWZkDiltd6slDoK+BhwFJAEfgSs0lpnRjxZ2DViMWhtJfX661y9
fDksX47WGjURkSOZhOOPNwtAPm8CzH/7WyNWrV4Nt91mBKVDDy13V7W17fq9BIOmtA/K86liMePm
CgbLhZ3KpbLd26/Wf6S+fiYiQo3lXG+tlBGmAgHzvobDZolGjTPOL1z5twPV/zovCIIwEvK8nnx6
s70M5YdoiDZUPf7c5ufQaAlDFwRBEARBGAfjFqeUUiHgDuDbWutVwKpJH5UwMvPmmeymXA7C4YkJ
U9UIhYxj6sgj4bzzjKDyt7+VSgF/9Su45x7Td5994G1vK4lVBx64a9lRXj6V1iafqqOj5DTy8Lar
3W+1Y2Nt8x/zll25xmj9HKe0DA4a95htl4tbfhHLWyKR0lJLxBI3liAIBeR5Pfm42qUj3TGiyLRu
8zreWP9G9k7tXWyTMHRBEARBEISRGbc4pbXOK6WWAd+egvEIYyGZNAJVZ+fUzrynlBGdDjwQzjzT
tHV2ljKrNmyARx81IktDgyn/88Sqt7xlYrlVSkE8jo7FJk90m0VorVFjcUFpbQQr1zVr24ZstiRq
+bEsI0pZlhGpPDdWJGLWtUQscWMJwm6NPK8nn/5sP33ZPppiTTX7rH99fZlrCiQMXRAEQRAEYTQm
+lvSg8AZwA2TOBZhrChlRKmODiNaBKfxl92WFjj5ZLMApNPwhz+UxKpbbzVuoHC4PLfqrW+F+voR
L90/MMCKlSt5Zu1aErZNupCjddlIOVpzgAndl1LGyQaj52/5nViOY5xnAwNmu3JGR0/E8sQpT8Dy
3Fi1RCyZUVEQ5iryvJ5EejI9aK1rikxb+7fyau+rXHrspWXtEoYuCIIgCIIwMhNVNV4CvqmUWgxs
ANL+g1rrm3Z1YMIo1Ncbt1JfnymHmykSCTj2WLOAEctefLEkVq1ZA3fcYcSWgw8uz63au1Ty0D8w
wLKzz+bSTZu42jcD4ZOrVrFs/XrWrF49JwWqabkvr+xvNLQuCVi2bdZ9feVuLKVMP8+F5S2hUCkb
y+/GqhSxAgEpKxSE2YU8ryeJrJ2lO9NNMlz73+xnX38WheKd+76zrF1rTTQkJX2CIAiCIAi1mKg4
dT6wE1hUWPxoQH7ZnWosy4SS9/QYd8xscbYEg6ak7y1vgU9/2ggdf/97Saxavx7uvdfxolF+AAAg
AElEQVT03WsvI1ItXMiKjRu5dNMmlvqcPgpY6rroTZu4buVKEwA/x1ixcuXsuS9vpsBgcPxurKEh
45Lz3FieiAUlUcpzZfndWKHQyEKWIAhTjTyvJ4m+bB+DuUHakrUnBFm3eR2HtxxeFpZuuzZBKyh5
U4IgCIIgCCMw0dn6DpjsgQgToLHR5E8NDEDdLC0XUAr2398sH/mIaevpKc+teuIJnrFtrq5xiaWu
y/WPPmpmDPTEEtc1a88N5O37t8e69ra9ZaQ+Y10Xtp/p6uLqytI6/309/LApf2xrg9ZWs47Hp+RL
MS4m4sbyFq+k0Pv6eHjimL+s0BOxKkPeK9ezRXwVhDmGPK8nB601nYOdhIO1JyHRWrN+83o+/KYP
l7VLGLogCIIgCMLo7HJYkSr8lqa1/1OoMC0Eg8Z99NJLs1ecqkZTE5x4olkAPThIYskS1I4dVbsr
IL5jB3r5cvOhwMtAqrUe6Zh/PdIxpUrla2O9XsV1tWWRuPNOVDpd+776+tCXX07ZR51UqiRUeWv/
dmsrNDdPb9ZYLQqCkw4ERg+w9wt9jgP5vHFk1Qp595cVem4vz5VVTcDytqWsUBCqIs/riTOQG2Bn
Zid10drP2pd6XqJrsItj95UwdEEQBEEQhPEy4d+UlFKfAi4HDi7s/xW4Vmt99ySNTRgLjY0Qi8HO
ncZxMwfLpXQsykA8ht6xg2qyggZ2zG/l+Qd/iGWZe1OFnlZhrZRCKYWFVThu+iilUCgsZRXPM20U
z/NfT/muV77P2PpVtPf/fA06na55XwN770XmgZ9hdXai2jtQnV2ojnZUR2H/1b+h/vd/oaMDZdul
c5UyMza2taHbWqHFE7FaodWsVWsb1Nejpsh1NO6gd0849ILeR6LSjZXNmqB9f8i7V1roF7Esq9yN
FQqN7MgShD0AeV7vOjuHduJoh3Cg9iy0615fRzgQZtHe5dWTEoYuCIIgCIIwOhP6dKaUuhQzNfXN
wDOF5uOB25VSzVprmRVouohGjXtq+3aTCWTb5ZlAntPI/6F8BkulHNch6+bIujmGnCwD9iAD+UEO
OvZIHv/5dk6tUgL3mGVx+LsWMehkoWCw0YX/zE7JBKALx4r7hWNeW3lPVWVd2apRqKpr8L3HVVAK
Fhx3BI//vL3mfR107FH8Ifc61INqqIND64ADfWMpXNt1CfX1E+rsIdy1g3BnD+HOHkKF7dDGVwl1
dRPa0Vf2Gm44TK6lkXzLPLM0m227pQm7pRm7tRl7XiNEo0Uhrzh+ykU877hCMZAe5B/P/QpXvPp3
rnZ18T17YtUqzlj3DHf/5C4ak/UElEXQChbFwTEzHpHVH/LuukbEGhgw+5UGkVplheFwdSHL/7Mi
jixhDiLP610n7+TpHOwkEU6M2G/95vUcPf/oYeV7EoYuCIIgCIIwOhO1DnwZuEBr/Z++toeVUs8D
VyNTVk8v++4L8+ebD+OVi1c6lc1CLmcW74O8/4O7V0ZV7cP5BD+U265dFKGyTo7+fJq0kyHn5Mlr
4wIKqgBhK8R5F3yGf974Arz6Oqf4ZrV73LL43hv344YLP0cyPAuymMaB1povXvgFLt34l5r3de2X
ziURipcJapViG4AOaJgXxZ3XQgZNprxb6fx8jlDXDkKdPYWlu7Tf1UPsL5sIdfYQyAyVjdWuS5Jr
biTX0kSuuZF8cxPZlibyXtu8BvKN9eiAEZnu/P5dXPHq3znFLQ1CAae4Lu7fXuXqa6/hvIvPI2BZ
BApf47AVImKFCQdCBFWwKFwFVYCACpi1NQHXn/d9Gq7taCi+r5WOrP5+6O01Pw/+roAKhcpLNj0n
VrWg90oBWDKyhNmDPK93kb5sH+lcmpZES80+eSfPc1ue4wuLvlDWLmHogiAIgiAIY2Oi4tRewLoq
7esKx4TpxsvcGQnXNR/CPXHKv2SzRsTK5cx+JlPq56fyQ3hhnVeuEaHcHEN2jj57gIw9RM7NYxeE
qJAKEg6ESYbihK2K0q4Q3PB/buDHt/2Y7/1qPYm8TToU5Kh3HcMNF3yaZGJuCVNg3EapZGJ67ysY
g/3qYb83YgM2kKnsozVWepBgZzeBzm6C/qWji9Rr2wn+5k8Eu3tQTsnxpQMW9rwm7JZ5vPzyqyx1
q8fWnOq6XPurjSQvuQDHAke7ZJwhBvJpHO3i4l1TGWMfBXHKChBQFmErTNQKEwmEi+3VxKxRM64q
8c9WWIWyMsV83pQpvuc9XHbBBaRiMePG8n6GPMecpxB6biy/yOsJWdUysiZJABaEMSDP612kc7CT
gBUY0QH6x44/MpgfHJY3JWHogiAIgiAIY2Oi4tTLwFnAv1a0fwx4aZdGJEwdXh7PaFQTrwqLzmTI
ZQbIZvrJDg0xmEvTn+1nyB4iq3O4hQ/t4VCUcDBMXTBKKJQqfHgPwAi/3CcTcS687AK47AK01uMX
H2Yps+6+lMJNJsglE3DAG2r3cxwCO3oJdnUT7CgJWIGOTpJ/faVqjhYYB1V9eydvXnwGOhbFTSZw
kgncZBw3kTD7qcI6EcdOxrATcXKJKPlElFw8ymAiSi4Zw47HUAELDQSUVXRYWcoiEggbJ5YVImQF
y0UsFSyIXSN/oPToHxhg2dlnc+mmTVztc7g9uXo1y37zG9asXk2qoaH2BSodWbmcKS/0QuAr3v9h
AfqhkPnZ9JaRhKw5liknzDjyvN4F0rk0vUO9pMKpEfute30dqXCKN7e+uaxdwtAFQRAEQRDGxkR/
W7oK+KlS6gRKGRaLgfdhfgkW5jKFD8A6HCbrZMnaMGTbDOZz9AcHGYrlyNmgnSDKrSOsGwjrAAkC
BFxdcmLlcqasMJcrfEi3/aFP5XlYFaHWYxZwyjKFdPn1vWOV61rHRzo22rljuQaFJKm5UgIWCOA0
N+E0N5F908Flh3p/+wf0tvaaQe99jfW0X3Q+1sAAgYE01sAg1kDaLL19hLZsw0oPYvUPmGP5fM1h
uPEYTkHIcpNx7EQcOxHDTsbIJ8ySTcawE7GiCEYyiZtKQjJFIFVHOBQdsaTwezfcwKWbNrHUlw2m
gKWui960ietWruTq5ctHfK/GLBpVlhe6rnEqDgyUB757+EsLPXeWv8TQP1NhNVFrpsVQYaaR5/Uu
0DvUS87J0RhrHLHf+s3recc+7xgmQkkYuiAIgiAIwtiYkDiltV6jlHoncAlwRqH5BeAdWuvfTdbg
hOnD1S5ZO2scUE6WdC5NX7aPnJMj5+ZAg6UswoEw0WCUukjd2EKu/aWE/tBq2y5kYGUhly/NyOb1
Gw9q2IZver0a68p+tc6r1ce/eHih2cNes/A/rwyssnTSL0Z4gl2lU2aWCVhHnXAMT9z/CKdUCXp/
3LI48v3voe+094/5eiqbK4lXA2kjaBXFqzQBv7g1kCbam8ba2mH2+01/VVmC6sOOx3AKDi07EcNJ
xMkm4wwmjYPr1w89xbeq3AsYgerap5+i47ILzFgL5YjF7cIMkP59oHxWSN/MkcX9oIJgAEWwPHi+
8hoFwVf5Ra2+vpIrq1IYrfy+CYWKQpYOhczsjdV+Liq/d6dqe7TXFiYVeV5PHMd16BjsGLUkbzA/
yO+3/56vHv/VYcckDF0QBEEQBGFsTNhnrrXeAHxyEsciTBOO6xRFqKydNWGv+TR5J0/OyQEQsAJE
AhHioTgNgYaJl6KNp5TQE6+8bf9MeKOu/Rer+KA7XqFqIueOF3/ppH/bC7D3gus9IcsvQHjZSWVB
3COXTE42n7ng01zym9+jqwS9//sb9+OGCz49ruvpSBgnEsaZN7I7ofYFdJnAFUj7xKz+gWHiVjg9
iNqZxtrcgeofIJUeHLFMMbl1G8mTT8NpqMOuS5KvT2KnEtj1KfJ1SbPUp7DrSm1uMgaVYlOZ8FRq
8fbL+vm+x7x2S5XEMCtgoYKl61sFMUw5LpYGlXNRrmawP80P/+NufrfuNyRsm3QwyDuPeycXf/Y8
GhMpQiqIZQVK32P+LC3/dtU3Zwyi1Gj9Kvt4i1/srdVW2NeWhfJcYpZVWvz7ox2bReKYHuk9n9j1
5Hk9AfqyffRn+2mON4/Y77dbf0vezXPsfuV5UxKGLgiCIAiCMHYmJE4ppU4FHK31kxXtJwOW1vrx
yRicsOvknTxZxziihvJD9Of6ydgZsnYW2y0ElQdChANhEuEEDdYuCFG7wlhnXNtd8O43Eqndpyhc
5cH2iXe5LGRzxmnmOdDsfHlJY+Xsi15J2CR9bZOJ+OwKsFcKHY3gRCM4zU3ULhKsTu9pnx6xTLE/
lWTo/UsI9PYR7Osn0t1H4JWtBHr7sHr7q5Yl6kAApz6FU5cqru36Opz6FHZ9EqcuiVNXh13Yt+tT
2HVJ3MLPgC78hy5u4RREC40uVY36+nnj9WZvTA8O8i8XXsWVr23hOleXRMSH/ouP/v53fPuOf6U+
lSQaiBC1wsSCUYIqSMgqLCpI0ApWd0nq0mvW3Pb2a/Wp7Oe6I1/X17d/YIAVP/gBz/z610XRbfHi
xVz2+c+bAPtKKoWoyn2/26wywH6sAle1Y2P8mevv72fFlVfyzCOPkMjn2VbDyTde5Hk9cboz3Sil
Rp1F9NnXn6U10cqBDQeWtUsYuiAIgiAIwtiZqHPq34DLq7SrwjH5ZXcGyDk544gqlOf15/oZzA+S
s3PYro1SqihE1UXqCAVCo19UmDm8LKFaApbWPqeZbQQsz4GVy5Vyv2plfvk/hPuXMX6YnnVB77vA
qGWKp76Pri+fV/1krVGZIQJ9/QR6+wjsNIJVoLev0NZfELH6iL76erGf1TdgSvUqcKMRnPq6wpLC
rU8Vt712tyh6FfZTyaqZV6u/v5orX9vCKb6ZFRVmRkVe28rPfngf5198LgP5QXbqPhztFHv5g+Wj
gQgxK0I0GCmIViGCVoCQChKyCqWC00j/wADLPv3p4QH2DzzAsj/8wQTYJ5OlEzyRy3XLBTD/vvdz
4n0P+I/5qXSTVRO6vH2onqtXMVNj/+Agyz7wAS79f+zdeXxcZ33v8c9vNu2S5d2OTRaHbJCExNls
aBISIOxb0pTAbSnQ7ZKWJtyW3l4o0N7eQlsgobRAe3tbKARzc+2QQiCEQqABJGdxEgLYzoZD5E2S
N62zn+f+cWbk0Wg0mpFmNIu+79frvDxztnmeObKe0W+e3+889dRUf3YBl1Tm7dJ4PQ+xVIxj0WNz
FkIH6N/fz9YNW2f8DlQxdBEREZHSzfcT0wuBJwus3wucOf/myHwMjg8yODFIPBUnno5PpYS0hFqI
BCO0t7Xrw3EzMjtZT2g2uQGs/DTCbPAq+2+2Fhgw9dd+oT+sCwSwGjkwBQtMUzTDtft3FkytXV36
i6bTfr2skdGpQNZUUGtkNBPUGvMLyD9/cGp9IBafcSpnhtfdmROw6sLr6eZn/9nPp72ZATCA13ge
n/juj1i99fJsTuFUQMWZkcaRJk0aRwqPcecxmrnMLuDfOTEY9AvKRzK/ayKhiF9oPhAmFPQDWKFA
Tp2rQks2iFMofS+7Pi/17hPlFrDPf61KKhbwcm76TSFyZ4fltP0Tn/4073/qqRn9qRCN1/MwEhsh
loyxrLXIXTqBY9Fj7Dmyh998yW/O2KZi6CIiIiKlm2/EYgQ4A3gub/2ZwMRCGiTlGYuP8dyJ53A4
2kJtdEY650xBkCWklABWftH6ZPJkACtb/yr7B3ahgvXZO8jlvuZchbALbcvUYKpF7Z+apCkGg3jL
uvGWdZeVhmjxBIHRvCDWidGcdf6/of0H6YzFi9bS6jp2glNu+bNKBkIWxY+Bj86y7dWex6e+9CX4
6lcLz1jKvethoXWFZhPOtuSeZ7bXKOF8P77/fj5aoTS+AjRel8lzHkMTQ7SEiqRdZ+zcvxOALRu2
FNyuYugiIiIipZlvcOrfgdvN7C3OuWcBzOxM4JPA1yvVOCku7aUZGB0gmU6yurOMGRsiuUopWp8N
YOXPwsrOwMrehTE3JSqb+pRfRwgK1x5yfrUkCk/0mVtucCu/wHUJwbPOUJCb/+Dd8L734MCf7VNG
zaDF4loipFetIL1qxZz7zlVLa2TNSvb9n9sy7/nJ62BezrXIuT427XoBzgNHJj0xZ72XJp2zpFwK
L5XC4U3tEyJICCOAEbEwrYGwX+MK82dlYYQIECTgtz/zc+Sco+ODH8RGRgr22YD2ri7cLbdg2Z/J
3LuEZgOscy25x2T/jcfLP1+h82Tv0plK+f2hojOl8mm8LtNYfIzR+Ci9bXPfoKF/oJ8zes9gTeea
aetTXoqgBVVvSkRERKRE8w1OfQD4NrDXzPZn1m0EHgD+qBINk7kNjg9yZOIIqzpW1bop0uyyAaxy
CtbnB55mK4hdKDBVznG5QTDP8wMmnptZMyj3ef763HPDySBM9q6RhRgQCM5eFDv/cQ3MVUvrwqtf
SmpNdX9/BID8nxrnHCmXJuZSpLw0SZci5aU4WdLdMsXYg4QCIdoCLbSFWokEwoQDIcY62nEjI7MG
3Sa6u7H/0hg3pzPPY+Laa3EHD1YrQKXxukzHY8fxnFdSOnz//n6uOvWqGesT6YSKoYuIiIiUYV7B
KefciJltBV4JXAhEgZ84535YycbJ7MbiYwyMDtDZojQ+qVP5s5fqzVzBs2wwa7ZlagZZEtJ5M2Om
Bbe86bPBsgWtoLSgVjAAhe6WV4IF1dKqIjM/+BQmBAV+fTnnMgErf+bV8fQow/FjU8GrTVvP5967
Bv3C7nnuDQR4yZVXcDg6TMACBMwIEMg8DhDACj+e53s8pxLuavjSq6/mvq9+dVrNqcq9vMbrciTS
CY5MHqEj0jHnvgOjAwyMDrBl48yUvngqrmLoIiIiImUo61OTmW0BVjjn7nF+1e3vmNk64M+BdjO7
G/gD59zMir1SMbnpfKWkHYhIAdUIns0V0MoPbqVTkMwEtbK1vnIDXIXuGJcb3MotFj4toOXP6OqM
hLntnz/JF//xS/OrpTVt1pgr+HDGzLLc4Esp5y2wnwER5zIzroL+4iJT+//eu3+DWx/ZDc8fnBZ0
+1YgwMc2ruXPfvVKnj60G8ukGrrMcZYNVAHmyASuDMusCxHw71JIiFAgQIggwYCfWBgIBAk4/H8z
6YhTAa7cx/mBrmK11jKP/+g97+H6nTtxzz3Hq3P6sxAar+dnJDbCZGJyRppeITsHdhKwAJedctmM
bSqGLiIiIlKecr/S+zDwA+AeADM7H/jfwBeBPfi3qz7I7LVqpQKUzif1xmX+8F/ysgGi+coGpLLp
hJ4HXnp6mmLukq1flA1sZYNbyeTU8Z2ex83vvhHedeP06xSL+stcZlzWnBVW5uNppyny8zLHubo6
2rn9c3/NF//5K/zNjx+mI5ViIhTiwpddxt/9zjvo7OgocNc/cBieOTzA4fAC4Dn/eToAScDD+dtw
eM7DmfkHW2ZWk2VSPy0T1goECASCGBAMBDFzmDn/roXBEMHM3QvDgRDBYOhkcCsQ9Bfzj//iD7/H
3//lx/nkt+6lPZli0Dk4dGj292huGq/L5JxjeHKYSChS0u+zvv19vHj1i+luKRyEUjF0ERERkdKV
G5x6CfBnOc/fBjzknPttADMbwP9W9qMVaZ3MoHQ+qRfjY+Pc/qnbuf+B+0kFU4TSIa658hpuef8t
dHZ11rp5jSk76ym4gP/b+cGt/MeFZozlzugptB7yglQLDFCVErCa43EncPMlm4FMcLSEoKAxNQ9r
wZzzg1ee88NZ2cf+4ohNbUvguRhe2sOlZq9fFiDA6//0nbzxf7yLUCDE5POTXLnlyoU0UeN1mcYT
44zERuhq6ZpzX8957Ny/kxvPu3HGNhVDFxERESlfucGpXmAw5/lVwL05zx/GL7QqVaB0PqkX42Pj
vO3Gt/Hs2c/ivdmbSjW74xd3sPPGnXz1zq8qQFUrebO3lkIQsRaz9syydxVceKgrP9B1POoX5F4g
jddlGomNkPSSRIJz3/jhqaNPcSx6jCs2XjFjm4qhi4iIiJSv3PyTQeB0ADOLABcDO3O2d+FnRkgV
ZNP5VrTPfQt5kWq6/VO3+4GpM72Tk2gMvE0ez579LLffdntN2ye+bBDxjuN3cODNBxh84yAH3nyA
O07cwdtufBvjY+O1bqKQCXQFgoSD4ZICIyXSeF2GlJdiaHKIjvDchdAB+gb6aAm2cPHai2dsi6fi
tIXbVAxdREREpAzlBqe+BXzczH4F+BgwCeTe8ecC4Nn5NMTMbjazfWYWNbOdZnZpice91MySZvbo
fF63USidrzm4YkWi61winWB4Yphnjz3Lvd+/F29T4Zkd3iaP+x+4f5FbJ4UoiLikabwuw0hshInk
REl36QPo39/P5vWbaQm1zNimYugiIiIi5Sv3a70/A+4C/hMYB97pnEvkbH838J1yG2FmvwZ8Evgd
4CHgVuA+MzvLOXekyHE9+MVdvwvMfWudBrUU0/maqcB2PaVVec5jLD7GaHyUE7ETjMZHGYmP+Ets
+r+jsVFOxDP7xEaIpjLFsx3+fIvZLo/BwdhBXnfH61jbuZbVHatnLGs617CibQXhYHiRet6cnHOM
xkc5MnmE4clhjk4eZXhymCOTRzg6eZRvfvubeG+fPYj4tf/7Nda+/uQ1WtWxijUda+gIdzTN/78l
TON1GY5OHiVowel3WpxFIp3g4QMP895L3zvrPiqGLiIiIlKesoJTmQ+eV2Y+ZI4759J5u/wq/ofg
ct0K/KNz7t8AzOz3gNfhf3j+myLHfR64A/CAN83jdRvCUrk7Xz0FcSqlWrWZYqkYI7GR6QGmbHAp
8zgbVMpf5wrcpD5oQXpae+hu6WZZyzK6W7tZ07mGs1acRU9rj7+0+Et3aze33nUrg26wcIDKQZd1
sWXjFoYmhth3Yh8PHniQoYkhkt7JLCLDWNG+wg+MtE8PXOUGspa3LS/pD8ZKqmVw1DnHRHKCI5NH
Slpy31OA1lArq9pXsaJtBYQpGkSMEuVzD3+O8eT0X9vt4XZWta+adh1mPO9YRWekPv5fNlMwGyoz
w1Ljdekmk5Mcjx2nKzJ3IXSAJwafIJqKsmXDlhnbVAxdREREZH7mVRDBOTcyy/pj5Z7LzMLAZuCv
cs7jzOy7wMxPfiePexd+PY13MP2ORE1lqaTzNWuB7WlpVVnZtCr3LH/9t3/Ne97/Hj/QFD/BaGx0
RjCpUAAqkU4UfL2OcAfLWpdNBZp6WnpY37X+ZOCpdZm/vrXHD0JlHpc7U+ZVV7+KO35xR8HUvsCz
Ad70yjfxoSs/NG295zxOxE4wNDHE4MQgQxND/uNx//HPh3/O95/7PkejR6cVgw4FQqxsX8majjWF
Z2Fl1ne3dC8oQFHt4GgsFZua3TTbTKfsuqlZahnhQJiV7SunlnNWnsPK9pV+EKp9xbTHudfyms9f
wwF3YNYg4tqWtdz/u/czmZxkeGKY4cnhk9dlYpDhCf/57uHdDE0MMZGcmHaK9nD7yWvRvnpG8Cr7
uD3cvuD3L1+zBbNz+xMPxAlNVKZekcbruY3ERoin4yXPTO4b6KOnpYfzVp03Y5uKoYuIiIjMTz1U
61yJf2fvwbz1g8DZhQ4wsxfifzh+mXPOa6ZvzHMtpXS+uYI4t992Ox/68PRgR/YOVykvNbWkXfrk
Yy89bX0ynZy53RXYN/vYTV8/7TXShbfnn/OH3/5h0bSqO790J3euvnPa+nAgPC2I1NPSw8bujby4
9cUzAkzZ2Uw9rT10RboWLU3ulvffws4bd/Kse9YPUGWCiYFnA2x6chO33HnLjGMCFmB523KWty3n
nJXnzHrulJfi6OTRaQGs3IDJwwcfZmhiiBOxE9OOawm2FAxa5S+FasrMNziaSCc4Fj3G8IQfYDoS
zcxompj5eDwxfZJK0IIsb1vOqg5/ltPpy07n0vWXsqJ9BavaV00LRs038HbNldcUDSJec9U1gB9k
OnXZqZy67NSi55tITEwLYA1NDE0FsIYmhvjZ0M8YmhxiMjk57bjOSOeMmVeFZmW1hdtK6lezBbML
9ucg8FStWzZD043XaS/N0MQQbaHSfvbArzd1xYYrCn5hFE/F6WrpUjF0ERERkTI13KcnMwvgpwZ8
xDmXLeZaX592K6TZ0/nGE+McHDvIwbGDfP27X8e7cfYgzh1fvoOvr/v6jABUNQUtSDAQJBQITS1B
O/k8GAgSDoQJBoIE7eTj7PaABfDCXtG0qp6uHj7z5s9MzXbqaemhNdRa9ylKnV2dfPXOr3L7bbdz
/7/fTyqQIuRlZq7cubCZK6FAiDWda1jTWbwsTTwVnwqUFApkPXn0SQbHB2fM9umMdM4Ijjy+7XGe
OfsZ3Jk56VSZ4Ogz7hl+609/iwt+7YIZM51OxE+Qb3nbcla2rWRlx0rWd63ngtUX+EGmjpX++vaV
rOpYxbLWZVVPV5xPELGYjkgHHZEOTlt2WtH9xhPjBYNXQ5NDHB4/zBODTzA4MUgsFZt2XFeka8as
q9zg1ZqONazqWDWvYHY9K9ifJtAI4/VofJSxxJifBluC8cQ4Tww+wQd/5YMFt6sYuoiIiMj81ENw
6giQZmaB1DXA4QL7dwGXAC8xs3/IrAsAZmYJ4FXOuR/M9mK33norPT0909bddNNN3HTTTfNrfZU0
ejqfc46j0aNTwafscmDsAIfGDnFw7CAj8Uy2icOvQlIkiNPe3s57LnoP4WB4emAoE0DKDwwFLUgo
GCJkJwNJuUGl7Ppp6/ICUJUIEF3z6eJpVZ10cvmGyxf8OrXQ2dXJhz78IT7Eh2pS86cl1MKG7g1s
6N5QdL/xxPj0AElOMOvA6AEeO/QYAw8OwK8XPt5tcjz+5ccZ2TIyNZPp7JVnT9V1Wtmxcurx8rbl
dVXkvZpBxKKvG+mkM9LJGb1nzLqPc84PYk0OFZyJlb02QxNDxNPxacfaNw3364XrMnmbPHZ8dQdj
W8am6qtN/eumPz/5T+H9ZltX6FyzvkYJx/74//0Yr9vzy4tnTY/b1YumG6+PRRguGBkAACAASURB
VI9hWMnj7CMHHyHlpdi6ceus+6gYuohIc9q2bRvbtm2btm5kpGD2vIjMQ82DU865pJntAq4Fvg7+
p9bM878rcMgo8OK8dTcDLweuB54r9nq33XYbF1988QJbXV3lpvPVIjCQTCcZnBicEXzKDUDl/kHZ
Fmpjfdd6fybJmgt49Zmvnnp+StcpvOPudxQN4vQEevjdS3538TpYIaWmVTW6ep7plQ2UnN57esHt
zjmu/PKVDNlQ4RMYrO5Zzbfe/q267udsah1EnI2Z0dXSRVdLF5t6N826n3OOscTYtBplf7njLxm3
WWp5GyQDSZ4feZ5AIJBZZdP+PfmPTbXl5OHT15V6bP5++e/ztP0sZ7uD4PIgqRvzZoIeBP5p1rel
JpptvI6lYhyNHi2Y6jubvoE+1nWu49SemSmwKoYuItLcCn1B8uijj7J58+YatUikudQ8OJXxKeAL
mQ+92VtTtwNfADCzjwHrnXPvdP5XzrtzDzazISDmnNuzqK2uklLS+apdDHgyOcmhsUMcGDswLeh0
cOwgh8YOMTgxOK1odW9r71Sw6apTr5oKOq3vWs+6rnX0tvYW/aO4WYM4lU6rksozM8LpsD+LZpbg
aChdmZl0tdaIfTAzulu66W7p5szlZwLwmcBnGHfjs16v1ZHVbLthW4GN9emaTxWZYVl/mma8HomN
EEvFWNa6rORj+vf3s2XjloL/lxLpBJFQhJZgSyWbKSIiIrIk1EVwyjl3p5mtBP4CPz3gceA659xw
Zpe1wMZatW8xlZLOt9BiwM45jseOF5z1lA1C5RabDliANR1rpgJOl62/jHVd66aer+tat+C7cTVr
EKdWaVVSnmYNjjarZrtexfpTb5plvPacx/DEcFmBpCOTR3jq6FP89sW/XXB7thh6PaX2ioiIiDQK
y6+F0azM7GJg165du+o2rS/tpXny6JMcjx4vOmvqL//8L7nj+B0Fi+cGngnw9t6381vv/61ps57y
l9xb1bcEW1jXtW5qplNuut26rnWs6VizKB+2x8fG/SDOA3lBnFubJ4hTT2lVctK0gG+B4Gij3f2t
2TXb9SrYn5NpfZudc4/WtIGLbDHG69H4KD8d/CnLWpeVPL7d89Q9/Lfv/Dd+9K4fFRyjB8cHOX3Z
6WzoKV4HT0REmkdOWt+SG69FKq0uZk6Jr9S7893/wP3+jKkCvE0eX/7Sl/nyii9Pretp6ZkKOG3d
uHVGAGp52/K6CJjUa22cSmrGPjUDzXBrLM12vfL7E7c4ockQhwvWGJdKOB49jue8sr546Rvo44XL
X1h0jFYxdBEREZH5UXCqTpR6dz7nHKlgquid7bo6u/jE6z7B+m4/ANUZaaw/1EBBHFl8SyE42kya
7Xrl9ufw2GHcIcfVW6+udbOaUiKd4MjkkbIKoTvn6N/fzyvOeEXB7SqGLiIiIrIwCk7Vgezd+VJe
as6785kZoXSoaPHmbuvm6tOvrkZTRZaERg90LDXNdr3MDMfSSLmvhZHYCJPJSVZ3rC75mOdHnufg
2EG2bNhScLuKoYuIiIgsTKDWDRA4PH6YIxNHWN62vKT9r7nyGgK/KHzpGrEYsIiIyGJwzjE8OUw4
GC4rqNm/v5+gBbnslMsKbo+n4rSH21UMXURERGSeFJyqsbH4GPtH98+Zzpfrlvffwqa9m+BpmPpy
3fnF0Dc9uYlbbm3MO9uJSHU450ikE4wnxokmo8RTcZLpJJ6r/7vDiVTSRHKCkdhI2enufQN9XLDm
glmPS6QTdEW6KtFEERERkSVJaX01VE46X67Ork6+uO2LXPU7V9Gyq4WO9o6GLgYsIpXjnCPpJYmn
4iTSCVJeCoBIMEI4GCbpJUl7aTznkXZpsndsNQxnDhwEA0ECFiBowWmPzWxqnVSO57ypZancQbdW
TkRPkPJSRIKRko/xnMeD+x/k7Re8veh+beG2hTZPREREZMlScKqGsul8c92dr5C+wT6SVya557/c
w6k9pzZdzRURKU0inSCRTvizobwkhk0Fola2r6SrpYvWUCutoVbCgfBUUMpzHmkvTdqlp/2b8lIk
0gmSXpJkOknKS5H20iRcAs87eSxkaiNlgikBC0wLZOU+zw1uNRPn3NT74Zw7GWDCTQs45QeejOk1
pcyMAP77ZWZ0RboYD4zXqltNK+WlGJocoj3cXtZxe4b3cCJ+YtZ6UyqGLiIiIrJwCk7VyHzS+XJt
37OdS9dfymnLTqt840SkLmUDUYl0gmQ6CUA4ECYSirCyfSWdkc6pQFRLqIWAzczcDhIkTOl1cbIB
mGwAa7agVm5AK5lO4uERT8VP7k8anB+YwZi6w15+ICs7M8uwqXWVlh9Iys4kyw8qZfs+22ymbFAp
YAH/caYfUwHCQJhgIEgoEJp6nA3W5Qbx8pdgIMgTh56oeL+XutH4KBOJibK/EOrb30dbqI2XrH1J
we0qhi4iIiKycApO1cB80/myBkYG2Ll/Jx+/9uNVaJ2I1INkOkk8HZ8K+uBOBqJ6W3vpbumeCkK1
hlqrEsSBzB1CLUQoUN5wMVcwK+3SU4GspOcvKS9F0ksSS8XKSjuE2WcxYTDjxnfmB+lyg0rZx+FA
mHAwTNAyQaVgmFAgVDCIVCzA1GyzxJrBkYkjU9enHDsHdrJ5/eZZUwHjqThdLV0qhi4iIiKyAApO
1cBC0vkAduzZQUe4g+vOvK7CLRMpn3MOh6tacGQpSHkp4qk48XR8akZUKBCiJdRCT0sPPa09J2dE
BVsaouZTMBAkSHntzA1kFUs7THrJqdljKS+Fw02lVQUDQUI2M6iUP2tptuCSgkrNaTI5yfHYcbpa
yitankgneOTQI7zvsvcV3UfF0EVEREQWRsGpRbbQdL60l+Zre7/G6896fdl1M0TmK1tkO+Wlpma6
pL00wNQf87mpT9lgQG5akwpp+7KBqGx6HkDQglOBqOyMqOyylN6zgAUIBANlpx0qOCpzGYmNEE/H
y56t/Nihx4ilYmzZWLjeVJaKoYuIiIgsjIJTi2ih6XwAPxr4EYfHD3PDeTdUuHUiTM1EyS2GnZVN
d2oJtbA8vJz2cDvhYJhIMIJhpLzU1BJLxYilYsRTcdJeeurftEtPnc/MpgWtsoGsZiqcnfbSxNPx
qWAUnAxEdbV00R3ppi3cNpWeV27qnPg/R0Zz/LxIdaS9NEMTQ7SFyg8g9e3vY1nrMs5ZeU7B7SqG
LiIiIlIZ+ktoES00nQ9gx+4dnLX8LM5ffX4FWyZLSTaANFXrJ5NGBkzV2AkHwvS09NAebicSjEzd
/S0SjJQdQMkNWuUuiXRiKoiV8lJEU1E/bculpoINzjk/gJU3+yqbrlVPskXBs8Eo8GcCZQNRXZGu
qUBUa6hVgSiRRTKWGGMsMcaKthVlH7tzYCdbNmyZ9feNiqGLiIiIVIb+OlokC03nAzgWPcb9++7n
j7b+UdPMLJHqyK3Nkw1CZdPughYkFPTvHtbb2kt7uJ2WUMvU3cWyAahK/YyFAnMX0862N3/JFgWP
pWJTxcHTST+AlZtGmJ1xVSiQVQ2e86ZqRCXSCZzz08oiwQjtoXbWda6jLdxGS9AvVq5CySK1c2zy
2FQh/XKMxcd4YugJ3nruW2fdR8XQRURERCpDwalFUIl0PoCvP/l1AN549hsr1TRpYJ7zpmYgZQM5
nvMAf8ZOdhZUd0s37eH2qSDJ1EyoQLhugpzBgB9IamH22Qe5da/yl3gqPpVGmH2e8lJT7wecTCPM
Bq6ygay50gg95/kzojLBKOccZkZLsIX2UDtrOtZMvb/ZIJ+I1IdYKsbR6FE6WzrLPvahgw/hOY+t
G7fOuk8ynVQxdBEREZEKUHBqEVQinc85x/bd27nm9GtY3ra8gq2TejZXIfJsHaj2UDsd7R20hdum
Zj9lU/HqLf1tvsxsql+zcc6RdulpM6/y0wjj6fhUGmEqnZpWBwuYShnMBreyr9saamV1x+qpmWat
oVYFokTq3EhshGgqSk9rT9nH9g/0c0rXKWzs2TjrPg6nYugiIiIiFaDgVJVVIp0P4InBJ3j62NN8
4KUfqGDrpF7kFiLPBlWyihUiz86AWkp3dCvGzAjZ/NIIsymQsVSMpJekLdRGR6TDnxEV9GdE1ctM
MxGZm3OO4YnheQeR+/f3F501pWLoIiIiIpWj4FQVVSqdD2D77u2s61zHSze+tEKtk8XgnMNzHg7/
X895sxYiDwVCRIKRihUil9mVkkYoIo1tLDHGSHyEZa3Lyj52cHyQZ449w3svee+s+6gYuoiIiEjl
6K/dKqpEOh/AZHKSbz79Td75kndqhkwVZQNJ2WBS/nPPeQWDTc45MMAVOKlBgAABO7mEAqFFKUQu
IrKUHY8ex8ObV7HynQd2AnDFhitm3UfF0EVEREQqR8GpKqlUOh/Afc/cx0Ryougdg5aa3MBQbqAo
WwB7tufZO7xlA0C5d3wzMwIE/H/t5L/Zmk3hQHiqHlH2jnDZ4tq5waf8Y/OXeipELiLSjBLpBEcm
j9AR7pjX8f0D/Zy94mxWtK+YdR8VQxcRERGpHAWnqqCS6XwA2/ds54oNV7Cxe/airPWsWCApf13u
zKTcwBH4wSOHA3cykJQNBOUGgwy/gHXQglN3Y5sKJAWCU/uUElDK3U8BJRGRxjAaH2UyOcnqjtVl
H+uco39/P6858zXF91MxdBEREZGKUXCqCiqVzgew7/g+Hjn4CJ945Scq0LK5FUplm21GUm5gqZxA
Un4wKDsLKWgnA0nZmkDFgkXFAkoKJImILE3OOYYmhuadJr3vxD4Ojx9my4Yts+6T9tIELKB6UyIi
IiIVouBUhVUynQ9gx54ddLd088pNr5x1H895pLxUyYGl/NQ2YNq6uWYkZVPbQhY6GVjKCySVOjMp
mzInIiJSCRPJCUZjo3S1zC/lrn9/P6FAiEvWXzLrPvF0nJZQi+7UJyIiIlIhCk5VUKXT+VJeirv3
3s0bznpD0Q/Aw5PDRAKRGYGk3BpJ2bS2uVLbNCNJREQa2YnoCZJekkgwMq/j+wf6uXDNhXREZq9X
pWLoIiIiIpWl4FQFVTKdD+CBXz7A8OQwN5x3w6z7ZGdFnbn8TLpauqYFnRRIEhGRpSTlpRiaHKI9
3D6v49NemgcPPMg7L3xn0f1UDF1ERESkspRTVSGVTucD2L57O+etOo/zVp036z7RZJT2UDvdLd1T
KXfBQFCBKRERWXJG46NMJCaKznoq5ufDP2c0PsoVG64oup+KoYuIiIhUloJTFZCbztcZ6azIOYcn
hvnBcz/g+nOvL7pfLBWjK6LUAhERkSMTRxZUz7B/oJ/2cDsXrrlw1n1UDF1ERESk8hScqoBsOt/y
tuUVO+fdT95NMBDkDWe9oeh+KS/FsrZlFXtdERGRRjSZnOR47Pi8C6GDXwz90vWXFv3CR8XQRURE
RCpPwakFyqbzdbV0VSydzznH9t3bedUZr6KntWfW/ZLpJEELzru2hoiISLMYjY8ST8fnHTSKpWLs
OrSLrRu3Ft0vnorTHm7XjGURERGRClJwagFy0/nmW9+ikEcPP8pzJ54rWggd/A/SbeE2BadERGRJ
S3tpBscHFzSb6bFDj5FIJ+asN5VIJ1QMXURERKTCFJxagGqk84FfCH1D9wYu33B50f2iqSi9bb3z
rq0hIiLSDMYSY4wlxhZU97FvoI8VbSs4a8VZc+6rYugiIiIilaWoxjxVI50PYDwxzref+TZvPfet
cwadnHP69lZERJa8Y5PHwEEoEJr3Ofr397Nlw5aiY6+KoYuIiIhUh4JT81CtdD6Ae5++l2gyylvO
eUvR/eKpOJFgRCl9IiKypMVTcY5Gj9LZMv9ZUyOxEX429DOu2Fg8pU/F0EVERESqQ8GpeahWOh/4
KX0vfcFLWd+1vuh+0VSUjnCHPiCLiMiSNhIfIZqK0haaf6rdQwcewuHYukHF0EVERERqQcGpMlUr
nQ/gmWPP8Pjg43MWQgf/A3JvWy9mVtE2iIiINArnHMMTw0SCkQWNh337+3hBzws4pfuUovupGLqI
iIhIdSg4VYZqpvMB7Ni9g2Wty7j29GuL7uc5DzOrShtEREQaxVhijJHYyIIDRv0Dfr2pUqgYuoiI
iEjlKThVhmqm8yXSCe5+8m7edPabiAQjRfeNpWK0hlrpCCs4JSIiS9eJ2AnSpBeUZnd4/DD7Tuxj
y8biwSkVQxcRERGpHgWnSlTNdD6AHzz3A45Fj5WU0hdNRumKdKnmhYiILFnJdJLhieEFf1HTP9CP
YVx+yuVF91MxdBEREZHqqZvglJndbGb7zCxqZjvN7NIi+77FzL5jZkNmNmJmfWb2qmq1LeWlqprO
B34h9PNXn89ZK84qqT3LWpdVpR0iIiLF1Mt4PRIfYSI5seDgVN/+Ps5dde6cs6IT6YSKoYuIiIhU
SV0Ep8zs14BPAh8BLgJ+AtxnZitnOeRK4DvAa4CLge8D3zCzC6vRvsHxwaql82XP/8Pnf1jSrKmU
lyJoQdrD7VVpi4iIyGzqZbx2znFk8gjhQHhBhdCdcyXXm4qn4iqGLiIiIlIldRGcAm4F/tE592/O
ub3A7wGTwLsL7eycu9U59wnn3C7n3LPOuQ8CTwNvqHTDqp3OB3DX3ruIBCO87oWvm3PfaDJKa7hV
wSkREamFuhivJ5OTnIieoKtlYcGiZ48/y/DksIqhi4iIiNRYzYNTZhYGNgPfy65zzjngu0BJnxbN
/9q0CzhWybYtRjqf5zx27N7Bqze9uqQP2dFUlN7W3qoFykRERAqpp/H6ROwEiXRizhuIzKV/oJ9w
IMzm9ZuL7qdi6CIiIiLVVfPgFLASCAKDeesHgbUlnuOPgQ7gzgq2q+rpfAAPH3iYgdGBklL6wE9B
WOg3xSIiIvNQF+N1yksxODFIe2ThM4j79vdx0dqL5pyNrGLoIiIiItUVqnUDFsrM3g78GfBG59yR
ufa/9dZb6enpmbbupptu4qabbpq2bjHS+QC279nOqT2ncsn6S+bcN56KEwlGFlz8VURE6se2bdvY
tm3btHUjIyM1ak31VGq8vu7N1zGRmGBVx6oFtSflpXjowEO856L3zLlvIp2gM9KpYugiIkvYUhmv
RWqlHoJTR4A0sCZv/RrgcLEDzextwD8BNzjnvl/Ki912221cfPHFRffJTefrbest5bTzMhof5b5n
7uPmS28uqaBrNBWlI9yhb25FRJpIoS9IHn30UTZvLp5qVgN1MV4/c+wZAhYgYAub/P2zoZ8xnhgv
uRj6us51C3o9ERFpbA00Xos0pJqn9TnnksAu4NrsukxNimuBvtmOM7ObgP8DvM059+1Ktmkx0vkA
7nnqHpJekjef8+aS9o+n4yxrXbagOxOJiIjMRz2M19FklKOTR+mMdC7kNAD07++nI9zB+WvOL2l/
FUMXERERqZ56mDkF8CngC2a2C3gI/25A7cAXAMzsY8B659w7M8/fntn2PuBhM8t+ixt1zo0upCGL
lc4HsGPPDq469SrWdOZ/CT2T5zxw0Nmy8A/kIiIi81TT8XokPkI8Fa/IrOa+gT4uO+UyQoHiH4VU
DF1ERESk+mo+cwrAOXcn8EfAXwCPARcA1znnhjO7rAU25hzy2/hFWf8BOJiz3L6QdizG3fmy9h7Z
y8+GflZyIfRYKkZrqHXOoq0iIiLVUsvx2nMeQxNDtIYXntoeTUZ57NBjbN24dc59VQxdREREpPrq
ZeYUzrnPAp+dZdu78p6/vBptyKbzLbTIaim2797OyvaVXHXqVSXtH0vFWNa6bMG3zRYREVmIWo3X
Y/ExRuOjFUm533VoF0kvWVJwKpFO0B5qVzF0ERERkSqqi5lT9WAx0/kS6QTfePIbvOnsN5X8YTeR
TtDbWr3i7CIiIvXsWPQYzrk50/BK0TfQx6r2VWzq3TTnvvFUnJ7Wnjn3ExEREZH5U3CKxU3nA/ju
L77LifgJrj/v+pL2T3kpghZUSp+IiCxJ8VScI5NHKlIIHWDn/p1s2bil5BuMqBi6iIiISHUpOMXi
3Z0va/vu7Vy09qKSvrEFP6WvLdym4JSIiCxJI/ERYqlYRcbB49Hj7B7ezZYNW+bcV8XQRURERBbH
kg9OLWY6H8CB0QP0DfSVXAgdYDI5SW9r76K0T0REpJ445xieGCYcDJc806mYBw88iMOVFJxSMXQR
ERGRxbGkg1OLnc4H8LW9X6Mt3MZrznxNycd4nkdXS1cVWyUiIlKfxhPjjMRGKpbS1zfQx2nLTmNd
17o5902kE7QGW1UMXURERKTKlnRwarHT+Tzncdeeu3jtC19bcjAskU7QEmpRSp+IiCxJx2PHSbt0
xe5Wu3P/zpLu0gcqhi4iIiKyWJZscGqx0/kA+gf6OTB2gBvOLT2lL5qM0hZuoy2kYqwiIrK0JNNJ
jkweqdjs5gOjB/jlyC9LSukDcDil9ImIiIgsgiUZnKpFOh/A9j3bOaP3DF6y9iUlHxNLxVjeurwi
dTZEREQayUh8hInEBB3hyozV/fv7MYzLT7l8zn3TXpqgBRWcEhEREVkESzI4tdjpfODfHeg/nv0P
bjj3hpIDTc45gEUNoImIiNQD5xxHJo8QCoQq9gVN/0A/L1r9opJS9VQMXURERGTxLLng1ERiYtHT
+QDueeoeHI43n/Pmko+JpWK0hloVnBIRkSUnlopxInqiYoXQnXP07+9n64bS6k2pGLqIiIjI4lly
wanBicFFT+dzzrF9z3ZeftrLWdG+ouTjoqkonZHOihWBFRERaRRj8bGpm4JUwlNHn+Jo9ChbNpZW
b0rF0EVEREQWz5ILTp2InVjUdD6Anw//nL1H9nLDeaUXQge/EGxvW2+VWiUiIlK/RuIjtIYrl1LX
v7+fSDDCxesuLml/FUMXERERWTxLLjgFLGo6H8D23dtZ3bGal73gZSUfk/JSBCxQsSKwIiIijcQ5
R8Aq9zGlf6Cfi9ddXFLAScXQRURERBbXkgxOLaZYKsY9T93DW855C6FAqKzj2sJttIfbq9g6ERGR
5pdMJ3no4EMl15tSMXQRERGRxaXgVJV959nvMJYY4/pzry/ruGgyyrKWZYs+y0tERKTZPDH0BJPJ
yZLrTakYuoiIiMjiUnCqyrbv3s5l6y/j1GWnlnWc5zy6W7ur1CoREZGlo3+gn65IFy9a9aKS9o+n
4hqDRURERBaRglNV9PzI8zx44EGuP6+8WVOJdIJwIKyUPhERkQro39/P5RsuL3k2ssPRFmqrcqtE
REREJEvBqSrasWcHnZFOrtt0XVnHRZNR2iPt+mAsIiKyQBOJCR4//HjJ9aZUDF1ERERk8Sk4VSVp
L83X9nyN15/1etrC5QWZYqkYva29mFmVWiciIrI0PHLoEVJequR6UyqGLiIiIrL4FJyqkh89/yMG
JwbLLoTunAOgM9JZjWaJiIgsKf0D/azpWMPpy04vaX8VQxcRERFZfApOVcmOPTs4a8VZnL/6/LKO
i6VitIZaVW9KRESkAvr397N149aSZyOrGLqIiIjI4lNwqgqORY9x/777ueG8G8pOzYumonRGOmkJ
tVSpdSIiIkvD0cmj7D2ylys2XFHWcar5KCIiIrK4FJyqgn/f++8AvPGsN5Z9bCKVoLett9JNEhER
WXIePPAgAFs2lFZvKu2lCVhA9aZEREREFpmCUxXmnGP7nu284oxXlB1kSntpgoGgUvpEREQqoG+g
j029m1jTuaak/ePpOJFgRLOXRURERBaZglMV9pPBn/DMsWe44bwbyj42morSFm5TcEpERKQCsvWm
SpVIJ2gLtREJRqrYKhERERHJp+BUhW3fvZ11netKTiHIFU1G6WnpIRQIVaFlIiIiS8fAyAD7R/eX
VW9KxdBFREREakPBqQqaTE7yzae/yVvPfSvBQLDs4z3n0d2iD8UiIiIL1b+/n4AFuPyUy8s6TsXQ
RURERBafglMV9O1nvk00GeWt57617GMT6QThQFgpfSIiIhXQN9DH+avPp6ulq6T9VQxdREREpHYU
nKqg7bu3s2XjFjZ0byj72GhS9aZEREQqwXMeO/fvZMvG0lPsE+mEiqGLiIiI1IiCUxXyi+O/YNeh
XdxwbvmF0AFiqRjL25ZjZhVumYiIyNLy5JEnOR47Xlb9x3g6rmLoIiIiIjWi4FSF7Nizg56WHl5x
xivKPtY5B0BHpKPSzRIREVly+vf30xpq5aK1F5V8jIqhi4iIiNSOglMVkEwnuXvv3bzhrDfMKx0g
lorREmqhI6zglIiIyEL1DfSxed3mssdkFUMXERERqQ0Fpyrggecf4MjkEW44b34pfdFUlM5Ip+pc
iIiILFAineCRg4+UVW9KxdBFREREakvBqQrYvns7L1r1Is5dde68jk+mk/S29la4VSIiIkvPTw7/
hGgqWla9KRVDFxEREaktBacWaGhiiP987j+5/rzr53V82ktjZqo3JSIiUgH9+/tZ1rKMc1eW/oWR
iqGLiIiI1JaCUwt09967CQVCvOGsN8zr+GgqSluojfZwe4VbJiIisvT0DfRx+YbLCQaCJR+jYugi
IiIitaXg1AI459ixZwev2vQqulvm96E2lorR09pDKBCqcOtERESWlvHEOE8MPlFWvaksFUMXERER
qZ26CU6Z2c1mts/Moma208wunWP/q81sl5nFzOwpM3vnYrU1a9ehXTx34rl5p/QBpLwUPS09FWyV
iIhI9dTzeP3wgYdJuzRbN2wt+RgVQxcRERGpvboITpnZrwGfBD4CXAT8BLjPzFbOsv9pwD3A94AL
gU8D/2xmr1yM9mbt2L2DDd0buPyUy+d1fCKdIBwIK6VPREQaQr2P1337+1jftZ4X9Lyg5GNUDF1E
RESk9uoiOAXcCvyjc+7fnHN7gd8DJoF3z7L/fwV+4Zz7gHPuSefcPwDbM+dZFOOJce595l6uP/d6
Aja/tzGWitEebqctrFQCERFpCHU9Xu8c2MmWDVsws5KPUTF0ERERkdqrf5/moQAAIABJREFUeXDK
zMLAZvxvVQFwzjngu8BsRSOuyGzPdV+R/SvuW09/i3g6zlvPfeu8zxFNRult6513cEtERGSx1Pt4
PTwxzFPHnmLLhvJOHU/F6WrpqnRzRERERKQM9RAVWQkEgcG89YPA2lmOWTvL/t1mtijz8rfv3s7L
XvAy1nbO1sTi/M/z0BnprGSzREREqqWux+ud+3cCzKsYutLrRURERGqrHoJTDefpo0/zk8GfcMO5
N8z7HPF0nJZQiz4Qi4iIVEDf/j7OWn4WK9sLlr8qSMXQRUREROpDqNYNAI4AaWBN3vo1wOFZjjk8
y/6jzrl4sRf7+7/4e77S+5Vp617/1tfz+utfX3KDd+zZQW9rLy8//eUlH5NvMjlJd0u3PhCLiCxx
27ZtY9u2bdPWjYyM1Kg1RS3qeP23H/lbOro6CAVOflSZbbx2ztE/0M+rNr2qeA/yqBi6iIiUqoHG
a5GGVPPglHMuaWa7gGuBrwOYX8n0WuDvZjmsH3hN3rpXZdYX9fsf/n2uvOLKebc3kU5w9967edPZ
b1pQ8dRkOklva++8jxcRkeZw0003cdNNN01b9+ijj7J58+YataiwxR6v//jP/5gzX3wm3S3dc7bt
lyO/5ND4ofLrTaXjtIfaVQxdRETm1CjjtUijqpe0vk8Bv21mv2Fm5wCfB9qBLwCY2cfM7Is5+38e
OMPM/trMzjaz9wI3ZM5TVd/f932Ox45zw3nzT+lLe2nMTCl9IiLSaOpyvO7f30/Qglx6yqVlHZdI
J1QMXURERKQO1HzmFIBz7k4zWwn8Bf50/8eB65xzw5ld1gIbc/Z/zsxeB9wGvA/YD7zHOZd/R6CK
275nOxeuuZAXrnjhvM8RS8VoC7XREemoYMtERESqq17H6/6Bfi5Yc0HZNxlxzumLIhEREZE6UBfB
KQDn3GeBz86y7V0F1j2Af0vrRXN4/DA/ev5H/PnVf76g80RTUVa1r5pWR0NERKQR1Nt4nfbSPLj/
Qd5xwTvKPk7F0EVERETqQ72k9TWEu/bcRUuwhde+8LULOk/aS9PT2lOhVomIiCxde47s4UT8RNn1
plQMXURERKR+KDhVIs953LXnLl595qvLThvIlUwnCQVCdIQrl9KXf9eIZqK+NSb1rTE1a9+atV/i
69/fT1uojQvXXljWcfF0nLZQ26IXQ2/mn0f1rfE0a79AfWtUzdw3ESlOwakSPXTgIQZGBxZUCB38
lL62cBtt4bYKtay5f4mrb41JfWtMzdq3Zu2X+PoH+rlk/SVlB5lqVQy9mX8e1bfG06z9AvWtUTVz
30SkOAWnSrR993ZOW3Yam9ctrGxGLBmjt7WXgOmtFxERWYh4Ks6uQ7vYunFr2ceqGLqIiIhI/VCE
pASj8VG+8+x3uP7c6zGzeZ/HOYfD6bbVIiIiFfDY4ceIpWJl15tSMXQRERGR+qLgVAm+8dQ3SHkp
3nLOWxZ0nng6TiQY0Te1IiIiFdC/v5/e1l7OXnl2WcepGLqIiIhIfQnVugGLqBXgl8/8kp+3/bys
A7/8nS9zcfvFDD0zxBBD827AaHyU9nA74aHwvM9RyMjICI8++mhFz1kv1LfGpL41pmbtWyP2a8+e
PdmHS3FqTyvAvqf3kXKpojcQ+d6Pv8e57eey54k9s+5TyFhijNZgK8HB4MJaOg+N+PNYKvWt8TRr
v0B9a1SN1rclPl6LVJQ552rdhkVhZm8H7qh1O0RERMrwDufcV2rdiMWk8VpERBrQkhuvRSptKQWn
VgDXAc8Bsdq2RkREpKhW4DTgPufc0Rq3ZVFpvBYRkQayZMdrkUpbMsEpERERERERERGpPyqILiIi
IiIiIiIiNaPglIiIiIiIiIiI1IyCUyIiIiIiIiIiUjMKTomIiIiIiIiISM0sieCUmd1sZvvMLGpm
O83s0lq3qVxm9hEz8/KW3Xn7/IWZHTSzSTP7DzM7s1btLcbMfsXMvm5mBzL9eGOBfYr2xcxazOwf
zOyImY2Z2XYzW714vZhprn6Z2b8WuIbfytun7vqVadefmtlDZjZqZoNm9jUzO6vAfg113UrpV6Ne
NzP7PTP7iZmNZJY+M3t13j4Ndb1y2lW0b416zcTX6GO2xuuG+T3SlGN2s47XmTZpzG6wa5Zpl8Zs
ESlJ0wenzOzXgE8CHwEuAn4C3GdmK2vasPn5GbAGWJtZXpbdYGZ/Avw+8DvAZcAEfj8jNWjnXDqA
x4H3AjNuF1liX24HXgdcD1wJrAd2VLfZcyrar4x7mX4Nb8rbXo/9AvgV4DPA5cArgDDwHTNry+7Q
oNdtzn5lNOJ1GwD+BLgY2AzcD/y7mZ0LDXu9sor2LaMRr9mS10Rjtsbrk+r1/1qzjtnNOl6DxuxG
vGagMVtESuWca+oF2Al8Oue5AfuBD9S6bWX24yPAo0W2HwRuzXneDUSBG2vd9jn65QFvLKcvmedx
4C05+5ydOddlte5TkX79K3BXkWPqvl857VqZadfLmuy6FepXM123o8C7muV6Felb01yzpbY0w5it
8brxfo8085jdrON1kb41xXXLtEtjdgP2TYsWLfNfmnrmlJmF8SP038uuc8454LvAllq1awFemJl+
/qyZfdnMNgKY2en43zLk9nMUeJAG62eJfbkECOXt8yTwPPXf36szU9H3mtlnzWx5zrbNNE6/luF/
03wMmuq6TetXjoa+bmYWMLO3Ae1AXxNdrxl9y9nU0NdsKWqyMVvjta8hfo8U0Qy/R5p1vAaN2Q13
zTRmi0gxoVo3oMpWAkFgMG/9IH7EvZHsBH4TeBJYB3wUeMDMXow/YDkK93Pt4jWxIkrpyxogkRmY
Z9unHt2LPwV5H7AJ+BjwLTPbkvkDbC0N0C8zM/zp1T9yzmXrqDT8dZulX9DA1y3z+6EfaAXG8L91
fNLMttD416tg3zKbG/aaLXHNMmZrvG6Q3yNzaPjfI806XoPG7IyGuWYas0WkFM0enGoazrn7cp7+
zMweAn4J3AjsrU2rpBzOuTtznv7czH4KPAtcDXy/Jo2an88C5wEvrXVDKqxgvxr8uu0FLgR6gBuA
fzOzK2vbpIop2Dfn3N4Gv2bS4DReN4cm+T3SrOM1aMxuNBqzRWROTZ3WBxwB0vjfJuRaAxxe/OZU
jnNuBHgKOBO/L0Zz9LOUvhwGImbWXWSfuuec24f/M5q920rd98vM/h54LXC1c+5QzqaGvm5F+jVD
I10351zKOfcL59xjzrkP4heX/kMa/HpB0b4V2rdhrtkS15Rjtsbr5vi/1mi/R5p1vAaN2Tka5ppp
zBaRUjR1cMo5lwR2Addm12WmAV/L9DznhmNmnfi/tA9mfokfZno/u/HvZtJQ/SyxL7uAVN4+ZwMv
wJ8y3BDMbAOwAsh+sKrrfmU+DL4JeLlz7vncbY183Yr1a5b9G+q65QkALY18vYoIAC2FNjT4NVsy
mnXM1njdHP/XGun3SLOO15l2aMymsa7ZLDRmi8hMla6wXm8L/jT6SeA3gHOAf8S/Q8SqWretzH78
Lf6tU08FtgL/gZ9rvSKz/QOZfr0BOB+4G3gaiNS67QX60oE/tfcl+HfauCXzfGOpfcGfzr0Pf8rv
ZuDHwA/rtV+ZbX+D/0HiVPwB9hFgDxCu537ltOs4/m2c1+QsrTn7NNx1m6tfjXzdgL/K9OtU4MX4
NRxSwDWNer1K6VsjXzMtzTFmo/G6UX6PNOWYTZOO16X0rcGvm8bsBrtmWrRoqfxS8wYsSifhvcBz
+Ldc7QcuqXWb5tGHbfi3047i353iK8Dpeft8FP9Ws5PAfcCZtW73LH25Cv+DYDpv+ZdS+4L/bctn
8Kf9jgH/D1hdr/3CLwD5bfxvvmLAL4DPkfcHVz32K9OuQv1KA79Rzs9gvfVvrn418nUD/jnT3mim
/d8h8yG3Ua9XKX1r5GumZeraNPSYjcbrRvk90pRj9ix9avjxupS+Nfh105jdYNdMixYtlV/MOYeI
iIiIiIiIiEgtNHXNKRERERERERERqW8KTomIiIiIiIiISM0oOCUiIiIiIiIiIjWj4JSIiIiIiIiI
iNSMglMiIiIiIiIiIlIzCk6JiIiIiIiIiEjNKDglIiIiIiIiIiI1o+CUiIiIiIiIiIjUjIJTIiIi
IiIiIiJSMwpOiVSJmZ1qZp6ZXVDrtmSZ2dlm1m9mUTN7tAavf8jMfqeM/a8zs7SZRarZrkows4+Z
WV+t2yEiIuXTmF3w9TVmi4jIolFwSpqWmX0h80HzA3nr32Rm3iI1wy3S65Tqz4Fx4IXAtfkbM+9X
OvNv/pI2sw8v8PVfDHyxjP2/B6xzziUW+LpFZT5Q5/b9kJn9XzN7QRmn+Z/Aa8t83bI++IuINCuN
2QVpzC5AY7aISHNScEqamQOiwJ+YWU+BbYvBKn5Cs/ACDt8E/Mg5t985d7zA9rXAusy/twAjwJqc
9Z+YpU3BUl7cOXfUORcvtbHOuZRzbqjU/RfIAafi9/PXgIuBr5V8sHOTzrkTVWqbiEiz05g9k8bs
Ii+HxmwRkaai4JQ0u+8Ch4H/MdsOZvYRM3ssb90fmtm+nOf/amZfM7M/NbPDZnbczD5kZkEz+xsz
O2pmA2b2mwVe4lwz+3FmWv5PzezKvNd6sZl9y8zGMuf+NzNbkbP9+2b2GTO7zcyGgW/P0g8zsw9n
2hEzs8fM7Lqc7R7+h7ePzPaNqnNuKLvgf8h1zrnhnPWTOd9YvjLzGnFgcyb94BtmNmhmo5lUhKvy
2jj1raOZtWTO8xuZ4ybMbK+ZvTpn/+xrRTLPfzdzjtdl9h3NHJv7foXN7HNmNpJpy0fMbJuZfaXQ
+5ZnyDk36Jx7APhfwEvMbGPmvKeb2T1mNp65/nfkve7HzKw/5/m2zJL9mRnKXEPLbO/H/yPic5k+
TmbWn2Fm38y8xriZ/cTMrimh7SIijU5j9sntGrPnpjFbRKSJKDglzS6N/yH3D8xsfZH9Cn0rm7/u
Gvxv6H4FuBX4C+Ae4BhwGfB54B8LvM7fAH8LvAToB75hZr0A5n87/D1gF/6H0OuA1cCdeef4DSAO
bAV+b5Y+3JJp1/uB84H7gK+b2abM9rXAbvxvUmf9RrUMf5V5zXOBvUAn/reWV2X68p/4fV0zx3k+
Cvxrps3fB75iZp052/OvwzLgZvxvSq8GzgY+nrP9w8BbgJuAK4GNwGvK6pkv+21xxMwC+Ne6Ff8a
vBp4EfClvGPy2/pq/Ov5K8Bv4V+7t2e2vRYYBj6Af21Ozaz/J/yf263478kH8WcTiIg0O43ZGrM1
ZouILFXOOS1amnLB//B0V+ZxH/C/M4/fBKRz9vsI8GjesX8I/CLvXL/I22cP8IOc5wFgDLgx8/xU
wAP+KGefIPB8dh3+h5h78867IXPcmZnn3wceKaG/+4E/yVv3IPCZnOePAR8u8f17J3CswPrr8D+I
vaKEczwNvDvn+SHgdzKPWzL9/O8523sz667Me61I5vnvZp6vzTnm1rxrdQz4rznPQ8AB4CtF2pl9
nZaca/AQ8Cx+mscb8D9srso55qJMW1+Uef4xoC9n+zZgb97r/DvwL4Xej5x1TwJ/XOv/P1q0aNGy
mIvGbI3Zmecas7Vo0aJliS6aOSVLxZ8A7zSzsxdwjp/nPR8Efpp94pzzgKP437rl2pmzTxp4BP+b
S4ALgWsy6QFjZjaG/wHa4deayNpVrGFm1gWsx/9An+vHOa9VadPaZGbdZna7me3JTG8fA04D5ipQ
mvseHgcSzHwPcx1zzh3OeX4ou7+Zrcb/lvbhnHOmgMfn7g4GDJvZOPDLzLrrnXMOOAf/w/Rwznkf
w//wW+z9/Wne86m2FnE78L/M7IFMysd5JbRdRKSZaMyuPI3ZGrNFROqaglOyJDjnfog/Zf7jBTZ7
zCyCWqiAaTL/tLOsK+f/VSfwdeAC/A+92eWFwAM5+02Ucc7Fkt+mv8P/NvMDwMvw+/E0MNctpct9
Dxf6ns/GAZfiT8vvcs5d5pwr5QNyMWW31Tn3Ofw/cr6Cn2rxqJn91gLbISLSMDRmV4XG7LlpzBYR
qSEFp2Qp+VP8qd5b8tYP49cPyHVRBV/3iuwD8++Qsxm/jgTAo/h1EH7pnPtF3lJyzQLn3BhwEHhp
3qaX5rxWtW0F/tk59w3n3M/xp+pvXKTXBvzisMAJ/A+sAJhZCL92SCn2Oef2Oecm89bvAc7IfMub
Pe/F+PUs8r+dL0cCP21kGufcgHPu8865NwOfxa99ISKylGjMri6N2eXTmC0iUkUKTsmS4Zz7GXAH
8L68TT8AVpnZBzJ3XbkZvyhmpdxsZm/OpCd8Fn8K+79mtv0DsBz4qpldknn968zsX7J3iCnD3+Lf
gvtGMzvLzD6O/03opyvVkTk8DfyqmZ1vZhfhv9fpRXrtXH+Pf3ej1+a85+0s7Fbk38KvZXGHmV1o
ZluAfwG+7Zzbs4DzPgdcbWbrzGw5gPl3eXqFmZ1mZpfgF4hdrD9WRETqgsbsqtOYXb7n0JgtIlI1
Ck7JUvNh/J/7qQ89zrm9wHszy+PAJfgfGudSyt2CHPDfM8vj+N9UvsE5dyzz2ofwvykN4KcwPAF8
CjieqZsw2+sU8neZYz+ROc+rMq/17BxtrpT34ddz6Ad2AHcx8wNaofcn30Lb+D8zr/0V4If4tyV/
AIjN94SZ2iSvz5zjR/gffH8K/PoC2/pB/PoX+/CL44KfnvJ5/PfuG/g/N7cs8HVERBqRxuzq0Zhd
Po3ZIiJVZCfHUhGR5pO5pfQz+Hd++lit2yMiIiKFacwWEVm6QrVugIhIJZnZGcBV+N/AtuPftnot
8NVatktERESm05gtIiJZSusTkWbjgN/Gv/33fwJnAC93zu2raatEREQkn8ZsEREBlNYnIiIiIiLy
/9m78zg56jpv4J9v9Tndc+aYSQIRMllRYIE1ERcEEbMgqIhAIIq6667P86wHqwKLrmIeYV2X3VUI
cV0UdVUUkmAwIqwHEciyKA+sGlwORY4ESMg5yZx9d1f9nj+qf9XVNdU9R3qmj/m8edWruququ6uG
yVT1p36/74+IiOqILaeIiIiIiIiIiKhuGE4REREREREREVHdMJwiIiIiIiIiIqK6YThFRERERERE
RER1w3CKiIiIiIiIiIjqhuEUERERERERERHVDcMpIiIiIiIiIiKqG4ZTRERERERERERUNwyniIiI
iIiIiIiobhhOERERERERERFR3TCcIiIiIiIiIiKiumE4RUREREREREREdcNwioiIiIiIiIiI6obh
FBERERERERER1Q3DKSIqIyIvici36/TZx4iIJSJX1+PziYiIGhHPzURE1OoYThGRl5rpDxCRt4nI
dTP9ObUgIr0i8nUReUVE0iLyooj8e733i4iI5hSem4tE5CMisllEXi6GZhVDOxHpEpFviMhBEUmI
yDYRed1s7i8REU0Owykiqoe3A/hcvXdiIiJyNIDfADgPwNcAfATANwEsqOd+ERERzYCmODcD+BSA
twB4GkC+0kYiIgB+CuA9AP4VwCcBLATwkIgsn4X9JCKiKQjWeweIaE6Seu/AJH0DQA7A65VSw/Xe
GSIiohnULOfms5RSuwFARMaqbHcZgNMBrFZK3V3c/i4AzwH4ewDvn+kdJSKiyWPLKaIaEJHri03L
Xy0id4jIcLEJ+eeL65eKyI9EZERE9nnrNohISEQ+LyK/Kb42ISIPi8jZPp9jishbPMu/ISJZETlp
ivu9VkR2i0hSRB4UkRMqbNclIutFZJeIZETkeRH5VPGupN7GqUkhIlcW62OkROQhETnRtd13AHy0
+NgqTqbPZ/4fEXmh+Hm/EpHXT+XYjpSIvAbA+QC+qJQaFpGIiDDQJyJqEjw3t965GQB0MDUJqwHs
18FU8bWHAGwG8C4RCc3E/hER0fTwixZRbehaEN8H8HsAfwfgHQA+KyKDAD4E4EHYTdHfB+BLIvIr
pdQvi6/rBPBBAJtgt9bpAPC/ANwnIm9QSj1Z3O4LAN4J4FsicpJSKiki5wH43wA+q5R6arI7LCL/
AOCzAH4M4GcAVgD4OYCQZ7s2AA8DWAzgVgC7AbwRwD8BWATAWyD1AwDaAfwbgCiATwB4sLi/A8X3
WALgnOLPwu9O7fuK73Er7J/t3wHYIiL9SqlxF8uufRUA8yb3E8CIUqpQZf05xc8eEJEHYXchMEXk
fgAfUUq9PMnPISKi+uC5uaRVzs1T8ToAj/ss/xWA/wPgOAC/q9FnERHRkVJKceLE6QgnANcBsAB8
1bXMALALQAHANa7lXQCSAL7tWiYAgp737ASwD8A3PctPBJAB8PXie70C4DEAxhT2d0HxPe7xLP9C
8Tjc+7YWwCiAfs+2N8Du8nZU8fkxxdcmACxybXdqcfmNrmVfAWD67Jd+j4MAOl3L3wnABPD2CY5L
v36iyYTdLaDae60vbjsA4CcALoV9sT8Ku0tAtN6/d5w4ceLEqfLEc3PrnZt93nvM/XPxWfdNn+Vv
K37WufX+HeXEiRMnTqWJLaeIakcB+JbzRClLRH4D4F0Avu1aPiIizwLody1TsC+U9R3GbgAB2MW4
V5R9iFK/E3s0nX8CcArsu5F/ppSyprCv58C+C/sVz/L1AK71LLsUwC8AjIjIfNfyBwF8GsBZsO8q
a3crpfa79vfXIvLfsAutXjPJ/btTKTXqev4L2F8S+itsr+2HfWyT8cQE69uL871KqXfohSKyB/bx
vheu/69ERNSQeG62tcq5eSraAGR9lmdg73dbDT+LiIiOEMMpotra5Xk+AiCjlBr0WV7WxF1EPgC7
Zc5rUd58f6fP53wJ9ugzpwK4Vin17BT385ji/AX3QqXUIREZ8mz7agAnwW5B5KUA9HqWveCz3XOw
C5NOVlk9CWXXfAKAnmovUkplAWybwudUk4Z9fHd5lt8F4HbY3ScYThERNT6em1vn3DwVaQARn+VR
2D+j9OzuDhERVcNwiqi2/GouVKrD4C5Y+n4A3wHwQwBfhN103oR9p9TvjuRy2BemgH1xOpMMAPcD
+Bf416B4bgY+c8Kfme9KEQP2MNGTMaiUqjgENYC9xfkB98LiXffDmOBinIiIGgbPzbXRCOfmqdgH
uyaXl16212cdERHVCcMposawGsAOpdSl7oV6RCHPMgFwG+w7vDfDLuz6A6XUj6bwebqY96sBvOR6
7wUYH7rsANCulPrPSb73q32WHef+HJSK1NbaUgAvTmI7BbvA+cNVttkO+4L7KPfC4ug+C+B/t5qI
iFoHz821Uctz81T8D4AzfZafBiCFmQnwiIhomhhOETUGv+Ga/xTA6ShdrGp/C/vC6p2wR/J5C4Cv
icjDPl0UKnkAdh2Nj8G+86pd5bPtZgDXichblVI/9+xjF4CEKh+l5yIRWaKU2lvc5g0A/hTAOtc2
yeK6Tk/9iiNVy7oWD8G+S/4+EblBKZUrLv8r2Hesf17phURE1BJ4bq6NetWc+gGA1SJyiVLqh4AT
9F0K4N4attAiIqIaYDhF1Bh+DOASEfkR7JHh+mEPcf07lApzQ0SOB/B5AN9RSv20uOwvYd8d/BqA
d0/mw4r1K24E8GkR+TGAn8Iecvl8jG8R9CUAFwL4sYjcBrtFURzAyQAuAXAsAPeF9wsAfikiX0Np
uOqB4vtoulXSV0RkK+zRgb4/mX2f4LhqVtdCKZUTkU/CvhP+CxG5HXY9kI/Dvqt7dy0+h4iIGhbP
zQ12bgYAEbkAdtF5gV0H7BQR+Wxx9T1KqaeLj38A4EoA3xGREwEcAvBR2DeYrq/V/hARUW0wnCKa
eZWayTvLlVK3iUgf7IvetwL4PYD3AVgD4M2AU7PhNtitea5yvfYFEfkMgPUicqlS6geT2imlPisi
aQAfBnA27CGv3wr7Aty9b2kROQt2jY3LAPw57OGrnwPwOdhdGNy+B3tI6CthF2T9bwAfU0q5azf9
EMC/wi4c+z7YF5j6AljB/2dWafmMUUrdLiJZ2CMffRHAMOwvGp8tjuJERETNiefmJj03w+5u+Reu
539SnAC7aPvTgFMj8m2wA7iPwR6d71cA/kIp9fzs7S4REU2G8PsVEdWCiBwDu6bENUqpdRNtT0RE
RDOL52YiImoWRr13gIiIiIiIiIiI5i526yNqMcVin4Eqm+SUUkOztT9ERERzHc/NRERE1TGcImo9
v4ZduLuShwCsmqHPrkftCSIiokbHczMREVEVrDlF1GJE5HTYRT8rGVJK/Xa29oeIiGiu47mZiIio
ujkTTonIfADnAXgJQKa+e0NERFRVFPZQ8FuVUofrvC+ziudrIiJqInP2fE1Ua3OpW995ADbUeyeI
iIim4H0ANtZ7J2YZz9dERNRs5uL5mqim5lI49RIA3HHHHTj++OPrvCu1ddVVV+Hmm2+u927MCB5b
c+KxNadWPbZmPK5nnnkG73//+4HiuWuOeQlozfM10Jy/j5PFY2s+rXpcAI+tWTXbsc3x8zVRTc2l
cCoDAMcffzxWrFhR732pqa6urpY7Jo3H1px4bM2pVY+tyY9rLnZra9nzNdD0v49V8diaT6seF8Bj
a1ZNfGxz8XxNVFNGvXeAiIiIiIiIiIjmLoZTRERERERERERUNwyniIiIiIiIiIiobhoinBKRN4nI
vSKyR0QsEblwEq85W0S2i0hGRJ4TkQ/Mxr42ossvv7zeuzBjeGzNicfWnFr12Fr1uOqB5+sj18q/
jzy25tOqxwXw2JpVKx8bEVUnSql67wNE5HwAbwSwHcAPAVyslLq3yvbHAngawFcBfAvAOQDWA3i7
Uur+Cq9ZAWD7b37zG6xcubKm+09ERFRLjz/+uD5XrVRKPV7v/dF4vj5ySimISL13g4iIaqBRz9dE
zaghRutTSt0H4D4AkMldsX0EwE6l1KeKz58VkTMBXAXA92JXu/ptb0MoHscZ73wnrvnHf0RHR8eR
7DoREdGcwfP19IyNjeHGz34Wj/zHfyCezyMZCrXEcWmtGLi14jGLN7RPAAAgAElEQVQRERE1sobo
1jcNpwF4wLNsK4DTJ3rhzQMDuP+ll3D6Lbdg9emnY2xsbEZ2kIiIiHi+Hhsbw+rTT8fpt9yC+196
Cffs2dMyx3Xdxz+Oc5Ytw0VLl+KcZctw3cc/3rTHA7TmMXk1Qo+JWmvFYyIimouaNZxaBOCAZ9kB
AJ0iEpnoxQLgfMvCVc88g5vWrp2J/ZtVPCkTEVGDmvPn6xs/+1lc/cwzON+yoNvhNPtxtWLg1orH
pLVi6NaKx+TGa3simosaoltfvZxvWVi3eTPw3vcC7e1APF6aR6NAAzfnbvUuAkRERNr5loV13/se
0Nc39RfX6lw+zfd55Pbbcb1l+a4737Kw7o47gGXL7Pc3DHvufjzZZZXWT3a7KXz2jTfd5ARuzo+n
eDzqmWdw08c/juuvvx4IBEqTYZQ/dy/T711H7hBRKzumtWtx/Ze/XL8dnCYdul39zDO4vhiQKgBb
b7kFq7dtw5ZHH22668ZWPCZgblzbs7ssEVXTrOHUfgDeK9Q+AKNKqWy1F14FoMv1/Kn9+7HxtNPw
Xu+GhgHEYuOneLzyXE9+z9vbS++hL/SA6nPvsuLjsbExrD7nHFz97LPjT8oPPogtjzyCjq6uul/o
ERHRxDZt2oRNmzaVLRsZGanT3tRc7c7Xw8PYeMMNeG9kwgZXUzODLRSUUoiPjKDS2VgAxAYHoT7z
GfsLm1KAZdlz91Qh3KqXRwBcX2Hd+ZaFdbfdBtx229Te1DBKkw6s3M8DAfu6xh1sudd5X+sXiPm9
pjh/5IEHqoeI3/mO/fnBYGkKBIBQaPzcvU0wWHmdd7l7vXeZe+4O89zXiz5aMXRrxWNq1cANaK3Q
ze98PTw8XKe9IWo9DTFan5uIWAAummD0n38G8Dal1CmuZRsBdCul3l7hNSsAbN8OYEVxmQJw7qJF
eODf/x0YHbWnRAJIJoFUqjTXUzptzzMZ+3EmU3qczdrziX6eIkBbm90yq62tfJrMslgM1917L05/
6CGc7/NZPzMM/PeaNbj+U5+yL3j8LoLcF3x+F4HeiSEXEdGsaobRf2b9fH300Xjgl78s37jBrmH8
nPOmN+H+V17xDagUgHOPOgoPPPxw+bHox35zHV7pL+beZTrQMs3ycEtP7vVA+TLv+3hfY1lQloWL
PvpR3DM0VPGY39XdjR99/vMQpYBCofQ+plk+14/dzyst83vdRI+rvd41KdPERb/7He4pFCofk2Hg
R729EPf+eacqr68pd0inQzLv8+L8nF27cH+hUPH3763hMO5fubK8hRxQugbUjyfT0s793P1a9/tV
a81X6XM925/z7W/j/tHRysfU04P7P/c5+7rXPYXD9s8lHC4P+7wBoHu9fo23JaL+/+B9PNXnxcfX
feITOP2WW8oCN+1nhoH//pu/abrADSgP3c5zh26GgXXHH9+0oZs7cMsnk3h4YABo4PM1UbNoiJZT
IhIH8EeAc57pF5FTAAwqpXaLyD8BWKKU+kBx/a0ArhCRfwHwbQB/BuBSAL4XupXcZxg4c80a4B3v
KC2sdtGhp3weyOVKc/dr3KGWDq50eJXNlgItd7Cl56kUcOhQKQjT75NOl901nfCO5Q9/CAwPA11d
pamzs3ze3W2fbPUFr/tiwhtMeUMuPc1gyMVmv0REjaeu5+tLLgGOOaYmxzGbzrj4Ymyt8KXzPsPA
matXA/39ddiz6REAyc98BmpoqGI4kOzqgnz4w9VDtmrrajWf5DaiFJJvfCNUlRAxuXgx5P77y9/b
r5WbO6gqFCZ+7Le9e53fskrrPUGZKhQQ37sXUiE0EwAxACoUso/bHUoWCpVb8Ont9GP3smpTtVaB
fu/js70yTcQTieqtEYeGoK66quI201Ih/CubV1qnbw57r6Ndyx758Y+rt9z77neBefP8r8f9WuRV
a71XqYWf+7WT7eWh5xXW3fjpT1dv5Xbttbh+/frK79OAvK3cfgtgZb13iqhFNEQ4BeD1AP4T9vlf
AbipuPy7AD4Iu6DqUr2xUuolEXkHgJsBfBzAKwD+l1LKOyKQLwX7gvDm44/Hli98oXylDlJCocnv
/ZEEWu7XeunAR8S+SMhmoTIZxP/8zyGDg767IgBiIlCHD0N27ACGhuzJ7/07OoCeHvtk1909fnIH
Wx0ddtdEfbzuUAvwD7l0sDXJkGsslcKNN9yAR7ZuLTX7veACXHPDDXY3RSIiqrfGOV83iWv+8R+x
ets2KFdR9GY/rjPe+c7qgdu73jW166gGMKkQ8fjjq7/JRMHYkTyexutEKSTf8Aao3bsrh269vZDb
bqseILnft9pU6WdRbT6VbZWyw9E1a6D27698TH19kO9+177m1i338vnxrdz0XIdx7nV6mXudNwj0
Cxq9c/25hYJ9M9pnG5XPI57JVA/cRkagPv95u+XebPDWh5vs5G7JFwzikd/+duLusiMjlcM1v9Zs
3lZt3tZxels9RSLlz/V3j4nCtQrLbvzUp8YFbkRUGw0RTiml/gtVRg5USv2Vz7KHMY2g+qqFCxGO
x3HGhRdiyxe+UJumpNMJtNxN1isFWrmcPRUK9rytDWKaSEYiUEDlk/K8eZBbby0/WSSTdkg1OFgK
rPSkl738MvA//2M/9qt3EgjYoVVPT+XJHWq5W2cpVd710d1VAMBYOo3VH/oQrt61q7yv/a23YvV9
92HLxo3omDfP7uZY6W6PDvKIiGhGNP35ug46Ojqw5dFHcdPatVh3772I5fNIhUJNfVytGLjV5Jga
sNXHGRddVD10u+QSYNmyI/+gI20VN4Vtz7jwQmz993+vfEwXXgisWFH9vd2Pq7XWmkqLMPdnVPs8
zzYCIHnxxdUDt0WLIJs326/1fl9wB2jeoM1v8n738LthroO5Sq9xr/f7PN1yr3h8fgRALJOBeugh
iDvs804zEQJ5b5hP9Ny1rFrgRkRHpiHCqdm07mc/03U86kuHRlNR/IN/xkUXYevXv175pLxqlf0k
lyudNJSya1YtWQIcfXTl+gT6giqftwOqSkGWnvbsKT1Op8fvcyQyPsDSLbVcy278wQ9w9a5d/s1+
X3oJN918M67/xCdKNTR04VjDKG+BFY3anxmNVj7JTPXnXkPsrkhENDkNc76ugY6ODrtezJe/3BLn
gVYM3FrxmIBZDBJnMZi75sYbsfqRRyof00032S3+Z9sRtHo74+KLq1/bv+tdwEknTe59pxvGeR+7
X1sppKty7KIUkhddBLVvX+XQbeFCyIYN1X+uOnDzdo31doX1hmvVusy6n7tbt3nf3/Nc5fNVAzci
OjINVxB9pjgFVrdvxwp9N6VJ6b7OV1U6KT/6KDri8cp/xHM5u2lxNjv+D7Q3+PHrO1+phVI6bde6
qhRk6WXubYp1EM4BcD8qtwZ7ayyG+y+/fHz9rPb28pEQ3XeU3LwBlQ6wdJNgv6lGF1itNEoJEc2O
ZiiIPlNa6Xw9V7RC4ObVSsc0NjaGm9auxSOe0O1vmzh0a7VjmtS1faMd1yTCsOuuugqn33pr5ULv
f/3XuP5f/sU/9JqoC6m7J4Z3EAc9Af4DQlT7DL/jc03nrFmD+12t3B6H0zR4zp2viWqN4VSTqtlJ
2X03wjvpAu66a2Gl0WgqFYmcqIWSUkAiATU4iIve/e7qI/8Eg/jR4sWQsTF7VMVKzWnb20vBlTfE
6ugA4nH7cTxuh1l6eXt7KajSdbJ0KyzdV71SV8IqWnWUEiKaWQynWud8TdRIWil001rlmFotcAMa
NHSbTPhVJcC67pOfxOmubqUMp4hqh+FUC5iVk3K1vuB6JMJsdnxTWje/8Ko4nbNqFe7fs6f6UNvb
ttkLLMuuoTUyYgdVeu59XGmdX3F4wA6rdKilAysdZHV0lCZdT6u72+6iOH++vTwSGRdeXffJT1a/
Y9SkQwN7tcqFIVGjYDjVmudrIqLJaKXrqlYL3byBm2u0vjl3viaqtTlXc6oVzcrJSwdJkUjlbXSX
Or++4Pl8eYiVz9utsoqFDs847TRsvfvuyn3t3/QmO5DSo2eEw0Bvrz3pZd6p0j4mk+MDq0pB1yuv
lC+rMBwz2tpKrbBcIdYjDz1UfZSSH/wA+MhH7NdGIpWPxW/SI41Um2YQuysSERER1V6rBFNA69fc
yyWTwMBAvXeLqCUwnKLaESm1GqpGqXHh1TU33ojVTz8N9fzz45v9LluGLR/96OSGN3aPmOK3f1og
UCrIrtdNJujJZu2Qamxs/KSXF4MttXv3xEMD790Ldfzx9jbBoB1y+U2xWGmuJ+/zWKzUXdH9WHdT
1IGWe9LrJhN0uaaxRAKrzz0XVz/7bPnoirfcgtXbtjV9d8VWuHgiIiIiaiStcm3lDty2b9+O17/+
9fXeJaKWwHCKZp+IXcMpFHIWdXR3Y8uvf+0/Ss4//AM62tsnHjGk2jTRa9zD6Lofe4srBgJ2KNTb
O2FQJkoheeml1YcG7umBfPKTdjF5XeMrnR4/jY0BBw7Yrb5SqdJUqSWX+2etgyx30BWN2o/1fKJA
zL1dNIobb7kFVz/7rP/ois88g5s+9CFcf+215UXoQ6HyMMwvIPMun8WLGLYEIyIiIqKpaJXAjagR
MJyihtEUzX6nGIKd8a53Yes3v1m5u+JFFwFr1thF53X3R9090m/EETcRezs98mI26x9yZTLjQy09
DQ+PX5fJTPhjeATA9RXWnW9ZWHfPPXbXS1egVRZ6uVt/6fXekEqkvEaZuyh9pVCrUtA1we+Su3B9
K7YE0xr23xUREREREc1pDKeoITXsF+gp1nK65ktfwupf/hKq0iglX/6yXZ9K87biqjY3zdJIivm8
U7/LWe8OufS+u7s8uoMc3UrJMOx1OvDSAZcOrpJJqGQS8X/+Z0gi4f8jAhDL5aAeeABSfA1yueo/
qGBwfPdEd+utSi273K273CMx6rBLH5e7BZdPK64b167F1cX/R+7jcFqCXXstrr/55vLuj01iLrQI
Y+hGRERERNTcGE4RzSBv0cSy7op+o5ToICUQmN4HTibUsqxSvS/dYiuXKy3XAU0oZIcx8Xj5LgJI
/tu/QSUSlbsr9vZC7ruvFOaYph1yJZOlllr6sXtyL9ePDx4cv26i1l26+6W3JleFgOuR73+/euH6
u+4C3vMeuzVYMFj+/8ndYss9CqW3cL072Jrqsmlq5RZhrRy6zZVRdImIiIiINIZTRDNsVrsr6mDE
Vc9r0tytriYIt8447zxsvf32yt0VzzwTSCTGd3UMBICuLqCzc/znuwu2A5XDGsOw31O36MpkSsGV
X7jlfT40BOzZ4yxXiQTi6XT1wvUHDkCdeWapcH0kYgdV3ikSsX/2lZa7XxeJVJ6i0dJcT/F4KRzT
YZju4lgh5LrxM5+p3iLs05/G9TfdVArA3POJHtdRK4Zu3rBtX4WwlIiIiIioFTGcIppFDd31SIcc
E422COCar3wFq3/zG//uiq99LbbccosdpniLyrvDKu8yHYoVR3Asa8nlV6geKIU4fkGEuxujN7hx
PRbDQPKCC6D27avcEmzePMi119otzHR9L/fktzyXswvZZzKV109U0N6PDrZ0yOUNvVzrH3nkkeot
wu64w/7Zebs8+j12L3NPeh/ck19oVq1VmDcA81vmejxh6PbJT+L6L35x4p/lZP49TrRNDd5jbGwM
q9/ylrLRL7cD4Ng/RERERDRXMJwioimbcnfFIzWVkMtvvQ6+/CbLwhlvfjO2bt5cuSXYqlXAn/5p
ec2uyXKHM97ARYdxuZw95fN2cJXPl5b5TTrccj/2BGVqbAzxfL56i7DRUagvfhEyE93IvKGWt+6X
DkKrbeO3LBDAIz/5SfXQbdMmu/6Yu7D+ZEaGdHfVrFRs37u+UmH+asX5PWHVjevW+Y5+SUREREQ0
VzCcIqJpmdXuirqr33RrcVWjFK659VasfvJJqD/8YXxLsNe8xi5c394+8WiNfqM3Vpr81uuQyO+9
Ki2vECwJgOSaNVD791duEbZoEWTLFv+Wa9We68m7jXudu7aZHonSu40u5O/3PJ+3u2K61xcKULkc
4pnMxKHbunUzE7odKZ9g65FUCtc34r4SEREREc0ShlNEdMQaurviRETQ0dWFLY89NnstwSqZavjl
DcJ0wFF8fMYFF2Drt79duUXY294GLF7s3/LM2/qsWlDmfq4fVzqeavTvUaXtROzQ7bLLqoduixdD
7rmn1LWzUjCoR7TU++Ye5dL783B3KXU/1wGdd5m3K2qFdco0Ef/qVyuOfklERERENBcwnCIiwiy3
BKukxgXHr1m3DqsffdS/Ntjxx9stwqYSvE3UiqvS8krrprq9Dt3OPx9bv/e96t0w29r8W6R5536P
vZ/tt20l3lpnE2wrAJLf+17F0S+JiIiIiOYChlNERB5N3RLMpea1wRpktL5r/vVfsfrXv64cun3t
a+NDt2pB03Se12LdJMI2IiIiIqK5gOEUEVELa4gWYTU2rdCtQYI1P5XCNiIiIiKiuYLhFBHRHNEK
wZTWSqGbX9i237KAffvqvWtERERERLOC4RQRETW1Zg6mNG/Y9tvf/hYrV66s924REREREc0Ko947
QERERCWtELYREREREU0FwykiIiIiIiIiIqobhlNERERERERERFQ3DKeIiIiIiIiIiKhuGE4RERER
EREREVHdMJwiIiIiIiIiIqK6YThFRERERERERER1w3CKiIiIiIiIiIjqhuEUERERERERERHVDcMp
IiIiIiIiIiKqG4ZTRERERERERERUNwyniIiIiIiIiIiobhhOERERERERERFR3TCcIiIiIiIiIiKi
umE4RUREREREREREdcNwioiIiIiIiIiI6obhFBERERERERER1Q3DKSIiIiIiIiIiqpuGCadE5AoR
eVFE0iLymIicOsH27xOR/xGRpIjsFZFvici82dpfIiKiuYjnayIiIiKqtYYIp0Tk3QBuAnAdgNcB
eALAVhFZUGH7MwB8F8A3AZwA4FIAbwDwjVnZYSIiojmI52siIiIimgkNEU4BuArA15VS31NK/QHA
hwGkAHywwvanAXhRKXWLUuplpdT/A/B12Be8RETUIpRSUErBUhYsZcG0TJiWiYJVcCbTMqGUqveu
zhU8XxMRERFRzQXrvQMiEgKwEsANeplSSonIAwBOr/CyRwH8o4i8TSn1MxHpA3AZgJ/M+A4TUcOx
lOUEGAqq7PFk1unHlmXBVKazXiDOZwgEIq7nIuPW6+Xubbzr3dzrK23n3Wai9RNto0McBVVxWaXn
3mX6Z6d/rvo5YP8/cc+dbYrzsmWu9wEAy7LKPwvlwZN3fwQCQwyEjBBCgRDCgTDCgTACRgABCVSd
0+TxfE1EREREM6Xu4RSABQACAA54lh8A8Bq/Fyil/p+IvB/A90UkCvs47gXwNzO5o0Q0ed7g50jC
o4JVKLWaKYZHpmXCgj13Bx/6Ne59sGC/n844RARK2aGGN/gwxBgX+Hhb5Xhf47dNVfrtq7xE74N+
Xx046c/2C5wqbePeN33sensFNe7n4d7G2d8K+6o/wzec81nmt7ws5Kvyfnq5iIw7fgWFdCGNRD7h
/H54j9cQAwEJwDCKczEQDoTtQMsIIxwMjwuv9GsYaAHg+ZqIiIiIZkgjhFNTJiInAPgygOsB/BzA
YgA3wu4q8L/rt2dErUUpBVOZTtcpU5W6VJnKRMEsIGflkDfzpW5XxW3cLWh04OR+rmCHRn6hhzcc
EbFbxjjBRLGljH6s1+tlhtg9lt3b6WU0N+nfwbJwU1lI5pOwcqXnZQQIwBVSGQEYMBAOhhEyQk6w
NVHrrLn8u8fzNRERERFNRiOEU4cAmAD6PMv7AOyv8JpPA3hEKbWu+PxpEfkogF+IyGeVUt67uo6r
rroKXV1dZcsuv/xyXH755dPaeaJmor+g63BJB07u8ClXyCFrZpE388hZubIv8qYaX9tHf/l2h0Tu
ECloBCcMlohmmojYYREm3/LJL9AylYlELlH276L8g8YHWgEJIBwII2gEfQOtu++6G1s2bym1GhPB
6MhoLQ+/Vni+JiKiOWvTpk3YtGlT2bKRkZE67Q1R65FGKCIrIo8B+G+l1CeKzwXALgD/qpT6ks/2
PwCQU0q917XsdAC/BHCUUmrcRbKIrACwffv27VixYsUMHQnR7HO3aPK2bDItE3krj2wh68ydL9uW
hYIqlLp4FVsrub9Q6y/YOmAKSIBhElEVurWhbzfUCgGvDs70v72QEULi5QTOPO1MAFiplHq8Lgfj
g+drIiKikscffxwrV64EGux8TdSMGqHlFACsA3CbiGwH8CvYowHFANwGACLyTwCWKKU+UNz+PwB8
Q0Q+DGArgCUAboZ9wVzp7i1RU9A1lvyCJlOZdosmM+dMzjrXF+GyukIiZeGSrrPjdFOaw12OiGpN
RBCU4ql1ko20vIHWaHbUKQrfgHi+JiIiIqKaa4hwSim1WUQWAPg87O4B/wPgPKXUQHGTRQCWurb/
roi0A7gCdu2KYQAPwu4+QNRwlFLIW3kUrIJv/aacaXely5m58uLflgkTZlldJm8rC0MMRIKRssLN
RNQ8vIHWaLYhu/QB4PmaiIiIiGZGQ4RTAKCU+iqAr1ZY91c+y24BcMtM7xfRZFjKQt60w6e8lUfe
zCNv5ZEpZJzJHUpVqtukw6WQEUI0GGVXOiJqODxfExEREVGtNUw4RdTIdO2mglVwgqeCVUA6n0Y6
n0bOsls8FUy7C57uVhcwAggaQQSNIKLBKAJiP2fYRFQ7Sin+myIiIiIiamIMp4gAp7udO3jKFXJI
F9LIFDJOayjd5U5zh09twTYEwvZzokbUSiFOYiyB9evWY9vD21AIFBA0g1h11ipcefWVaO9or/fu
ERERzVnu62rncfFaOhqMIhqMoi3UhnAgXO9dJaIGwm/RNCd4gyddVNwJn1wnT3f4pIOnoBFELBRD
0AiyptMcwBCnsSXGEnjPmvdgx2t2wLrIAgSAAjbs3IDH1jyGOzff2bTHRkREE3PX7lRQ9vUZ627O
Cl0vVQdO3uvqbCHrrPdeVzsD9ggQDUTRFmxDV7QLsVDMCa34/5Bo7mI4RU1Pj27n7XaXN/NI5VNO
vSe9jbveUygQci5o4uG4M6odTU0rhDkMcZrH+nXr7WP6I9eIdgJYyy3sUDuw/ub1WPu5tfXbQSIi
mjSlFCxljRud2D3PW3nkCjnkrBxyhRws2APHWMqCUgqGUazbKQGEg2GEjTAiwYhzgzFgBJzwyh1k
8ZqvnP7/4G31lDNzyBQySBfSpeCpWMpC06ND6ykSjFQMDC1lIVvIIlVIYWh4CACc13SEO9AR6bBb
VwXt1lXNfo1JRJPDcIoannukO3frp2whi1Q+Zd+hUfZJMq/yzsh2fidJhk+100phDkOcqdH/JnNm
btyULWTLl1njt9F3WMteZ2Z9389v+90/3Q3r/ZbvvlnLLfz0Bz/FZR+9DEd3Ho14OD7dHx8REU2D
UqosXPKOUmwq0wma9N93S1kwlQnLKs5V+d/4aiMVAyiNcqxMjGXHnPdTUKURjwUIoBRK6aAqHAgj
EoggHAiXBVneUKvZB6jRN3PdN3T1tbUevCdrZksto1QBAnFu6oYCIedncaSlLAwx0BZqQ1uozVmW
N/PImlkcSh3C/sR+AEAkGEE0GEVXxG5d1RZqQzQYZQkNohbFf9nUUCxlIZlLIplPIp1Pl410p0+U
+iJDX1iEjJAzul3ICDX1hUOzaLUwZ6ZCHH2xrO9E+s5VAZZVmle6azyd19z7wL2w1lQOcbbcuQXD
pw37h0CWT9Ckt7Py0/1R2/9eAyGEA+HqkxFGLBhDd6Qb4UC47DV3tt2JpCT9P0CAw4XDuHDThYAA
C2ILsLRzKZZ2LbXnrse98V7+vSAimoA7+HHP3S2dvOcI9/nPPUqx7tblDpl06BQKhGCIMWM3EnVo
5j4efaNTL3PTgZgOpnQgFjJK56NKQVY9boa6u9K5Wz25R442lYmCaV9Pu3sS6P3XN3NjEpv1AXxC
Afv6oD1sXz8qpZA1s8gWstid3Q1LWQiKvX/xcBxdkS6ndlUkEOH5nKgFMJyiuitYBSRzSYxlx3A4
fRiJXAKmZTonSf2lVNd84smn/moZ5uhWOO4LqYJVsEdAND01Day83ULOGl9gs9Jzb4s790Vb3rKX
P7T1IViXVw5xNm3YhMf+6LGKAZNzse4JkhSU73vOJIHdYlAgyFk5Ozj03xA5I4f9Y/vti+1ACPFw
HD2Bnqqhkb67PKmAyWeqxcX6fYH7kFRJ/2NTwKLIItx86c3YPbobu0fsadfoLjy6+1EMpAacTaPB
KI7uPLossHpV16uwtHMpjuo8CtFg9Ij3lYiah7tlif4bLp4/NN5rEPf6auu86+v1vgB8gyb33H2j
Qp87naDJMmHChPf05g6anJAjECkLoepNRBCU4lefSZQ18gZspmUikUuUzvGq/IfgDtaca1gjhEgw
grARRjAQHBdkuR9Xu771q/OkexGMu5FbvDZxB4G6F4G+mdsMPQlExKlDpeljHs4MYyBpn8/DgTCi
wSg6I52Ih+NoC9qtq0KBUL12nYimieEU1UXezCORS2A0O4rD6cNI5VNQUGgLtqGnrYfNdRuQaZkY
SA1g39g+/OTBn8C6rHKY8/2N38fjr3m8YiDkfu6uV1ALISNUuggr1hTTy/RzvSxkhBAwArCCVtUQ
JxQN4bSjT/Nt4u/M3XdXDQNBCU48L17A+r5fpfdyXfx6594vAKu2rMIetadiiNMX7sMdq++o6c9/
Nqw6axU27NwAa/n430Fjh4Fzzz4XKxavwIrFK8atT+fTeGX0Fewe3Y1dI7vsxyO78ctdv8Qro68g
Z+acbfvifVjatRSv6nwVju46uiy8mtc2b8aCcu8XHiI6MrrFjPvLu/vclC1k7RYaxS5NlW4wlAVG
UwiX/NZP97VTel/vtsXn7npNOpDy0ucTfX7RrYR0ADUXbkZEL8AAACAASURBVBQaYsAITD7AGdd1
0czZrbIylVtlua8DQkYI4aB9EygUCMG0TCd4cq6ninWeBGKHp64SFrp+aisXhg8aQQTDQcRhd9lX
SjmlAfaO7XVubkeCEcRCMXRFupyugNFgtOEDOaK5jgkAzZpsIYtELoGRzAiGMkNI5VMAgHg4jvlt
81v2RNoMlFIYygxh39g+7Evsc+b7E/ud5weTB+0LWAXARNUwxwgbOHHhiWXFSHU4VDU8MkIIBsrD
o0qvrbRsOhfMq75SPcSZF5iHtWc1X4HtiUKcVW9eVYe9OnJXXn0lHlvzGHaoHfaxFbuVGjsMLH92
Oa7cfGXF17aF2vDq+a/Gq+e/etw6S1k4mDxot7Yqhle7R3djx9AOPPTyQxhMDzrbxkIxp8WVDq9e
1fkqLO1aiiUdS6Y8PLa7hlvWyCKY5OmZaDLcLUq8k+4SlClkSgW3fcIYd5cmHcLoFqiaO6jyBsiT
Xec10bbu9dXWVfocvcy7rYiUdUnj9VdtBIwAAghMqlWWty6XpSykCikk8gknOARqW+epFYkIIsEI
IsEIELGXmZaJrJm1b4CnDgOA04KtM9KJ9nC7E1hN9VxNRDOLf91oRqXzaSRyCQylhzCSHUGmkIGI
IBaKYWF84Zy7g1GvUe0SuQT2ju21A6ex/U7wtHdsL/Yn9mN/Yj+yZtbZPmSEsLhjMRa1L8LSzqV4
w5I3YFHHIixpX4JF7Yvwobs/hH1qX8UwZ35wPv5h1T/M3gEeIYY4zaW9ox13br4T629ej233bEPB
KCBoFQvyb55+QX5DDCxqX4RF7Ytw6lGnjlufyCWcllY6uNo9uhsPvvgg9oztQcEqOO+zuH0xju48
2mlp5dS86lqK7mh3+fv61XDbC+C5aR0GUUtwjxqmJx1EZQtZZMwMcmaufJ2rLiWAcV2nqo0eNpGy
Vkit32iIZpjuYsigqfYCRgAxI4ZYKOYs0wO2HEgewN6xvXaoFYigLdiG7mh3WesqhrVE9cO/iFRT
SimkC2mMZccwmB7EaHYU2UIWwUAQsVAMnZHOOdEU3G2mR7XLFDJOCycdPHlbPiVyCWd7Qwz0xnux
uN0On05ceCIWdyx2ni/uWIx5bfOqBofnvPmclgpzGOI0n/aOdqz93FqsxdpZC33bw+147YLX4rUL
XjtunWmZ2JfYh92ju/HKyCtOePX7gd/j5zt+jpHsiLNtZ6QTSzuXOuHVk3c+iRde8wLUH7E7H7U+
b10nd3e7vJlHupB2RnIzLdMJndytf9w1fQJSbFHSAqOpEdHM0HUvO9ABwA6/s4UsUoUUhoaHAMAp
Bt8R7kBHpMOpXRUOhPl3hWiWyFypbSEiKwBs3759O1asGF+HhKbPUhZS+RQSuQQOpw5jLDuGnJlD
OGgXMZ/LRYXLWkS4Q4+dBpb/YfmEo9oVrAIOJg86wdPexN6ylk/7EvvKuhoBwLy2eU7QtKTDbum0
uH0xFnXY89547xHfqat4XMUwp9lG6wOKIeLNxRDRHeJc1dwhjlu9Wu4RMJIZcVpa6SLtuuvgnn/b
A/wFyltj7AXwDQDASqXU4/XY53rh+bp5uVs3javrVKzplC1ky0Z7092XADj1c9xFtfXjudbSmohm
l/N3qpB1WkJHgnbrqq5ol/OdRheU1x5//HGsXLkSmIPna6JaYzhF02JaJpL50gh7yVwSBauAcCCM
eDjOPtxFX/j7L2DD0IbyUe2KjBcMrO5cjXdf8W67tZNPl7uB1EDZhXt7uN3uWlcMmnTw5G75FAlG
ZuXYWjnMYYhDs0UphbPOOwsHLzxYvoLhFM/XDci0TOQteyQ3PQpqJp9BupB2QqfJ1HXyDv5AROV4
HVJ/SqmyunUAEBC7e3B7uB2dkU5Eg1E89/RzOO0NpwFz8HxNVGvs1keTVrAKSOQSGMuO4VDqEFL5
FExloi3Yhs5IJ4ds9fHAfz0A6+LKo9rddftduKv3LgBAJBBxWjgd230sTjv6tLKWT4s7FqM93Dih
Tz26Vc2WVjoWamwigpAZsuvk8NeOGoBu6ZQzc8hbeeTNPFL5FNL5NHJWKZTSNzd1F7uQEYIhBmKh
mBNCUeNptfM10DrHNNNlIGhqRMRpKdWFLgD238dMIYOhzBAOJu2bSofHDtdzN4laCq8cqKqcmRs3
wp5SCm2hNvS09fDiE/ad5D1je7BzaCdeHHoRLw6/iBeHXsTOoZ04lD1UdVS77o5ufOuyb2FJ5xL0
RHua9uKqWfebqBFUK8hPVGu65pM7fNJD3qcLaTt8MvPIq7xTXFyHTUEjiHg4jqARZDe7JtKKoUer
HZPvwBgK2LBzAx5b81hTlktoRUEjWHajeCg9NK6VKBFNH5MFGidbyGIsN4bhzDCGM8NI59MQCGLh
GOa3zZ+zTfCHM8Nl4dOLw/b08vDLyFt5AEA0GMWy7mVY1rMMpx51KjYGNmJIDVUc1S6OOP64749n
90CIqKH4FuQnOgJKqXHhkxNA5dPIW3mnHpSmw6dQwB5yPWSEeOOhBbRi6NGKx7R+3Xr7eNxlIMRu
Zb9D7cD6m9dj7efW1m8HiYhmAcMpAgCk82kkcgkMpgcxkh1BppBBQAKIhWLojffOmQvUvJnH7tHd
ZQGUbhE1lBlytlvSsQTLupfhtKNOw+V/fLkTSC1qX1R2N3n0z0ZbalQ7Iqo976iKWckimApiP/bX
e9eogen6T7qbnR4qXbeAKlgFFMxC2V39UCCEkBFCOGAPWMLu+K1votBj3bp1uPb/XttUIx3OdJCj
Wxe6/3155zrwHbeuyvZ5M1/WNdY9/8+t/wnr8splIO7dfC9OvOxEzGubh562HnuK9iAeijfN/zeg
dbpgEtHMYDg1RymlSiPspUsj7AWNIGKhGLoiXXU9eczkyUsphcH0YKn73XCpO94ro684d5JjoZgT
Op2x9Az09/RjWfcyHNN9DGKh2KQ+y7dFhGtUuys3Xzkjx0jUDCxlwVIWlFJQUM5jS1lQUGWP/bbT
/54A+0u3Hiq6GVt8uGu47R/bD7VP4ew3nl3v3aI60/Wf3F9uM4UMUvkUsmYWeTNfNuKdiCBkhBAK
hOwRpcJBdr+fA3JmDgPJARxMHsTB5EEMpEqPf3rfT2G9t3LoseH2DdgwfwMAQCDOyIh6CohduN4w
ypfpWmMGDBhG+TL9PnqZ87rie7uX6/fW4Zj789zL3Nve/fO7Yb2n8jFtuXMLRk4fGfdvp1KQ5G1l
qFvDHwmB2OejYiDsnoeNsHPOChkhBI0grGCVVrMCjFgj+PQDnx63TTgQRk+0xwmt5kXteXe0e9yy
eW3z0B3tnvW/Ca3WBZOIZg6vWOYQS1lI5pJ2IJU6jEQugZyZQzgYRjwUR09bT133r9Ynr5yZw8vD
L5d3wyvOR7IjAOyLh6M6j8Ky7mU465iznDCqv7u/Ji3GvC0iyka128yTMjU2dxikv/x6AyUdIPkF
Srpgsohg3MiwAhgwIBAYYkBEIFJ8DHG+kIQD4dKoXq7h5d1feExlYiw7hmQ+iUQ24XyxCBgBRAIR
J7RqlsBKRKAwN0bSnevcLTTcX6BTuRRShZQTPuWsnG/9J936ifWfaq8RWnjo0MkdNrlDqIMpez6c
GS57XcgIoTfei4WxhUAIVUOPzvZO/N1b/g4KCqayR1lUyn5sWZY9L/6Ndy/T2/gtc2/rPHYvgwXT
skd2zKqs8/7uzyv7XKu0zLRMpCVd9ZhyRg57R/ciHLTDn0jAHl3NGxK55+6bG9W2KVvmCpqc4Kn4
HlMtgbHqK6uwR+2pWAbiqOhRuO+j92EoPYShzBAG04MYShfnmdL8YOognjv8HAYzgxXrIXVFutAT
7SlrgTWvbV55yFV83tN2ZK2zWrELJhHNHIZTLc60TGeEvcPpw0jmkihYBXsY1Eg7woFwvXcRwPRP
XkopDKQGyrvgFUOoPWN7nC/UHeEOLOtZhmXdy3D2srPR392PZT3LcEzXMYgEIzN6bK08qh3VhzcA
8pvr332/bd0tlNzGhUhVAiT9ZTggdgCk74iXDRNfXOZ+vX6tXjbR8knrsIOzTCGDbCGLrJlFMpfE
WHYMqXwKw9lhu9WiGM6XEB18Ec0WS1k4nDqMbCGLZD6JTCHjtNjwq/+kC5B3G908d8yC2WrhkTNz
OJQ65Bs0uUModzkBwA6dFsYXojfWi954L05dcip6471OEKUfd0dLvy+rbq0eenRIBy498dKaHdts
WHVb9WPqC/dhw+oNs75fR6LawBi6DEQ4EEZfex/62vsm9Z5KKYzlxkpBVqY80BpK29Pzg887oVci
lxj3PiEjVOpOGC0PrtxBlp53R7udLsOspUVEU8FwqgUVrALGsmMYzY7icPqwM8JeNBhFV7SrIWtM
THTyuummm/Duv3l3Wfik58l8EoD9JfnozqOxrHsZzu0/1wmjlvUsw/y2+Q1xYd8I+0C1421B5J3r
UAiYOFDyBkWaQABBKTQSe5n+zx3ieFseAfa/i1AgVNblIiABJ0TSXTXcoZA7MJooRGqk32k9jL27
261SClkzWx5Y5caQLWSRyCWcn3s4EEYkaLeyYjcomikjmRE8d/g5WMpCKGB35wkZIbQF2xA0gg31
72muqUULj7yZx6HUIadr3YHkgXGtnQZSAxhMD5a9TodOOmA6dcmpZSHUwvhCJ3Saaiu5yYQezaYV
j2kmykCICDojneiMdOLY7mMn9ZqcmXOCKr+WWYPpQRxKHSoLtNzButYZ6URPtAf7frYP1vsqd8F8
8EcPYi0YThGRjVfgLSJn5pDIJTCSGcFQZgjJnB3YxELNMcLetoe32ReDPqzlFjbevhEbF2wEAHRH
urGsZxmOm38czlt+nlMLamnX0oZpCdbqlFJld/unOozuuC5eevkEXZkqve5IX+vLVc9IRADl+Ywq
IZHTyqgYEun1uqWOU9cDnhocRilYcodM7seTWe/9/LlMRBANRhENRu0FcXumi0dnChlkChmM5caQ
zqcxnBt2fp/ddaz4t4Vq4XD6MBTUpFs+0OyZ6CbZDV+8Ae/5m/eUtW7y1nfyhk5BI+gETgvjC7Fy
ycpxrZymGzpNVivWvmzFY2qUMhDTbZ3lG2SlBrExsrFqF8y9mb049Runoq+9D73xXvTF+5x/F3pZ
b7wXC2ILeOOIaA7gv/IWsG9sH/aM7UG6kIZAEAvFsDC+sGlqUCilkA/kJ6yJ8LVLvob+nn7Ma5s3
q/s3V3kDqLyVh2kVQygBwobdwiQajDqt8cT1P9EbipStq7ZdlddVe23ZY59fpql8pt7eG/JMFAJN
FChR49CBU0ekw1lWsApl3QJHs6P2wBGuOlZBI1gWWPH/K01WOp/G4dRhdIQ7Jt6YZpVSCvf/1/2w
Lq5SZPv2LdjStwWA3SJVt2ZaGFuI1y16XVkLp754HxbGFqKnrafu12KNEnrUUiseE9CcZSDcrbOO
6T5m3Pqtwa1Vu2D2BHrwwZUfdALeF4dfxGN7HsNAcqCsML1AsCC2oCzUdYdXOtTqifbM+s9tyjc/
iagihlNNLm/msS+xD6Zlojd25AW8Z9tAcgCbf78Zh0YO2a1UqtREeP2S18/27rW8qQRQ80LznOK7
7qKhvJNFrSJoBNEebkd72P5is6RjCUzLLOsWOJYdQyKXsOtYFYsQ61Zxultgvb+MUmMayY4gW8jW
ffCRuSxv5rFrdJc9Uu/QTuwc2okdQzuwY3AHktlk1Ztk3R3d+M6a76Cvva8hQqepaMbQYyKteExu
rXI8E3XBvOCcC/DXK/963DpLWRhKDzmhle4iezB5EAcSB/DUwafw4IsP4nDqcFmrdj0YQLUAqzfe
65znp0vXp3vgvx5AJpc5ovciohJ+q2xyI9kRJHNJLIwvbJoTmVIKj+9/HBuf3IitO7YiYATQf3I/
du7YWd6cvqhZ6wc0CgZQRNMXMAKIGaU6VovaF5XVscoUMkjlU04dq9HsqHMXVYdVrGNFlrJwMHkQ
0VC03rsyJ4xlx5zwaefQTuwctue7RnY59XHaw+1Y3rMcy3uW49z+c/Gdjd/BoBqseJMsjjhO6D1h
dg9kBjTLteJUtOIxtYrpdsE0xMD82HzMj83H8QuPr/j+7jpvOsA6kDjgDDLwwq4XcDB5EGO5sbLX
xUPxquFVX7wPC+MLfbv0l9Wnu9gC9gH4w5H8lIhI49VyE1NK4VDqkDOseqNL59P48XM/xh1P3YE/
HPoDXtX1Klzzxmtw8WsvRuB9AfsPPVqnfsBsYgBFNHvcday60AWg9G9QdwtMF9IYy44hXUgjlUux
jtUcN5odxWh2lN3Sa0gphf2J/U7rJ3cYNZAacLZb0rEE/d39OGPpGfjzk/8cy3uWo7+nHwtiC8pC
jYOrDrZckW2iepvpLpihQAiLOxZjccfiqtul8qmyWnHuAGvP6B78dt9vcSB5ADkzV/a6nmjPuADr
Nxt+gxde8wLUH7E7H1Gt8dtoE0vmkxhOD5fVTGlELw+/jI1PbcQP//BDjGXHcPaxZ+NvT/9bnPmq
M0uhWhQtWT+glhhAETUuESkFTpHS8ryZd1pZpfNpu/B6Ie1bxyoSjCBkNN5oqnTkBlODgELL/g2e
yW5VOTOHl4ZfKuuGp0fsTeVTAOyuPMu6l6F/Xj8uW3IZ+rv77cFSepaVjd5ZTSsW2abGZ1qmc01X
sAr2IDNWaZCZSDCCtmAbIsFIlXdpbI3QBTMWiuHY7mOrjlqolMJIdmRceKUfP3voWTz88sM4+OhB
4C9mb9+J5pLWvEqaI4bTw8hb+Ya8+25aJn6x6xe448k78Itdv0B3pBuXnXAZLj/pciztXOr7mkY4
edUbAyii1hIK2P8u3fUtdB0r3coqkUsgkUsgmUsiZ+YQkAAs+BdmpuaTKWRwOH0Y7ZHWusmia65s
e3gbCoECgmbxhtLV07uhNJQecrrf7RzaiReHXsSOoR14ZfQVWMr+99Ad6Ub/vH6csPAEXHDcBejv
sUOoozqOOuJRiVu1yLZX3sw7o8TSzFNKOaGTO4TS6wwxEDSCCAVCiAVjaAu1IRaKIWgEkTNzGEoP
2TejM8MQEbQF29AWamvaa71GvrYXEXRHu9Ed7cZx84/z3UYphbM2nYWDcnCW945obmjOv2yEvJnH
wdTBSd8RnC1D6SFseWYLNj29Ca+MvoITF56IG1bdgHcc947SUO6T0MgnryPFAIpobvPWsQLsmkQ5
M4dMIYO8mceLB16s4x5SLY1kRpAupNEZ6az3rtRMWc2Vi0qtjDbs3IDH1jyGOzff6RvmmJaJvYm9
2Dk4vh7UYHoQgD0q19GdR6O/px9/tuzPsLxnOZb1LJuV0Xpb7SaZbrmZM3PIm6WWmpaynMAPsK+5
gkYQAQkgYAScx0Ej2PQ/g9lgKcu+nvO7roP9M9dTT7QHsVDMvqYLhJzrupAR8g1Yl3QscWobjmZH
MZQZwnB6GAVVQDgQdrqYM2ycHSKCkBmqPIgTER0RfsNtUu5C6I3g6YNPY8NTG/CT534CS1l4+6vf
jnVvXYeT+06esxc2OoTKmbmyC0MGUETkZYjhfMkAgN2B3XXeI6oFS1kYSA4gEoi01Llw/br1djDl
HsREAGu5hR1qB2666SasuWLNuHpQLw2/hKyZBQBEg1G75VN3P04/+nT09/Rjec9yHNN9zJRuZs2U
Zvv/VbAKzqii7iAqEoygJ9qDzkgnosEowoGwE6boSQfjWTOLglVAppCxu5upAlwDoTktrkJGyGnx
o8OsVucNnwpWwRn8QkSca7e2YBvmheahLdSGkBEqC6GmE/aJCNpCdmup+bH5eJX1KqTyKaTyKQxl
hpDIJTCQHAAEiAQiTvBFM6faCIREdGRa/2zSghqlEHrOzOFnL/wMG57cgCcOPIElHUtwxalX4NIT
LsX82Py67Vc9mJbphFA5M+fckQwZIYSDYXRFutAR7kA0FGUARUQ0RyRyCYxkR9Ad7a73rtTUtoe3
2S2mfFjLLWy8fSM2LtgIAFgQW4D+nn68bvHrsPqE1U49qMUdi9naY5r0NYeuZwcAAQkgEoygM9KJ
znAn2kJtTuA9lS6P3uDKPekRSrOFLExlIpVPwbRMZ8AHzR1auVtjNfL/b2/rJz2JCJRSZa2fuiJd
iIfjiAQik2r9VEsBI4COSAc6Ih3oa+9DzswhlU8hkU1gKDOEZC6JwcIgDMNALBRDNBjltWaNjatP
R0Q1w79WTajehdD3ju3FnU/fibt+fxcG04N449I34pa334Kzjz17TpwA3SGUvjtpiOEUNF4QW4C2
UBsigQgiwQgigciMX6wQEVHjGUoPwVIWQoHmL3RvWiaeH3weT+x/AocLhyt3aRGgs70T31j9DfT3
9KMr2jWr+9lqlFJOCJU1s053w0ggglgwhsXti8uCqCO9DtPXMxO1vnEHOKZlOl3Z8qY9amnOKnZT
Lo5iWrAKsJTlhD316ErobS3m1/pJt2qPhWJO6ydvANVIrer0/6vuaDeO6jwKmUIGyXwSY9kxDGWG
yv4GtQXt35NG2v9m5K5P98CPHkA2m8UgBuu9W0QtofWThBZUj0LoSik8+sqj2PDUBmx7cRtioRgu
fu3FeO9J70V/T/+s7cds0jVg9KTrB/i1htJBVKNdtBARUX3kzBwGUgOIh+P13pVp2Z/Yjyf2P4En
DjyBJw88id8N/A6pfAqGGDCyRuWaKwrokA68bvHrZnuXm54uB6CDKNMyne5a0WAUC2ILEA/HnSCq
nt23dCuiarzFwKfblVCHVu4WWH6f7a3pqSfnvSTgtFrvinQhFoo5127u0grNekPR3QVwQWyB0wUw
mU9iKG13ARzNjgKwu9W2hdrYBXCadH26K9JXYPcfduOycy+r9y4RtQSGU01mtguhJ3IJ3P3M3dj4
9EbsHNqJ4+Ydh8+9+XO48LgLm/aC249uBaWDKKA0NHwkYNdr0E242RqKiIgmMpIZQSqXQl97X713
ZUKJXAJPH3waTx540gmjDibt0agWtS/CKX2n4IpTr8ApfafgxN4Tse7Quoo1V4wdBla9edVsH0JT
0tcc2ULWCVF0S5i+eB/aw+1lQVSz3fwSEWfE0mom3ZXQMp25tyuh/tno1k+RYATdwe6Kxceb7Wc5
He4ugIvaFyFn5pDMJe2uf5lBJLIJ5K08DDHsUCvYxmvbaZgLv0tEs4XhVJOZrULozx9+Hhue2oB7
nr0H2UIW5y4/F39/9t/j1CWnNvUfYd/WUAKExG4N1RnpdC4GdQjVjBeERERUP0opDKQGEA423vmj
YBXwwuALTquopw48hecHn4eCQiwUw0m9J+Gi11yEUxadgpN6T/IN18bVXCmO1mfsMLD82eW4cvOV
s39gDc6vYLluiT2/bT46Ih1OEDXXul5Npyuht2WUt/vdXCgzMVXhQBjhtjB62npwVOdRSBfSSOVT
GMmMYCQ7gsH0IEzLRDgYZhdAIqoL/uVuIjNdCD1v5vHgiw9iw5Mb8Ku9v8LC2EJ88E8+iDUnrmmK
O79e7pZQbA1FRESzJZFLYDg9jM5oZ133Qylld887UAqinj74NNKFNAwxcNz84/C6xa/DB/7kAzil
7xT09/RP6jzorrmy7Z5tKBgFBK0gVp21ClduvhLtHe2zcHSNy7RMp05Uzsw5BbUjwQi6Il3oinY5
IRSvPSZvMl0JaXJEBLFQDLFQDAtiC1CwCs4ogIPpQXYBJKK64F/4JqL7jNe6EPpAcgDf/9338f3f
fR8HkwexcvFK3HzezTin/5ymOBFZyioLovRdtKARRDgQtps0hzvYGoqIiGbFUGYIpjJn/RyayCXw
1MGn8OT+J/HkwSfxxP4nMJAaAAAsbl+Mk/tOxsfe8DGc3HcyTuw98YhKBOiaK2ux1ilwPRfpFtnu
guWGGIgEI871Ry0LlhPNhKARtEd6jHRiUfsiZAtZexTAXMIOq7IJ5KycUzCeXQCJaCY0zBlSRK4A
cA2ARQCeAPAxpdSvq2wfBnAdgPcVX7MXwOeVUrfN/N7Wx3B6GAWrUJOLXaUUtu/bjo1PbcTPd/wc
QSOIC19zId570nvx2gWvrcHezoxqraHCRhgLYgvQHm53QqhIMMILQSKiGuL5urq8mcdAcuYLoRes
Ap4//LxTI+rJA0/ihcEXoKAQD8VxUt9JuOT4S3By38k4ue9k9MZ7Z2xf5kowpZSyg6hiqyhTmc7I
edFgFL3xXsRCMSeIaoVRGmluigTta+ieth4c3Xm006pqNDuKkewIDqcPQymFUCBkF5YPRObM3wEi
mjkN8a1dRN4N4CYAfw3gVwCuArBVRI5TSh2q8LK7ACwE8FcAdgBYDKD2fd0aRK0KoafyKfz4uR/j
jifvwLOHn8WxXcfimjdeg0uOvwSdkfp2P3DTF4DVWkO1h9vRFmxjaygiolnC8/XERrIjSOaT6Iv7
d4efTisjpRT2JfaVBVG/O/g7pAtpBCSA4+YfhxWLV+Av/+Qvp9Q9j6qrVLA8GoxiXvu8cSPn8RqE
WpGIIB6OIx6OY2F8odMFMJlLYihjjwI4khkBAKeVYDP0vCCixtMQ4RTsi9uvK6W+BwAi8mEA7wDw
QQBf9G4sIucDeBOAfqXUcHHxrlna17qoVgh9Mhe6Lw2/hE1PbcKWZ7YgkUvg7GPPxqfO+BTeuPSN
M1K/arpMy8RIdgR5M+8Ux2RrKCKihsHzdRW6NqR3NLDEWALr163Htoe3oRAoIGgW6zNd7V+fKZFL
4KkDT5WNnqe75y3pWIKT+07Gx//04zi572ScsPCEWRvBt5X9f/buPE6u667z/udXa++tfV+8i8S7
5U2W5ASb4BDIABMmsTLPk5AAmSwscYAEHoY4hNeQPDDEIYBJgJmE8DgaMsMwBJ4Eh4QM6WpJXiTb
cbzHW8uSpe6W1NVb1a2qW2f+uNVyq1VdXVt3dVV9369Xveyqe27dc/pKfa5+55zfOSdheT4L7rWE
5Wu61pyTsFyzRKSdzV4CuLF3I17OYyo7xWRmkjOphXqp9AAAIABJREFUM0x4E+TyOcKh8NnE6gqW
i0g5Gv4vfDOLAjuB35v5zDnnzOxbwK55Tnsr8DDwMTP7v4Ep4GvAbzvn0otc5SVXLBF6OQ+6ft7n
X1/+V+57/D4SQwlWdKzgzivu5M4r7mRL35ZGNuk8Z4NS+SyrOlaxoWfD2WTlegAUEWk89dcLm8pO
MZYaOyc35OTEJHe+/U6e3/E8+Z96bWe7+164j0NvP8R9f3Mfx7xj5wSinj/9PA5HT6yHK9ddydte
9zauXH8lV6+/etF3620HeZc/G4jK5DI4HGELF01Y3hHpWFaDeCLLzcwSwFWdq9jSt4VUNsVUdopk
Osm4N85oahTnHPFwnM5oJyEL4ZwDwFH47wLvZyz2eeco/K4++9YsmBCA4QgmBvh5v+yfk4gsrOHB
KWANEAZOzvn8JLBjnnMuIhiJTQM/VfiOPwNWAT+3ONVsnLmJ0Bd60P38lz/PN45+g/2P7+fYxDGu
XHcln77907zl0rcQj8Qb25g58i7PuDdOOpdmRccKNvVuYmXHSo2wiIgsP+qvFzCWGiObz56zpOWz
n/ls0F9fkn+toEH+4jzP5Z/j5p+7mfwb8oQtzI41O7h+0/W895r3cvWGYHmeAiO1mZsnKu/yZ/NE
dUW62NizUQnLReokZKGzSwDXda8j62fP5quaWQI4EwiaGXw2rOT7GYZhZq/9d+b/57yfOfec8guc
M/t9OXWa/f6pE08twk9SpD01aw8cAvLAO51zkwBm9hHgv5vZB51zXkNrV2dzH3YXetB90wfeROT2
CG+55C189qrPctX6qxpU8/k55xj3xkllU/R19HHBigtY1blKD4UiIq2lbfrrXD5XNDfkv3z3X4KB
pGIugd4jvdz7b+/l8rWX0xntXIKatrZSeaJW964+L0+UiCyeaDhKfziYjTizBNDhKgr+FHu/nCz2
5hci7WQ5RAJGAR+Ymzl0PXBinnNeBY7NPOgWPEUwh2gLQcLVou666y76+/vP+Wzfvn3s27evwmov
jZlE6D2x13JSLPSg23Okh/t/9n5Wda5aolqWzznHZGaSqewUPbEedqzZwequ1QpKiUjb2r9/P/v3
7z/ns2Qy2aDalKT+uoRxb/y83JDOOXLhHMz37ymDjs4Odm7cuSz/0bXcnZMnys8CyhMlspwttxUc
lWqi/lqkKTU8IuCcy5rZYeB2gjwUWPD0cDvwuXlOGwR+xsy6nHPThc92EIzOvlLqevfccw/XXXdd
Xeq+FOYmQi/nQbezs5OVHSuXrpJlmsxMMuFN0BPr4ZKVl7Cme41GLUWk7RULuBw5coSdO3c2qEbF
qb8ubXRqlJCFzlmGZ2ZE/EiQt6RYv+0g4kcUNCnD7DxRXi6YcDc7T1RfvO+c5XlaDiki9dYs/bVI
s2p4cKrgM8CXCg+9M1tTdwFfAjCzTwGbnHPvLpT/CvAfgS+a2ScItqj+feC/tNISAeccI1Mj5yRC
b8YH3anMFBPeBF2xLi5eeTFru9c2/ciJiEibUn9dxEw+lb5433nHbrv1Nu574T7yF58/4zn0fIjb
3nDbUlSxqczNE+U7n5CFzuaJ2tCzga5ol/JEiYiItJBl0Zs7575qZmuATxIsD3gUuMM5N1IosgHY
Oqv8lJm9Cfhj4CHgFPA3wG8vacUX2VR2irH0ubv+QPM86KayKca9ceKROBesvIB13evoiHQ0uloi
IlIl9dfFjaXG8HyPlZ3nz1r+8Ec+zKG3H+K5/HNwCWc3MQk9H+LiZy7mw1/98JLXd7nJ+tlg5zw/
c3Z53kyeqFU9q+iOdZ+dFaUZ1yIiIq1pWQSnAJxz9wL3znPsPUU+exa4Y7Hr1UhnUmfO2/UHXnvQ
fd49HwSoltmDbjqXJukliYVibO3fyrrudecliBURkeak/vpcft5neHqYzkjxZOY9vT187ouf48c+
9GOsenQV0XiUSD7Cbbfexoe/+mF6enuKnteq/Lx/dkZUxs8AEAlFiEfirOxYSV+8j45IB53RTuWJ
EhERaSPLJjgl58r6WUamR85JhD6jp7eH//bV/8b7f+v9PPTXD7FuxTqi+WjDH3QzfoYzqTNEQ1E2
92xmfc967WAhIiItbdwbZ8KbYE3XmnnLHDl9BPth4+s/93VWdKxom4BL3uXP7pzn+R7OuWB5XiRO
b7yXvti5eaLCoXCjqywiIiINouDUMpX0kkxmJlnfPXdTpEBPbw89P9rDTT98E3/1U3/V0AfdjJ8h
mU5iGBt7N7K+e/15SxFFRERa0anUKcysZGAlMZTgyvVXFl321yqcc2Tz2bOBKD/vg0E8HKcj0nF2
FvVMICoajja6yiIiIrKMVB2cMrMI8EbgYuArzrkJM9sEjM/ZMloq5JxjeGqYaCg6b9Ap42c49Moh
PnTjhxoWmMr6WcbSYwCs6VrDhp4N9MX72mZEWESkGai/XjypbIpT06fojc0/IOPnfQ4ePcg7r3rn
EtZs8Tnn8HyP6ez0OXmiYuEY67vX0xPrORuIioVjejYQERGRkqoKTpnZduCfgG1AHPhnYAL4WOH9
++tVwXY0lZ0imU6WnH10+NXDpHIp9m7bu4Q1C+TyOZLpJL7zWd25mo29G+mP9+vBU0RkmVF/vbiS
XhIvVzwR+ownRp5gzBtjz7Y9S1izxeHnfVK5FNPZaZxzxMIx+uJ9rOxYeTYQFY/Ez+4wLCIiIlKu
amdO/RHwMHA1wc47M/4O+ItaK9Xu5kuEPtvAywOs7VrLjtU7lqxeft4n6SXJ+llWd61mQ88GVnSs
0EOoiMjypf56keRdnuGpYTqipXehHRgaoCfWw1XrrlqimtWXlwtmR2X8DGZGV7SLzb2b6Yv30R3r
1i68IiIiUhfVBqf2Arc45zJzZsu8BGyutVLtrFQi9NkSQwn2bNuzJLOV8i5PMp0k42dY2bGSjas2
srJzpYJSIiLLn/rrRTLujTPujbOqc1XJcomhBLu27GqaHEt5l2c6O00qm8LP+8Qjcbqj3Wzr30Z3
rJuuaBeRkFKWioiISH1V+3QRAopl/txCsFxAqrRQInSAk5MneebUM7xv5/sWtS7OOca9cVLZFP0d
/Vy08iJWda7SbjoiIs1D/fUiOT19GhwlAzUT3gSPnXiMj7/h40tYs8pl/AzT2Wm8nAcGXZEuNvRs
oL+jn+5oMDtKS/dFRERkMVUbnPom8GFgJjrizKwH+B3g6/WoWDsqJxE6wODRQQzjlq23LFo9JjIT
TGen6Y31smPNDlZ3rdZIqYhI81F/vQjSuTSnUqfoiZee5XzwlYP4zl92+abyLk86l2Y6O00unyMW
itEV62JTzyZ64710x7rV54uIiMiSqvbJ41eB+83sSaAD+ApwKTAK7KtT3drOZGZywUToEOSvuGLd
FQsuJai2DpPeJD3xHi5bfRmrO1c3zVIEERE5j/rrRZBMJ0nlUvTF+0qWSwwluGDFBWzp27JENZtf
xs+QyqZI59IAdEY7WdO5hpWdK+mOddMZ6dTsKBEREWmYqoJTzrlXzOxq4B0ESVZ7gP8C3OecS9Wx
fm1lLD22YCJ0P+9zYOhA3beknsxMMpmZpCvaxcWrLmZt99qS9RARkeVP/XX95V2ekakRYuFYyWCO
c47EUILbLrxtCWt37vXTuTSpXIqsnyUSitAVDZbr9cR66I51q58XERGRZaPi4JSZRYEvAL/rnLsP
uK/utWpD5SZC//7w9+u6JfV0dprx9Did0U4uWnERa7rXaOcdEZEWoP56cUxmJkl6SVZ0rChZ7qWx
lzg2cWxJl/Tl8jlS2RSpbAqHoyPSwYqOFazsWHk2mbk2MxEREZHlqOLglHMua2ZvA353EerTtspJ
hA7Bkr7eWC9Xr7+6puulc2mS6SSxcIztK7azrnsdndHOmr5TRESWD/XXi+NM6gx5l19wyXtiKEE0
FOWGTTcsWl2cc3i+x3R2mqyfJWxhOqOdbO3fGuSOinYTj8QX7foiIiIi9VJtzqn/BfwUcE8d69K2
yk2EDsHD7i1bb6k6UamX8xhLjxENRdncu5n1PevpjnVX9V0iIrLsqb+uo4yfYWR6pKx+MzGU4LqN
19W9j83lc2eTmTvniEfi9MX7WNW5iu5oN92xbs2OEhERkaZTbXDqOeDjZrYbOAxMzT7onPtcrRVr
J+UmQk+mkzx28jE++cZPVnyNjJ9hLDVGOBRmY+/GszknRESkpam/rqNkOsl0Zpr1PaVnOWf8DA8c
e4AP3vDBulzXywWzozJ+hpCF6Ix2srl3M33xPrpj3VqOLyIiIk2v2uDUzwFjwM7CazYH6GG3AmPp
sWAr5wUSkx585SB5l68of0XWzzKWHgNgXfc6NvRuWHB3IRERaRnqr+vEOcfI9AixSOlE6ACHXz1M
Kpdi77a9VV3Lz/ukckHuqLzLEwvH6I33ns0d1R3tJhwKV/XdIiIiIstRtbv1XVjvirSrmUTo5Uz7
Hxga4JJVl7Cxd+OCZXP5HGPpMZxzrO5azcaejfTF+7RNtIhIG1F/XT+TmUnGUmP0dSw8wDM4NMia
rjXsWLOj7O/P+Bmms9N4OQ8zO7uzXn9HP93RYHaU+nARERFpVdXOnDrLCk9KzjlXe3XaT7mJ0Ge2
pH7zxW8uWc7P+yS9JFk/ezYotaJjhR5oRUTanPrr2pxJn8F3/oKznCHIN7V76+6SuZ/yLh/srJdL
BbOnQzF6Yj1s7t1MT6yH7lh31fklRURERJpN1U89ZvYu4NeBSwvvnwX+wDn313WqW8urJBH6D07/
gBOTJ9i7vfgSgbzLM5YeI+tnWdmxko2rNrKyc6WSooqItDn117XL+llGp0fLmuU8Oj3KU6NP8Z5r
31P0+Lg3TiqbAqAr2sW67nX0x/vpjnXTGenUYJKIiIi0paqCU2b2EYKtqf8EGCx8vAf4vJmtcc5p
V6AylJsIHYJR2Hg4zvWbri/6PZOZSVZ0rGDTqk2s7FipXBQiIqL+uk7KneUMQX8NsGfr+fkhpzJT
+HmfC1dcSE+8h+5oN9FwtO71FREREWk21c6c+iXgA865L8/67Gtm9gTwCbRldVnKTYQOQb6pGzff
WHRHnqnMFBetvIgNPRu0BEBERGZTf10j5xyj06NlzXKGIDj1+rWvZ3XX6vOOeb5Hf7yfLf1bFqOq
IiIiIk2r2jVfG4EDRT4/UDgmC6gkEXoqm+Kh4w8V3aXPz/uELER/vF+BKRERmUv9dY2mslOMpcbK
muWcd3kGjw4WnTUFkM1n6e/or3cVRURERJpetcGpHwBvL/L5O4Dnqq9O+5hZItAdXTg49eDxB8n4
maJbUnu+RzwSLzqjSkRE2p766xqNpcbI5rNlzXJ+evRpTqdOFx1MAsCh/lpERESkiGqn2twN/I2Z
3cprOSx2A7dT/CFYZqkkEToESwQ29W7iopUXnXfMy3n0xnuVs0JERIpRf12DXD7H8PQwXdGusson
hhJ0Rbu4duO15x3L+BmioaiCUyIiIiJFVDVzyjn3t8BNwCjwU4XXKHCjc+7v6le91lRJInSAgZcH
2LN1T9FAVsbP0Bfrq3cVRUSkBai/rs24N85UZqqsJfgQ5Ie8afNNRWdZeTmPWCSm4JSIiIhIEVUn
KXLOHQb+rzrWpW1Ukgj9lfFXeHHsRT6y6yPzlumMdtazeiIi0kLUX1dvdGqUkIUI2cJjeVOZKR55
9RF+Y89vFD3u+R7ruteV9V0iIiIi7aaqJyQze4uZ3VHk8zvM7Mdqr1bryvpZhqeGyx6FTQwlCFuY
XVt2nXdMSwRERKQU9dfVm85OcyZ9hr54ebOTHzj2ANl8dt58U37epzdW3oxpERERkXZT7fDdp+f5
3EocE4JE6NPZ6bISoUMQnLpmwzVFlwBm/IyWCIiISCnqr6s0lho7u+lIORJDCbb0bWF7//bzjuVd
HkzJ0EVERETmU21w6lLgmSKfPw1cUn11WtvZROjh8hKhZ/0sB44emHcU1st59MZ6CYfC9a6qiIi0
BvXXVfDzPsPTw3RGyl82Pzg0yJ5t8+eHjIe1s66IiIjIfKoNTiWB87eOCx50p6qvTmubSYTeE+sp
q/xjJx9jKjvF3m17ix7P5XNlJ1UXEZG2pP66CuPeOBPeRNn99dHxo7yUfGne/trLeXREOsrKNSki
IiLSjqoNTv098Fkzu3jmAzO7BPhD4Gv1qFgrOpM+U3YidAh2/VnZsZLL111+3jHnHKAlAiIiUpL6
6yqcSp3CzMqemTyTH/KmzTcVPe75Hv3x/rJmTYuIiIi0o2qDUx8lGHF92sxeNLMXCZYInAJ+rV6V
ayVZP8vI1EjZidABBl4eYPe23UV39sn4GWJh5ZsSEZGS1F9XKJVNcTp1uqLk5aXyQ0KQc6or2lWv
KoqIiIi0nEg1JznnkmZ2C/Am4GogBTzmnBuoZ+VayUwi9HXd68oqf2r6FE+MPMG7rn5X0ePpXJqO
SAfxcHmJWkVEpP2ov65c0kuSzqZZ0bGirPJZP8vBowf5+et+vujxXD5H2MIaTBIREREpoaKZU2a2
y8x+AsAFvgkME4y+/q2Z/bmZKVoyR6WJ0AEGjw4CsHvr7qLHPd+jL96nJQIiInIe9dfVybs8w1PD
dETLDyTN5IcstXlJR6SDzmj5ydVFRERE2k2ly/o+DpxNgGRmVwJ/AfwzwZbUbwV+s261axGVJkKH
YInA69a8jrXda4sed85V9H0iItJW1F9XYdwbZ9wbr7i/XtGxgsvXnp8fEoLBpM5oJ5FQVZPVRURE
RNpCpcGpa4Bvz3p/J/Cgc+4XnHOfAX4ZeHu9KtcqKk2Ennd5EkOJeXf98fM+IQtpiYCIiMxH/XUV
Tk+fBkdFgaTEUILdW3fPmzw962fpj/fXq4oiIiIiLanS4NRK4OSs928AvjHr/UPA1lor1Uoyfqbi
ROhPjz7NqdSp+ZcI+B7xSFzBKRERmY/66wqlc2lOpU7REy9/1tTp1Gm+P/z9eZfgz9CSPhEREZHS
Kg1OnQQuBDCzGHAdcGjW8V4gW5+qtYZkOkiE3h2tbJe+rmgX1268tuhxL+fRFe0iGo7Wq5oiItJa
1F9XKJlOksql6IyUH0g6ePQgDjfvYFLGzxANRTWYJCIiIrKASoNTXwc+bWZ7gU8B08DsHX+uAp6v
U92annOOkemRihKhQ7BE4OYtN8+7DDDjZ+iL9dWrmiIi0nrUX1cg7/KMTI0QC8cq7q8vW3UZ63vW
Fz2e8TPEIjEFp0REREQWUGlw6reBHPCvwC8Av+Ccy8w6/l7gm9VUxMw+ZGYvmlnKzA6Z2Q1lnrfb
zLJmdqSa6y6mycwkY6mxihKrTmYmOXLiyLyjsDO0REBEREpQf12BycwkSS9Jb6y37HOccySOJkr2
117OozfWS8gqfdwSERERaS8VbR3jnBsFbjWzfmDSOefPKfLvgMlKK2Fm7wD+EHgf8CBwF3C/mV1W
uOZ85/UDfwV8Cyg+bNlAZ9Jn8J1fdiJ0gEOvHCKXz3HrtluLHtcSARERWYj668qcSZ0h7/IVLZd/
9tSzDE8NlwxOZf0svfHyA14iIiIi7aqqoTznXLLIgy7OudNzRmbLdRfwBefcl51zTwPvJ1iC8N4F
zvs8cB/n5tFYFqpJhA4wMDTA9v7tbO0vnqdWSwRERKRc6q8XlvEzjExX3l8PHh2kI9LB9ZuuL3rc
OYeZqb8WERERKUPD55mbWRTYyawtr51zjmB0dVeJ895DkOz1dxa7jtWoJhG6c46BlwfYu23vvGVm
lgjMt2W1iIjIYmjp/jpTWX8NQb6pGzbdQDwSL3p8ZmfdShKsi4iIiLSrhgengDVAmHO3vKbwfkOx
E8zsUuD3gH/vnMsvbvUqV20i9JfGXuLYxLGSSwRy+ZyWCIiISCO0bH8di1SWCD2VTfHQ8YcWzDfV
EemoaGm/iIiISLtaDsGpiphZiGBpwN3OuZmdhsp/olwC1SRCh2AUNhqKcuPmG4seDwao0RIBERFZ
9lq5v37o+ENk/Ezp4JTv0R/vryjoJSIiItKuKkqIvkhGAZ/zE6SuB04UKd8LXA9cY2Z/WvgsBJiZ
ZYAfdc797/kudtddd9Hf33/OZ/v27WPfvn3V1b6IahKhQxCc2rlp57x5LzJ+hlhY+aZERFrJ/v37
2b9//zmfJZPJBtWmJPXXBYmhBBt6NnDxyovnLeOcoyvaVWsVRURkmWii/lqkKTU8OOWcy5rZYeB2
4GsQPLUW3n+uyCnjwBVzPvsQ8MPA24CXSl3vnnvu4brrrqux1vOrNhF6xs/wwLEH+MUbf3HeMulc
mo5IB/Fw8fwWIiLSfIoFXI4cOcLOnTsbVKPiWq2/zvpZRqdHK+6vIQhO7dm2Z95ZUX7eJ2QhDSaJ
iLSQZumvRZpVw4NTBZ8BvlR46J3ZmroL+BKAmX0K2OSce3ch+eqTs082s2Eg7Zx7aklrXcRMIvR1
3esqOu/w8cOkcqkFlwis6VqjJQIiItIordNfe0mmMlMV99evTrzK82ee55du+qV5y8wkQ1dwSkRE
RKQ8yyI45Zz7qpmtAT5JsDzgUeAO59xIocgGYGuj6leuahOhA3x36Lus7VrLjtU7Sn5/pXkxRERE
6qWV+uvR6VEioUjF/XXiaIKQhdi1Zd4NCknn0vTF+4iGo7VWVURERKQtLIvgFIBz7l7g3nmOvWeB
c3+HZbBF9Uxi1b6OvorPTQwl2Lttr5YIiIjIstYK/fVUdoqx1FhVu98mhhJcue5KVnSsmLdM1s/S
F6v8WUBERESkXTXdbn3LWbWJVU9OnuTZU8+yd/veectoiYCIiEh9jKXGyOazFffXft7n4NGDJZfg
AzgcndHOWqooIiIi0lYUnKqTahOhQzAKa1jJJQJezqMr2qUlAiIiIjXI5XMMTw9XtZPe48OPk/SS
JYNTGT9DLBRTcEpERESkAgpO1clMIvTuaOXBqYGhAa5cfyUrO1fOWybjZ7REQEREpEbj3jhTmamq
B5N6Y71ctf6qectk/AyxSEw764qIiIhUQMGpOqglEbqf9zlw9AB7t82/pG+GRmFFRERqMzo1SshC
hKzyR6DEUIJbtt5CJDR/yk4v59Eb6yUcCtdSTREREZG2ouBUHcwkQq9mJ71ylwhEQ1HlmxIREanB
dHaaM+kzVSVCH/fG+d7J7y2YbyqXz1X1/SIiIiLtTMGpOqg2EToEo7B98b6ylggoOCUiIlK9ZDqJ
53tV9acHjx7Edz67t+6et4xzDkD9tYiIiEiFFJyqUS2J0AEGXh5g15ZdWiIgIiKyiPy8z8mpk3RG
qlsinxhKcOGKC9nct3neMhk/QyyswSQRERGRSik4VaNaEqGPpcf43vD32Lu9dL4pLREQERGpzbg3
zoQ3UdUSfOcciaOJBZf0pXNpOiIdSoYuIiIiUiEFp2pQSyJ0gANHD5B3+ZLJ0LVEQEREpHanUqcw
s6pmIb8w9gLHJ44vuHmJ53v0xfuqeiYQERERaWcKTtWglkToECwRuHTVpWzo2TBvGS0REBERqU0q
m+J06jS9sepmIQ8ODRINRblh8w0lyznnql7mLyIiItLOFJyqwenU6aoToTvnGBga0BIBERGRRZb0
kqSzaTqj1eebun7T9XRFu+Yt4+d9QhaqOqeViIiISDtTcKpKGT/D6PRo1SOkz51+juGpYS0REBER
WUR5l2d4apiOaHUzkDN+hgePPcjubfPv0gdBfx2PxDXTWURERKQKCk5VKZlOMpWZqioROgSjsB2R
Dq7fdH3Jcs65qpcNioiItLtxb5xxb7zqvvTw8cOkcqmFB5NyHl3RLqLhaFXXEREREWlnCk5VYSYR
eiwSq3pG08DQADduvpF4ZP7lejNLBDQKKyIiUp3T06fBQSQUqer8gaEB1natZcfqHSXLZfwMfbG+
qq4hIiIi0u4UnKpCrYnQp7PTPHTsoQXzTWmJgIiISPXSuTSnUqfoiVc/AzkxlGD31t1lDUZVm9NK
REREpN0pOFWF06nT+FSXCB3goWMPkc1nFw5OaYmAiIhI1ZLpJKlcquok5cNTwzxz6pkF++usnyUS
imgwSURERKRKCk5V6Gwi9CpzTUGwRGBz72YuWnHRgtfSEgEREZHK5V2ekakRYuHql+AfOHoAQMnQ
RURERBaZglMVqjUROgTBqT3b9miJgIiIyCKZzEyS9JL0xnqr/o6BoQEuX3s5qzpXlSzn5Tx6oj2E
Q+GqryUiIiLSzhScqkA9EqEfHT/KS2MvLbjrT8bPaImAiIhIlc6kzpB3+aqXxuddnsGhwQWX9AHk
8jl649UHwURERETanYJTFag1EToEiVXDFubmLTeXLJfxM1oiICIiUoWMn2FkeoTuWPWznJ8ceZIz
6TMLBqecc4BmOouIiIjUQsGpCtSaCB2C4NS1G69dcITVy3n0xnq1REBERKRCyXSS6cx0TUvwE0MJ
uqJdXLPhmpLlMn6GWDimwSQRERGRGig4VaZ6JELP+lkOHj2oJQIiIiKLpB5L8CEITt285eYFB6Q8
36Mj0kE8HK/6WiIiIiLtTsGpMtUjEfqjJx5lKju1YL6pmSUCGoUVERGpTD2W4E9mJnnkxCNlDSZ5
OY++eF9NgTARERGRdqfgVBnqNQo7MDTAqs5VvH7t60uW0xIBERGR6oylx/BdbUvwHzj2ALl8bsHB
JAgSp9eS20pEREREFJwqy0RmouZRWAiWCOzeupuQlf6xp3NpLREQERGpUNbP1pwIHYL+emvfVrb1
bytZzs/7mJkGk0RERERqpOBUGc6kztScCH10epQnRp4ob4mAryUCIiIilUp6tS/BhyA4VW5/HQ9r
Z10RERGRWik4tYB6JEIHGDw6CFDWw65zruZZWiIiIu3EOcfo9CiRUKSmwZ2h5BBDyaGy8011x7pr
GrwSEREREQWnFlSPROgQjMK+fu3rWdO1pmQ5P+8TspBGYUVERCowlZ1iLDVW8063A0MDREIRbt5y
84JlM36GvlhfTdcTEREREQWnSqpXIvS8y5OVlkB+AAAgAElEQVQYSpSVWNXzPeIRLREQERGpxFhq
jGw+W/MspsGhQa7dcG3ZM5g7o501XU9EREREFJwqqV6J0J8aeYrTqdNlLxHoinYRDUdruqaIiEi7
yOVzDE8P0xXtqul7sn6WQ68cKqu/zvpZIqGIBpNERERE6kDBqRLqkQgdgiUCXdEurtlwzYJltURA
RESkMuPeeLAEv8Zd+h498ShT2Sl2b929YFnNdBYRERGpHwWn5pHxM8F21DXmmoIg39SuLbvKDnJp
iYCIiEj5RqdGCVmIkNX2WJMYSrCyYyWXr7t8wbIZP0N3tJtwKFzTNUVEREREwal5JdNJpjPTNQen
JjOTPHLikbKWCGT8jJYIiIiIVGA6O82Z9JmaE6FDMNN599bdZQW5Mn6GvrhmOouIiIjUg4JTRdQr
ETrAoVcOkcvnykqGnvEzWiIgIiJSgWQ6ied7Nfedp1OneXLkybIGk5xzGKb+WkRERKROFJwqYiYR
em+s9lHY7778XS7ov4Ct/VsXLOvlPHpjvVoiICIiUgY/73Ny6iSdkdqXww8ODeJw7N62cL6pjJ8h
Fo4pOCUiIiJSJwpOFTGTCL3WHfOccySGEuzdvvCsKQh2G6rHsgQREZF2MO6NM+FN1LyrLsDg0UF2
rN7Buu51C5admaml4JSIiIhIfSg4NUc9E6G/OPYixyaOlb1EANCDroiISJlOpU5hZjXPOJ4ZTCpn
1hQEM5374n01L/0XERERkcCyCU6Z2YfM7EUzS5nZITO7oUTZnzazb5rZsJklzeyAmf1oPepRr0To
EOz6Ew1FuXHzjQuW1RIBERFpBsulv05lU5xOna7LEvxnTj3DyPRIWfkhAfIuT3es9ucEEREREQks
i+CUmb0D+EPgbuBa4DHgfjNbM88ptwLfBH4MuA74DvAPZnZ1LfWoZyJ0CHb9uX7T9XRFuxYsm86l
6Yh0EA/Ha76uiIjIYlgu/TVA0kuSzqbpjNaebyoxlKAj0sHOjTsXLJt3ecyUDF1ERESknpZFcAq4
C/iCc+7LzrmngfcD08B7ixV2zt3lnPvPzrnDzrnnnXO/BTwHvLWWStQzEbqX83jw2INlj8J6vpYI
iIjIsrcs+uu8yzM8NUxHtD4BosRQghs330g8svAAkZfziIe1s66IiIhIPTU8OGVmUWAn8O2Zz1yQ
gOlbwK4yv8OAXuB0LXWpVyJ0gIePP0w6ly4r3xQEs7bqkdBVRERkMSyn/nrcG2fcG69Lvzmdnebh
4w+X3V97vkdnpJNYOFbztUVEREQk0PDgFLAGCAMn53x+EthQ5nf8OtANfLXaStQzEToEo7Drutdx
2erLFizr531CFtIorIiILGfLor8GOD19GhxEQpFavgaAh44/RDafLT84lfPo7+iv+boiIiIi8prl
EJyqiZm9E/ht4N8550ar/Z56JkKHIDi1Z9uespbpeb5HPKIlAiIi0rrq1V97OY9TqVP0xOsz2zgx
lGBjz0YuWnFRWeWdc3XJcyUiIiIir6l9yLF2o4APrJ/z+XrgRKkTzexO4M+Bn3HOfaeci9111130
95874nnnnXdy9Y9cXbdE6CcmT/Ds6Wf5wA0fKKu8l/PojffWZTmhiIg0l/3797N///5zPksmkw2q
TUkN76/37dvHbW+9jVQuRV+8r+yKl1LJYFLWzxIJRTSYJCLShpqovxZpSg0PTjnnsmZ2GLgd+Bqc
zUlxO/C5+c4zs33AXwLvcM79U7nXu+eee7juuuvO+WzcG+f7J79ft2n6iaEEIQtxy9Zbyiqf8TP0
xerzkC0iIs1l37597Nu375zPjhw5ws6dC+8ct5SWQ3+dd3meHH6SWLg+g0nHJ47zwpkX+JWbfqWs
8p7v0RHtoDOimVMiIu2mWfprkWbV8OBUwWeALxUeeh8k2A2oC/gSgJl9CtjknHt34f07C8d+GXjI
zGZGcVPOufFKL34mdQbf1ScROsDA0ABXrruSFR0ryj5HSwRERKQJNLS/nsxMkvSSFfWvpcwMJu3a
UlY+dzJ+hpUdKwmHwnW5voiIiIgElkXOKefcV4FfAz4JPAJcBdzhnBspFNkAbJ11yi8QJGX9U+D4
rNdnK7322UTosfrkmsrlcxw8epC92/aWfX0tERARkWbQyP4agsGkvMvXbTApMZTg6vVXlz1zOutn
67acUERERERes1xmTuGcuxe4d55j75nz/ofrdd2x9BjTmWnW98xNoVGdx08+TtJLlr3rT8bPKBm6
iIg0jUb114symPTKQd599bvLKu+cA1B/LSIiIrIIlsXMqUZxzjEyNVK3ROgQjML2x/u5cv2VZZX3
ch69sV4tERARESmh3rvqPn7ycca98bIHk7L5LLFwTMEpERERkUXQ1sGpicwEY+kxemO9dfvOgaEB
dm3dRSRU3qS0XD5Hb7x+1xcREWk1zjlGpus/mNQX7+OKdVeUVd7LeQpOiYiIiCyStg5O1Tt3xZnU
GR4ffrzsfFNaIiAiIrKwycwkY6kxemI9dfvOxFCCXVvKH0xK59L0xfvqFhwTERERkde0bXCq3rkr
AA6+cpC8y1eUb0qjsCIiIqWNpcfwnU8sHKvL9yXTSb43/L2yB5MAfOfXNTgmIiIiIq9p2+DUTCL0
euWugGBJ32WrLmNDz4ayyqdzaToiHcTD8brVQUREpJVk/WzdB5MOvHKgosGkvMsTshCd0c661UFE
REREXtOWwanFSITunCMxlCj7QRfA8z0tERARESkh6SWZykzVdTBpcGiQi1dezMbejWWV93Ie8bB2
1hURERFZLG0ZnFqMROjPnnqW4alh9m4vf4mAc05LBERERObhnGN0epRIKNLwwaTOSGfdlhWKiIiI
yLnaMjhV70ToECzp64h0sHPjzrLK+3mfkIU0CisiIjKPqewUY6mxuu5q+8KZF3h18lV2b9td9jle
zqO/o79udRARERGRc7VdcCqTCxKh13vGUmIowU2bbyIeKS9/lOd7xCNaIiAiIjKfsdQY2Xy2rjOW
BoYGiIVj3LjpxorOU74pERERkcXTdsGpyewk05lpuqJddfvO6ew0Dx9/uLIlAjmPrmhXXWdviYiI
tIpcPsfw9HBd+2sIBpOu33R92cGmXD5H2MIaTBIRERFZRG0XnDqTOlPXROgADx57kGw+W9GW1Bk/
Q1+sr251EBERaSVTmakgEXodd+nzch4PHX+IPVsrG0zSTGcRERGRxdV2wakJb6KuidAhGIXd3LuZ
C1ZcUNF5WiIgIiJS3FhqjJCFCFn9HlUePv4w6Vy64mToXdEuIqFI3eohIiIiIudqu+BUnvomQgcY
eHmAPdv2lD0bK+NniIQiGoUVERGZx0xuxnpKHE2wtmstl62+rOxzsn5WydBFREREFlnbBafq7Wjy
KC8lX+LW7beWfU7Gz2iJgIiIyBJLDCUqGkxyzgHQGdFMZxEREZHFpOBUjQaGBoiEIty85eayz/Fy
Hr2xXsKh8CLWTERERGacnDzJs6eerWhJ38xOgRpMEhEREVlcCk7VKDGU4NoN19IT6yn7nFw+R2+8
vnmvREREZH6DRwcxjFu23lL2OV7OIxaO1X15oYiIiIicS8GpGmT8DAdfOVjRKOzMEgGNwoqIiCyd
xFCCy9ddzqrOVWWf4/keffG+uiZlFxEREZHz6WmrBo+eeJTp7DR7t+0t+5yMn9ESARERkSXk530G
jw5WNJg0c14lM6NFREREpDoKTtVg4OUBVnWu4nVrX1f2Oelcmo5IB/GwlgiIiIgshSdHnmQsPVbR
YFLe5cE001lERERkKSg4VYPE0WDXn0qm+88sESh3pyARERGpTeJogu5oN1evv7rsc7ycRzysnXVF
REREloKCU1UanR7lyZEnK14i4JzTEgEREZEllBhKcPOWm4mGo2Wf4/kenZFOJUMXERERWQIKTlUp
MZQAYM/W8oNTft4nZCGNwoqIiCyRycwkj554tOLBJC8XzHQWERERkcWn4FSVBoYGuHzt5azuWl32
OZ7vEY9oiYCIiMhSOfTKIXL5XEX5pmZ0x7oXoUYiIiIiMpeCU1XIuzyDQ4MVP+h6OY+uaFdFywpE
RESkegNDA2zv387W/q1ln5PL5whbWINJIiIiIktEwakqPDH8BGfSZypeIpDxM/TFtERARERkqQwO
DVa1pE8znUVERESWjoJTVZjZ9eeaDddUfG5ntHMRaiQiIiJzvTz2MkfHj7J72+6KzvP8YKZzJBRZ
pJqJiIiIyGwKTlUhMZRg19ZdFS3Py/gZIqGIRmFFRESWSGIoQSQU4abNN1V0Xjafpb+jf5FqJSIi
IiJzKThVoQlvgkdefaSqJX1aIiAiIrJ0BoYGuG7DdfTEeio70aH+WkRERGQJKThVoUOvHMJ3flX5
K3pjvYRD4UWqmYiIiMzI+BkeOPZAVYNJ0VBUwSkRERGRJaTgVIUGhga4YMUFbO0rf9cfCHb+6Y33
LlKtREREZLZHXn2E6ex0VYNJsUhMwSkRERGRJaTgVAWccySGEuzdtrfi80BLBERERJbK4NFBVnWu
4nVrX1fReZ7v0RfvI2R6RBIRERFZKnryqsALYy9wbOJYxcGpjJ8hFtYorIiIyFJJDCXYvXV3xUEm
P+/TG9NMZxEREZGlpOBUBRJDCWLhGDdsvqGi8zzfoyPSQTwcX6SaiYiIyIxT06d4YuSJipf05V0e
TDOdRURERJaaglMVGHh5gOs3XU9XtKui89K5NH3xPsxskWomIiIiMwaPDgKwe+vuis7L+BniYe2s
KyIiIrLUFJwqUzqX5qHjD1W8pA+CnFMVb2MtIiIiVUkMJfihNT/E2u61FZ3n5YKZzrFwbJFqJiIi
IiLFKDhVpoePP0w6l654iYCf9wlZSKOwIiIiSyDv8gweHay4v4ZgGX5/vF8znUVERESWmIJTZUoM
JVjfvZ5LV11a0Xme7xGPaImAiIjIUnhm9BlGp0erCk7lXb7ipfsiIiIiUjsFp8o0MDTAnm17Kh5N
9XIeXdEuouHoItVMREREZiSOJuiMdLJz486Kzsvlc4QtrMEkERERkQZYNsEpM/uQmb1oZikzO2Rm
JbfEM7M3mtlhM0ub2bNm9u7FqturE6/yg9M/YO/2yvNNZfwMfbG+RaiViIjI0lvO/TUEM51v3Hxj
xXmjZvJNdUY7F6lmIiIiIjKfZRGcMrN3AH8I3A1cCzwG3G9ma+YpfwHwj8C3gauBPwL+0szetBj1
SwwlCFmIW7bcUtX5etAVEZFWsNz76+nsNIePH64631RntJNIKLIINRMRERGRUpZFcAq4C/iCc+7L
zrmngfcD08B75yn/AeAF59xHnXPPOOf+FPgfhe+pu4GhAa5efzX9Hf0VnZfxM0RCES0REBGRVrGs
++sHjz1INp+tKjiV9bP0xyvr50VERESkPhoenDKzKLCTYFQVAOecA74F7JrntJsLx2e7v0T5quXy
OQ6+crCqB92Mn1EydBERaQnLvb+GYKbz5t7NXLjiwqrO10xnERERkcZoeHAKWAOEgZNzPj8JbJjn
nA3zlO8zs3g9K/e9k99j3BuvbolAzqM31ks4FK5nlURERBphWffXUP3mJRk/QzQU1WCSiIiISIO0
XWKFP/nkn/CVlV8557Of+Lc/wU+87SeKlk8MJeiP93PluisrvlYun6M33ltVPUVEpD3s37+f/fv3
n/NZMplsUG2Wjz+4+w/o7u0+JwdUqf76lfFXeGnsJX51169WfK2MnyEWiSk4JSIi81J/LbK4lkNw
ahTwgfVzPl8PnJjnnBPzlB93znmlLvaLH/9Fbr351rIrNzA0wC1bb6l49lOw0gE96IqISEn79u1j
375953x25MgRdu7c2aAazWtJ++tf/51f55IrLqEvXt6Ot4NDg4QtzM1bbi6r/GzpXJq1XWsJ2XKY
UC4iIstRE/XXIk2p4U9hzrkscBi4feYzC+bj3w4cmOe0g7PLF/xo4fO6OZM6w+MnH2fvtr0Vn5vx
M8TCGoUVEZHWsJz7awhmOl+1/qqyg1mz5XzNdBYRERFppIYHpwo+A/yCmb3LzH4I+DzQBXwJwMw+
ZWZ/Nav854GLzOz/NbMdZvZB4GcK31M3B44ewOGq3pK6I9JBPFz3lBoiIiKNsiz761o2L3HOYWYa
TBIRERFpoOWwrA/n3FfNbA3wSYLp/o8CdzjnRgpFNgBbZ5V/ycx+HLgH+GXgFeDnnHNzdwSqSWIo
wWWrL2N9z9wVCQtL59Ks7l1dcVJWERGR5Wq59tePnXyMicxEVTOdPd8jHonTGdFOfSIiIiKNsiyC
UwDOuXuBe+c59p4in32XYEvrxaoPA0MDvHXHW6s+vyfWU+daiYiINNZy668hGExaEV/BFeuuqPhc
LxfMdI6FY4tQMxEREREpx3JZ1rfsPHPqGUamR7h1W/nJ02f4eZ+QhbREQEREZAkMDg2ya+uuijcv
gWDmVH+8XzOdRURERBpIwal5DAwN0BnpZOemygd7Z5YILFVwau6Wpq1EbWtOaltzatW2tWq7JDCW
HuPx4cfZvW13Vec75+iKdtW5VvNr5T+PalvzadV2gdrWrFq5bSJSmoJT80gMJbhp801VTfP3ch5d
0S6i4egi1Ox8rfxLXG1rTmpbc2rVtrVquyRw4OgB8i5fVb6pRsx0buU/j2pb82nVdoHa1qxauW0i
UpqCU0VMZaY4fPxwVbv+AGT8DH2xyreyFhERkcokhhJcsuoSNvRsqPjcpZ7pLCIiIiLFKThVxIPH
HiSbz7J3e+WjsDM6o9r1R0REZDE550gMJdiztbrBpHQuvaQznUVERESkOAWnihgYGmBL3xa292+v
+NyMnyESimgUVkREZJH94PQPODl1suqZzlk/q5nOIiIiIstApNEVWEIdAC//4GWe6HyiZMFvD36b
qzZcxZPfe7Lii0xnpwGInIxUtWtQNZLJJEeOHFmSay01ta05qW3NqVXb1ozteuqpp2b+tx1HOjoA
XnzuRXIuR3e0e96C//DsPxA5GaHnVA9PjJXu24s5lTpFdkWW4c7h6mtboWb881guta35tGq7QG1r
Vs3Wtjbvr0Xqypxzja7DkjCzdwL3NboeIiIiFfj3zrmvNLoSS0n9tYiINKG2669F6q2dglOrgTuA
l4B0Y2sjIiJSUgdwAXC/c+5Ug+uypNRfi4hIE2nb/lqk3tomOCUiIiIiIiIiIsuPEqKLiIiIiIiI
iEjDKDglIiIiIiIiIiINo+CUiIiIiIiIiIg0TFsEp8zsQ2b2opmlzOyQmd3Q6DpVyszuNrP8nNeT
c8p80syOm9m0mf2zmV3SqPqWYmZ7zexrZnas0I5/U6RMybaYWdzM/tTMRs1swsz+h5mtW7pWnG+h
dpnZF4vcw6/PKbPs2lWo12+a2YNmNm5mJ83s78zssiLlmuq+ldOuZr1vZvZ+M3vMzJKF1wEze/Oc
Mk11v2bVq2TbmvWeSaDZ+2z1103ze6Ql++xW7a8LdVKf3WT3rFAv9dkiUpaWD06Z2TuAPwTuBq4F
HgPuN7M1Da1Ydb4PrAc2FF57Zg6Y2ceAXwTeB9wITBG0M9aAei6kG3gU+CBwXkb+MtvyWeDHgbcB
twKbgL9d3GovqGS7Cr7Bufdw35zjy7FdAHuBPwZuAn4EiALfNLPOmQJNet8WbFdBM963o8DHgOuA
ncC/AH9vZq+Dpr1fM0q2raAZ71nba6E+W/31a5br37VW7bNbtb8G9dnNeM9AfbaIlMs519Iv4BDw
R7PeG/AK8NFG163CdtwNHClx/Dhw16z3fUAKeHuj675Au/LAv6mkLYX3HvDTs8rsKHzXjY1uU4l2
fRH4nyXOWfbtmlWvNYV67Wmx+1asXa10304B72mV+1WibS1zz9rt1Qp9tvrr5vs90sp9dqv21yXa
1hL3rVAv9dlN2Da99NKr+ldLz5wysyhBhP7bM5855xzwLWBXo+pVg0sL08+fN7P/z8y2ApjZhQSj
DLPbOQ48QJO1s8y2XA9E5pR5Bhhi+bf3jYWp6E+b2b1mtmrWsZ00T7tWEIw0n4aWum/ntGuWpr5v
ZhYyszuBLuBAC92v89o261BT37N21GJ9tvrrQFP8HimhFX6PtGp/Deqzm+6eqc8WkVIija7AIlsD
hIGTcz4/SRBxbyaHgJ8FngE2Ap8AvmtmVxB0WI7i7dywdFWsi3Lash7IFDrm+cosR98gmIL8InAx
8Cng62a2q/APsA00QbvMzAimVyecczN5VJr+vs3TLmji+1b4/XAQ6AAmCEYdnzGzXTT//SratsLh
pr1nba5V+mz1103ye2QBTf97pFX7a1CfXdA090x9toiUo9WDUy3DOXf/rLffN7MHgZeBtwNPN6ZW
Ugnn3FdnvX3CzB4HngfeCHynIZWqzr3A64Hdja5InRVtV5Pft6eBq4F+4GeAL5vZrY2tUt0UbZtz
7ukmv2fS5NRft4YW+T3Sqv01qM9uNuqzRWRBLb2sDxgFfILRhNnWAyeWvjr145xLAs8ClxC0xWiN
dpbTlhNAzMz6SpRZ9pxzLxL8GZ3ZbWXZt8vM/gR4C/BG59yrsw419X0r0a7zNNN9c87lnHMvOOce
cc79FkFy6V+hye8XlGxbsbJNc8/aXEv22eqvW+PvWrP9HmnV/hrUZ8/SNPdMfbaIlKOlg1POuSxw
GLh95rPCNODbOXedc9Mxsx6CX9rHC7/ET3BuO/sIdjNpqnaW2ZbDQG5OmR3ANoIpw03BzLYAq4GZ
B6tl3a7Cw+BPAj/snBuafayZ71upds1Tvqnu2xwhIN7M96uEEBAvdqDJ71nbaNU+W/11a/xda6bf
I63aXxfqoT6b5rpn81CfLSLnq3eG9eX2IphGPw28C/gh4AsEO0SsbXTdKmzHHxBsnboduAX4Z4K1
1qsLxz9aaNdbgSuB/wU8B8QaXfcibekmmNp7DcFOGx8uvN9ablsIpnO/SDDldycwCAws13YVjv0+
wYPEdoIO9mHgKSC6nNs1q15nCLZxXj/r1TGrTNPdt4Xa1cz3Dfi9Qru2A1cQ5HDIAbc16/0qp23N
fM/0ao0+G/XXzfJ7pCX7bFq0vy6nbU1+39RnN9k900svver/angFlqSR8EHgJYItVw8C1ze6TlW0
YT/Bdtopgt0pvgJcOKfMJwi2mp0G7gcuaXS952nLGwgeBP05r/9ablsIRlv+mGDa7wTw34F1y7Vd
BAkg/4lg5CsNvAD8GXP+wbUc21WoV7F2+cC7KvkzuNzat1C7mvm+AX9ZqG+qUP9vUnjIbdb7VU7b
mvme6XX23jR1n43662b5PdKSffY8bWr6/rqctjX5fVOf3WT3TC+99Kr/y5xziIiIiIiIiIiINEJL
55wSEREREREREZHlTcEpERERERERERFpGAWnRERERERERESkYRScEhERERERERGRhlFwSkRERERE
REREGkbBKRERERERERERaRgFp0REREREREREpGEUnBIRERERERERkYZRcEpERERERERERBpGwSmR
RWJm280sb2ZXNbouM8xsh5kdNLOUmR1pwPVfNbP3VVD+DjPzzSy2mPWqBzP7lJkdaHQ9RESkcuqz
i15ffbaIiCwZBaekZZnZlwoPmh+d8/lPmll+iarhlug65fodYBK4FLh97sHCz8sv/Hfuyzezj9d4
/SuAv6qg/LeBjc65TI3XLanwQD277a+a2d+Y2bYKvuZ3gbdUeN2KHvxFRFqV+uyi1GcXoT5bRKQ1
KTglrcwBKeBjZtZf5NhSsLp/oVm0htMvBhLOuVecc2eKHN8AbCz898NAElg/6/P/PE+dwuVc3Dl3
yjnnlVtZ51zOOTdcbvkaOWA7QTvfAVwH/F3ZJzs37ZwbW6S6iYi0OvXZ51OfXeJyqM8WEWkpCk5J
q/sWcAL4f+YrYGZ3m9kjcz77FTN7cdb7L5rZ35nZb5rZCTM7Y2b/0czCZvb7ZnbKzI6a2c8WucTr
zGywMC3/cTO7dc61rjCzr5vZROG7v2xmq2cd/46Z/bGZ3WNmI8A/zdMOM7OPF+qRNrNHzOyOWcfz
BA9vd883ouqcG555ETzkOufcyKzPp2eNWL6pcA0P2FlYfvAPZnbSzMYLSxHeMKeOZ0cdzSxe+J53
Fc6bMrOnzezNs8rPXCtWeP8fCt/x44Wy44VzZ/+8omb2Z2aWLNTlbjPbb2ZfKfZzm2PYOXfSOfdd
4D8B15jZ1sL3Xmhm/2hmk4X7f9+c637KzA7Oer+/8Jr5MzNcuIdWOH6Q4B8Rf1Zo43Th84vM7P8v
XGPSzB4zs9vKqLuISLNTn/3acfXZC1OfLSLSQhScklbnEzzk/pKZbSpRrtio7NzPbiMYodsL3AV8
EvhH4DRwI/B54AtFrvP7wB8A1wAHgX8ws5UAFowOfxs4TPAQegewDvjqnO94F+ABtwDvn6cNHy7U
6yPAlcD9wNfM7OLC8Q3AkwQjqfOOqFbg9wrXfB3wNNBDMGr5hkJb/pWgresX+J5PAF8s1Pk7wFfM
rGfW8bn3YQXwIYKR0jcCO4BPzzr+ceCngX3ArcBW4McqallgZrQ4ZmYhgnvdQXAP3gxcDvz1nHPm
1vXNBPdzL/DzBPfunYVjbwFGgI8S3Jvthc//nODP7S0EP5PfIphNICLS6tRnq89Wny0i0q6cc3rp
1ZIvgoen/1n4/wPAXxT+/ycBf1a5u4Ejc879FeCFOd/1wpwyTwH/e9b7EDABvL3wfjuQB35tVpkw
MDTzGcFDzDfmfO+WwnmXFN5/B3i4jPa+AnxszmcPAH886/0jwMfL/Pm9Gzhd5PM7CB7EfqSM73gO
eO+s968C7yv8f7zQzt+YdXxl4bNb51wrVnj/HwrvN8w656459+o08IFZ7yPAMeArJeo5c534rHvw
IPA8wTKPtxI8bK6ddc61hbpeXnj/KeDArOP7gafnXOfvgf9a7Ocx67NngF9v9N8fvfTSS6+lfKnP
Vp9deK8+Wy+99NKrTV+aOSXt4mPAu4xrQdkAAAQ/SURBVM1sRw3f8cSc9yeBx2feOOfywCmCUbfZ
Ds0q4wMPE4xcAlwN3FZYHjBhZhMED9COINfEjMOlKmZmvcAmggf62QZnXavezqmTmfWZ2WfN7KnC
9PYJ4AJgoQSls3+GZ4AM5/8MZzvtnDsx6/2rM+XNbB3BKO1Ds74zBzy6cHMwYMTMJoGXC5+9zTnn
gB8ieJgemfW9jxA8/Jb6+T4+5/3ZupbwWeA/mdl3C0s+Xl9G3UVEWon67PpTn60+W0RkWVNwStqC
c26AYMr8p4scznN+EtRiCUyzc792ns8q+XvVA3wNuIrgoXfmdSnw3Vnlpir4zqUyt06fIxjN/Ciw
h6AdzwELbSld6c+w1p/5fBxwA8G0/F7n3I3OuXIekEupuK7OuT8j+EfOVwiWWhwxs5+vsR4iIk1D
ffaiUJ+9MPXZ8n/au59Qm/YogOPfJaM7VIqB0h2YSbgD3AFKXokyYfaGJpSMRMrE4L16UoQMXozI
hImSoT+vzCR/onjvkmLw6lGvXnqlZbD25Tqu7j3OOXfjfD+163Z2d/9+d3dq7bt++7eWpBaZnNIw
OUi96r224/O/qfoBU63s47hrJn+I6pCzmqojAXCHqoPwPDP/6jhmXbMgM/8FXgLjHafGp4w1aOuA
3zPzSmY+pF7VXzJHYwNVHBZ4Qz2wAhAR86naIbMxkZkTmflfx+ePgNFmlXfyuquoehadq/Pd+J/a
NvKJzHyRmWcycztwmqp9IUnDxJg9WMbs7hmzJWmATE5paGTmA+A8sLfj1HVgYUTsb7qu7KGKYvbL
nojY3mxPOE29wn6uOXcKWABcjIixZvyfIuLsZIeYLvxGteDeGRHLIuJXaiX0eL/+kBk8AXZExPKI
WEnd63dzNPZUJ6nuRlum3PMRemtFfpWqZXE+IlZExFrgLHAtMx/1cN1nwIaIWBwRCwCiujxtioil
ETFGFYidq39WJOmbYMweOGN2955hzJakgTE5pWFzmPref3joyczHwO7muAuMUQ+NM5lNt6AEDjTH
XWqlcltm/tOM/YpaKZ1HbWG4BxwDXjd1E740znRONL97tLnO5masP2eYc7/speo53AYuAZf5/AFt
uvvTqdc5HmnGvgDcotqS3wTefu0Fm9okW5tr/EE9+N4Hfu5xroeo+hcTVHFcqO0pZ6h7d4X63uzr
cRxJ+h4ZswfHmN09Y7YkDVB8jKWS9ONpWko/pTo//dL2fCRJ0vSM2ZI0vOa3PQFJ6qeIGAXWUyuw
I1Tb6kXAxTbnJUmSPmXMliRNclufpB9NAruo9t83gFFgY2ZOtDorSZLUyZgtSQLc1idJkiRJkqQW
+eaUJEmSJEmSWmNySpIkSZIkSa0xOSVJkiRJkqTWmJySJEmSJElSa0xOSZIkSZIkqTUmpyRJkiRJ
ktQak1OSJEmSJElqjckpSZIkSZIktcbklCRJkiRJklrzHrXDFSeaRRJhAAAAAElFTkSuQmCC
"
>
</div>

</div>

</div>
</div>

</div>
<div class="cell border-box-sizing text_cell rendered">
<div class="prompt input_prompt">
</div>
<div class="inner_cell">
<div class="text_cell_render border-box-sizing rendered_html">
<h3 id="Question-4---Learning-the-Data">Question 4 - Learning the Data<a class="anchor-link" href="#Question-4---Learning-the-Data">&#182;</a></h3><p><em>Choose one of the graphs above and state the maximum depth for the model. What happens to the score of the training curve as more training points are added? What about the testing curve? Would having more training points benefit the model?</em><br>
<strong>Hint:</strong> Are the learning curves converging to particular scores?</p>

</div>
</div>
</div>
<div class="cell border-box-sizing text_cell rendered">
<div class="prompt input_prompt">
</div>
<div class="inner_cell">
<div class="text_cell_render border-box-sizing rendered_html">
<p>for a decision tree of maximal depth 1: the training score quickly drops to the 0.6 mark after training it using 50 data points (this heavy drop can be explained as the algorithm has no problem fitting very few data points at first), after the 50 point mark it decreases very slightly to stagnate around 0.5. This means than once we have plugged in 100 datapoints, however more we add won't increase the training performance of the model. In the case of the testing score, we see a very sharp rise until the 50 point mark (which is explained by the fact that using very few training examples yields an algorithm that will make very poor predictions). Starting at 50, the testing score increases slightly and stagnates after 100 also. Intuitively, since algorithm doesnt learn anything new once we add more than 100 training examples, it will not be able to make better predictions either.</p>

</div>
</div>
</div>
<div class="cell border-box-sizing text_cell rendered">
<div class="prompt input_prompt">
</div>
<div class="inner_cell">
<div class="text_cell_render border-box-sizing rendered_html">
<h3 id="Complexity-Curves">Complexity Curves<a class="anchor-link" href="#Complexity-Curves">&#182;</a></h3><p>The following code cell produces a graph for a decision tree model that has been trained and validated on the training data using different maximum depths. The graph produces two complexity curves — one for training and one for validation. Similar to the <strong>learning curves</strong>, the shaded regions of both the complexity curves denote the uncertainty in those curves, and the model is scored on both the training and validation sets using the <code>performance_metric</code> function.</p>
<p>Run the code cell below and use this graph to answer the following two questions.</p>

</div>
</div>
</div>
<div class="cell border-box-sizing code_cell rendered">
<div class="input">
<div class="prompt input_prompt">In&nbsp;[17]:</div>
<div class="inner_cell">
    <div class="input_area">
<div class=" highlight hl-ipython2"><pre><span></span><span class="n">vs</span><span class="o">.</span><span class="n">ModelComplexity</span><span class="p">(</span><span class="n">X_train</span><span class="p">,</span> <span class="n">y_train</span><span class="p">)</span>
</pre></div>

</div>
</div>
</div>

<div class="output_wrapper">
<div class="output">


<div class="output_area"><div class="prompt"></div>


<div class="output_png output_subarea ">
<img src="data:image/png;base64,iVBORw0KGgoAAAANSUhEUgAAAmsAAAHUCAYAAABlOG/ZAAAABHNCSVQICAgIfAhkiAAAAAlwSFlz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"
>
</div>

</div>

</div>
</div>

</div>
<div class="cell border-box-sizing text_cell rendered">
<div class="prompt input_prompt">
</div>
<div class="inner_cell">
<div class="text_cell_render border-box-sizing rendered_html">
<h3 id="Question-5---Bias-Variance-Tradeoff">Question 5 - Bias-Variance Tradeoff<a class="anchor-link" href="#Question-5---Bias-Variance-Tradeoff">&#182;</a></h3><p><em>When the model is trained with a maximum depth of 1, does the model suffer from high bias or from high variance? How about when the model is trained with a maximum depth of 10? What visual cues in the graph justify your conclusions?</em><br>
<strong>Hint:</strong> How do you know when a model is suffering from high bias or high variance?</p>

</div>
</div>
</div>
<div class="cell border-box-sizing text_cell rendered">
<div class="prompt input_prompt">
</div>
<div class="inner_cell">
<div class="text_cell_render border-box-sizing rendered_html">
<p>when the model is trained with a maximal depth of 1 both the $R^2$ scores on training and testing sets remain low. The low score of the training set in particular  implies a high bias. When the model is trained with maximum depth of 10, the perfect score on the training set together with the 0.6 score on the testing set implies that the model does not make good predictions and suffers from high variance</p>

</div>
</div>
</div>
<div class="cell border-box-sizing text_cell rendered">
<div class="prompt input_prompt">
</div>
<div class="inner_cell">
<div class="text_cell_render border-box-sizing rendered_html">
<h3 id="Question-6---Best-Guess-Optimal-Model">Question 6 - Best-Guess Optimal Model<a class="anchor-link" href="#Question-6---Best-Guess-Optimal-Model">&#182;</a></h3><p><em>Which maximum depth do you think results in a model that best generalizes to unseen data? What intuition lead you to this answer?</em></p>

</div>
</div>
</div>
<div class="cell border-box-sizing text_cell rendered">
<div class="prompt input_prompt">
</div>
<div class="inner_cell">
<div class="text_cell_render border-box-sizing rendered_html">
<p>I would choose 4 as it it maximizes the validation score, implying good predictive capabilities. Moreover, since the learning and validation scores are rather similar, this seems to imply low variance and as the training score is rather high this implies low bias (raising the training will make the algorithm overfit as we can see around 6)</p>

</div>
</div>
</div>
<div class="cell border-box-sizing text_cell rendered">
<div class="prompt input_prompt">
</div>
<div class="inner_cell">
<div class="text_cell_render border-box-sizing rendered_html">
<hr>
<h2 id="Evaluating-Model-Performance">Evaluating Model Performance<a class="anchor-link" href="#Evaluating-Model-Performance">&#182;</a></h2><p>In this final section of the project, you will construct a model and make a prediction on the client's feature set using an optimized model from <code>fit_model</code>.</p>

</div>
</div>
</div>
<div class="cell border-box-sizing text_cell rendered">
<div class="prompt input_prompt">
</div>
<div class="inner_cell">
<div class="text_cell_render border-box-sizing rendered_html">
<h3 id="Question-7---Grid-Search">Question 7 - Grid Search<a class="anchor-link" href="#Question-7---Grid-Search">&#182;</a></h3><p><em>What is the grid search technique and how it can be applied to optimize a learning algorithm?</em></p>

</div>
</div>
</div>
<div class="cell border-box-sizing text_cell rendered">
<div class="prompt input_prompt">
</div>
<div class="inner_cell">
<div class="text_cell_render border-box-sizing rendered_html">
<p>the grid search technique tunes the required parameters of a learning algorithm. After plugging in the possible values of the algorithm, the algorithm evaluates the performance of the algorithm using each possible configuration of the parameters through a crossvalidation method. It then outputs the learning algorithm which produces the best performance</p>

</div>
</div>
</div>
<div class="cell border-box-sizing text_cell rendered">
<div class="prompt input_prompt">
</div>
<div class="inner_cell">
<div class="text_cell_render border-box-sizing rendered_html">
<h3 id="Question-8---Cross-Validation">Question 8 - Cross-Validation<a class="anchor-link" href="#Question-8---Cross-Validation">&#182;</a></h3><p><em>What is the k-fold cross-validation training technique? What benefit does this technique provide for grid search when optimizing a model?</em><br>
<strong>Hint:</strong> Much like the reasoning behind having a testing set, what could go wrong with using grid search without a cross-validated set?</p>

</div>
</div>
</div>
<div class="cell border-box-sizing text_cell rendered">
<div class="prompt input_prompt">
</div>
<div class="inner_cell">
<div class="text_cell_render border-box-sizing rendered_html">
<p>$k$-fold cross validation partitions the dataset into $k$ bins, uses each bin as a validation set (and its complement as a training set) to train a learning algorthim $k$ times. The average performance against each testing set becomes the overall performance of the learning algorithm. If a grid search algorithm would compute performance using a classical training/testing split, the accuracy would decrease. Indeed, for each configuration, grid search would compute the performance of the same training data against the validation data, whereas $k$-fold would take into account the learning performance  of the algorithm when fitted for $k$ different training sets. Averaging out this fitting process intuitively leads to an algorithm with higher accuracy</p>

</div>
</div>
</div>
<div class="cell border-box-sizing text_cell rendered">
<div class="prompt input_prompt">
</div>
<div class="inner_cell">
<div class="text_cell_render border-box-sizing rendered_html">
<h3 id="Implementation:-Fitting-a-Model">Implementation: Fitting a Model<a class="anchor-link" href="#Implementation:-Fitting-a-Model">&#182;</a></h3><p>Your final implementation requires that you bring everything together and train a model using the <strong>decision tree algorithm</strong>. To ensure that you are producing an optimized model, you will train the model using the grid search technique to optimize the <code>'max_depth'</code> parameter for the decision tree. The <code>'max_depth'</code> parameter can be thought of as how many questions the decision tree algorithm is allowed to ask about the data before making a prediction. Decision trees are part of a class of algorithms called <em>supervised learning algorithms</em>.</p>
<p>In addition, you will find your implementation is using <code>ShuffleSplit()</code> for an alternative form of cross-validation (see the <code>'cv_sets'</code> variable). While it is not the K-Fold cross-validation technique you describe in <strong>Question 8</strong>, this type of cross-validation technique is just as useful!. The <code>ShuffleSplit()</code> implementation below will create 10 (<code>'n_iter'</code>) shuffled sets, and for each shuffle, 20% (<code>'test_size'</code>) of the data will be used as the <em>validation set</em>. While you're working on your implementation, think about the contrasts and similarities it has to the K-fold cross-validation technique.</p>
<p>For the <code>fit_model</code> function in the code cell below, you will need to implement the following:</p>
<ul>
<li>Use <a href="http://scikit-learn.org/stable/modules/generated/sklearn.tree.DecisionTreeRegressor.html"><code>DecisionTreeRegressor</code></a> from <code>sklearn.tree</code> to create a decision tree regressor object.<ul>
<li>Assign this object to the <code>'regressor'</code> variable.</li>
</ul>
</li>
<li>Create a dictionary for <code>'max_depth'</code> with the values from 1 to 10, and assign this to the <code>'params'</code> variable.</li>
<li>Use <a href="http://scikit-learn.org/stable/modules/generated/sklearn.metrics.make_scorer.html"><code>make_scorer</code></a> from <code>sklearn.metrics</code> to create a scoring function object.<ul>
<li>Pass the <code>performance_metric</code> function as a parameter to the object.</li>
<li>Assign this scoring function to the <code>'scoring_fnc'</code> variable.</li>
</ul>
</li>
<li>Use <a href="http://scikit-learn.org/0.17/modules/generated/sklearn.grid_search.GridSearchCV.html"><code>GridSearchCV</code></a> from <code>sklearn.grid_search</code> to create a grid search object.<ul>
<li>Pass the variables <code>'regressor'</code>, <code>'params'</code>, <code>'scoring_fnc'</code>, and <code>'cv_sets'</code> as parameters to the object. </li>
<li>Assign the <code>GridSearchCV</code> object to the <code>'grid'</code> variable.</li>
</ul>
</li>
</ul>

</div>
</div>
</div>
<div class="cell border-box-sizing code_cell rendered">
<div class="input">
<div class="prompt input_prompt">In&nbsp;[28]:</div>
<div class="inner_cell">
    <div class="input_area">
<div class=" highlight hl-ipython2"><pre><span></span><span class="c1"># TODO: Import &#39;make_scorer&#39;, &#39;DecisionTreeRegressor&#39;, and &#39;GridSearchCV&#39;</span>
<span class="kn">from</span> <span class="nn">sklearn</span> <span class="kn">import</span> <span class="n">tree</span><span class="p">,</span> <span class="n">metrics</span><span class="p">,</span> <span class="n">grid_search</span>

<span class="k">def</span> <span class="nf">fit_model</span><span class="p">(</span><span class="n">X</span><span class="p">,</span> <span class="n">y</span><span class="p">):</span>
    <span class="sd">&quot;&quot;&quot; Performs grid search over the &#39;max_depth&#39; parameter for a </span>
<span class="sd">        decision tree regressor trained on the input data [X, y]. &quot;&quot;&quot;</span>
    
    <span class="c1"># Create cross-validation sets from the training data</span>
    <span class="n">cv_sets</span> <span class="o">=</span> <span class="n">ShuffleSplit</span><span class="p">(</span><span class="n">X</span><span class="o">.</span><span class="n">shape</span><span class="p">[</span><span class="mi">0</span><span class="p">],</span> <span class="n">n_iter</span> <span class="o">=</span> <span class="mi">10</span><span class="p">,</span> <span class="n">test_size</span> <span class="o">=</span> <span class="mf">0.20</span><span class="p">,</span> <span class="n">random_state</span> <span class="o">=</span> <span class="mi">0</span><span class="p">)</span>

    <span class="c1"># TODO: Create a decision tree regressor object</span>
    <span class="n">regressor</span> <span class="o">=</span> <span class="n">tree</span><span class="o">.</span><span class="n">DecisionTreeRegressor</span><span class="p">()</span>

    <span class="c1"># TODO: Create a dictionary for the parameter &#39;max_depth&#39; with a range from 1 to 10</span>
    <span class="n">params</span> <span class="o">=</span> <span class="p">{</span><span class="s1">&#39;max_depth&#39;</span><span class="p">:[</span><span class="mi">1</span><span class="p">,</span><span class="mi">2</span><span class="p">,</span><span class="mi">3</span><span class="p">,</span><span class="mi">4</span><span class="p">,</span><span class="mi">5</span><span class="p">,</span><span class="mi">6</span><span class="p">,</span><span class="mi">7</span><span class="p">,</span><span class="mi">8</span><span class="p">,</span><span class="mi">9</span><span class="p">,</span><span class="mi">10</span><span class="p">]}</span>
    
    <span class="c1"># TODO: Transform &#39;performance_metric&#39; into a scoring function using &#39;make_scorer&#39; </span>
    <span class="n">scoring_fnc</span> <span class="o">=</span> <span class="n">metrics</span><span class="o">.</span><span class="n">make_scorer</span><span class="p">(</span><span class="n">performance_metric</span><span class="p">)</span>

    <span class="c1"># TODO: Create the grid search object</span>
    <span class="n">grid</span> <span class="o">=</span> <span class="n">grid_search</span><span class="o">.</span><span class="n">GridSearchCV</span><span class="p">(</span><span class="n">regressor</span><span class="p">,</span> <span class="n">params</span><span class="p">,</span><span class="n">cv</span><span class="o">=</span><span class="n">cv_sets</span><span class="p">,</span><span class="n">scoring</span><span class="o">=</span><span class="n">scoring_fnc</span><span class="p">)</span> 

    <span class="c1"># Fit the grid search object to the data to compute the optimal model</span>
    <span class="n">grid</span> <span class="o">=</span> <span class="n">grid</span><span class="o">.</span><span class="n">fit</span><span class="p">(</span><span class="n">X</span><span class="p">,</span> <span class="n">y</span><span class="p">)</span>

    <span class="c1"># Return the optimal model after fitting the data</span>
    <span class="k">return</span> <span class="n">grid</span><span class="o">.</span><span class="n">best_estimator_</span>
</pre></div>

</div>
</div>
</div>

</div>
<div class="cell border-box-sizing text_cell rendered">
<div class="prompt input_prompt">
</div>
<div class="inner_cell">
<div class="text_cell_render border-box-sizing rendered_html">
<h3 id="Making-Predictions">Making Predictions<a class="anchor-link" href="#Making-Predictions">&#182;</a></h3><p>Once a model has been trained on a given set of data, it can now be used to make predictions on new sets of input data. In the case of a <em>decision tree regressor</em>, the model has learned <em>what the best questions to ask about the input data are</em>, and can respond with a prediction for the <strong>target variable</strong>. You can use these predictions to gain information about data where the value of the target variable is unknown — such as data the model was not trained on.</p>

</div>
</div>
</div>
<div class="cell border-box-sizing text_cell rendered">
<div class="prompt input_prompt">
</div>
<div class="inner_cell">
<div class="text_cell_render border-box-sizing rendered_html">
<h3 id="Question-9---Optimal-Model">Question 9 - Optimal Model<a class="anchor-link" href="#Question-9---Optimal-Model">&#182;</a></h3><p><em>What maximum depth does the optimal model have? How does this result compare to your guess in <strong>Question 6</strong>?</em></p>
<p>Run the code block below to fit the decision tree regressor to the training data and produce an optimal model.</p>

</div>
</div>
</div>
<div class="cell border-box-sizing code_cell rendered">
<div class="input">
<div class="prompt input_prompt">In&nbsp;[29]:</div>
<div class="inner_cell">
    <div class="input_area">
<div class=" highlight hl-ipython2"><pre><span></span><span class="c1"># Fit the training data to the model using grid search</span>
<span class="n">reg</span> <span class="o">=</span> <span class="n">fit_model</span><span class="p">(</span><span class="n">X_train</span><span class="p">,</span> <span class="n">y_train</span><span class="p">)</span>

<span class="c1"># Produce the value for &#39;max_depth&#39;</span>
<span class="k">print</span> <span class="s2">&quot;Parameter &#39;max_depth&#39; is {} for the optimal model.&quot;</span><span class="o">.</span><span class="n">format</span><span class="p">(</span><span class="n">reg</span><span class="o">.</span><span class="n">get_params</span><span class="p">()[</span><span class="s1">&#39;max_depth&#39;</span><span class="p">])</span>
</pre></div>

</div>
</div>
</div>

<div class="output_wrapper">
<div class="output">


<div class="output_area"><div class="prompt"></div>
<div class="output_subarea output_stream output_stdout output_text">
<pre>Parameter &#39;max_depth&#39; is 4 for the optimal model.
</pre>
</div>
</div>

</div>
</div>

</div>
<div class="cell border-box-sizing text_cell rendered">
<div class="prompt input_prompt">
</div>
<div class="inner_cell">
<div class="text_cell_render border-box-sizing rendered_html">
<ol>
<li>This coincides with the guess in question 6 based on complexity curves.</li>
</ol>

</div>
</div>
</div>
<div class="cell border-box-sizing text_cell rendered">
<div class="prompt input_prompt">
</div>
<div class="inner_cell">
<div class="text_cell_render border-box-sizing rendered_html">
<h3 id="Question-10---Predicting-Selling-Prices">Question 10 - Predicting Selling Prices<a class="anchor-link" href="#Question-10---Predicting-Selling-Prices">&#182;</a></h3><p>Imagine that you were a real estate agent in the Boston area looking to use this model to help price homes owned by your clients that they wish to sell. You have collected the following information from three of your clients:</p>
<table>
<thead><tr>
<th style="text-align:center">Feature</th>
<th style="text-align:center">Client 1</th>
<th style="text-align:center">Client 2</th>
<th style="text-align:center">Client 3</th>
</tr>
</thead>
<tbody>
<tr>
<td style="text-align:center">Total number of rooms in home</td>
<td style="text-align:center">5 rooms</td>
<td style="text-align:center">4 rooms</td>
<td style="text-align:center">8 rooms</td>
</tr>
<tr>
<td style="text-align:center">Neighborhood poverty level (as %)</td>
<td style="text-align:center">17%</td>
<td style="text-align:center">32%</td>
<td style="text-align:center">3%</td>
</tr>
<tr>
<td style="text-align:center">Student-teacher ratio of nearby schools</td>
<td style="text-align:center">15-to-1</td>
<td style="text-align:center">22-to-1</td>
<td style="text-align:center">12-to-1</td>
</tr>
</tbody>
</table>
<p><em>What price would you recommend each client sell his/her home at? Do these prices seem reasonable given the values for the respective features?</em><br>
<strong>Hint:</strong> Use the statistics you calculated in the <strong>Data Exploration</strong> section to help justify your response.</p>
<p>Run the code block below to have your optimized model make predictions for each client's home.</p>

</div>
</div>
</div>
<div class="cell border-box-sizing code_cell rendered">
<div class="input">
<div class="prompt input_prompt">In&nbsp;[30]:</div>
<div class="inner_cell">
    <div class="input_area">
<div class=" highlight hl-ipython2"><pre><span></span><span class="c1"># Produce a matrix for client data</span>
<span class="n">client_data</span> <span class="o">=</span> <span class="p">[[</span><span class="mi">5</span><span class="p">,</span> <span class="mi">17</span><span class="p">,</span> <span class="mi">15</span><span class="p">],</span> <span class="c1"># Client 1</span>
               <span class="p">[</span><span class="mi">4</span><span class="p">,</span> <span class="mi">32</span><span class="p">,</span> <span class="mi">22</span><span class="p">],</span> <span class="c1"># Client 2</span>
               <span class="p">[</span><span class="mi">8</span><span class="p">,</span> <span class="mi">3</span><span class="p">,</span> <span class="mi">12</span><span class="p">]]</span>  <span class="c1"># Client 3</span>

<span class="c1"># Show predictions</span>
<span class="k">for</span> <span class="n">i</span><span class="p">,</span> <span class="n">price</span> <span class="ow">in</span> <span class="nb">enumerate</span><span class="p">(</span><span class="n">reg</span><span class="o">.</span><span class="n">predict</span><span class="p">(</span><span class="n">client_data</span><span class="p">)):</span>
    <span class="k">print</span> <span class="s2">&quot;Predicted selling price for Client {}&#39;s home: ${:,.2f}&quot;</span><span class="o">.</span><span class="n">format</span><span class="p">(</span><span class="n">i</span><span class="o">+</span><span class="mi">1</span><span class="p">,</span> <span class="n">price</span><span class="p">)</span>
    
<span class="k">print</span><span class="p">(</span><span class="n">prices</span><span class="o">.</span><span class="n">describe</span><span class="p">())</span>
<span class="k">print</span><span class="p">(</span><span class="n">features</span><span class="o">.</span><span class="n">describe</span><span class="p">())</span>
</pre></div>

</div>
</div>
</div>

<div class="output_wrapper">
<div class="output">


<div class="output_area"><div class="prompt"></div>
<div class="output_subarea output_stream output_stdout output_text">
<pre>Predicted selling price for Client 1&#39;s home: $403,025.00
Predicted selling price for Client 2&#39;s home: $237,478.72
Predicted selling price for Client 3&#39;s home: $931,636.36
count    4.890000e+02
mean     4.543429e+05
std      1.653403e+05
min      1.050000e+05
25%      3.507000e+05
50%      4.389000e+05
75%      5.187000e+05
max      1.024800e+06
Name: MEDV, dtype: float64
               RM       LSTAT     PTRATIO
count  489.000000  489.000000  489.000000
mean     6.240288   12.939632   18.516564
std      0.643650    7.081990    2.111268
min      3.561000    1.980000   12.600000
25%      5.880000    7.370000   17.400000
50%      6.185000   11.690000   19.100000
75%      6.575000   17.120000   20.200000
max      8.398000   37.970000   22.000000
</pre>
</div>
</div>

</div>
</div>

</div>
<div class="cell border-box-sizing text_cell rendered">
<div class="prompt input_prompt">
</div>
<div class="inner_cell">
<div class="text_cell_render border-box-sizing rendered_html">
<p>client 1: 403.025, client 2:237.478.33, client 3: 931.636.36.  In the case of client 1, when compared to the mean features, the number of rooms are on the lower side, whereas the poverty index and pt ratio are a little on the higher side it makes sence to sell the house  a little under the mean price which is 454000. The second house has a very small amount of rooms, and almost the highest lstat and ptratio in the dataset, and so should be sold at a low price. Conversely, the third house has approximately the highest number of rooms, lowest lstat and ptratio, and as such is sold comparativle at one othe highest price points.</p>

</div>
</div>
</div>
<div class="cell border-box-sizing text_cell rendered">
<div class="prompt input_prompt">
</div>
<div class="inner_cell">
<div class="text_cell_render border-box-sizing rendered_html">
<h3 id="Sensitivity">Sensitivity<a class="anchor-link" href="#Sensitivity">&#182;</a></h3><p>An optimal model is not necessarily a robust model. Sometimes, a model is either too complex or too simple to sufficiently generalize to new data. Sometimes, a model could use a learning algorithm that is not appropriate for the structure of the data given. Other times, the data itself could be too noisy or contain too few samples to allow a model to adequately capture the target variable — i.e., the model is underfitted. Run the code cell below to run the <code>fit_model</code> function ten times with different training and testing sets to see how the prediction for a specific client changes with the data it's trained on.</p>

</div>
</div>
</div>
<div class="cell border-box-sizing code_cell rendered">
<div class="input">
<div class="prompt input_prompt">In&nbsp;[31]:</div>
<div class="inner_cell">
    <div class="input_area">
<div class=" highlight hl-ipython2"><pre><span></span><span class="n">vs</span><span class="o">.</span><span class="n">PredictTrials</span><span class="p">(</span><span class="n">features</span><span class="p">,</span> <span class="n">prices</span><span class="p">,</span> <span class="n">fit_model</span><span class="p">,</span> <span class="n">client_data</span><span class="p">)</span>
</pre></div>

</div>
</div>
</div>

<div class="output_wrapper">
<div class="output">


<div class="output_area"><div class="prompt"></div>
<div class="output_subarea output_stream output_stdout output_text">
<pre>Trial 1: $391,183.33
Trial 2: $424,935.00
Trial 3: $415,800.00
Trial 4: $420,622.22
Trial 5: $413,334.78
Trial 6: $411,931.58
Trial 7: $399,663.16
Trial 8: $407,232.00
Trial 9: $351,577.61
Trial 10: $413,700.00

Range in prices: $73,357.39
</pre>
</div>
</div>

</div>
</div>

</div>
<div class="cell border-box-sizing text_cell rendered">
<div class="prompt input_prompt">
</div>
<div class="inner_cell">
<div class="text_cell_render border-box-sizing rendered_html">
<h3 id="Question-11---Applicability">Question 11 - Applicability<a class="anchor-link" href="#Question-11---Applicability">&#182;</a></h3><p><em>In a few sentences, discuss whether the constructed model should or should not be used in a real-world setting.</em><br>
<strong>Hint:</strong> Some questions to answering:</p>
<ul>
<li><em>How relevant today is data that was collected from 1978?</em></li>
<li><em>Are the features present in the data sufficient to describe a home?</em></li>
<li><em>Is the model robust enough to make consistent predictions?</em></li>
<li><em>Would data collected in an urban city like Boston be applicable in a rural city?</em></li>
</ul>

</div>
</div>
</div>
<div class="cell border-box-sizing text_cell rendered">
<div class="prompt input_prompt">
</div>
<div class="inner_cell">
<div class="text_cell_render border-box-sizing rendered_html">
<p>House prices seem to have changed quite a bit over the past 30 years (just to name one example: the average house price in Boston has increased from 157.000 to 367.000 according to The Economist). Additionally, the qualities that make a house attactive have shifted over these years, meaning that the wieghts of certain features should definitely be altered. The model does seem robust and consistent as ten trials have led to a fluctuation of under 10%, (the $R^2$ score was shown to be rather high as well in the exercise), but it does heuristically seem to be axed to a late 70's urban area and would not necessary make accurate predictions in the present day or non-urban areas</p>

</div>
</div>
</div>
<div class="cell border-box-sizing text_cell rendered">
<div class="prompt input_prompt">
</div>
<div class="inner_cell">
<div class="text_cell_render border-box-sizing rendered_html">
<blockquote><p><strong>Note</strong>: Once you have completed all of the code implementations and successfully answered each question above, you may finalize your work by exporting the iPython Notebook as an HTML document. You can do this by using the menu above and navigating to<br>
<strong>File -&gt; Download as -&gt; HTML (.html)</strong>. Include the finished document along with this notebook as your submission.</p>
</blockquote>

</div>
</div>
</div>
<div class="cell border-box-sizing code_cell rendered">
<div class="input">
<div class="prompt input_prompt">In&nbsp;[&nbsp;]:</div>
<div class="inner_cell">
    <div class="input_area">
<div class=" highlight hl-ipython2"><pre><span></span> 
</pre></div>

</div>
</div>
</div>

</div>
<div class="cell border-box-sizing code_cell rendered">
<div class="input">
<div class="prompt input_prompt">In&nbsp;[&nbsp;]:</div>
<div class="inner_cell">
    <div class="input_area">
<div class=" highlight hl-ipython2"><pre><span></span> 
</pre></div>

</div>
</div>
</div>

</div>
<div class="cell border-box-sizing code_cell rendered">
<div class="input">
<div class="prompt input_prompt">In&nbsp;[&nbsp;]:</div>
<div class="inner_cell">
    <div class="input_area">
<div class=" highlight hl-ipython2"><pre><span></span> 
</pre></div>

</div>
</div>
</div>

</div>
<div class="cell border-box-sizing code_cell rendered">
<div class="input">
<div class="prompt input_prompt">In&nbsp;[&nbsp;]:</div>
<div class="inner_cell">
    <div class="input_area">
<div class=" highlight hl-ipython2"><pre><span></span> 
</pre></div>

</div>
</div>
</div>

</div>
<div class="cell border-box-sizing code_cell rendered">
<div class="input">
<div class="prompt input_prompt">In&nbsp;[&nbsp;]:</div>
<div class="inner_cell">
    <div class="input_area">
<div class=" highlight hl-ipython2"><pre><span></span> 
</pre></div>

</div>
</div>
</div>

</div>
    </div>
  </div>
</body>
</html>
